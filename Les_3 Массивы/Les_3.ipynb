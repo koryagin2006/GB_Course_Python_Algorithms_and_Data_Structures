{
 "cells": [
  {
   "cell_type": "markdown",
   "metadata": {
    "Collapsed": "false"
   },
   "source": [
    "# Массивы"
   ]
  },
  {
   "cell_type": "markdown",
   "metadata": {
    "Collapsed": "false"
   },
   "source": [
    "- Списки (Массиаы)\n",
    "- Кортежи\n",
    "- Множества\n",
    "- Словари"
   ]
  },
  {
   "cell_type": "markdown",
   "metadata": {
    "Collapsed": "false"
   },
   "source": [
    "## Пример 1. Удаление элемента списка во время его итерирования"
   ]
  },
  {
   "cell_type": "code",
   "execution_count": 1,
   "metadata": {
    "Collapsed": "false"
   },
   "outputs": [
    {
     "name": "stdout",
     "output_type": "stream",
     "text": [
      "[1, 2, 3, 4]\n"
     ]
    }
   ],
   "source": [
    "list_1 = [1,2,3,4]\n",
    "list_2 = [1,2,3,4]\n",
    "list_3 = [1,2,3,4]\n",
    "list_4 = [1,2,3,4]\n",
    "\n",
    "for i, item in enumerate(list_1):\n",
    "    del item\n",
    "\n",
    "print(list_1)"
   ]
  },
  {
   "cell_type": "code",
   "execution_count": 2,
   "metadata": {
    "Collapsed": "false"
   },
   "outputs": [
    {
     "name": "stdout",
     "output_type": "stream",
     "text": [
      "[2, 4]\n"
     ]
    }
   ],
   "source": [
    "for i, item in enumerate(list_2):\n",
    "    list_2.remove(item)\n",
    "print(list_2)"
   ]
  },
  {
   "cell_type": "code",
   "execution_count": 3,
   "metadata": {
    "Collapsed": "false"
   },
   "outputs": [
    {
     "name": "stdout",
     "output_type": "stream",
     "text": [
      "[2, 4]\n"
     ]
    }
   ],
   "source": [
    "for i, item in enumerate(list_2):\n",
    "    list_3.pop(i)\n",
    "print(list_3)"
   ]
  },
  {
   "cell_type": "code",
   "execution_count": 4,
   "metadata": {
    "Collapsed": "false"
   },
   "outputs": [
    {
     "name": "stdout",
     "output_type": "stream",
     "text": [
      "[]\n"
     ]
    }
   ],
   "source": [
    "for i, item, in enumerate(list_4[:]):\n",
    "    list_4.remove(item)\n",
    "print(list_4)"
   ]
  },
  {
   "cell_type": "markdown",
   "metadata": {
    "Collapsed": "false"
   },
   "source": [
    "## Пример 2. Крестики-нолики,  где X побеждает с первой попытки"
   ]
  },
  {
   "cell_type": "code",
   "execution_count": 9,
   "metadata": {
    "Collapsed": "false"
   },
   "outputs": [
    {
     "name": "stdout",
     "output_type": "stream",
     "text": [
      "[['X', '', ''], ['X', '', ''], ['X', '', '']]\n"
     ]
    }
   ],
   "source": [
    "from pprint import pprint\n",
    "\n",
    "row = [''] * 3\n",
    "board = [row] * 3\n",
    "board[0][0] = 'X'\n",
    "\n",
    "print(board)"
   ]
  },
  {
   "cell_type": "code",
   "execution_count": 11,
   "metadata": {
    "Collapsed": "false"
   },
   "outputs": [
    {
     "name": "stdout",
     "output_type": "stream",
     "text": [
      "[['X', '', ''], ['', '', ''], ['', '', '']]\n"
     ]
    }
   ],
   "source": [
    "board = [[''] * 3 for _ in range(3)]\n",
    "board[0][0] = 'X'\n",
    "\n",
    "print(board)"
   ]
  },
  {
   "cell_type": "markdown",
   "metadata": {
    "Collapsed": "false"
   },
   "source": [
    "## Пример 3. Те же операнды, но другая история"
   ]
  },
  {
   "cell_type": "code",
   "execution_count": 12,
   "metadata": {
    "Collapsed": "false"
   },
   "outputs": [
    {
     "name": "stdout",
     "output_type": "stream",
     "text": [
      "[1, 2, 3, 4, 5, 6, 7] [1, 2, 3, 4]\n"
     ]
    }
   ],
   "source": [
    "a = [1,2,3,4]\n",
    "b = a\n",
    "a = a + [5,6,7]\n",
    "\n",
    "print(a,b)"
   ]
  },
  {
   "cell_type": "code",
   "execution_count": 18,
   "metadata": {
    "Collapsed": "false"
   },
   "outputs": [
    {
     "name": "stdout",
     "output_type": "stream",
     "text": [
      "[1, 2, 3, 4, 5, 6, 7] [1, 2, 3, 4, 5, 6, 7]\n"
     ]
    }
   ],
   "source": [
    "a = [1,2,3,4]\n",
    "b = a\n",
    "a += [5,6,7]\n",
    "print(a, b)"
   ]
  },
  {
   "cell_type": "markdown",
   "metadata": {
    "Collapsed": "false"
   },
   "source": [
    "## Игла в стоге сена"
   ]
  },
  {
   "cell_type": "code",
   "execution_count": 19,
   "metadata": {
    "Collapsed": "false"
   },
   "outputs": [
    {
     "name": "stdout",
     "output_type": "stream",
     "text": [
      "one\n",
      "two\n"
     ]
    }
   ],
   "source": [
    "t = ('one', 'two')\n",
    "for i in t:\n",
    "    print(i)"
   ]
  },
  {
   "cell_type": "code",
   "execution_count": 20,
   "metadata": {
    "Collapsed": "false"
   },
   "outputs": [
    {
     "name": "stdout",
     "output_type": "stream",
     "text": [
      "o\n",
      "n\n",
      "e\n"
     ]
    }
   ],
   "source": [
    "t = ('one')\n",
    "for i in t:\n",
    "    print(i)"
   ]
  },
  {
   "cell_type": "code",
   "execution_count": 23,
   "metadata": {
    "Collapsed": "false"
   },
   "outputs": [
    {
     "name": "stdout",
     "output_type": "stream",
     "text": [
      "one\n"
     ]
    }
   ],
   "source": [
    "t = ('one',)\n",
    "for i in t:\n",
    "    print(i)"
   ]
  },
  {
   "cell_type": "markdown",
   "metadata": {
    "Collapsed": "false"
   },
   "source": [
    "## Пример 5. Сохранить только уникальные значения"
   ]
  },
  {
   "cell_type": "code",
   "execution_count": 27,
   "metadata": {
    "Collapsed": "false"
   },
   "outputs": [
    {
     "name": "stdout",
     "output_type": "stream",
     "text": [
      "[1, 2, 4, 5, 6]\n"
     ]
    }
   ],
   "source": [
    "lst = [1,5,6,1,5,2,4,5,1,6,5]\n",
    "lst = list(set(lst))\n",
    "print(lst)"
   ]
  },
  {
   "cell_type": "markdown",
   "metadata": {
    "Collapsed": "false"
   },
   "source": [
    "## Пример 6. Ключ словаря - изменяемый объект"
   ]
  },
  {
   "cell_type": "code",
   "execution_count": 28,
   "metadata": {
    "Collapsed": "false"
   },
   "outputs": [
    {
     "ename": "TypeError",
     "evalue": "unhashable type: 'set'",
     "output_type": "error",
     "traceback": [
      "\u001b[1;31m---------------------------------------------------------------------------\u001b[0m",
      "\u001b[1;31mTypeError\u001b[0m                                 Traceback (most recent call last)",
      "\u001b[1;32m<ipython-input-28-93f5c7c43668>\u001b[0m in \u001b[0;36m<module>\u001b[1;34m\u001b[0m\n\u001b[0;32m      1\u001b[0m \u001b[0mset_x\u001b[0m \u001b[1;33m=\u001b[0m \u001b[1;33m{\u001b[0m\u001b[1;36m1\u001b[0m\u001b[1;33m,\u001b[0m\u001b[1;36m2\u001b[0m\u001b[1;33m,\u001b[0m\u001b[1;36m3\u001b[0m\u001b[1;33m}\u001b[0m\u001b[1;33m\u001b[0m\u001b[1;33m\u001b[0m\u001b[0m\n\u001b[0;32m      2\u001b[0m \u001b[0mlst_x\u001b[0m \u001b[1;33m=\u001b[0m \u001b[1;33m[\u001b[0m\u001b[1;36m1\u001b[0m\u001b[1;33m,\u001b[0m\u001b[1;36m4\u001b[0m\u001b[1;33m,\u001b[0m\u001b[1;36m9\u001b[0m\u001b[1;33m]\u001b[0m\u001b[1;33m\u001b[0m\u001b[1;33m\u001b[0m\u001b[0m\n\u001b[1;32m----> 3\u001b[1;33m \u001b[0mdict_x\u001b[0m \u001b[1;33m=\u001b[0m \u001b[1;33m{\u001b[0m\u001b[0mset_x\u001b[0m \u001b[1;33m:\u001b[0m \u001b[0mlst_x\u001b[0m\u001b[1;33m}\u001b[0m\u001b[1;33m\u001b[0m\u001b[1;33m\u001b[0m\u001b[0m\n\u001b[0m",
      "\u001b[1;31mTypeError\u001b[0m: unhashable type: 'set'"
     ]
    }
   ],
   "source": [
    "set_x = {1,2,3}\n",
    "lst_x = [1,4,9]\n",
    "dict_x = {set_x : lst_x}"
   ]
  },
  {
   "cell_type": "code",
   "execution_count": 32,
   "metadata": {
    "Collapsed": "false"
   },
   "outputs": [
    {
     "name": "stdout",
     "output_type": "stream",
     "text": [
      "{frozenset({1, 2, 3}): [1, 4, 9]}\n",
      "{(1, 4, 9): {1, 2, 3}}\n"
     ]
    }
   ],
   "source": [
    "set_x = {1,2,3}\n",
    "lst_x = [1,4,9]\n",
    "dict_x = {frozenset(set_x) : lst_x}\n",
    "dict_y = {tuple(lst_x): set_x}\n",
    "\n",
    "pprint(dict_x)\n",
    "pprint(dict_y)"
   ]
  },
  {
   "cell_type": "markdown",
   "metadata": {
    "Collapsed": "false"
   },
   "source": [
    "# Алгоритмы обработки массивов (1)"
   ]
  },
  {
   "cell_type": "code",
   "execution_count": 33,
   "metadata": {
    "Collapsed": "false"
   },
   "outputs": [],
   "source": [
    "def bin_search(array, value):\n",
    "    left = 0\n",
    "    right = len(array) - 1\n",
    "    pos = len(array) // 2\n",
    "    \n",
    "    while array[pos] != value and left <= right:\n",
    "        if value > array[pos]:\n",
    "            left = pos + 1\n",
    "        else:\n",
    "            right = pos - 1\n",
    "        pos = (left + right) // 2\n",
    "    \n",
    "    return -1 if left > right else pos"
   ]
  },
  {
   "cell_type": "code",
   "execution_count": 39,
   "metadata": {
    "Collapsed": "false"
   },
   "outputs": [
    {
     "name": "stdout",
     "output_type": "stream",
     "text": [
      "[0, 15, 19, 21, 40, 41, 48, 60, 75, 104, 109, 111, 111, 117, 120, 136, 141, 146, 182, 193, 201, 208, 209, 222, 224, 228, 258, 262, 262, 269, 270, 274, 274, 295, 302, 303, 305, 328, 353, 364, 401, 411, 435, 502, 505, 508, 534, 544, 554, 576, 578, 580, 584, 585, 599, 601, 606, 611, 614, 615, 618, 625, 629, 632, 654, 658, 666, 671, 684, 686, 692, 706, 712, 721, 737, 737, 747, 751, 755, 775, 783, 790, 793, 794, 814, 822, 892, 896, 908, 913, 915, 919, 942, 957, 981, 981, 984, 988, 989, 993]\n"
     ]
    }
   ],
   "source": [
    "import random\n",
    "\n",
    "a = [random.randint(0,1000) for _ in range(100)]\n",
    "a.sort()\n",
    "print(a)"
   ]
  },
  {
   "cell_type": "code",
   "execution_count": 40,
   "metadata": {
    "Collapsed": "false"
   },
   "outputs": [
    {
     "name": "stdin",
     "output_type": "stream",
     "text": [
      "Какой элемент найти:  75\n"
     ]
    },
    {
     "name": "stdout",
     "output_type": "stream",
     "text": [
      "8\n"
     ]
    }
   ],
   "source": [
    "n = int(input('Какой элемент найти: '))\n",
    "print(bin_search(a, n))"
   ]
  },
  {
   "cell_type": "code",
   "execution_count": 42,
   "metadata": {
    "Collapsed": "false"
   },
   "outputs": [
    {
     "name": "stdin",
     "output_type": "stream",
     "text": [
      "Какой элемент найти:  14\n"
     ]
    },
    {
     "name": "stdout",
     "output_type": "stream",
     "text": [
      "-1\n"
     ]
    }
   ],
   "source": [
    "n = int(input('Какой элемент найти: '))\n",
    "print(bin_search(a, n))"
   ]
  },
  {
   "cell_type": "markdown",
   "metadata": {
    "Collapsed": "false"
   },
   "source": [
    "# Алгоритмы обработки массивов (2)"
   ]
  },
  {
   "cell_type": "markdown",
   "metadata": {
    "Collapsed": "false"
   },
   "source": [
    "## Задача 1. Разложить положительные и отрицательные числа по разным массивам"
   ]
  },
  {
   "cell_type": "code",
   "execution_count": 47,
   "metadata": {
    "Collapsed": "false"
   },
   "outputs": [
    {
     "name": "stdout",
     "output_type": "stream",
     "text": [
      "arr_bellow [-73, -56, -91, -40, -85, -96, -27, -61, -1, -94, -48, -99, -38, -88, -8, -81, -51, -47, -3, -67, -59, -60, 0, -35, -63, -32, -6, -68, -77, -35, -83, -86, -67, -83, -5, -86, -94, -32, -95, -93, -12, -68, -60, -34, -66, -27, -14, -92, -66, -88, -96]\n",
      "\n",
      "arr_lager [86, 78, 46, 53, 43, 67, 15, 10, 99, 39, 65, 89, 69, 67, 23, 78, 16, 48, 57, 39, 13, 80, 81, 94, 52, 81, 80, 39, 22, 94, 30, 68, 35, 72, 100, 12, 22, 11, 17, 98, 81, 72, 26, 45, 27, 2, 9, 41, 61]\n"
     ]
    }
   ],
   "source": [
    "import random\n",
    "\n",
    "array = [random.randint(-100, 100) for _ in range(100)]\n",
    "# print(array)\n",
    "\n",
    "arr_bellow = []\n",
    "arr_lager = []\n",
    "\n",
    "for item in array:\n",
    "    if item > 0:\n",
    "        arr_lager.append(item)\n",
    "    else:\n",
    "        arr_bellow.append(item)\n",
    "\n",
    "print(f'arr_bellow {arr_bellow}')\n",
    "print(\"\")\n",
    "print(f'arr_lager {arr_lager}')"
   ]
  },
  {
   "cell_type": "markdown",
   "metadata": {
    "Collapsed": "false"
   },
   "source": [
    "## Задача 2. Вставка элемента в прозвольное место массива"
   ]
  },
  {
   "cell_type": "code",
   "execution_count": 48,
   "metadata": {
    "Collapsed": "false"
   },
   "outputs": [
    {
     "name": "stdin",
     "output_type": "stream",
     "text": [
      "Введите целое число для вставки:  555\n",
      "На какую позицию вставить число:  3\n"
     ]
    },
    {
     "name": "stdout",
     "output_type": "stream",
     "text": [
      "[13, 76, 43, 555, -78, 79, 10, 80, 100, -44, 90, -39, -26, -53, -12, -53, 84, 57, -25, -100, -41, 9, 6, -18, -63, -8, 73, 52, -61, -32, 1, 55, 49, -100, 98, -18, 51, 24, -6, -34, 100, 25, 37, -18, 55, 96, -24, -41, 100, -34, -50, 62, -99, 92, -50, 62, -25, -18, 46, 7, -87, 81, 39, 79, -81, 61, 53, 77, -46, 35, -46, 36, 47, 69, 12, 27, -44, 47, -6, 85, 36, -97, -62, -20, 5, 10, 29, -36, 95, 35, -2, 28, -72, -71, 49, 19, -54, -43, -91, 64, 18]\n"
     ]
    }
   ],
   "source": [
    "import random\n",
    "\n",
    "array = [random.randint(-100, 100) for _ in range(100)]\n",
    "# print(array)\n",
    "\n",
    "num = int(input('Введите целое число для вставки: '))\n",
    "pos = int(input('На какую позицию вставить число: '))\n",
    "\n",
    "array.append(None)  # добавить в конец массива пустое значение\n",
    "i = len(array) - 1\n",
    "while i > pos:\n",
    "    array[i], array[i - 1] = array[i - 1], array[i]\n",
    "    i -= 1\n",
    "array[pos] = num\n",
    "print(array)"
   ]
  },
  {
   "cell_type": "code",
   "execution_count": 49,
   "metadata": {
    "Collapsed": "false"
   },
   "outputs": [
    {
     "name": "stdin",
     "output_type": "stream",
     "text": [
      "Введите целое число для вставки:  555\n",
      "На какую позицию вставить число:  3\n"
     ]
    },
    {
     "name": "stdout",
     "output_type": "stream",
     "text": [
      "[3, 9, 95, 555, 41, 72, 59, 57, 0, -54, 23, 13, 45, -39, 26, 96, -86, 69, 67, -31, -30, 39, 57, -23, 68, -51, 85, -82, -24, 35, -49, -69, 60, 27, -55, 97, 58, -62, 12, -36, 38, 49, -28, -20, 48, -15, -25, -88, 23, 57, 55, -49, 31, 46, 85, 53, -49, -78, 8, 52, -19, 92, -34, 25, -21, -97, 57, -66, -85, -41, -36, 0, 100, 95, -86, 11, 84, -71, 10, 80, -69, 95, -25, 6, 77, -86, -59, -14, 57, -52, -45, 22, -33, 51, 24, -8, -46, -10, -7, -14, 59, None]\n"
     ]
    }
   ],
   "source": [
    "import random\n",
    "\n",
    "array = [random.randint(-100, 100) for _ in range(100)]\n",
    "# print(array)\n",
    "\n",
    "num = int(input('Введите целое число для вставки: '))\n",
    "pos = int(input('На какую позицию вставить число: '))\n",
    "\n",
    "array.append(None)  # добавить в конец массива пустое значение\n",
    "i = len(array) - 1\n",
    "# while i > pos:\n",
    "#     array[i], array[i - 1] = array[i - 1], array[i]\n",
    "#     i -= 1\n",
    "array.insert(pos, num)\n",
    "\n",
    "array[pos] = num\n",
    "print(array)"
   ]
  },
  {
   "cell_type": "code",
   "execution_count": 50,
   "metadata": {
    "Collapsed": "false"
   },
   "outputs": [],
   "source": [
    "array_new = array[:pos] + [num] + array[pos:]\n",
    "# но этот метод требует в 2 раза больше памяти"
   ]
  },
  {
   "cell_type": "markdown",
   "metadata": {
    "Collapsed": "false"
   },
   "source": [
    "# Алгоритмы обработки массивов (3)"
   ]
  },
  {
   "cell_type": "code",
   "execution_count": 51,
   "metadata": {
    "Collapsed": "false"
   },
   "outputs": [
    {
     "name": "stdout",
     "output_type": "stream",
     "text": [
      "   4   7   5   1   1\n",
      "   8   1   4   6   7\n",
      "   3  10   2   9   4\n",
      "   9  10   3   1   2\n",
      "   4   5   4   9   1\n",
      "   9   1   6   1   4\n",
      "   3   4   8   7   3\n"
     ]
    }
   ],
   "source": [
    "import random\n",
    "\n",
    "matrix = [[random.randint(1, 10) for _ in range(5)] for _ in range(7)]\n",
    "for line in matrix:\n",
    "    for item in line:\n",
    "        print(f'{item:>4}', end='')\n",
    "    print()"
   ]
  },
  {
   "cell_type": "markdown",
   "metadata": {
    "Collapsed": "false"
   },
   "source": [
    "## Посчитать сумму строк и столбцов матрицы"
   ]
  },
  {
   "cell_type": "code",
   "execution_count": 53,
   "metadata": {
    "Collapsed": "false"
   },
   "outputs": [
    {
     "name": "stdout",
     "output_type": "stream",
     "text": [
      "   6   5   2   9  10\n",
      "   7   8   2   5   5\n",
      "   2   9   3  10   8\n",
      "   2   5   5   4   5\n",
      "   9   5  10  10   7\n",
      "   4   3  10   8   1\n",
      "  10   8   6   5   7\n",
      "-----------------------------------\n",
      "    6    5    2    9   10    | 32\n",
      "    7    8    2    5    5    | 27\n",
      "    2    9    3   10    8    | 32\n",
      "    2    5    5    4    5    | 21\n",
      "    9    5   10   10    7    | 41\n",
      "    4    3   10    8    1    | 26\n",
      "   10    8    6    5    7    | 36\n",
      "-----------------------------------\n",
      "   40   43   38   51   43"
     ]
    }
   ],
   "source": [
    "import random\n",
    "\n",
    "matrix = [[random.randint(1, 10) for _ in range(5)] for _ in range(7)]\n",
    "for line in matrix:\n",
    "    for item in line:\n",
    "        print(f'{item:>4}', end='')\n",
    "    print()\n",
    "\n",
    "print('-' * (len(matrix)*5))\n",
    "sum_column = [0] * len(matrix[0])\n",
    "\n",
    "for line in matrix:\n",
    "    sum_line = 0\n",
    "    for i, item in enumerate(line):\n",
    "        sum_line += item\n",
    "        sum_column[i] += item\n",
    "        print(f'{item:>5}', end='')\n",
    "    print(f'    | {sum_line}')\n",
    "print('-' * (len(matrix)*5))\n",
    "\n",
    "for s in sum_column:\n",
    "    print(f'{s:>5}', end='')"
   ]
  },
  {
   "cell_type": "markdown",
   "metadata": {
    "Collapsed": "false"
   },
   "source": [
    "## Обмен значений главной и побочной диагоналей квадратной матрицы"
   ]
  },
  {
   "cell_type": "code",
   "execution_count": 59,
   "metadata": {
    "Collapsed": "false"
   },
   "outputs": [
    {
     "name": "stdout",
     "output_type": "stream",
     "text": [
      "  1  1  5  3  2\n",
      "  9  1  5  8  2\n",
      "  6  5 10  3  6\n",
      "  6  9  5  5  9\n",
      "  2  5  4  2 10\n",
      "--------------------\n",
      "  2  1  5  3  1\n",
      "  9  8  5  1  2\n",
      "  6  5 10  3  6\n",
      "  6  5  5  9  9\n",
      " 10  5  4  2  2\n"
     ]
    }
   ],
   "source": [
    "import random\n",
    "\n",
    "size = 5\n",
    "matrix = [[random.randint(1, 10) for _ in range(size)] for _ in range(size)]\n",
    "for line in matrix:\n",
    "    for item in line:\n",
    "        print(f'{item:>3}', end='')\n",
    "    print()\n",
    "\n",
    "for i in range(size):\n",
    "    for j in range(size):\n",
    "        if i == j:\n",
    "            spam = matrix[i][j]\n",
    "            matrix[i][j] = matrix[i][size-1-j]\n",
    "            matrix[i][size-1-j] = spam\n",
    "print('-'*20)\n",
    "for line in matrix:\n",
    "    for item in line:\n",
    "        print(f'{item:>3}', end='')\n",
    "    print()"
   ]
  },
  {
   "cell_type": "markdown",
   "metadata": {
    "Collapsed": "false"
   },
   "source": [
    "# Работа с ассоциативными массивами (`dict`)"
   ]
  },
  {
   "cell_type": "markdown",
   "metadata": {
    "Collapsed": "false"
   },
   "source": [
    "## Задача. Пользователь вводит количество предприятий, названия, плановую и фактическую прибыль каждого предприятия. Вычислить процент выполнения плана и вывести данные с предарительной фальтацией"
   ]
  },
  {
   "cell_type": "code",
   "execution_count": 1,
   "metadata": {
    "Collapsed": "false"
   },
   "outputs": [
    {
     "name": "stdin",
     "output_type": "stream",
     "text": [
      "Введите количество предприятий:  4\n",
      "Введите название предприятия:  a\n",
      "План:  12\n",
      "Факт:  11\n",
      "Введите название предприятия:  b\n",
      "План:  16\n",
      "Факт:  9\n",
      "Введите название предприятия:  c\n",
      "План:  13\n",
      "Факт:  11\n",
      "Введите название предприятия:  d\n",
      "План:  11\n",
      "Факт:  13\n"
     ]
    },
    {
     "name": "stdout",
     "output_type": "stream",
     "text": [
      "Фактиеская прибыль больше 10, но план не выполнен\n",
      "Предприятие a заработало 11.0, что составило 91.666667%\n",
      "Предприятие c заработало 11.0, что составило 84.615385%\n"
     ]
    }
   ],
   "source": [
    "k = int(input('Введите количество предприятий: '))\n",
    "enterprises = {}\n",
    "\n",
    "for i in range(1, k + 1):\n",
    "    name = input('Введите название предприятия: ')\n",
    "    enterprises[name] = [float(input('План: ')), float(input('Факт: '))]\n",
    "    enterprises[name].append(enterprises[name][1] / enterprises[name][0])\n",
    "\n",
    "print(f'Фактиеская прибыль больше 10, но план не выполнен')\n",
    "for key, value in enterprises.items():\n",
    "    if value[1] > 10 and value[2] < 1:\n",
    "        print(f'Предприятие {key} заработало {value[1]}, что составило {value[2]*100:.2f}%')"
   ]
  },
  {
   "cell_type": "code",
   "execution_count": null,
   "metadata": {
    "Collapsed": "false"
   },
   "outputs": [],
   "source": []
  }
 ],
 "metadata": {
  "kernelspec": {
   "display_name": "Python 3",
   "language": "python",
   "name": "python3"
  },
  "language_info": {
   "codemirror_mode": {
    "name": "ipython",
    "version": 3
   },
   "file_extension": ".py",
   "mimetype": "text/x-python",
   "name": "python",
   "nbconvert_exporter": "python",
   "pygments_lexer": "ipython3",
   "version": "3.7.6"
  }
 },
 "nbformat": 4,
 "nbformat_minor": 4
}
