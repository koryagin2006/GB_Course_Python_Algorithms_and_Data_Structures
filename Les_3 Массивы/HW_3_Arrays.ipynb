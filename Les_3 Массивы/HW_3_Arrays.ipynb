{
 "cells": [
  {
   "cell_type": "markdown",
   "metadata": {
    "Collapsed": "false"
   },
   "source": [
    "# Урок 3. Массивы. ДЗ"
   ]
  },
  {
   "cell_type": "markdown",
   "metadata": {
    "Collapsed": "false"
   },
   "source": [
    "```\n",
    "Для каждого упражнения написать программную реализацию.\n",
    "Код пишите в файлах с расширением .py в кодировке UTF-8 (в PyCharm работает по умолчанию). Каждую задачу необходимо сохранять в отдельный файл. Рекомендуем использовать английские имена, например, les_3_task_1, \n",
    "les_3_task_2 и т.д.\n",
    "Для оценки «Отлично» достаточно **выполнить 5 любых задания на ваш выбор** («Отлично» ставится за работы без ошибок). \n",
    "\n",
    "**Примечание:** попытайтесь решить задания без использования функций `max`, `min`, `sum`, `sorted` и их аналогов, в том числе написанных самостоятельно.\n",
    "В задачах 3, 4, 5, 6, 9, если искомый элемент(ы) встречается в массиве несколько раз, используйте один любой по вашему выбору.\n",
    "```"
   ]
  },
  {
   "cell_type": "markdown",
   "metadata": {
    "Collapsed": "true"
   },
   "source": [
    "### `ok!` 1. В диапазоне натуральных чисел от 2 до 99 определить, сколько из них кратны каждому из чисел в диапазоне от 2 до 9. Примечание: 8 разных ответов."
   ]
  },
  {
   "cell_type": "code",
   "execution_count": 1,
   "metadata": {
    "Collapsed": "false",
    "ExecuteTime": {
     "end_time": "2021-02-28T07:39:42.566629Z",
     "start_time": "2021-02-28T07:39:42.557653Z"
    }
   },
   "outputs": [
    {
     "name": "stdout",
     "output_type": "stream",
     "text": [
      "49 чисел кратно 2\n",
      "33 чисел кратно 3\n",
      "24 чисел кратно 4\n",
      "19 чисел кратно 5\n",
      "16 чисел кратно 6\n",
      "14 чисел кратно 7\n",
      "12 чисел кратно 8\n",
      "11 чисел кратно 9\n"
     ]
    }
   ],
   "source": [
    "for i in range(2, 10):\n",
    "    num = 0\n",
    "    for item_ in range(2, 100):\n",
    "        if item_ % i == 0:\n",
    "            num += 1\n",
    "    print(f'{num} чисел кратно {i}')"
   ]
  },
  {
   "cell_type": "markdown",
   "metadata": {
    "Collapsed": "false"
   },
   "source": [
    "### `ok!` 2. Во втором массиве сохранить индексы четных элементов первого массива. Например, если дан массив со значениями 8, 3, 15, 6, 4, 2, второй массив надо заполнить значениями 0, 3, 4, 5 (помните, что индексация начинается с нуля), т. к. именно в этих позициях первого массива стоят четные числа."
   ]
  },
  {
   "cell_type": "code",
   "execution_count": 5,
   "metadata": {
    "Collapsed": "false",
    "ExecuteTime": {
     "end_time": "2021-02-28T07:43:09.420035Z",
     "start_time": "2021-02-28T07:43:09.412059Z"
    }
   },
   "outputs": [
    {
     "name": "stdout",
     "output_type": "stream",
     "text": [
      "list_1 [4, 2, 5, 2, 10, 7, 10, 4, 5, 8]\n",
      "list_2 [0, 1, 3, 4, 6, 7, 9]\n"
     ]
    }
   ],
   "source": [
    "from random import randint\n",
    "\n",
    "list_1 = [randint(1, 10) for _ in range(10)]\n",
    "print(f'list_1 {list_1}')\n",
    "\n",
    "list_2 = []\n",
    "for i in enumerate(list_1):\n",
    "    if i[1] % 2 == 0:\n",
    "        list_2.append(i[0])\n",
    "\n",
    "print(f'list_2 {list_2}')"
   ]
  },
  {
   "cell_type": "markdown",
   "metadata": {
    "Collapsed": "true"
   },
   "source": [
    "### `ok!` 3. В массиве случайных целых чисел поменять местами минимальный и максимальный элементы."
   ]
  },
  {
   "cell_type": "code",
   "execution_count": 57,
   "metadata": {
    "Collapsed": "false"
   },
   "outputs": [
    {
     "name": "stdout",
     "output_type": "stream",
     "text": [
      "list_1 [6, 10, 9, 10, 6, 2, 4, 2, 10, 3] min = 2, max = 10\n",
      "list_2 [6, 2, 9, 2, 6, 2, 4, 2, 2, 3]\n"
     ]
    }
   ],
   "source": [
    "from random import randint\n",
    "\n",
    "list_1 = [randint(1, 10) for _ in range(10)]\n",
    "\n",
    "# предположим, что максимальный элемент равен mas[0]\n",
    "len(list_1)\n",
    "maximum = list_1[0]\n",
    "mininum = list_1[0]\n",
    "for i in range(1, len(list_1)):\n",
    "    if list_1[i] > maximum:\n",
    "        maximum = list_1[i]\n",
    "\n",
    "for i in range(1, len(list_1)):\n",
    "    if list_1[i] < mininum:\n",
    "        mininum = list_1[i]\n",
    "\n",
    "print(f'list_1 {list_1} min = {mininum}, max = {maximum}')\n",
    "\n",
    "list_2 = list_1.copy()\n",
    "for i, item in enumerate(list_2):\n",
    "    if item == maximum:\n",
    "        list_2[i] = mininum\n",
    "\n",
    "print(f'list_2 {list_2}')"
   ]
  },
  {
   "cell_type": "markdown",
   "metadata": {
    "Collapsed": "false"
   },
   "source": [
    "### `ok!` 4. Определить, какое число в массиве встречается чаще всего."
   ]
  },
  {
   "cell_type": "code",
   "execution_count": 13,
   "metadata": {
    "ExecuteTime": {
     "end_time": "2021-02-28T07:50:07.911774Z",
     "start_time": "2021-02-28T07:50:07.898809Z"
    }
   },
   "outputs": [
    {
     "name": "stdout",
     "output_type": "stream",
     "text": [
      "[ 2  4  5  2  4  6  8  9  5  8  3  0  0  5  9  3  1  6 10  6  1  0  2  1\n",
      "  8  2  8  1  9  3  5  8  4  8  6  5 10  3  6  2  1  1  2  3  8  4  5 10\n",
      "  3  9]\n",
      "array size = 20\n",
      "Число 5 встречается 3 раз\n"
     ]
    }
   ],
   "source": [
    "import random\n",
    "import numpy as np\n",
    "\n",
    "SIZE = 20\n",
    "array = [random.randint(0, 10) for _ in range(50)]\n",
    "print(np.array(array))\n",
    "\n",
    "num = array[0]\n",
    "max_frq = 1\n",
    "\n",
    "for i in range(SIZE - 1):\n",
    "    frq = 1\n",
    "\n",
    "    for k in range(i + 1, SIZE):\n",
    "        if array[i] == array[k]:\n",
    "            frq += 1\n",
    "    if frq > max_frq:\n",
    "        max_frq = frq\n",
    "        num = array[i]\n",
    "print(f'array size = {SIZE}')\n",
    "if max_frq > 1:\n",
    "    print(f'Число {num} встречается {max_frq} раз')\n",
    "else:\n",
    "    print('Все элементы уникальные')"
   ]
  },
  {
   "cell_type": "markdown",
   "metadata": {
    "Collapsed": "false"
   },
   "source": [
    "### `ok!` 5. В массиве найти максимальный отрицательный элемент. Вывести на экран его значение и позицию в массиве."
   ]
  },
  {
   "cell_type": "code",
   "execution_count": 131,
   "metadata": {
    "Collapsed": "false"
   },
   "outputs": [
    {
     "name": "stdout",
     "output_type": "stream",
     "text": [
      "list_1 [7, 4, 1, -1, 9, 8, 3, -2, 8, -3]\n",
      "list_2 [-1, -2, -3] отрицательные числа списка 1\n",
      "------------------------------\n",
      "max < 0 = -1\n",
      "позиция в массиве = 3, \n"
     ]
    }
   ],
   "source": [
    "from random import randint\n",
    "\n",
    "list_1 = [randint(-10, 10) for _ in range(10)]\n",
    "print(f'list_1 {list_1}')\n",
    "\n",
    "list_2 = []\n",
    "for i in list_1:\n",
    "    if i < 0:\n",
    "        list_2.append(i)\n",
    "print(f'list_2 {list_2} отрицательные числа списка 1')\n",
    "\n",
    "maximum = list_2[0]\n",
    "for i in range(1, len(list_2)):\n",
    "    if list_2[i] > maximum:\n",
    "        list_2[i] = maximum\n",
    "print('-' * 30)\n",
    "print(f'max < 0 = {maximum}')\n",
    "pos = ''\n",
    "for i, item in enumerate(list_1):\n",
    "    if item == maximum:\n",
    "        pos += str(i)\n",
    "        pos += ', '\n",
    "print(f'позиция в массиве = {pos}')"
   ]
  },
  {
   "cell_type": "markdown",
   "metadata": {
    "Collapsed": "false"
   },
   "source": [
    "### `ok!` 6. В одномерном массиве найти сумму элементов, находящихся между минимальным и максимальным элементами. Сами минимальный и максимальный элементы в сумму не включать."
   ]
  },
  {
   "cell_type": "code",
   "execution_count": 137,
   "metadata": {
    "Collapsed": "false"
   },
   "outputs": [
    {
     "name": "stdout",
     "output_type": "stream",
     "text": [
      "list_1 [34, 23, 28, 82, 94, 36, 24, 88, 95, 79] \n",
      "min = 23, max = 95\n",
      "index_min = 1, index_max = 8\n",
      "list_2 [28, 82, 94, 36, 24, 88] (список между макс и мин)\n",
      "------------------------------\n",
      "Сумма элементов списка list_2 = 352\n"
     ]
    }
   ],
   "source": [
    "list_1 = [34, 23, 28, 82, 94, 36, 24, 88, 95, 79]\n",
    "len(list_1)\n",
    "maximum = list_1[0]\n",
    "mininum = list_1[0]\n",
    "\n",
    "for i in range(1, len(list_1)):\n",
    "    if list_1[i] > maximum:\n",
    "        maximum = list_1[i]\n",
    "\n",
    "for i in range(1, len(list_1)):\n",
    "    if list_1[i] < mininum:\n",
    "        mininum = list_1[i]\n",
    "print(f'list_1 {list_1} \\nmin = {mininum}, max = {maximum}')\n",
    "\n",
    "for i, item in enumerate(list_1):\n",
    "    if item == maximum:\n",
    "        index_max = i\n",
    "    elif item == mininum:\n",
    "        index_min = i\n",
    "print(f'index_min = {index_min}, index_max = {index_max}')\n",
    "\n",
    "list_2 = list_1[index_min+1:index_max]\n",
    "print(f'list_2 {list_2} (список между макс и мин)')\n",
    "\n",
    "list_2_sum = 0\n",
    "for i in list_2:\n",
    "    list_2_sum += i\n",
    "print('-'*30)\n",
    "print(f'Сумма элементов списка list_2 = {list_2_sum}')"
   ]
  },
  {
   "cell_type": "markdown",
   "metadata": {
    "Collapsed": "false"
   },
   "source": [
    "### `ok!` 7. В одномерном массиве целых чисел определить два наименьших элемента. Они могут быть как равны между собой (оба минимальны), так и различаться."
   ]
  },
  {
   "cell_type": "code",
   "execution_count": 13,
   "metadata": {
    "ExecuteTime": {
     "end_time": "2020-05-17T17:37:27.863789Z",
     "start_time": "2020-05-17T17:37:27.842848Z"
    }
   },
   "outputs": [
    {
     "name": "stdout",
     "output_type": "stream",
     "text": [
      "[3, 6, 1, 3, 1, 5, 1, 0, 1, 3]\n",
      "Число 0 в ячейке 7\n",
      "Число 1 в ячейке 4\n"
     ]
    }
   ],
   "source": [
    "import random\n",
    "\n",
    "SIZE = 10\n",
    "array = [random.randint(0, SIZE // 1.5) for _ in range(SIZE)]\n",
    "print(array)\n",
    "\n",
    "if array[0] > array[1]:\n",
    "    min_idx_1 = 0\n",
    "    min_idx_2 = 1\n",
    "else:\n",
    "    min_idx_1 = 1\n",
    "    min_idx_2 = 0\n",
    "\n",
    "for i in range(2, SIZE):\n",
    "    if array[i] < array[min_idx_1]:\n",
    "        spam = min_idx_1\n",
    "        min_idx_1 = i\n",
    "\n",
    "        if array[spam] < array[min_idx_2]:\n",
    "            min_idx_2 = spam\n",
    "    elif array[i] < array[min_idx_2]:\n",
    "        min_idx_2 =i\n",
    "\n",
    "print(f'Число {array[min_idx_1]} в ячейке {min_idx_1}')\n",
    "print(f'Число {array[min_idx_2]} в ячейке {min_idx_2}')"
   ]
  },
  {
   "cell_type": "markdown",
   "metadata": {
    "Collapsed": "false"
   },
   "source": [
    "## 8. Матрица 5x4 заполняется вводом с клавиатуры, кроме последних элементов строк. Программа должна вычислять сумму введенных элементов каждой строки и записывать ее в последнюю ячейку строки. В конце следует вывести полученную матрицу."
   ]
  },
  {
   "cell_type": "markdown",
   "metadata": {
    "Collapsed": "false"
   },
   "source": [
    "## 9. Найти максимальный элемент среди минимальных элементов столбцов матрицы."
   ]
  },
  {
   "cell_type": "code",
   "execution_count": null,
   "metadata": {
    "Collapsed": "false"
   },
   "outputs": [],
   "source": []
  }
 ],
 "metadata": {
  "kernelspec": {
   "display_name": "Python 3",
   "language": "python",
   "name": "python3"
  },
  "language_info": {
   "codemirror_mode": {
    "name": "ipython",
    "version": 3
   },
   "file_extension": ".py",
   "mimetype": "text/x-python",
   "name": "python",
   "nbconvert_exporter": "python",
   "pygments_lexer": "ipython3",
   "version": "3.8.5"
  },
  "toc": {
   "base_numbering": 1,
   "nav_menu": {},
   "number_sections": false,
   "sideBar": true,
   "skip_h1_title": false,
   "title_cell": "Table of Contents",
   "title_sidebar": "Contents",
   "toc_cell": false,
   "toc_position": {},
   "toc_section_display": true,
   "toc_window_display": true
  },
  "varInspector": {
   "cols": {
    "lenName": 16,
    "lenType": 16,
    "lenVar": 40
   },
   "kernels_config": {
    "python": {
     "delete_cmd_postfix": "",
     "delete_cmd_prefix": "del ",
     "library": "var_list.py",
     "varRefreshCmd": "print(var_dic_list())"
    },
    "r": {
     "delete_cmd_postfix": ") ",
     "delete_cmd_prefix": "rm(",
     "library": "var_list.r",
     "varRefreshCmd": "cat(var_dic_list()) "
    }
   },
   "types_to_exclude": [
    "module",
    "function",
    "builtin_function_or_method",
    "instance",
    "_Feature"
   ],
   "window_display": false
  }
 },
 "nbformat": 4,
 "nbformat_minor": 4
}
