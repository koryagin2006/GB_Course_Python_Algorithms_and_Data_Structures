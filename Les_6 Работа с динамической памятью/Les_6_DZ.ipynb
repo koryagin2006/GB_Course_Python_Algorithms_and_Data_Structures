{
 "cells": [
  {
   "cell_type": "markdown",
   "metadata": {},
   "source": [
    "# Урок 6. ДЗ\n",
    "\n",
    "Для каждого упражнения написать программную реализацию.\n",
    "Код пишите в файлах с расширением .py в кодировке UTF-8 (в PyCharm работает по умолчанию). Каждую задачу необходимо сохранять в отдельный файл. Рекомендуем использовать английские имена, например, les_6_task_1, les_6_task_2, и т.д.\n",
    "Для оценки «Отлично» необходимо выполнить все требования, указанные в задании и примечаниях."
   ]
  },
  {
   "cell_type": "markdown",
   "metadata": {},
   "source": [
    "## Подсчитать, сколько было выделено памяти под переменные в ранее разработанных программах в рамках первых трех уроков. \n",
    "- Проанализировать результат и определить программы с наиболее эффективным использованием памяти.\n",
    "- Примечание: По аналогии с эмпирической оценкой алгоритмов идеальным решением будет:"
   ]
  },
  {
   "cell_type": "markdown",
   "metadata": {},
   "source": [
    "### a. выбрать хорошую задачу, которую имеет смысл оценивать по памяти;"
   ]
  },
  {
   "cell_type": "markdown",
   "metadata": {},
   "source": [
    "### b. написать 3 варианта кода (один у вас уже есть);\n",
    "проанализировать 3 варианта и выбрать оптимальный;"
   ]
  },
  {
   "cell_type": "markdown",
   "metadata": {},
   "source": [
    "### c. результаты анализа (количество занятой памяти в вашей среде разработки) вставить в виде комментариев в файл с кодом. Не забудьте указать версию и разрядность вашей ОС и интерпретатора Python;"
   ]
  },
  {
   "cell_type": "markdown",
   "metadata": {},
   "source": [
    "### d. написать общий вывод: какой из трёх вариантов лучше и почему.\n",
    "Надеемся, что вы не испортили программы, добавив в них множество `sys.getsizeof` после каждой переменной, а проявили творчество, фантазию и создали универсальный код для замера памяти."
   ]
  },
  {
   "cell_type": "code",
   "execution_count": null,
   "metadata": {},
   "outputs": [],
   "source": []
  }
 ],
 "metadata": {
  "kernelspec": {
   "display_name": "Python 3",
   "language": "python",
   "name": "python3"
  },
  "language_info": {
   "codemirror_mode": {
    "name": "ipython",
    "version": 3
   },
   "file_extension": ".py",
   "mimetype": "text/x-python",
   "name": "python",
   "nbconvert_exporter": "python",
   "pygments_lexer": "ipython3",
   "version": "3.7.6"
  },
  "toc": {
   "base_numbering": 1,
   "nav_menu": {},
   "number_sections": true,
   "sideBar": true,
   "skip_h1_title": false,
   "title_cell": "Table of Contents",
   "title_sidebar": "Contents",
   "toc_cell": false,
   "toc_position": {},
   "toc_section_display": true,
   "toc_window_display": false
  }
 },
 "nbformat": 4,
 "nbformat_minor": 4
}
