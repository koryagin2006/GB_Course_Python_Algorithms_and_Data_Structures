{
 "cells": [
  {
   "cell_type": "code",
   "execution_count": 1,
   "metadata": {
    "Collapsed": "false"
   },
   "outputs": [],
   "source": [
    "import cProfile"
   ]
  },
  {
   "cell_type": "code",
   "execution_count": 1,
   "metadata": {
    "Collapsed": "false"
   },
   "outputs": [
    {
     "name": "stdout",
     "output_type": "stream",
     "text": [
      "list_1 [2, 8, 5, 2, 3, 8, 5, 9, 7, 8]\n",
      "list_2 [0, 1, 3, 5, 9]\n"
     ]
    }
   ],
   "source": [
    "'''\n",
    "les_3_task_2\n",
    "2. Во втором массиве сохранить индексы четных элементов первого массива. \n",
    "Например, если дан массив со значениями 8, 3, 15, 6, 4, 2, \n",
    "второй массив надо заполнить значениями 0, 3, 4, 5 (помните, что индексация начинается с нуля), \n",
    "т. к. именно в этих позициях первого массива стоят четные числа.\n",
    "'''\n",
    "\n",
    "from random import randint\n",
    "\n",
    "list_1 = [randint(1, 10) for _ in range(10)]\n",
    "print(f'list_1 {list_1}')\n",
    "# list_1 = [8, 3, 15, 6, 4, 2]\n",
    "\n",
    "list_2 = []\n",
    "for i in enumerate(list_1):\n",
    "    if i[1] % 2 == 0:\n",
    "        list_2.append(i[0])\n",
    "print(f'list_2 {list_2}')"
   ]
  },
  {
   "cell_type": "code",
   "execution_count": null,
   "metadata": {
    "Collapsed": "false"
   },
   "outputs": [],
   "source": [
    "'''\n",
    "les_3_task_2\n",
    "Посчитать четные и нечетные цифры введенного натурального числа. \n",
    "Например, если введено число `34560`, в нем 3 четные цифры (`4`, `6` и `0`) и 2 нечетные (`3` и `5`).\n",
    "'''\n",
    "# number = int(input('ВВедите натуральное число: i \n",
    "number = 46576543\n",
    "\n",
    "parity = 0\n",
    "non_parity = 0\n",
    "for i in str(number):\n",
    "    i = int(i)\n",
    "    if i % 2 == 0:\n",
    "        parity += 1\n",
    "    else:\n",
    "        non_parity += 1\n",
    "print(f'Число чётных чисел = {parity}')\n",
    "print(f'Число нечётных чисел = {non_parity}')"
   ]
  },
  {
   "cell_type": "code",
   "execution_count": 1,
   "metadata": {
    "Collapsed": "false"
   },
   "outputs": [
    {
     "name": "stdin",
     "output_type": "stream",
     "text": [
      "Введите целое число:  12345\n"
     ]
    },
    {
     "name": "stdout",
     "output_type": "stream",
     "text": [
      "54321\n"
     ]
    }
   ],
   "source": [
    "'''\n",
    "les_3_task_3\n",
    "Сформировать из введенного числа обратное по порядку входящих в него цифр и вывести на экран. \n",
    "Например, если введено число `3486`, надо вывести `6843`.\n",
    "'''\n",
    "number = int(input('Введите целое число: ')) \n",
    "# number = 3486\n",
    "\n",
    "revert = \"\"\n",
    "for i in str(number):\n",
    "    revert = i+revert\n",
    "\n",
    "print(revert)"
   ]
  },
  {
   "cell_type": "code",
   "execution_count": null,
   "metadata": {
    "Collapsed": "false"
   },
   "outputs": [],
   "source": []
  }
 ],
 "metadata": {
  "kernelspec": {
   "display_name": "Python 3",
   "language": "python",
   "name": "python3"
  },
  "language_info": {
   "codemirror_mode": {
    "name": "ipython",
    "version": 3
   },
   "file_extension": ".py",
   "mimetype": "text/x-python",
   "name": "python",
   "nbconvert_exporter": "python",
   "pygments_lexer": "ipython3",
   "version": "3.7.6"
  }
 },
 "nbformat": 4,
 "nbformat_minor": 4
}
