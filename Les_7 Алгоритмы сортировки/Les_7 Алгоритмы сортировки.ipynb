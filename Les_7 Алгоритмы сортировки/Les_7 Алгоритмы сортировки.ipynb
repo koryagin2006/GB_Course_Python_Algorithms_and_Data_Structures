{
 "cells": [
  {
   "cell_type": "markdown",
   "metadata": {
    "toc": true
   },
   "source": [
    "<h1>Table of Contents<span class=\"tocSkip\"></span></h1>\n",
    "<div class=\"toc\"><ul class=\"toc-item\"><li><span><a href=\"#Сортировка-пузырьком\" data-toc-modified-id=\"Сортировка-пузырьком-1\"><span class=\"toc-item-num\">1&nbsp;&nbsp;</span>Сортировка пузырьком</a></span></li><li><span><a href=\"#Сортировка-выбором\" data-toc-modified-id=\"Сортировка-выбором-2\"><span class=\"toc-item-num\">2&nbsp;&nbsp;</span>Сортировка выбором</a></span></li><li><span><a href=\"#Сортировка-вставками\" data-toc-modified-id=\"Сортировка-вставками-3\"><span class=\"toc-item-num\">3&nbsp;&nbsp;</span>Сортировка вставками</a></span></li><li><span><a href=\"#Сортировка-Шелла\" data-toc-modified-id=\"Сортировка-Шелла-4\"><span class=\"toc-item-num\">4&nbsp;&nbsp;</span>Сортировка Шелла</a></span></li><li><span><a href=\"#Сортировка-Хоара\" data-toc-modified-id=\"Сортировка-Хоара-5\"><span class=\"toc-item-num\">5&nbsp;&nbsp;</span>Сортировка Хоара</a></span></li><li><span><a href=\"#Разворот-массива.-Сортировка-сложных-структур\" data-toc-modified-id=\"Разворот-массива.-Сортировка-сложных-структур-6\"><span class=\"toc-item-num\">6&nbsp;&nbsp;</span>Разворот массива. Сортировка сложных структур</a></span></li><li><span><a href=\"#Алгоритм-сортировки-Timsort\" data-toc-modified-id=\"Алгоритм-сортировки-Timsort-7\"><span class=\"toc-item-num\">7&nbsp;&nbsp;</span>Алгоритм сортировки Timsort</a></span></li></ul></div>"
   ]
  },
  {
   "cell_type": "markdown",
   "metadata": {},
   "source": [
    "**Алгоритмы сортировки**\n",
    "\n",
    "Практически каждрый алгоритм сортировки можно разделить на 3 части:\n",
    "- Сравнение, определяющее упрядоченность пары элементов\n",
    "- Перестановка, меняющая местами пару элементов\n",
    "- Сортирующий алгоритм, который сравнивает, и переставляет элементы до тех пор, пока все они не будут упорядочены"
   ]
  },
  {
   "cell_type": "markdown",
   "metadata": {},
   "source": [
    "# Сортировка пузырьком"
   ]
  },
  {
   "cell_type": "markdown",
   "metadata": {},
   "source": [
    "Критерии | Значение\n",
    "--- | --- \n",
    "Сложность | O(n<sup>2</sup>)\n",
    "Устойчивость (стабильность) | Устойчивая\n",
    "Тип (категория) | Обменная\n",
    "Потребление памяти | Не требует доп памяти"
   ]
  },
  {
   "cell_type": "code",
   "execution_count": 4,
   "metadata": {
    "ExecuteTime": {
     "end_time": "2020-05-27T12:31:18.927968Z",
     "start_time": "2020-05-27T12:31:18.906180Z"
    }
   },
   "outputs": [
    {
     "name": "stdout",
     "output_type": "stream",
     "text": [
      "[4, 9, 1, 6, 8, 2, 3, 0, 7, 5]\n",
      "[0, 1, 2, 3, 4, 5, 6, 7, 8, 9]\n"
     ]
    }
   ],
   "source": [
    "# task_1\n",
    "import random\n",
    "\n",
    "size = 10  # размер сортируемого списка\n",
    "array = [i for i in range(size)]\n",
    "random.shuffle(array)  # перемешивает список\n",
    "print(array)\n",
    "\n",
    "n = 1\n",
    "while n < len(array):\n",
    "    for i in range(len(array) - n):\n",
    "        if array[i] > array[i+1]:\n",
    "            array[i], array[i+1] = array[i+1], array[i]\n",
    "    n += 1\n",
    "#     print(array)\n",
    "\n",
    "print(array)"
   ]
  },
  {
   "cell_type": "markdown",
   "metadata": {},
   "source": [
    "# Сортировка выбором"
   ]
  },
  {
   "cell_type": "markdown",
   "metadata": {},
   "source": [
    "Критерии | Значение\n",
    "--- | --- \n",
    "Сложность | O(n<sup>2</sup>)\n",
    "Устойчивость (стабильность) | Устойчивая / неустойчивая\n",
    "Тип (категория) | Выбором\n",
    "Потребление памяти | Не требует доп памяти"
   ]
  },
  {
   "cell_type": "markdown",
   "metadata": {},
   "source": [
    "Алгоритм сортировки выброром:\n",
    "- Найти наименьший элемент в неотсортированной части массива\n",
    "- Поменять его местами с первым элементом в неотсортированной части массива\n",
    "- Продолжать действия, пока весь массив не будет отсортирован"
   ]
  },
  {
   "cell_type": "code",
   "execution_count": 6,
   "metadata": {
    "ExecuteTime": {
     "end_time": "2020-05-27T12:48:44.944373Z",
     "start_time": "2020-05-27T12:48:44.932294Z"
    }
   },
   "outputs": [
    {
     "name": "stdout",
     "output_type": "stream",
     "text": [
      "[6, 4, 5, 7, 8, 0, 1, 2, 3, 9]\n",
      "[0, 1, 2, 3, 4, 5, 6, 7, 8, 9]\n"
     ]
    }
   ],
   "source": [
    "# task_2\n",
    "import random\n",
    "\n",
    "size = 10  # размер сортируемого списка\n",
    "array = [i for i in range(size)]\n",
    "random.shuffle(array)  # перемешивает список\n",
    "print(array)\n",
    "\n",
    "\n",
    "def selection_sort(array):\n",
    "    for i in range(len(array)):\n",
    "        idx_min = i\n",
    "\n",
    "        for j in range(i+1, len(array)):\n",
    "            if array[j] < array[idx_min]:\n",
    "                idx_min = j\n",
    "        array[idx_min], array[i] = array[i], array[idx_min]\n",
    "\n",
    "selection_sort(array)\n",
    "print(array)"
   ]
  },
  {
   "cell_type": "markdown",
   "metadata": {},
   "source": [
    "# Сортировка вставками"
   ]
  },
  {
   "cell_type": "markdown",
   "metadata": {},
   "source": [
    "Критерии | Значение\n",
    "--- | --- \n",
    "Сложность | O(n<sup>2</sup>) / лучшее время O(n)\n",
    "Устойчивость (стабильность) | Устойчивая\n",
    "Тип (категория) | Вставками\n",
    "Потребление памяти | Не требует доп памяти"
   ]
  },
  {
   "cell_type": "markdown",
   "metadata": {},
   "source": [
    "Алгоритм сортировки вставками:\n",
    "- Из массива последовательно берется каждый элемент, кроме первого (`index == 0`)\n",
    "- И вставляется в отсортированную часть массива"
   ]
  },
  {
   "cell_type": "code",
   "execution_count": 1,
   "metadata": {
    "ExecuteTime": {
     "end_time": "2020-05-27T14:42:10.800690Z",
     "start_time": "2020-05-27T14:42:10.726891Z"
    }
   },
   "outputs": [
    {
     "name": "stdout",
     "output_type": "stream",
     "text": [
      "[4, 7, 3, 8, 9, 0, 1, 2, 6, 5]\n",
      "[0, 1, 2, 3, 4, 5, 6, 7, 8, 9]\n"
     ]
    }
   ],
   "source": [
    "# task_3\n",
    "import random\n",
    "\n",
    "size = 10\n",
    "array = [i for i in range(size)]\n",
    "random.shuffle(array)\n",
    "print(array)\n",
    "\n",
    "\n",
    "def insertion_sort(array):\n",
    "    for i in range(1, len(array)):\n",
    "        spam = array[i]  # временная переменная\n",
    "        j = i\n",
    "\n",
    "        while array[j - 1] > spam and j > 0:\n",
    "            array[j] = array[j - 1]\n",
    "            j -= 1\n",
    "        array[j] = spam\n",
    "\n",
    "\n",
    "insertion_sort(array)\n",
    "print(array)"
   ]
  },
  {
   "cell_type": "markdown",
   "metadata": {},
   "source": [
    "# Сортировка Шелла"
   ]
  },
  {
   "cell_type": "markdown",
   "metadata": {},
   "source": [
    "Критерии | Значение\n",
    "--- | --- \n",
    "Сложность | O(n<sup>2</sup>) / O(n (log n)<sup>2</sup>) или O(n<sup>3/2</sup>)\n",
    "Устойчивость (стабильность) | Неустойчивая\n",
    "Тип (категория) | Вставками\n",
    "Потребление памяти | Не требует доп памяти"
   ]
  },
  {
   "cell_type": "markdown",
   "metadata": {},
   "source": [
    "Алгоритм сортировки Шелла\n",
    "- Выбираем шаг для сравнения элементов (increment)\n",
    "- Сравниваем последовательно элементы массива, находящиеся один от другого на расстоянии шага\n",
    "- Уменьшаем шаг и повторяем п.2"
   ]
  },
  {
   "cell_type": "code",
   "execution_count": 2,
   "metadata": {
    "ExecuteTime": {
     "end_time": "2020-05-27T15:00:34.097088Z",
     "start_time": "2020-05-27T15:00:34.047223Z"
    }
   },
   "outputs": [
    {
     "name": "stdout",
     "output_type": "stream",
     "text": [
      "[3, 0, 4, 8, 6, 7, 5, 9, 1, 2]\n",
      "[0, 1, 2, 3, 4, 5, 6, 7, 8, 9]\n"
     ]
    }
   ],
   "source": [
    "# task_4\n",
    "import random\n",
    "\n",
    "size = 10\n",
    "array = [i for i in range(size)]\n",
    "random.shuffle(array)\n",
    "print(array)\n",
    "\n",
    "\n",
    "def shell_sort(array):\n",
    "    assert len(array) < 4000\n",
    "    'Массив слишком большой. Используйте другую сортировку'\n",
    "\n",
    "    def new_increment(array):\n",
    "        inc = [1, 4, 10, 23, 57, 132, 301, 701, 1750]\n",
    "        while len(array) <= inc[-1]:\n",
    "            inc.pop()\n",
    "\n",
    "        while len(inc) > 0:\n",
    "            yield inc.pop()\n",
    "\n",
    "    for increment in new_increment(array):\n",
    "        for i in range(increment, len(array)):\n",
    "            for j in range(i, increment - 1, -increment):\n",
    "                if array[j - increment] <= array[j]:\n",
    "                    break\n",
    "                array[j], array[j - increment] = array[j - increment], array[j]\n",
    "                # print(array)\n",
    "\n",
    "\n",
    "shell_sort(array)\n",
    "print(array)"
   ]
  },
  {
   "cell_type": "markdown",
   "metadata": {},
   "source": [
    "# Сортировка Хоара"
   ]
  },
  {
   "cell_type": "markdown",
   "metadata": {},
   "source": [
    "Критерии | Значение\n",
    "--- | --- \n",
    "Сложность | O(n<sup>2</sup>) / O(n log n)\n",
    "Устойчивость (стабильность) | Неустойчивая\n",
    "Тип (категория) | Обменная\n",
    "Потребление памяти |  O(n) / Не требует доп памяти"
   ]
  },
  {
   "cell_type": "markdown",
   "metadata": {},
   "source": [
    "Алгоритм быстрой сортировки:\n",
    "- Выбираем опорный элемент (pivot)\n",
    "- Сравниваем элементы массива с опорным и переставляем их так, чтобы разбить массив на 3 непрерывных отрезка:\n",
    "    - \"меньшие\" опорного\n",
    "    - \"равные\"\n",
    "    - \"большие\"\n",
    "- Дря отрезков \"меньше\" и \"больше\" рекурсивно выполнять сортировку"
   ]
  },
  {
   "cell_type": "code",
   "execution_count": 8,
   "metadata": {
    "ExecuteTime": {
     "end_time": "2020-05-29T12:49:35.372003Z",
     "start_time": "2020-05-29T12:49:35.341086Z"
    }
   },
   "outputs": [
    {
     "name": "stdout",
     "output_type": "stream",
     "text": [
      "[8, 3, 5, 9, 7, 0, 1, 2, 4, 6]\n",
      "pivot = 3\n",
      "[0, 1, 2] [3] [8, 5, 9, 7, 4, 6]\n",
      "pivot = 1\n",
      "[0] [1] [2]\n",
      "pivot = 5\n",
      "[4] [5] [8, 9, 7, 6]\n",
      "pivot = 8\n",
      "[7, 6] [8] [9]\n",
      "pivot = 7\n",
      "[6] [7] []\n",
      "[0, 1, 2, 3, 4, 5, 6, 7, 8, 9]\n"
     ]
    }
   ],
   "source": [
    "import random\n",
    "\n",
    "size = 10\n",
    "array = [i for i in range(size)]\n",
    "random.shuffle(array)\n",
    "print(array)\n",
    "\n",
    "\n",
    "# Напишем алгоритм, который требует дополнительной памяти\n",
    "def quick_sort(array):\n",
    "    \"\"\"\n",
    "    Алгоритм, который требует дополнительной памяти\n",
    "    :param array: массив для сортировки\n",
    "    :return:\n",
    "    \"\"\"\n",
    "    if len(array) <= 1:  # начнем с базового случая\n",
    "        return array\n",
    "\n",
    "    pivot = random.choice(array)\n",
    "    print(f'pivot = {pivot}')\n",
    "    # создадим 3 списка (отрезка)\n",
    "    s_arr = []  # small array\n",
    "    m_arr = []  # medium array\n",
    "    l_arr = []  # large array\n",
    "\n",
    "    for item in array:\n",
    "        if item < pivot:\n",
    "            s_arr.append(item)\n",
    "        elif item > pivot:\n",
    "            l_arr.append(item)\n",
    "        elif item == pivot:\n",
    "            m_arr.append(item)\n",
    "        else:\n",
    "            raise Exception('Случилось непредиденное')\n",
    "\n",
    "    print(s_arr, m_arr, l_arr)\n",
    "    return quick_sort(s_arr) + m_arr + quick_sort(l_arr)\n",
    "\n",
    "\n",
    "array_new = quick_sort(array)\n",
    "print(array_new)"
   ]
  },
  {
   "cell_type": "code",
   "execution_count": 9,
   "metadata": {
    "ExecuteTime": {
     "end_time": "2020-05-29T12:49:39.192303Z",
     "start_time": "2020-05-29T12:49:39.169393Z"
    }
   },
   "outputs": [
    {
     "name": "stdout",
     "output_type": "stream",
     "text": [
      "[7, 3, 6, 0, 9, 1, 5, 2, 4, 8]\n",
      "[0, 1, 2, 3, 4, 5, 6, 7, 8, 9]\n"
     ]
    }
   ],
   "source": [
    "import random\n",
    "\n",
    "size = 10\n",
    "array = [i for i in range(size)]\n",
    "random.shuffle(array)\n",
    "print(array)\n",
    "\n",
    "\n",
    "# Напишем алгоритм, который требует дополнительной памяти\n",
    "def quick_sort_no_memory(array, first, last):\n",
    "    \"\"\"\n",
    "    Алгоритм не требует дополнительной памяти\n",
    "    :param array: массив для сортировки\n",
    "    :param first: указатель на то, откуда надо начинать сортировку\n",
    "    :param last: указатель на то, откуда надо закончить сортировку\n",
    "    :return:\n",
    "    \"\"\"\n",
    "    if first >= last:\n",
    "        return array\n",
    "\n",
    "    pivot = array[random.randint(first, last)]  # опорный элемент выбирается в массиве от first до last\n",
    "    i, j = first, last\n",
    "\n",
    "    while i <= j:\n",
    "        while array[i] < pivot:\n",
    "            i += 1\n",
    "        while array[j] > pivot:\n",
    "            j -= 1\n",
    "\n",
    "        if i <= j:\n",
    "            array[i], array[j] = array[j], array[i]\n",
    "            i, j = i + 1, j - 1\n",
    "\n",
    "    quick_sort_no_memory(array=array, first=first, last=j)\n",
    "    quick_sort_no_memory(array=array, first=i, last=last)\n",
    "\n",
    "\n",
    "quick_sort_no_memory(array=array, first=0, last=len(array) - 1)\n",
    "print(array)\n"
   ]
  },
  {
   "cell_type": "markdown",
   "metadata": {},
   "source": [
    "# Разворот массива. Сортировка сложных структур"
   ]
  },
  {
   "cell_type": "code",
   "execution_count": 12,
   "metadata": {
    "ExecuteTime": {
     "end_time": "2020-05-29T13:04:59.314406Z",
     "start_time": "2020-05-29T13:04:59.302438Z"
    }
   },
   "outputs": [
    {
     "name": "stdout",
     "output_type": "stream",
     "text": [
      "[6, 9, 0, 8, 2, 5, 1, 7, 4, 3]\n",
      "[3, 4, 7, 1, 5, 2, 8, 0, 9, 6]\n"
     ]
    }
   ],
   "source": [
    "import random\n",
    "\n",
    "size = 10\n",
    "array = [i for i in range(size)]\n",
    "random.shuffle(array)\n",
    "print(array)\n",
    "\n",
    "\n",
    "def reverse(array):\n",
    "    \"\"\"\n",
    "    Функция разворачивает массив\n",
    "    :param array:\n",
    "    :return:\n",
    "    \"\"\"\n",
    "    for i in range(len(array) // 2):  # цикл проходит от начала массива, до середины\n",
    "        array[i], array[len(array) - i - 1] = array[len(array) - i - 1], array[i]\n",
    "\n",
    "\n",
    "reverse(array)\n",
    "print(array)"
   ]
  },
  {
   "cell_type": "code",
   "execution_count": 13,
   "metadata": {
    "ExecuteTime": {
     "end_time": "2020-05-29T13:05:01.390857Z",
     "start_time": "2020-05-29T13:05:01.377897Z"
    }
   },
   "outputs": [
    {
     "name": "stdout",
     "output_type": "stream",
     "text": [
      "[6, 9, 0, 8, 2, 5, 1, 7, 4, 3]\n"
     ]
    }
   ],
   "source": [
    "array.reverse()\n",
    "print(array)"
   ]
  },
  {
   "cell_type": "code",
   "execution_count": 14,
   "metadata": {
    "ExecuteTime": {
     "end_time": "2020-05-29T13:05:03.132195Z",
     "start_time": "2020-05-29T13:05:03.122236Z"
    }
   },
   "outputs": [
    {
     "name": "stdout",
     "output_type": "stream",
     "text": [
      "[0, 1, 2, 3, 4, 5, 6, 7, 8, 9]\n"
     ]
    }
   ],
   "source": [
    "array.sort()\n",
    "print(array)"
   ]
  },
  {
   "cell_type": "code",
   "execution_count": 15,
   "metadata": {
    "ExecuteTime": {
     "end_time": "2020-05-29T13:05:40.946465Z",
     "start_time": "2020-05-29T13:05:40.933502Z"
    }
   },
   "outputs": [
    {
     "name": "stdout",
     "output_type": "stream",
     "text": [
      "[9, 8, 7, 6, 5, 4, 3, 2, 1, 0]\n"
     ]
    }
   ],
   "source": [
    "array.sort(reverse=True)\n",
    "print(array)"
   ]
  },
  {
   "cell_type": "code",
   "execution_count": 24,
   "metadata": {
    "ExecuteTime": {
     "end_time": "2020-05-29T17:42:26.047236Z",
     "start_time": "2020-05-29T17:42:26.037268Z"
    }
   },
   "outputs": [
    {
     "name": "stdout",
     "output_type": "stream",
     "text": [
      "**************************************************\n",
      "(7, 72, 17, 40, 25, 10, 82, 29, 3, 7)\n"
     ]
    }
   ],
   "source": [
    "print('*'*50)\n",
    "t = tuple(random.randint(0,100) for _ in range(size))\n",
    "print(t)"
   ]
  },
  {
   "cell_type": "code",
   "execution_count": 25,
   "metadata": {
    "ExecuteTime": {
     "end_time": "2020-05-29T17:42:26.764741Z",
     "start_time": "2020-05-29T17:42:26.754767Z"
    }
   },
   "outputs": [
    {
     "name": "stdout",
     "output_type": "stream",
     "text": [
      "(82, 72, 40, 29, 25, 17, 10, 7, 7, 3)\n"
     ]
    }
   ],
   "source": [
    "# t.sort()\n",
    "t = tuple(sorted(t, reverse=True))\n",
    "print(t)"
   ]
  },
  {
   "cell_type": "markdown",
   "metadata": {
    "ExecuteTime": {
     "end_time": "2020-05-29T17:43:07.464536Z",
     "start_time": "2020-05-29T17:43:07.437607Z"
    }
   },
   "source": [
    "# Алгоритм сортировки Timsort"
   ]
  },
  {
   "cell_type": "markdown",
   "metadata": {},
   "source": [
    "Критерии | Значение\n",
    "--- | --- \n",
    "Сложность | O(n log n)\n",
    "Устойчивость (стабильность) | Устойчивая\n",
    "Тип (категория) | Гибридная (Вставками + Слиянием)\n",
    "Потребление памяти |  O(n)"
   ]
  },
  {
   "cell_type": "markdown",
   "metadata": {
    "ExecuteTime": {
     "end_time": "2020-05-29T17:47:02.830432Z",
     "start_time": "2020-05-29T17:47:02.819460Z"
    }
   },
   "source": [
    "**Продолжим**"
   ]
  },
  {
   "cell_type": "code",
   "execution_count": 28,
   "metadata": {
    "ExecuteTime": {
     "end_time": "2020-05-29T17:54:32.316482Z",
     "start_time": "2020-05-29T17:54:32.244703Z"
    }
   },
   "outputs": [
    {
     "name": "stdout",
     "output_type": "stream",
     "text": [
      "[Person(name='Vasya', age=25), Person(name='Kolya', age=30), Person(name='Olya', age=23)]\n",
      "[Person(name='Olya', age=23), Person(name='Vasya', age=25), Person(name='Kolya', age=30)]\n"
     ]
    }
   ],
   "source": [
    "# task_8\n",
    "# class Person\n",
    "\n",
    "from collections import namedtuple\n",
    "from operator import attrgetter\n",
    "\n",
    "Person = namedtuple('Person', 'name, age')\n",
    "\n",
    "p_1 = Person('Vasya', 25)\n",
    "p_2 = Person('Kolya', 30)\n",
    "p_3 = Person('Olya', 23)\n",
    "\n",
    "people = [p_1, p_2, p_3]\n",
    "print(people)\n",
    "\n",
    "\n",
    "def by_age(person):\n",
    "    return person.age\n",
    "\n",
    "\n",
    "result = sorted(people, key=attrgetter('age'))\n",
    "print(result)"
   ]
  },
  {
   "cell_type": "code",
   "execution_count": null,
   "metadata": {},
   "outputs": [],
   "source": []
  }
 ],
 "metadata": {
  "kernelspec": {
   "display_name": "Python 3",
   "language": "python",
   "name": "python3"
  },
  "language_info": {
   "codemirror_mode": {
    "name": "ipython",
    "version": 3
   },
   "file_extension": ".py",
   "mimetype": "text/x-python",
   "name": "python",
   "nbconvert_exporter": "python",
   "pygments_lexer": "ipython3",
   "version": "3.7.6"
  },
  "toc": {
   "base_numbering": 1,
   "nav_menu": {},
   "number_sections": true,
   "sideBar": true,
   "skip_h1_title": false,
   "title_cell": "Table of Contents",
   "title_sidebar": "Contents",
   "toc_cell": true,
   "toc_position": {},
   "toc_section_display": true,
   "toc_window_display": false
  }
 },
 "nbformat": 4,
 "nbformat_minor": 4
}
