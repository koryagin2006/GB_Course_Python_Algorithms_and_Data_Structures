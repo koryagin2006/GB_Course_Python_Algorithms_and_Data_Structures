{
 "cells": [
  {
   "cell_type": "markdown",
   "metadata": {},
   "source": [
    "Для каждого упражнения написать программную реализацию.\n",
    "\n",
    "    Код пишите в файлах с расширением .py в кодировке UTF-8 (в PyCharm работает по умолчанию). Каждую задачу необходимо сохранять в отдельный файл. Рекомендуем использовать английские имена, например, les_7_task_1, les_7_task_2, и т.д.\n",
    "    Для оценки «Отлично» необходимо выполнить все задания.    "
   ]
  },
  {
   "cell_type": "code",
   "execution_count": 4,
   "metadata": {
    "ExecuteTime": {
     "end_time": "2020-05-29T18:05:33.924600Z",
     "start_time": "2020-05-29T18:05:33.745080Z"
    }
   },
   "outputs": [
    {
     "name": "stdout",
     "output_type": "stream",
     "text": [
      "[52, 58, 72, 98, 97, 86, 47, 38, 97, 4]\n",
      "[4, 38, 47, 52, 58, 72, 86, 97, 97, 98]\n"
     ]
    }
   ],
   "source": [
    "# les_7_task_1\n",
    "\"\"\"\n",
    " Отсортируйте по убыванию методом пузырька одномерный целочисленный массив, \n",
    " заданный случайными числами на  промежутке [-100; 100). \n",
    " Выведите на экран исходный и отсортированный массивы.\n",
    "    Примечания:\n",
    "    a. алгоритм сортировки должен быть в виде функции, которая принимает на вход массив данных,\n",
    "    b. постарайтесь сделать алгоритм умнее, но помните, что у вас должна остаться сортировка пузырьком. \n",
    "    Улучшенные версии сортировки, например, расчёской, шейкерная и другие в зачёт не идут.\n",
    "\"\"\"\"\"\n",
    "\n",
    "import random\n",
    "\n",
    "size = 10  # размер сортируемого списка\n",
    "array_0 = list(random.randint(0, 100) for _ in range(size))\n",
    "print(array_0)\n",
    "\n",
    "\n",
    "def bubble_sort(array):\n",
    "    n = 1\n",
    "    while n < len(array):\n",
    "        for i in range(len(array) - n):\n",
    "            if array[i] > array[i + 1]:\n",
    "                array[i], array[i + 1] = array[i + 1], array[i]\n",
    "        n += 1\n",
    "    #     print(array)\n",
    "\n",
    "\n",
    "bubble_sort(array_0)\n",
    "print(array_0)"
   ]
  },
  {
   "cell_type": "markdown",
   "metadata": {},
   "source": [
    "2. Отсортируйте по возрастанию методом слияния одномерный вещественный массив, заданный случайными числами на промежутке [0; 50). Выведите на экран исходный и отсортированный массивы."
   ]
  },
  {
   "cell_type": "code",
   "execution_count": null,
   "metadata": {},
   "outputs": [],
   "source": []
  },
  {
   "cell_type": "code",
   "execution_count": 8,
   "metadata": {
    "ExecuteTime": {
     "end_time": "2020-05-29T18:25:43.100289Z",
     "start_time": "2020-05-29T18:25:43.088342Z"
    }
   },
   "outputs": [
    {
     "name": "stdout",
     "output_type": "stream",
     "text": [
      "size = 47\n",
      "[30, 43, 15, 2, 28, 12, 35, 37, 34, 41, 8, 13, 31, 21, 42, 10, 1, 26, 4, 40, 20, 3, 14, 44, 36, 0, 22, 23, 6, 39, 32, 46, 45, 38, 16, 27, 19, 7, 11, 24, 25, 29, 17, 18, 9, 33, 5]\n"
     ]
    }
   ],
   "source": [
    "# les_7_task_3\n",
    "\"\"\"\n",
    "Массив размером 2m + 1, где m — натуральное число, заполнен случайным образом. \n",
    "Найдите в массиве медиану. Медианой называется элемент ряда, делящий его на две равные части: \n",
    "в одной находятся элементы, которые не меньше медианы, в другой — не больше медианы.\n",
    "\n",
    "Примечание: задачу можно решить без сортировки исходного массива. \n",
    "Но если это слишком сложно, используйте метод сортировки, который не рассматривался \n",
    "на уроках (сортировка слиянием также недопустима).\n",
    "\"\"\"\"\"\n",
    "import random\n",
    "\n",
    "m = random.randint(0, 50)\n",
    "size = 2 * m + 1\n",
    "print(f'size = {size}')\n",
    "\n",
    "array = [i for i in range(size)]\n",
    "random.shuffle(array)\n",
    "print(array)"
   ]
  },
  {
   "cell_type": "code",
   "execution_count": null,
   "metadata": {},
   "outputs": [],
   "source": []
  }
 ],
 "metadata": {
  "kernelspec": {
   "display_name": "Python 3",
   "language": "python",
   "name": "python3"
  },
  "language_info": {
   "codemirror_mode": {
    "name": "ipython",
    "version": 3
   },
   "file_extension": ".py",
   "mimetype": "text/x-python",
   "name": "python",
   "nbconvert_exporter": "python",
   "pygments_lexer": "ipython3",
   "version": "3.7.6"
  },
  "toc": {
   "base_numbering": 1,
   "nav_menu": {},
   "number_sections": true,
   "sideBar": true,
   "skip_h1_title": false,
   "title_cell": "Table of Contents",
   "title_sidebar": "Contents",
   "toc_cell": false,
   "toc_position": {},
   "toc_section_display": true,
   "toc_window_display": false
  }
 },
 "nbformat": 4,
 "nbformat_minor": 4
}
