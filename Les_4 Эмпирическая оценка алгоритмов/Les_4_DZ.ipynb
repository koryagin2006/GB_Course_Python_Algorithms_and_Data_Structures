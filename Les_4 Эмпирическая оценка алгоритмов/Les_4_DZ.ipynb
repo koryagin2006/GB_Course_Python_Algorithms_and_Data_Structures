{
 "cells": [
  {
   "cell_type": "markdown",
   "metadata": {
    "Collapsed": "false"
   },
   "source": [
    "## les_3_task_2"
   ]
  },
  {
   "cell_type": "code",
   "execution_count": 8,
   "metadata": {
    "Collapsed": "false"
   },
   "outputs": [
    {
     "name": "stdout",
     "output_type": "stream",
     "text": [
      "\n"
     ]
    }
   ],
   "source": [
    "from random import randint\n",
    "import cProfile\n",
    "\n",
    "'''\n",
    "les_3_task_2\n",
    "2. Во втором массиве сохранить индексы четных элементов первого массива. \n",
    "Например, если дан массив со значениями 8, 3, 15, 6, 4, 2, \n",
    "второй массив надо заполнить значениями 0, 3, 4, 5 (помните, что индексация начинается с нуля), \n",
    "т. к. именно в этих позициях первого массива стоят четные числа.\n",
    "'''\n",
    "\n",
    "\n",
    "def save_index(n):\n",
    "    list_1 = [randint(1, 100) for _ in range(n)]\n",
    "    # print(f'list_1 {list_1}')\n",
    "\n",
    "    list_2 = []\n",
    "    for i in enumerate(list_1):\n",
    "        if i[1] % 2 == 0:\n",
    "            list_2.append(i[0])\n",
    "    # print(f'list_2 {list_2}')\n",
    "\n",
    "\n",
    "# cProfile.run('save_index(100)')\n",
    "'''\n",
    "   ncalls  tottime  percall  cumtime  percall filename:lineno(function)\n",
    "        1    0.000    0.000    0.000    0.000 <string>:1(<module>)\n",
    "        1    0.000    0.000    0.000    0.000 les_3_task_2.py:13(save_index)\n",
    "        1    0.000    0.000    0.000    0.000 les_3_task_2.py:14(<listcomp>)\n",
    "      100    0.000    0.000    0.000    0.000 random.py:174(randrange)\n",
    "      100    0.000    0.000    0.000    0.000 random.py:218(randint)\n",
    "      100    0.000    0.000    0.000    0.000 random.py:224(_randbelow)\n",
    "        1    0.000    0.000    0.000    0.000 {built-in method builtins.exec}\n",
    "       60    0.000    0.000    0.000    0.000 {method 'append' of 'list' objects}\n",
    "      100    0.000    0.000    0.000    0.000 {method 'bit_length' of 'int' objects}\n",
    "        1    0.000    0.000    0.000    0.000 {method 'disable' of '_lsprof.Profiler' objects}\n",
    "      124    0.000    0.000    0.000    0.000 {method 'getrandbits' of '_random.Random' objects}\n",
    "\n",
    "\"les_3_task_2.save_index(10)\"\n",
    "1000 loops, best of 5: 18.3 usec per loop\n",
    "\n",
    "\"les_3_task_2.save_index(20)\"\n",
    "1000 loops, best of 5: 45.6 usec per loop\n",
    "\n",
    "\"les_3_task_2.save_index(100)\"\n",
    "1000 loops, best of 5: 186 usec per loop\n",
    "\n",
    "\"les_3_task_2.save_index(500)\"\n",
    "1000 loops, best of 5: 1.03 msec per loop\n",
    "'''\n",
    "print()"
   ]
  },
  {
   "cell_type": "markdown",
   "metadata": {
    "Collapsed": "false"
   },
   "source": [
    "## les_2_task_2\n"
   ]
  },
  {
   "cell_type": "code",
   "execution_count": 6,
   "metadata": {
    "Collapsed": "false"
   },
   "outputs": [
    {
     "name": "stdout",
     "output_type": "stream",
     "text": [
      "\n"
     ]
    }
   ],
   "source": [
    "import cProfile\n",
    "\n",
    "'''\n",
    "les_2_task_2\n",
    "Посчитать четные и нечетные цифры введенного натурального числа. \n",
    "Например, если введено число `34560`, в нем 3 четные цифры (`4`, `6` и `0`) и 2 нечетные (`3` и `5`).\n",
    "'''\n",
    "\n",
    "\n",
    "def parity_or_not(n):\n",
    "    parity = 0\n",
    "    non_parity = 0\n",
    "    for i in str(n):\n",
    "        i = int(i)\n",
    "        if i % 2 == 0:\n",
    "            parity += 1\n",
    "        else:\n",
    "            non_parity += 1\n",
    "\n",
    "    # print(f'Число чётных чисел = {parity}\\nЧисло нечётных чисел = {non_parity}')\n",
    "\n",
    "\n",
    "# cProfile.run('parity_or_not(1000)')\n",
    "'''\n",
    "   ncalls  tottime  percall  cumtime  percall filename:lineno(function)\n",
    "        1    0.000    0.000    0.000    0.000 <string>:1(<module>)\n",
    "        1    0.000    0.000    0.000    0.000 les_3_task_2.py:13(parity_or_not)\n",
    "        1    0.000    0.000    0.000    0.000 {built-in method builtins.exec}\n",
    "        1    0.000    0.000    0.000    0.000 {method 'disable' of '_lsprof.Profiler' objects}\n",
    "\n",
    "\n",
    "\"les_3_task_2.parity_or_not(123456)\"\n",
    "1000 loops, best of 5: 4.28 usec per loop\n",
    "\n",
    "\"les_3_task_2.parity_or_not(1234567)\"\n",
    "1000 loops, best of 5: 3.47 usec per loop\n",
    "\n",
    "\"les_3_task_2.parity_or_not(12345678)\"\n",
    "1000 loops, best of 5: 3.33 usec per loop\n",
    "\n",
    "'''\n",
    "print()"
   ]
  },
  {
   "cell_type": "markdown",
   "metadata": {
    "Collapsed": "false"
   },
   "source": [
    "## les_2_task_3"
   ]
  },
  {
   "cell_type": "code",
   "execution_count": 7,
   "metadata": {
    "Collapsed": "false"
   },
   "outputs": [
    {
     "name": "stdout",
     "output_type": "stream",
     "text": [
      "\n"
     ]
    }
   ],
   "source": [
    "import cProfile\n",
    "\n",
    "'''\n",
    "les_2_task_3\n",
    "Сформировать из введенного числа обратное по порядку входящих в него цифр и вывести на экран. \n",
    "Например, если введено число `3486`, надо вывести `6843`.\n",
    "'''\n",
    "\n",
    "\n",
    "def revert_number(n):\n",
    "    revert = \"\"\n",
    "    for i in str(n):\n",
    "        revert = i + revert\n",
    "\n",
    "    # print(revert)\n",
    "\n",
    "\n",
    "# cProfile.run('revert_number(123456789)')\n",
    "'''\n",
    "   ncalls  tottime  percall  cumtime  percall filename:lineno(function)\n",
    "        1    0.000    0.000    0.000    0.000 <string>:1(<module>)\n",
    "        1    0.000    0.000    0.000    0.000 les_3_task_3.py:10(revert_number)\n",
    "        1    0.000    0.000    0.000    0.000 {built-in method builtins.exec}\n",
    "        1    0.000    0.000    0.000    0.000 {method 'disable' of '_lsprof.Profiler' objects}\n",
    "'''\n",
    "\n",
    "'''\n",
    "\"les_3_task_3.revert_number(10)\"\n",
    "1000 loops, best of 5: 755 nsec per loop\n",
    "\n",
    "\"les_3_task_3.revert_number(1234)\"\n",
    "1000 loops, best of 5: 869 nsec per loop\n",
    "\n",
    "\"les_3_task_3.revert_number(123456789)\"\n",
    "1000 loops, best of 5: 2.39 usec per loop\n",
    "'''\n",
    "print()"
   ]
  },
  {
   "cell_type": "code",
   "execution_count": null,
   "metadata": {
    "Collapsed": "false"
   },
   "outputs": [],
   "source": []
  }
 ],
 "metadata": {
  "kernelspec": {
   "display_name": "Python 3",
   "language": "python",
   "name": "python3"
  },
  "language_info": {
   "codemirror_mode": {
    "name": "ipython",
    "version": 3
   },
   "file_extension": ".py",
   "mimetype": "text/x-python",
   "name": "python",
   "nbconvert_exporter": "python",
   "pygments_lexer": "ipython3",
   "version": "3.7.6"
  }
 },
 "nbformat": 4,
 "nbformat_minor": 4
}
