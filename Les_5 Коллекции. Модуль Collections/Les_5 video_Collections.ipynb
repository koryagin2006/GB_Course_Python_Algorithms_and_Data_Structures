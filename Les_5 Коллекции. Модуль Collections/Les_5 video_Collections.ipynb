{
 "cells": [
  {
   "cell_type": "markdown",
   "metadata": {},
   "source": [
    "# Урок 5. Коллекции. Модуль Collections"
   ]
  },
  {
   "cell_type": "markdown",
   "metadata": {
    "Collapsed": "true",
    "heading_collapsed": true
   },
   "source": [
    "### `collections.Counter`\n",
    "\\- подкласс словаря в python (`dict`). Неупорядоченная коллекция пар \"ключ-значение\", где значение - частота вхлждения ключа"
   ]
  },
  {
   "cell_type": "code",
   "execution_count": 1,
   "metadata": {
    "Collapsed": "false",
    "ExecuteTime": {
     "end_time": "2021-03-09T16:47:52.127225Z",
     "start_time": "2021-03-09T16:47:52.121239Z"
    },
    "hidden": true
   },
   "outputs": [],
   "source": [
    "from pprint import pprint\n",
    "from collections import Counter"
   ]
  },
  {
   "cell_type": "code",
   "execution_count": 3,
   "metadata": {
    "Collapsed": "false",
    "ExecuteTime": {
     "end_time": "2021-03-09T16:52:53.002085Z",
     "start_time": "2021-03-09T16:52:52.987160Z"
    },
    "hidden": true
   },
   "outputs": [
    {
     "name": "stdout",
     "output_type": "stream",
     "text": [
      "Counter()\n",
      "Counter({'a': 5, 'b': 2, 'r': 2, 'k': 1, 'd': 1})\n",
      "Counter({'blue': 4, 'red': 2})\n",
      "Counter({'dogs': 5, 'cats': 4})\n"
     ]
    }
   ],
   "source": [
    "a = Counter()\n",
    "b = Counter('abrakadabra')\n",
    "c = Counter({'red': 2, 'blue': 4})\n",
    "d = Counter(cats=4, dogs=5)\n",
    " \n",
    "print(a, b, c, d, sep='\\n')"
   ]
  },
  {
   "cell_type": "markdown",
   "metadata": {
    "Collapsed": "false",
    "ExecuteTime": {
     "end_time": "2021-03-09T16:52:54.263274Z",
     "start_time": "2021-03-09T16:52:54.240336Z"
    },
    "hidden": true
   },
   "source": [
    "##### Вывод по индексу"
   ]
  },
  {
   "cell_type": "code",
   "execution_count": 4,
   "metadata": {
    "Collapsed": "false",
    "ExecuteTime": {
     "end_time": "2021-03-09T16:52:54.263274Z",
     "start_time": "2021-03-09T16:52:54.240336Z"
    },
    "hidden": true
   },
   "outputs": [
    {
     "data": {
      "text/plain": [
       "0"
      ]
     },
     "execution_count": 4,
     "metadata": {},
     "output_type": "execute_result"
    }
   ],
   "source": [
    "b['z']\n",
    "# Т.е. символ 'z' встречается в коллекции 0 раз"
   ]
  },
  {
   "cell_type": "code",
   "execution_count": 5,
   "metadata": {
    "Collapsed": "false",
    "ExecuteTime": {
     "end_time": "2021-03-09T16:52:57.380912Z",
     "start_time": "2021-03-09T16:52:57.372939Z"
    },
    "hidden": true
   },
   "outputs": [
    {
     "data": {
      "text/plain": [
       "Counter({'a': 5, 'b': 2, 'r': 2, 'k': 1, 'd': 1, 'z': 0})"
      ]
     },
     "execution_count": 5,
     "metadata": {},
     "output_type": "execute_result"
    }
   ],
   "source": [
    "b['z'] = 0\n",
    "b"
   ]
  },
  {
   "cell_type": "markdown",
   "metadata": {
    "Collapsed": "false",
    "ExecuteTime": {
     "end_time": "2021-03-09T16:53:25.222214Z",
     "start_time": "2021-03-09T16:53:25.207254Z"
    },
    "hidden": true
   },
   "source": [
    "##### Метод `elements`"
   ]
  },
  {
   "cell_type": "code",
   "execution_count": 6,
   "metadata": {
    "Collapsed": "false",
    "ExecuteTime": {
     "end_time": "2021-03-09T16:53:25.222214Z",
     "start_time": "2021-03-09T16:53:25.207254Z"
    },
    "hidden": true
   },
   "outputs": [
    {
     "data": {
      "text/plain": [
       "['a', 'a', 'a', 'a', 'a', 'b', 'b', 'r', 'r', 'k', 'd']"
      ]
     },
     "execution_count": 6,
     "metadata": {},
     "output_type": "execute_result"
    }
   ],
   "source": [
    "list(b.elements())  # выводит только те значения, встречаемость > 0"
   ]
  },
  {
   "cell_type": "markdown",
   "metadata": {
    "Collapsed": "false",
    "ExecuteTime": {
     "end_time": "2021-03-09T16:55:03.355926Z",
     "start_time": "2021-03-09T16:55:03.347948Z"
    },
    "hidden": true
   },
   "source": [
    "##### Получить наиболее часто встречающиеся элементы"
   ]
  },
  {
   "cell_type": "code",
   "execution_count": 8,
   "metadata": {
    "Collapsed": "false",
    "ExecuteTime": {
     "end_time": "2021-03-09T16:55:03.355926Z",
     "start_time": "2021-03-09T16:55:03.347948Z"
    },
    "hidden": true
   },
   "outputs": [
    {
     "data": {
      "text/plain": [
       "[('a', 5), ('b', 2)]"
      ]
     },
     "execution_count": 8,
     "metadata": {},
     "output_type": "execute_result"
    }
   ],
   "source": [
    "b.most_common(n=2)"
   ]
  },
  {
   "cell_type": "markdown",
   "metadata": {
    "Collapsed": "false",
    "ExecuteTime": {
     "end_time": "2021-03-09T16:56:29.494051Z",
     "start_time": "2021-03-09T16:56:29.481087Z"
    },
    "hidden": true
   },
   "source": [
    "##### Вычитание из коллекции `g`, коллекции `f`"
   ]
  },
  {
   "cell_type": "code",
   "execution_count": 9,
   "metadata": {
    "Collapsed": "false",
    "ExecuteTime": {
     "end_time": "2021-03-09T16:56:29.494051Z",
     "start_time": "2021-03-09T16:56:29.481087Z"
    },
    "hidden": true
   },
   "outputs": [
    {
     "data": {
      "text/plain": [
       "Counter({'a': 3, 'b': 4, 'c': -5, 'd': 2})"
      ]
     },
     "execution_count": 9,
     "metadata": {},
     "output_type": "execute_result"
    }
   ],
   "source": [
    "g = Counter(a=4, b=6, c=-2, d=0)\n",
    "f = Counter(a=1, b=2, c=3, d=-2)\n",
    "g.subtract(f)\n",
    "g"
   ]
  },
  {
   "cell_type": "markdown",
   "metadata": {
    "hidden": true
   },
   "source": [
    "##### Получение словаря или множества"
   ]
  },
  {
   "cell_type": "code",
   "execution_count": 11,
   "metadata": {
    "Collapsed": "false",
    "ExecuteTime": {
     "end_time": "2021-03-09T17:01:05.689785Z",
     "start_time": "2021-03-09T17:01:05.679811Z"
    },
    "hidden": true
   },
   "outputs": [
    {
     "data": {
      "text/plain": [
       "{'a', 'b', 'c', 'd'}"
      ]
     },
     "metadata": {},
     "output_type": "display_data"
    },
    {
     "data": {
      "text/plain": [
       "{'a': 3, 'b': 4, 'c': -5, 'd': 2}"
      ]
     },
     "metadata": {},
     "output_type": "display_data"
    }
   ],
   "source": [
    "display(set(g), dict(g))"
   ]
  },
  {
   "cell_type": "markdown",
   "metadata": {
    "hidden": true
   },
   "source": [
    "##### Очистка колекции"
   ]
  },
  {
   "cell_type": "code",
   "execution_count": 12,
   "metadata": {
    "Collapsed": "false",
    "ExecuteTime": {
     "end_time": "2021-03-09T17:02:09.259790Z",
     "start_time": "2021-03-09T17:02:09.250872Z"
    },
    "hidden": true
   },
   "outputs": [
    {
     "data": {
      "text/plain": [
       "Counter()"
      ]
     },
     "execution_count": 12,
     "metadata": {},
     "output_type": "execute_result"
    }
   ],
   "source": [
    "g.clear()\n",
    "g"
   ]
  },
  {
   "cell_type": "markdown",
   "metadata": {
    "Collapsed": "false",
    "hidden": true
   },
   "source": [
    "##### С коллекциями можно производить математические и логические операции"
   ]
  },
  {
   "cell_type": "code",
   "execution_count": 14,
   "metadata": {
    "Collapsed": "false",
    "ExecuteTime": {
     "end_time": "2021-03-09T18:17:45.318005Z",
     "start_time": "2021-03-09T18:17:45.312020Z"
    },
    "hidden": true
   },
   "outputs": [],
   "source": [
    "x = Counter(a=3, b=1)\n",
    "y = Counter(a=1, b=2)"
   ]
  },
  {
   "cell_type": "code",
   "execution_count": 18,
   "metadata": {
    "Collapsed": "false",
    "ExecuteTime": {
     "end_time": "2021-03-09T18:18:54.529059Z",
     "start_time": "2021-03-09T18:18:54.521078Z"
    },
    "hidden": true
   },
   "outputs": [
    {
     "data": {
      "text/plain": [
       "Counter({'a': 4, 'b': 3})"
      ]
     },
     "execution_count": 18,
     "metadata": {},
     "output_type": "execute_result"
    }
   ],
   "source": [
    "x + y"
   ]
  },
  {
   "cell_type": "code",
   "execution_count": 19,
   "metadata": {
    "Collapsed": "false",
    "ExecuteTime": {
     "end_time": "2021-03-09T18:18:56.510572Z",
     "start_time": "2021-03-09T18:18:56.503591Z"
    },
    "hidden": true
   },
   "outputs": [
    {
     "data": {
      "text/plain": [
       "Counter({'a': 2})"
      ]
     },
     "execution_count": 19,
     "metadata": {},
     "output_type": "execute_result"
    }
   ],
   "source": [
    "x - y"
   ]
  },
  {
   "cell_type": "code",
   "execution_count": 20,
   "metadata": {
    "Collapsed": "false",
    "ExecuteTime": {
     "end_time": "2021-03-09T18:19:30.989069Z",
     "start_time": "2021-03-09T18:19:30.974135Z"
    },
    "hidden": true
   },
   "outputs": [
    {
     "data": {
      "text/plain": [
       "Counter({'a': 1, 'b': 1})"
      ]
     },
     "execution_count": 20,
     "metadata": {},
     "output_type": "execute_result"
    }
   ],
   "source": [
    "x & y  # выдает значения, кторые есть и в первом и во втором коде"
   ]
  },
  {
   "cell_type": "code",
   "execution_count": 21,
   "metadata": {
    "Collapsed": "false",
    "ExecuteTime": {
     "end_time": "2021-03-09T18:19:32.326333Z",
     "start_time": "2021-03-09T18:19:32.320350Z"
    },
    "hidden": true
   },
   "outputs": [
    {
     "data": {
      "text/plain": [
       "Counter({'a': 3, 'b': 2})"
      ]
     },
     "execution_count": 21,
     "metadata": {},
     "output_type": "execute_result"
    }
   ],
   "source": [
    "x | y  # выдает значения, кторые есть или в первом или во втором коде"
   ]
  },
  {
   "cell_type": "markdown",
   "metadata": {
    "Collapsed": "false",
    "hidden": true
   },
   "source": [
    "##### Унарное сложение (вычитание)"
   ]
  },
  {
   "cell_type": "code",
   "execution_count": 23,
   "metadata": {
    "Collapsed": "false",
    "ExecuteTime": {
     "end_time": "2021-03-09T18:20:11.729726Z",
     "start_time": "2021-03-09T18:20:11.721746Z"
    },
    "hidden": true
   },
   "outputs": [],
   "source": [
    "z = Counter(a=2, b=-4)"
   ]
  },
  {
   "cell_type": "code",
   "execution_count": 24,
   "metadata": {
    "Collapsed": "false",
    "ExecuteTime": {
     "end_time": "2021-03-09T18:20:12.795369Z",
     "start_time": "2021-03-09T18:20:12.787391Z"
    },
    "hidden": true
   },
   "outputs": [
    {
     "data": {
      "text/plain": [
       "Counter({'a': 2})"
      ]
     },
     "execution_count": 24,
     "metadata": {},
     "output_type": "execute_result"
    }
   ],
   "source": [
    "+z  # оставляет только положительные элементы"
   ]
  },
  {
   "cell_type": "code",
   "execution_count": 25,
   "metadata": {
    "Collapsed": "false",
    "ExecuteTime": {
     "end_time": "2021-03-09T18:20:23.276558Z",
     "start_time": "2021-03-09T18:20:23.262598Z"
    },
    "hidden": true
   },
   "outputs": [
    {
     "data": {
      "text/plain": [
       "Counter({'b': 4})"
      ]
     },
     "execution_count": 25,
     "metadata": {},
     "output_type": "execute_result"
    }
   ],
   "source": [
    "-z  # оставляет только отрицателные элементы и меняет их знак"
   ]
  },
  {
   "cell_type": "markdown",
   "metadata": {
    "Collapsed": "false"
   },
   "source": [
    "### `collections.Deque`\n",
    "\\- очередь. Очередь имеет свойство самоорганизации. 2 свойство - произвольное расположение, а порядок поддерживается за счет связей. Пример - очередь в поликлинике."
   ]
  },
  {
   "cell_type": "code",
   "execution_count": 26,
   "metadata": {
    "Collapsed": "false",
    "ExecuteTime": {
     "end_time": "2021-03-09T18:24:25.125902Z",
     "start_time": "2021-03-09T18:24:25.117924Z"
    }
   },
   "outputs": [],
   "source": [
    "from collections import deque"
   ]
  },
  {
   "cell_type": "markdown",
   "metadata": {
    "Collapsed": "false"
   },
   "source": [
    "##### Внутрь очереди можно передать все, что можно обработать чиклом `for`"
   ]
  },
  {
   "cell_type": "code",
   "execution_count": 28,
   "metadata": {
    "Collapsed": "false",
    "ExecuteTime": {
     "end_time": "2021-03-09T18:24:47.435630Z",
     "start_time": "2021-03-09T18:24:47.426655Z"
    }
   },
   "outputs": [
    {
     "name": "stdout",
     "output_type": "stream",
     "text": [
      "deque([])\n",
      "deque(['a', 'b', 'c', 'd', 'e', 'f'])\n",
      "deque([1, 2, 3, 4, 5])\n"
     ]
    }
   ],
   "source": [
    "a = deque()\n",
    "b = deque('abcdef')\n",
    "c = deque([1, 2, 3, 4, 5])\n",
    "\n",
    "print(a,b,c, sep='\\n')"
   ]
  },
  {
   "cell_type": "code",
   "execution_count": 29,
   "metadata": {
    "Collapsed": "false",
    "ExecuteTime": {
     "end_time": "2021-03-09T18:28:58.669789Z",
     "start_time": "2021-03-09T18:28:58.661810Z"
    }
   },
   "outputs": [
    {
     "name": "stdout",
     "output_type": "stream",
     "text": [
      "deque(['d', 'e', 'f'], maxlen=3)\n",
      "deque([2, 3, 4, 5], maxlen=4)\n"
     ]
    }
   ],
   "source": [
    "b = deque('abcdef', maxlen=3)\n",
    "c = deque([1, 2, 3, 4, 5], maxlen=4)\n",
    "\n",
    "print(b, c, sep='\\n')"
   ]
  },
  {
   "cell_type": "code",
   "execution_count": 30,
   "metadata": {
    "Collapsed": "false",
    "ExecuteTime": {
     "end_time": "2021-03-09T18:29:00.923433Z",
     "start_time": "2021-03-09T18:29:00.916451Z"
    }
   },
   "outputs": [
    {
     "name": "stdout",
     "output_type": "stream",
     "text": [
      "deque(['d', 'e', 'f'], maxlen=3)\n",
      "deque([], maxlen=4)\n"
     ]
    }
   ],
   "source": [
    "c.clear()\n",
    "print(b, c, sep='\\n')"
   ]
  },
  {
   "cell_type": "markdown",
   "metadata": {
    "Collapsed": "false"
   },
   "source": [
    "##### Добавление элементов в начало или конец очереди. `append()` / `appendleft()`"
   ]
  },
  {
   "cell_type": "code",
   "execution_count": 40,
   "metadata": {
    "Collapsed": "false",
    "ExecuteTime": {
     "end_time": "2021-03-09T19:59:16.137409Z",
     "start_time": "2021-03-09T19:59:16.127436Z"
    }
   },
   "outputs": [
    {
     "data": {
      "text/plain": [
       "deque([6, 0, 1, 2, 3, 4, 5])"
      ]
     },
     "execution_count": 40,
     "metadata": {},
     "output_type": "execute_result"
    }
   ],
   "source": [
    "d = deque([i for i in range(5)])\n",
    "d.append(5)  # добавить элемент в конец очереди\n",
    "d.appendleft(6)  # добавить элемент в начало очереди\n",
    "d"
   ]
  },
  {
   "cell_type": "markdown",
   "metadata": {
    "Collapsed": "false"
   },
   "source": [
    "##### Добавление сразу нескольких элементов. `extend()` / `extendleft()`"
   ]
  },
  {
   "cell_type": "code",
   "execution_count": 41,
   "metadata": {
    "Collapsed": "false",
    "ExecuteTime": {
     "end_time": "2021-03-09T19:59:17.750144Z",
     "start_time": "2021-03-09T19:59:17.742169Z"
    }
   },
   "outputs": [
    {
     "data": {
      "text/plain": [
       "deque([12, 11, 10, 6, 0, 1, 2, 3, 4, 5, 7, 8, 9])"
      ]
     },
     "execution_count": 41,
     "metadata": {},
     "output_type": "execute_result"
    }
   ],
   "source": [
    "d.extend([7, 8, 9])\n",
    "d.extendleft([10, 11, 12])\n",
    "d"
   ]
  },
  {
   "cell_type": "code",
   "execution_count": 42,
   "metadata": {
    "Collapsed": "false",
    "ExecuteTime": {
     "end_time": "2021-03-09T19:59:18.869983Z",
     "start_time": "2021-03-09T19:59:18.859041Z"
    }
   },
   "outputs": [
    {
     "data": {
      "text/plain": [
       "deque([12, 11, 10, 1, 2, 3, 4])"
      ]
     },
     "execution_count": 42,
     "metadata": {},
     "output_type": "execute_result"
    }
   ],
   "source": [
    "d = deque([i for i in range(5)], maxlen=7)\n",
    "d.extend([7, 8, 9])\n",
    "d.extendleft([10, 11, 12])\n",
    "d"
   ]
  },
  {
   "cell_type": "markdown",
   "metadata": {
    "Collapsed": "false"
   },
   "source": [
    "##### Удаление элементов из очереди. `pop()` / `popleft()`"
   ]
  },
  {
   "cell_type": "code",
   "execution_count": 43,
   "metadata": {
    "Collapsed": "false",
    "ExecuteTime": {
     "end_time": "2021-03-09T19:59:20.142304Z",
     "start_time": "2021-03-09T19:59:20.136322Z"
    }
   },
   "outputs": [
    {
     "name": "stdout",
     "output_type": "stream",
     "text": [
      "deque([1, 2, 3], maxlen=7)\n",
      "4\n",
      "0\n"
     ]
    }
   ],
   "source": [
    "f = deque([i for i in range(5)], maxlen=7)\n",
    "x = f.pop()\n",
    "y = f.popleft()\n",
    "print(f, x, y, sep='\\n')"
   ]
  },
  {
   "cell_type": "markdown",
   "metadata": {
    "Collapsed": "false"
   },
   "source": [
    "##### Количество вхождений элемента в очередь. `count()`"
   ]
  },
  {
   "cell_type": "code",
   "execution_count": 44,
   "metadata": {
    "Collapsed": "false",
    "ExecuteTime": {
     "end_time": "2021-03-09T19:59:22.655664Z",
     "start_time": "2021-03-09T19:59:22.645728Z"
    }
   },
   "outputs": [
    {
     "data": {
      "text/plain": [
       "1"
      ]
     },
     "execution_count": 44,
     "metadata": {},
     "output_type": "execute_result"
    }
   ],
   "source": [
    "g = deque([i for i in range(5)], maxlen=7)\n",
    "g.count(2)"
   ]
  },
  {
   "cell_type": "markdown",
   "metadata": {
    "Collapsed": "false"
   },
   "source": [
    "##### Позиция элемента в очереди. `index()`"
   ]
  },
  {
   "cell_type": "code",
   "execution_count": 45,
   "metadata": {
    "Collapsed": "false",
    "ExecuteTime": {
     "end_time": "2021-03-09T19:59:25.370234Z",
     "start_time": "2021-03-09T19:59:25.363258Z"
    }
   },
   "outputs": [
    {
     "data": {
      "text/plain": [
       "3"
      ]
     },
     "execution_count": 45,
     "metadata": {},
     "output_type": "execute_result"
    }
   ],
   "source": [
    "g.index(3)"
   ]
  },
  {
   "cell_type": "markdown",
   "metadata": {
    "Collapsed": "false"
   },
   "source": [
    "##### Добавлвение элеметна в середину очереди. `insert()`"
   ]
  },
  {
   "cell_type": "code",
   "execution_count": 49,
   "metadata": {
    "Collapsed": "false",
    "ExecuteTime": {
     "end_time": "2021-03-09T20:01:45.346757Z",
     "start_time": "2021-03-09T20:01:45.338774Z"
    }
   },
   "outputs": [
    {
     "data": {
      "text/plain": [
       "deque([0, 1, 6, 2, 3, 4])"
      ]
     },
     "execution_count": 49,
     "metadata": {},
     "output_type": "execute_result"
    }
   ],
   "source": [
    "g.insert(2, 6)  # добавить на позицию 2 число 6\n",
    "g"
   ]
  },
  {
   "cell_type": "markdown",
   "metadata": {
    "Collapsed": "false"
   },
   "source": [
    "##### Разворот очереди. `reverse()`"
   ]
  },
  {
   "cell_type": "code",
   "execution_count": 52,
   "metadata": {
    "Collapsed": "false",
    "ExecuteTime": {
     "end_time": "2021-03-09T20:02:35.534206Z",
     "start_time": "2021-03-09T20:02:35.528235Z"
    }
   },
   "outputs": [
    {
     "name": "stdout",
     "output_type": "stream",
     "text": [
      "deque([0, 1, 6, 2, 3, 4], maxlen=7)\n",
      "deque([4, 3, 2, 6, 1, 0], maxlen=7)\n"
     ]
    }
   ],
   "source": [
    "print(g)\n",
    "g.reverse()\n",
    "print(g)"
   ]
  },
  {
   "cell_type": "markdown",
   "metadata": {
    "Collapsed": "false"
   },
   "source": [
    "###### Ротация\n",
    "\\- перемещение n элементов из правой части очереди в левую, или из левой в правую, если n - отрицательное"
   ]
  },
  {
   "cell_type": "code",
   "execution_count": 53,
   "metadata": {
    "Collapsed": "false",
    "ExecuteTime": {
     "end_time": "2021-03-09T20:02:57.022132Z",
     "start_time": "2021-03-09T20:02:57.016148Z"
    }
   },
   "outputs": [
    {
     "name": "stdout",
     "output_type": "stream",
     "text": [
      "deque([4, 3, 2, 6, 1, 0], maxlen=7)\n",
      "deque([6, 1, 0, 4, 3, 2], maxlen=7)\n"
     ]
    }
   ],
   "source": [
    "print(g)\n",
    "g.rotate(3)\n",
    "print(g)"
   ]
  },
  {
   "cell_type": "markdown",
   "metadata": {
    "Collapsed": "false"
   },
   "source": [
    "#### Задача. Разложить список на положительные и отрицательные числа"
   ]
  },
  {
   "cell_type": "code",
   "execution_count": 54,
   "metadata": {
    "Collapsed": "false",
    "ExecuteTime": {
     "end_time": "2021-03-09T20:05:47.811575Z",
     "start_time": "2021-03-09T20:05:47.789634Z"
    }
   },
   "outputs": [
    {
     "name": "stdout",
     "output_type": "stream",
     "text": [
      "original array: [99, -64, 92, -27, 89, -55, 27, 81, -88, 93]\n",
      "--------------------------------------------------\n",
      "transform array: [-88, -55, -27, -64, 99, 92, 89, 27, 81, 93]\n"
     ]
    }
   ],
   "source": [
    "from collections import deque\n",
    "import random\n",
    "\n",
    "array = [random.randint(-100, 100) for _ in range(10)]\n",
    "print(f'original array: {array}')\n",
    "\n",
    "deq = deque()\n",
    "\n",
    "for item in array:\n",
    "    if item > 0:\n",
    "        deq.append(item)\n",
    "    elif item < 0:\n",
    "        deq.appendleft(item)\n",
    "print('-' * 50)\n",
    "print(f'transform array: {list(deq)}')"
   ]
  },
  {
   "cell_type": "markdown",
   "metadata": {},
   "source": [
    "#### Задача. Прочитать последние 10 строк IP-адресов"
   ]
  },
  {
   "cell_type": "code",
   "execution_count": 67,
   "metadata": {
    "ExecuteTime": {
     "end_time": "2021-03-09T20:14:24.609033Z",
     "start_time": "2021-03-09T20:14:24.596104Z"
    }
   },
   "outputs": [
    {
     "name": "stdout",
     "output_type": "stream",
     "text": [
      "deque(['186.161.5.31\\n', '193.165.3.22\\n', '182.167.4.24\\n', '196.165.7.17\\n', '180.166.6.25\\n', '182.161.4.4\\n', '195.168.6.29\\n', '195.161.6.20\\n', '194.163.1.26\\n', '198.162.7.14\\n'], maxlen=10)\n"
     ]
    }
   ],
   "source": [
    "from collections import deque\n",
    "from pprint import pprint\n",
    "\n",
    "path = './big_log.txt'\n",
    "\n",
    "with open(path, 'r', encoding='utf-8') as f:\n",
    "    last_ten_IP = deque(f, maxlen=10)\n",
    "\n",
    "print(last_ten_IP)"
   ]
  },
  {
   "cell_type": "markdown",
   "metadata": {
    "Collapsed": "false"
   },
   "source": [
    "---"
   ]
  },
  {
   "cell_type": "markdown",
   "metadata": {
    "Collapsed": "false"
   },
   "source": [
    "### `collections.Defaultdict`\n",
    "\\- это подкласс словаря (`dict`). Отличие от обычного словаря одно - при создании объекта в него нужно передать какую-нибудь функцию - определить `default_factory`"
   ]
  },
  {
   "cell_type": "code",
   "execution_count": 69,
   "metadata": {
    "Collapsed": "false",
    "ExecuteTime": {
     "end_time": "2021-03-09T20:15:59.395833Z",
     "start_time": "2021-03-09T20:15:59.391841Z"
    }
   },
   "outputs": [],
   "source": [
    "from collections import defaultdict"
   ]
  },
  {
   "cell_type": "code",
   "execution_count": 71,
   "metadata": {
    "Collapsed": "false",
    "ExecuteTime": {
     "end_time": "2021-03-09T20:16:15.594685Z",
     "start_time": "2021-03-09T20:16:15.586707Z"
    }
   },
   "outputs": [
    {
     "data": {
      "text/plain": [
       "defaultdict(None, {})"
      ]
     },
     "execution_count": 71,
     "metadata": {},
     "output_type": "execute_result"
    }
   ],
   "source": [
    "a = defaultdict()\n",
    "a"
   ]
  },
  {
   "cell_type": "code",
   "execution_count": 59,
   "metadata": {
    "Collapsed": "false"
   },
   "outputs": [
    {
     "name": "stdout",
     "output_type": "stream",
     "text": [
      "defaultdict(<class 'int'>, {'d': 2, 't': 1, 'h': 5, 'l': 1, 'r': 5, 'i': 1, 'z': 4, '.': 4, 'j': 3, 'n': 2, 'k': 1})\n"
     ]
    }
   ],
   "source": [
    "s = 'dthlrdihrz.jrhjnjrz.n.rkhz.hz'\n",
    "b = defaultdict(int)\n",
    "for i in s:\n",
    "    b[i] += 1\n",
    "print(b)"
   ]
  },
  {
   "cell_type": "code",
   "execution_count": 60,
   "metadata": {
    "Collapsed": "false"
   },
   "outputs": [
    {
     "name": "stdout",
     "output_type": "stream",
     "text": [
      "defaultdict(<class 'list'>, {'cat': [1, 2], 'dog': [5, 1], 'mouse': [1]})\n"
     ]
    }
   ],
   "source": [
    "list_1 = [('cat', 1), ('dog', 5), ('cat', 2), ('mouse', 1), ('dog', 1)]\n",
    "c = defaultdict(list)\n",
    "for k, v in list_1:\n",
    "    c[k].append(v)\n",
    "print(c)"
   ]
  },
  {
   "cell_type": "code",
   "execution_count": 62,
   "metadata": {
    "Collapsed": "false"
   },
   "outputs": [
    {
     "name": "stdout",
     "output_type": "stream",
     "text": [
      "defaultdict(<class 'set'>, {'cat': {1, 2}, 'dog': {1, 5}})\n"
     ]
    }
   ],
   "source": [
    "list_2 = [('cat', 1), ('dog', 5), ('cat', 2), ('cat', 1), ('dog', 1), ('dog', 5)]\n",
    "d = defaultdict(set)\n",
    "for k, v in list_2:\n",
    "    d[k].add(v)\n",
    "print(d)\n",
    "# Остались только уникальные значения"
   ]
  },
  {
   "cell_type": "code",
   "execution_count": 64,
   "metadata": {
    "Collapsed": "false"
   },
   "outputs": [
    {
     "name": "stdout",
     "output_type": "stream",
     "text": [
      "defaultdict(<function <lambda> at 0x000001B127C834C8>, {'rex': 'dog', 'tomas': 'cat'})\n"
     ]
    }
   ],
   "source": [
    "f = defaultdict(lambda: 'unknown')\n",
    "f.update(rex='dog', tomas='cat')\n",
    "print(f)"
   ]
  },
  {
   "cell_type": "code",
   "execution_count": 65,
   "metadata": {
    "Collapsed": "false"
   },
   "outputs": [
    {
     "name": "stdout",
     "output_type": "stream",
     "text": [
      "dog\n"
     ]
    }
   ],
   "source": [
    "print(f['rex'])"
   ]
  },
  {
   "cell_type": "code",
   "execution_count": 68,
   "metadata": {
    "Collapsed": "false"
   },
   "outputs": [
    {
     "name": "stdout",
     "output_type": "stream",
     "text": [
      "unknown\n"
     ]
    }
   ],
   "source": [
    "print(f['jerry'])"
   ]
  },
  {
   "cell_type": "markdown",
   "metadata": {
    "Collapsed": "false"
   },
   "source": [
    "---"
   ]
  },
  {
   "cell_type": "markdown",
   "metadata": {
    "Collapsed": "false"
   },
   "source": [
    "# OrderedDict"
   ]
  },
  {
   "cell_type": "markdown",
   "metadata": {
    "Collapsed": "false"
   },
   "source": [
    "`OrderedDict` - это подкласс словаря `dict`, в котором элементы (пары ключ-значение) упорядочены.\n",
    "\n",
    "OrderedDict запоминает порядок, в которм были добавлены \"ключи\""
   ]
  },
  {
   "cell_type": "code",
   "execution_count": 69,
   "metadata": {
    "Collapsed": "false"
   },
   "outputs": [],
   "source": [
    "from collections import OrderedDict"
   ]
  },
  {
   "cell_type": "markdown",
   "metadata": {
    "Collapsed": "false"
   },
   "source": [
    "### - Сортировка словаря"
   ]
  },
  {
   "cell_type": "code",
   "execution_count": 72,
   "metadata": {
    "Collapsed": "false"
   },
   "outputs": [
    {
     "name": "stdout",
     "output_type": "stream",
     "text": [
      "OrderedDict([('cat', 5), ('dog', 2), ('mouse', 4)])\n"
     ]
    }
   ],
   "source": [
    "a = {'cat': 5, 'dog': 2, 'mouse': 4}\n",
    "new_a = OrderedDict(sorted(a.items(), key=lambda x: x[0]))\n",
    "print(new_a)"
   ]
  },
  {
   "cell_type": "markdown",
   "metadata": {
    "Collapsed": "false"
   },
   "source": [
    "### - Сортировка словаря по-значению"
   ]
  },
  {
   "cell_type": "code",
   "execution_count": 75,
   "metadata": {
    "Collapsed": "false"
   },
   "outputs": [
    {
     "name": "stdout",
     "output_type": "stream",
     "text": [
      "OrderedDict([('dog', 2), ('mouse', 4), ('cat', 5)])\n"
     ]
    }
   ],
   "source": [
    "b = {'cat': 5, 'dog': 2, 'mouse': 4}\n",
    "new_b = OrderedDict(sorted(b.items(), key=lambda x: x[1]))\n",
    "print(new_b)"
   ]
  },
  {
   "cell_type": "code",
   "execution_count": 76,
   "metadata": {
    "Collapsed": "false"
   },
   "outputs": [
    {
     "data": {
      "text/plain": [
       "False"
      ]
     },
     "execution_count": 76,
     "metadata": {},
     "output_type": "execute_result"
    }
   ],
   "source": [
    "new_a == new_b\n",
    "# Порядок элементов важен"
   ]
  },
  {
   "cell_type": "markdown",
   "metadata": {
    "Collapsed": "false"
   },
   "source": [
    "### - Изменяем порядок"
   ]
  },
  {
   "cell_type": "code",
   "execution_count": 79,
   "metadata": {
    "Collapsed": "false"
   },
   "outputs": [
    {
     "data": {
      "text/plain": [
       "OrderedDict([('dog', 2), ('cat', 5), ('mouse', 4)])"
      ]
     },
     "execution_count": 79,
     "metadata": {},
     "output_type": "execute_result"
    }
   ],
   "source": [
    "new_b.move_to_end('mouse')\n",
    "new_b"
   ]
  },
  {
   "cell_type": "code",
   "execution_count": 80,
   "metadata": {
    "Collapsed": "false"
   },
   "outputs": [
    {
     "data": {
      "text/plain": [
       "OrderedDict([('mouse', 4), ('dog', 2), ('cat', 5)])"
      ]
     },
     "execution_count": 80,
     "metadata": {},
     "output_type": "execute_result"
    }
   ],
   "source": [
    "new_b.move_to_end('mouse', last=False)  # теперь 'mouse' перенесен не в конец, а в начало\n",
    "new_b"
   ]
  },
  {
   "cell_type": "markdown",
   "metadata": {
    "Collapsed": "false"
   },
   "source": [
    "### - Удаление элемента\n"
   ]
  },
  {
   "cell_type": "code",
   "execution_count": 81,
   "metadata": {
    "Collapsed": "false"
   },
   "outputs": [
    {
     "data": {
      "text/plain": [
       "OrderedDict([('mouse', 4), ('dog', 2)])"
      ]
     },
     "execution_count": 81,
     "metadata": {},
     "output_type": "execute_result"
    }
   ],
   "source": [
    "# удаление последнего элемента\n",
    "new_b.popitem()\n",
    "new_b"
   ]
  },
  {
   "cell_type": "code",
   "execution_count": 82,
   "metadata": {
    "Collapsed": "false"
   },
   "outputs": [
    {
     "data": {
      "text/plain": [
       "OrderedDict([('dog', 2)])"
      ]
     },
     "execution_count": 82,
     "metadata": {},
     "output_type": "execute_result"
    }
   ],
   "source": [
    "# удаление первого элемента\n",
    "new_b.popitem(last=False)\n",
    "new_b"
   ]
  },
  {
   "cell_type": "markdown",
   "metadata": {
    "Collapsed": "false"
   },
   "source": [
    "### - Добавление"
   ]
  },
  {
   "cell_type": "code",
   "execution_count": 83,
   "metadata": {
    "Collapsed": "false"
   },
   "outputs": [
    {
     "data": {
      "text/plain": [
       "OrderedDict([('dog', 2), ('cow', 1)])"
      ]
     },
     "execution_count": 83,
     "metadata": {},
     "output_type": "execute_result"
    }
   ],
   "source": [
    "new_b['cow'] = 1\n",
    "new_b"
   ]
  },
  {
   "cell_type": "markdown",
   "metadata": {
    "Collapsed": "false"
   },
   "source": [
    "### - Изменение"
   ]
  },
  {
   "cell_type": "code",
   "execution_count": 84,
   "metadata": {
    "Collapsed": "false"
   },
   "outputs": [
    {
     "data": {
      "text/plain": [
       "OrderedDict([('dog', 8), ('cow', 1)])"
      ]
     },
     "execution_count": 84,
     "metadata": {},
     "output_type": "execute_result"
    }
   ],
   "source": [
    "new_b['dog'] = 8\n",
    "new_b"
   ]
  },
  {
   "cell_type": "markdown",
   "metadata": {
    "Collapsed": "false"
   },
   "source": [
    "### Разное"
   ]
  },
  {
   "cell_type": "markdown",
   "metadata": {
    "Collapsed": "false"
   },
   "source": [
    "#### Сортировка"
   ]
  },
  {
   "cell_type": "code",
   "execution_count": 85,
   "metadata": {
    "Collapsed": "false"
   },
   "outputs": [
    {
     "data": {
      "text/plain": [
       "OrderedDict([('cat', 5), ('dog', 2), ('mouse', 4)])"
      ]
     },
     "execution_count": 85,
     "metadata": {},
     "output_type": "execute_result"
    }
   ],
   "source": [
    "new_c = OrderedDict(sorted(a.items(), key=lambda x: len(x[0])))\n",
    "new_c"
   ]
  },
  {
   "cell_type": "markdown",
   "metadata": {
    "Collapsed": "false"
   },
   "source": [
    "#### Выведение элементов в обратном порядке"
   ]
  },
  {
   "cell_type": "code",
   "execution_count": 86,
   "metadata": {
    "Collapsed": "false"
   },
   "outputs": [
    {
     "name": "stdout",
     "output_type": "stream",
     "text": [
      "mouse 4\n",
      "dog 2\n",
      "cat 5\n"
     ]
    }
   ],
   "source": [
    "for key in reversed(new_c):\n",
    "    print(key, new_c[key])"
   ]
  },
  {
   "cell_type": "code",
   "execution_count": 87,
   "metadata": {
    "Collapsed": "false"
   },
   "outputs": [
    {
     "data": {
      "text/plain": [
       "<odict_iterator at 0x1b12763ed08>"
      ]
     },
     "execution_count": 87,
     "metadata": {},
     "output_type": "execute_result"
    }
   ],
   "source": [
    "reversed(new_c)"
   ]
  },
  {
   "cell_type": "markdown",
   "metadata": {
    "Collapsed": "false"
   },
   "source": [
    "## Задача."
   ]
  },
  {
   "cell_type": "markdown",
   "metadata": {
    "Collapsed": "false"
   },
   "source": [
    "В лог-файл сервер добавляет ip-адреса, с которых пришел запрос.\n",
    "\n",
    "Проанализоровать последние N адресов и сохранить в новый файл пары значений \"ip-адрес - кол-во запросов\".\n",
    "- исключить локальные адреса (192.168.*.*)\n",
    "- сохранить исходный порядок адресов"
   ]
  },
  {
   "cell_type": "code",
   "execution_count": 91,
   "metadata": {
    "Collapsed": "false"
   },
   "outputs": [],
   "source": [
    "from collections import OrderedDict, defaultdict, deque\n",
    "\n",
    "# берем последние 3000 адресов\n",
    "\n",
    "N = 3000\n",
    "with open('big_log.txt', 'r', encoding='utf-8') as f:\n",
    "    log = deque(f, N)  # сохраняем в очередь последние N значений\n",
    "\n",
    "# print(log)\n",
    "\n",
    "# объявляем переменные\n",
    "data = OrderedDict()\n",
    "spam = defaultdict(int)\n",
    "\n",
    "# избавляемся от символа перенова строки\n",
    "for item in log:\n",
    "    ip = item[:-1]  # для каждой строки оставляем все, кроме последнего символа\n",
    "\n",
    "    if not ip.startswith('192.168'):\n",
    "        spam[ip] += 1\n",
    "        data[ip] = 1\n",
    "\n",
    "# print(spam)\n",
    "# print(data)\n",
    "\n",
    "data.update(spam)  # добавляет в `data` ключи из `spam`\n",
    "# print(data)\n",
    "\n",
    "with open ('data.txt', 'w', encoding='utf-8') as f:\n",
    "    for key, value in data.items():\n",
    "        f.write(f'{key} - {value}\\n')"
   ]
  },
  {
   "cell_type": "markdown",
   "metadata": {
    "Collapsed": "false"
   },
   "source": [
    "---"
   ]
  },
  {
   "cell_type": "markdown",
   "metadata": {
    "Collapsed": "false"
   },
   "source": [
    "# Namedtuple\n",
    "\\- это именованый кортеж, обеспечивающий доступ к содержимому по имени"
   ]
  },
  {
   "cell_type": "code",
   "execution_count": 1,
   "metadata": {
    "Collapsed": "false"
   },
   "outputs": [],
   "source": [
    "from collections import namedtuple"
   ]
  },
  {
   "cell_type": "markdown",
   "metadata": {
    "Collapsed": "false"
   },
   "source": [
    "## Задача 1"
   ]
  },
  {
   "cell_type": "code",
   "execution_count": 1,
   "metadata": {
    "Collapsed": "false"
   },
   "outputs": [
    {
     "name": "stdout",
     "output_type": "stream",
     "text": [
      "250\n"
     ]
    }
   ],
   "source": [
    "# начнем с обычного кортежа\n",
    "# создадим персонажа игры\n",
    "# имя, раса, здоровье, мана, сила\n",
    "hero_1 = ('Aaz', 'Izverg', 100, 0.0, 250)\n",
    "print(hero_1[4])"
   ]
  },
  {
   "cell_type": "code",
   "execution_count": 2,
   "metadata": {
    "Collapsed": "false"
   },
   "outputs": [],
   "source": [
    "# это неудобно, так как всегда нужно помнить названия параметров"
   ]
  },
  {
   "cell_type": "code",
   "execution_count": 4,
   "metadata": {
    "Collapsed": "false"
   },
   "outputs": [
    {
     "name": "stdout",
     "output_type": "stream",
     "text": [
      "100\n"
     ]
    }
   ],
   "source": [
    "# создадим класс персонаж\n",
    "class Person:\n",
    "    def __init__(self, name, race, heath, mana, streinght):\n",
    "        self.name = name\n",
    "        self.race = race\n",
    "        self.heath = heath\n",
    "        self.mana = mana\n",
    "        self.stereinght = streinght\n",
    "\n",
    "\n",
    "hero_2 = Person('Aaz', 'Izverg', 100, 0.0, 250)\n",
    "print(hero_2.heath)"
   ]
  },
  {
   "cell_type": "code",
   "execution_count": 5,
   "metadata": {
    "Collapsed": "false"
   },
   "outputs": [
    {
     "name": "stdout",
     "output_type": "stream",
     "text": [
      "Izverg\n"
     ]
    }
   ],
   "source": [
    "New_person = namedtuple('New_person', 'name, race, heath, mana, streinght')\n",
    "hero_3 = New_person('Aaz', 'Izverg', 100, 0.0, 250)\n",
    "print(hero_3.race)"
   ]
  },
  {
   "cell_type": "code",
   "execution_count": 6,
   "metadata": {
    "Collapsed": "false"
   },
   "outputs": [
    {
     "name": "stdout",
     "output_type": "stream",
     "text": [
      "Izverg\n"
     ]
    }
   ],
   "source": [
    "# или\n",
    "prop = ['name', 'race', 'heath', 'mana', 'streinght']\n",
    "New_person_1 = namedtuple('New_person_1', prop)\n",
    "hero_4 = New_person_1('Aaz', 'Izverg', 100, 0.0, 250)\n",
    "print(hero_4.race)"
   ]
  },
  {
   "cell_type": "code",
   "execution_count": 11,
   "metadata": {
    "Collapsed": "false"
   },
   "outputs": [
    {
     "name": "stdout",
     "output_type": "stream",
     "text": [
      "New_person_1(name='Aaz', _1='Izverg', heath=100, _3=0.0, streinght=250)\n"
     ]
    }
   ],
   "source": [
    "prop = ['name', '3race', 'heath', '_mana', 'streinght']\n",
    "New_person_1 = namedtuple('New_person_1', prop, rename=True)\n",
    "hero_4 = New_person_1('Aaz', 'Izverg', 100, 0.0, 250)\n",
    "print(hero_4)"
   ]
  },
  {
   "cell_type": "markdown",
   "metadata": {
    "Collapsed": "false"
   },
   "source": [
    "## Задача 2"
   ]
  },
  {
   "cell_type": "code",
   "execution_count": 12,
   "metadata": {
    "Collapsed": "false"
   },
   "outputs": [
    {
     "name": "stdout",
     "output_type": "stream",
     "text": [
      "Point(x=2, y=4, z=3)\n"
     ]
    }
   ],
   "source": [
    "Point = namedtuple('Point', 'x, y, z')\n",
    "\n",
    "p1 = Point(2, z=3, y=4)\n",
    "print(p1)"
   ]
  },
  {
   "cell_type": "markdown",
   "metadata": {
    "Collapsed": "false"
   },
   "source": [
    "## 5 интересных методов"
   ]
  },
  {
   "cell_type": "code",
   "execution_count": 14,
   "metadata": {
    "Collapsed": "false"
   },
   "outputs": [
    {
     "name": "stdout",
     "output_type": "stream",
     "text": [
      "Point(x=5, y=10, z=15)\n"
     ]
    }
   ],
   "source": [
    "# 1\n",
    "t = [5, 10, 15]\n",
    "p2 = Point._make(t)\n",
    "print(p2)"
   ]
  },
  {
   "cell_type": "code",
   "execution_count": 16,
   "metadata": {
    "Collapsed": "false"
   },
   "outputs": [
    {
     "name": "stdout",
     "output_type": "stream",
     "text": [
      "OrderedDict([('x', 5), ('y', 10), ('z', 15)])\n"
     ]
    }
   ],
   "source": [
    "# 2\n",
    "d2 = p2._asdict()\n",
    "print(d2)"
   ]
  },
  {
   "cell_type": "code",
   "execution_count": 17,
   "metadata": {
    "Collapsed": "false"
   },
   "outputs": [
    {
     "name": "stdout",
     "output_type": "stream",
     "text": [
      "Point(x=6, y=10, z=15)\n"
     ]
    }
   ],
   "source": [
    "# 3\n",
    "p3 = p2._replace(x=6)\n",
    "print(p3)"
   ]
  },
  {
   "cell_type": "code",
   "execution_count": 48,
   "metadata": {
    "Collapsed": "false"
   },
   "outputs": [
    {
     "name": "stdout",
     "output_type": "stream",
     "text": [
      "('x', 'y', 'z')\n"
     ]
    }
   ],
   "source": [
    "# 4\n",
    "print(p3._fields)"
   ]
  },
  {
   "cell_type": "code",
   "execution_count": 54,
   "metadata": {
    "Collapsed": "false"
   },
   "outputs": [
    {
     "name": "stdout",
     "output_type": "stream",
     "text": [
      "New_point(x=5, y=0, z=0)\n"
     ]
    }
   ],
   "source": [
    "# 5 значение по-умолчанию\n",
    "New_point = namedtuple('New_point', 'x, y, z', defaults=[0,0])\n",
    "p4 = New_point(5)\n",
    "print(p4)"
   ]
  },
  {
   "cell_type": "code",
   "execution_count": 55,
   "metadata": {
    "Collapsed": "false"
   },
   "outputs": [
    {
     "name": "stdout",
     "output_type": "stream",
     "text": [
      "{'y': 0, 'z': 0}\n"
     ]
    }
   ],
   "source": [
    "print(p4._field_defaults)"
   ]
  },
  {
   "cell_type": "code",
   "execution_count": 56,
   "metadata": {
    "Collapsed": "false"
   },
   "outputs": [
    {
     "name": "stdout",
     "output_type": "stream",
     "text": [
      "New_point(x=10, y=20, z=30)\n"
     ]
    }
   ],
   "source": [
    "dct = {'x': 10,'y': 20,'z': 30}\n",
    "p5 = New_point(**dct)\n",
    "print(p5)"
   ]
  },
  {
   "cell_type": "markdown",
   "metadata": {
    "Collapsed": "false"
   },
   "source": [
    "# ChainMap\n",
    "\\- (цепочка отображений) - позволяет организовать работу с несколькими словарями(`dict`)\n",
    "\n",
    "Поиск \"ключа\" осуществляется посредовательно в каждом из словарей цепочки, пока ключ не будет найден."
   ]
  },
  {
   "cell_type": "code",
   "execution_count": 57,
   "metadata": {
    "Collapsed": "false"
   },
   "outputs": [
    {
     "name": "stdout",
     "output_type": "stream",
     "text": [
      "ChainMap({'a': 2, 'b': 4, 'c': 5}, {'a': 10, 'b': 20, 'd': 40})\n"
     ]
    }
   ],
   "source": [
    "from collections import ChainMap\n",
    "\n",
    "# сначала построим несколько словарей\n",
    "# у нас будет возможность построить из них цепочку\n",
    "d1 = {'a': 2, 'b': 4, 'c': 5}\n",
    "d2 = {'a': 10, 'b': 20, 'd': 40}\n",
    "\n",
    "d_map = ChainMap(d1, d2)  # важен порядок элементов\n",
    "print(d_map)"
   ]
  },
  {
   "cell_type": "code",
   "execution_count": 58,
   "metadata": {
    "Collapsed": "false"
   },
   "outputs": [
    {
     "name": "stdout",
     "output_type": "stream",
     "text": [
      "ChainMap({'a': 2, 'b': 4, 'c': 5}, {'a': 100, 'b': 20, 'd': 40})\n"
     ]
    }
   ],
   "source": [
    "d2['a'] = 100\n",
    "print(d_map)"
   ]
  },
  {
   "cell_type": "code",
   "execution_count": 59,
   "metadata": {
    "Collapsed": "false"
   },
   "outputs": [
    {
     "name": "stdout",
     "output_type": "stream",
     "text": [
      "2\n",
      "40\n"
     ]
    }
   ],
   "source": [
    "print(d_map['a'])\n",
    "print(d_map['d'])"
   ]
  },
  {
   "cell_type": "code",
   "execution_count": 61,
   "metadata": {
    "Collapsed": "false"
   },
   "outputs": [
    {
     "name": "stdout",
     "output_type": "stream",
     "text": [
      "ChainMap({}, {'a': 2, 'b': 4, 'c': 5}, {'a': 100, 'b': 20, 'd': 40})\n"
     ]
    }
   ],
   "source": [
    "# дабавление\n",
    "x = d_map.new_child()\n",
    "print(x)"
   ]
  },
  {
   "cell_type": "code",
   "execution_count": 64,
   "metadata": {
    "Collapsed": "false"
   },
   "outputs": [
    {
     "name": "stdout",
     "output_type": "stream",
     "text": [
      "{}\n",
      "{'a': 100, 'b': 20, 'd': 40}\n"
     ]
    }
   ],
   "source": [
    "# ображение к словарям\n",
    "print(x.maps[0])\n",
    "print(x.maps[-1])"
   ]
  },
  {
   "cell_type": "code",
   "execution_count": 65,
   "metadata": {
    "Collapsed": "false"
   },
   "outputs": [
    {
     "name": "stdout",
     "output_type": "stream",
     "text": [
      "ChainMap({'a': 2, 'b': 4, 'c': 5}, {'a': 100, 'b': 20, 'd': 40})\n"
     ]
    }
   ],
   "source": [
    "print(x.parents)"
   ]
  },
  {
   "cell_type": "code",
   "execution_count": 68,
   "metadata": {
    "Collapsed": "false"
   },
   "outputs": [
    {
     "name": "stdout",
     "output_type": "stream",
     "text": [
      "ChainMap({'a': 111, 'b': 222, 'c': 333, 'd': 444}, {'a': 2, 'b': 4, 'c': 5}, {'a': 100, 'b': 20, 'd': 40})\n",
      "{'a': 111, 'b': 222, 'c': 333, 'd': 444}\n",
      "{'a': 100, 'b': 20, 'd': 40}\n",
      "ChainMap({'a': 2, 'b': 4, 'c': 5}, {'a': 100, 'b': 20, 'd': 40})\n"
     ]
    }
   ],
   "source": [
    "x = d_map.new_child({'a': 111, 'b': 222, 'c': 333, 'd': 444})\n",
    "print(x)\n",
    "# ображение к словарям\n",
    "print(x.maps[0])\n",
    "print(x.maps[-1])\n",
    "print(x.parents)"
   ]
  },
  {
   "cell_type": "code",
   "execution_count": 70,
   "metadata": {
    "Collapsed": "false"
   },
   "outputs": [
    {
     "name": "stdout",
     "output_type": "stream",
     "text": [
      "ChainMap({}, {'a': 2, 'b': 4, 'c': 5}, {'a': 100, 'b': 20, 'd': 40})\n"
     ]
    }
   ],
   "source": [
    "y = d_map.new_child()\n",
    "print(y)"
   ]
  },
  {
   "cell_type": "code",
   "execution_count": 71,
   "metadata": {
    "Collapsed": "false"
   },
   "outputs": [
    {
     "name": "stdout",
     "output_type": "stream",
     "text": [
      "2\n"
     ]
    }
   ],
   "source": [
    "print(y['a'])"
   ]
  },
  {
   "cell_type": "code",
   "execution_count": 72,
   "metadata": {
    "Collapsed": "false"
   },
   "outputs": [
    {
     "name": "stdout",
     "output_type": "stream",
     "text": [
      "ChainMap({'a': 1}, {'a': 2, 'b': 4, 'c': 5}, {'a': 100, 'b': 20, 'd': 40})\n"
     ]
    }
   ],
   "source": [
    "y['a'] = 1\n",
    "print(y)"
   ]
  },
  {
   "cell_type": "code",
   "execution_count": 74,
   "metadata": {
    "Collapsed": "false"
   },
   "outputs": [
    {
     "name": "stdout",
     "output_type": "stream",
     "text": [
      "['a', 'b', 'd', 'c']\n",
      "[1, 4, 40, 5]\n"
     ]
    }
   ],
   "source": [
    "print(list(y))\n",
    "print(list(y.values()))"
   ]
  },
  {
   "cell_type": "markdown",
   "metadata": {
    "Collapsed": "false"
   },
   "source": [
    "## Задача"
   ]
  },
  {
   "cell_type": "code",
   "execution_count": 76,
   "metadata": {
    "Collapsed": "false"
   },
   "outputs": [
    {
     "name": "stderr",
     "output_type": "stream",
     "text": [
      "usage: ipykernel_launcher.py [-h] [-i IP] [-p PORT]\n",
      "ipykernel_launcher.py: error: unrecognized arguments: -f C:\\Users\\carne\\AppData\\Roaming\\jupyter\\runtime\\kernel-9d1acfd6-2b3b-4123-b40d-03992edc474a.json\n"
     ]
    },
    {
     "ename": "SystemExit",
     "evalue": "2",
     "output_type": "error",
     "traceback": [
      "An exception has occurred, use %tb to see the full traceback.\n",
      "\u001b[1;31mSystemExit\u001b[0m\u001b[1;31m:\u001b[0m 2\n"
     ]
    }
   ],
   "source": [
    "import argparse\n",
    "from collections import ChainMap\n",
    "\n",
    "'''\n",
    "Напишем программу, которая будет хранить значения ip-адреса и порта по-умолчанию\n",
    "'''\n",
    "\n",
    "defaults = {'ip': 'localhost', 'port': 7777}\n",
    "parser = argparse.ArgumentParser()\n",
    "parser.add_argument('-i', '--ip',)\n",
    "parser.add_argument('-p', '--port')\n",
    "\n",
    "args = parser.parse_args()\n",
    "new_dict = {key: value for key, value in vars(args).items() if value}\n",
    "\n",
    "settings = ChainMap(new_dict, defaults)\n",
    "print(settings['ip'])\n",
    "print(settings['port'])\n",
    "exit"
   ]
  },
  {
   "cell_type": "code",
   "execution_count": null,
   "metadata": {
    "Collapsed": "false"
   },
   "outputs": [],
   "source": []
  }
 ],
 "metadata": {
  "hide_input": false,
  "kernelspec": {
   "display_name": "Python 3",
   "language": "python",
   "name": "python3"
  },
  "language_info": {
   "codemirror_mode": {
    "name": "ipython",
    "version": 3
   },
   "file_extension": ".py",
   "mimetype": "text/x-python",
   "name": "python",
   "nbconvert_exporter": "python",
   "pygments_lexer": "ipython3",
   "version": "3.8.5"
  },
  "toc": {
   "base_numbering": 1,
   "nav_menu": {},
   "number_sections": false,
   "sideBar": true,
   "skip_h1_title": false,
   "title_cell": "Table of Contents",
   "title_sidebar": "Contents",
   "toc_cell": false,
   "toc_position": {
    "height": "calc(100% - 180px)",
    "left": "10px",
    "top": "150px",
    "width": "256px"
   },
   "toc_section_display": true,
   "toc_window_display": true
  },
  "toc-autonumbering": true,
  "toc-showcode": false,
  "toc-showmarkdowntxt": true,
  "varInspector": {
   "cols": {
    "lenName": 16,
    "lenType": 16,
    "lenVar": 40
   },
   "kernels_config": {
    "python": {
     "delete_cmd_postfix": "",
     "delete_cmd_prefix": "del ",
     "library": "var_list.py",
     "varRefreshCmd": "print(var_dic_list())"
    },
    "r": {
     "delete_cmd_postfix": ") ",
     "delete_cmd_prefix": "rm(",
     "library": "var_list.r",
     "varRefreshCmd": "cat(var_dic_list()) "
    }
   },
   "types_to_exclude": [
    "module",
    "function",
    "builtin_function_or_method",
    "instance",
    "_Feature"
   ],
   "window_display": false
  }
 },
 "nbformat": 4,
 "nbformat_minor": 4
}
