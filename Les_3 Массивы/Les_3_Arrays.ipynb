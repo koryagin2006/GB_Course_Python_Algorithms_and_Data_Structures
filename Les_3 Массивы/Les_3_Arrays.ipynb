{
 "cells": [
  {
   "cell_type": "markdown",
   "metadata": {
    "Collapsed": "false"
   },
   "source": [
    "# Урок 3. Массивы"
   ]
  },
  {
   "cell_type": "markdown",
   "metadata": {
    "Collapsed": "false"
   },
   "source": [
    "- Списки (Массиаы)\n",
    "- Кортежи\n",
    "- Множества\n",
    "- Словари"
   ]
  },
  {
   "cell_type": "markdown",
   "metadata": {},
   "source": [
    "## 1. Особенности работы с массивами. Базовые типы данных."
   ]
  },
  {
   "cell_type": "markdown",
   "metadata": {
    "Collapsed": "false"
   },
   "source": [
    "#### Пример 1. Удаление элемента списка во время его итерирования"
   ]
  },
  {
   "cell_type": "code",
   "execution_count": 1,
   "metadata": {
    "Collapsed": "false",
    "ExecuteTime": {
     "end_time": "2021-02-27T18:31:22.682283Z",
     "start_time": "2021-02-27T18:31:22.617319Z"
    }
   },
   "outputs": [],
   "source": [
    "list_1 = [1, 2, 3, 4]\n",
    "list_2 = [1, 2, 3, 4]\n",
    "list_3 = [1, 2, 3, 4]\n",
    "list_4 = [1, 2, 3, 4]"
   ]
  },
  {
   "cell_type": "code",
   "execution_count": 2,
   "metadata": {
    "Collapsed": "false",
    "ExecuteTime": {
     "end_time": "2021-02-27T18:31:45.137329Z",
     "start_time": "2021-02-27T18:31:45.128388Z"
    }
   },
   "outputs": [
    {
     "name": "stdout",
     "output_type": "stream",
     "text": [
      "[1, 2, 3, 4]\n"
     ]
    }
   ],
   "source": [
    "# вариант 1\n",
    "for i, item in enumerate(list_1):\n",
    "    del item\n",
    "\n",
    "print(list_1)"
   ]
  },
  {
   "cell_type": "code",
   "execution_count": 3,
   "metadata": {
    "Collapsed": "false",
    "ExecuteTime": {
     "end_time": "2021-02-27T18:31:51.587791Z",
     "start_time": "2021-02-27T18:31:51.580809Z"
    }
   },
   "outputs": [
    {
     "name": "stdout",
     "output_type": "stream",
     "text": [
      "[2, 4]\n"
     ]
    }
   ],
   "source": [
    "# вариант 2\n",
    "for i, item in enumerate(list_2):\n",
    "    list_2.remove(item)\n",
    "print(list_2)"
   ]
  },
  {
   "cell_type": "code",
   "execution_count": 3,
   "metadata": {
    "Collapsed": "false"
   },
   "outputs": [
    {
     "name": "stdout",
     "output_type": "stream",
     "text": [
      "[2, 4]\n"
     ]
    }
   ],
   "source": [
    "# вариант 3\n",
    "for i, item in enumerate(list_2):\n",
    "    list_3.pop(i)\n",
    "print(list_3)"
   ]
  },
  {
   "cell_type": "code",
   "execution_count": 4,
   "metadata": {
    "Collapsed": "false"
   },
   "outputs": [
    {
     "name": "stdout",
     "output_type": "stream",
     "text": [
      "[]\n"
     ]
    }
   ],
   "source": [
    "for i, item, in enumerate(list_4[:]):\n",
    "    list_4.remove(item)\n",
    "print(list_4)"
   ]
  },
  {
   "cell_type": "markdown",
   "metadata": {
    "Collapsed": "false"
   },
   "source": [
    "#### Пример 2. Крестики-нолики,  где X побеждает с первой попытки"
   ]
  },
  {
   "cell_type": "code",
   "execution_count": 9,
   "metadata": {
    "Collapsed": "false"
   },
   "outputs": [
    {
     "name": "stdout",
     "output_type": "stream",
     "text": [
      "[['X', '', ''], ['X', '', ''], ['X', '', '']]\n"
     ]
    }
   ],
   "source": [
    "from pprint import pprint\n",
    "\n",
    "row = [''] * 3\n",
    "board = [row] * 3\n",
    "board[0][0] = 'X'\n",
    "\n",
    "print(board) "
   ]
  },
  {
   "cell_type": "code",
   "execution_count": 11,
   "metadata": {
    "Collapsed": "false"
   },
   "outputs": [
    {
     "name": "stdout",
     "output_type": "stream",
     "text": [
      "[['X', '', ''], ['', '', ''], ['', '', '']]\n"
     ]
    }
   ],
   "source": [
    "board = [[''] * 3 for _ in range(3)]\n",
    "board[0][0] = 'X'\n",
    "\n",
    "print(board)"
   ]
  },
  {
   "cell_type": "markdown",
   "metadata": {
    "Collapsed": "false"
   },
   "source": [
    "#### Пример 3. Те же операнды, но другая история"
   ]
  },
  {
   "cell_type": "code",
   "execution_count": 12,
   "metadata": {
    "Collapsed": "false"
   },
   "outputs": [
    {
     "name": "stdout",
     "output_type": "stream",
     "text": [
      "[1, 2, 3, 4, 5, 6, 7] [1, 2, 3, 4]\n"
     ]
    }
   ],
   "source": [
    "a = [1, 2, 3, 4]\n",
    "b = a\n",
    "a = a + [5, 6, 7]\n",
    "\n",
    "print(a, b)"
   ]
  },
  {
   "cell_type": "code",
   "execution_count": 18,
   "metadata": {
    "Collapsed": "false"
   },
   "outputs": [
    {
     "name": "stdout",
     "output_type": "stream",
     "text": [
      "[1, 2, 3, 4, 5, 6, 7] [1, 2, 3, 4, 5, 6, 7]\n"
     ]
    }
   ],
   "source": [
    "a = [1, 2, 3, 4]\n",
    "b = a\n",
    "a += [5, 6, 7]\n",
    "print(a, b)"
   ]
  },
  {
   "cell_type": "markdown",
   "metadata": {
    "Collapsed": "false"
   },
   "source": [
    "#### Игла в стоге сена"
   ]
  },
  {
   "cell_type": "code",
   "execution_count": 19,
   "metadata": {
    "Collapsed": "false"
   },
   "outputs": [
    {
     "name": "stdout",
     "output_type": "stream",
     "text": [
      "one\n",
      "two\n"
     ]
    }
   ],
   "source": [
    "t = ('one', 'two')  # кортеж\n",
    "for i in t:\n",
    "    print(i)"
   ]
  },
  {
   "cell_type": "code",
   "execution_count": 20,
   "metadata": {
    "Collapsed": "false"
   },
   "outputs": [
    {
     "name": "stdout",
     "output_type": "stream",
     "text": [
      "o\n",
      "n\n",
      "e\n"
     ]
    }
   ],
   "source": [
    "t = ('one')\n",
    "for i in t:\n",
    "    print(i)"
   ]
  },
  {
   "cell_type": "code",
   "execution_count": 23,
   "metadata": {
    "Collapsed": "false"
   },
   "outputs": [
    {
     "name": "stdout",
     "output_type": "stream",
     "text": [
      "one\n"
     ]
    }
   ],
   "source": [
    "t = ('one',)\n",
    "for i in t:\n",
    "    print(i)"
   ]
  },
  {
   "cell_type": "markdown",
   "metadata": {
    "Collapsed": "false"
   },
   "source": [
    "#### Пример 5. Сохранить только уникальные значения"
   ]
  },
  {
   "cell_type": "code",
   "execution_count": 4,
   "metadata": {
    "Collapsed": "false",
    "ExecuteTime": {
     "end_time": "2021-02-27T18:37:55.187808Z",
     "start_time": "2021-02-27T18:37:55.148933Z"
    }
   },
   "outputs": [
    {
     "data": {
      "text/plain": [
       "[1, 2, 4, 5, 6]"
      ]
     },
     "execution_count": 4,
     "metadata": {},
     "output_type": "execute_result"
    }
   ],
   "source": [
    "lst = [1, 5, 6, 1, 5, 2, 4, 5, 1, 6, 5]\n",
    "lst = list(set(lst))\n",
    "lst"
   ]
  },
  {
   "cell_type": "markdown",
   "metadata": {
    "Collapsed": "false"
   },
   "source": [
    "#### Пример 6. Ключ словаря - изменяемый объект"
   ]
  },
  {
   "cell_type": "code",
   "execution_count": 6,
   "metadata": {
    "Collapsed": "false",
    "ExecuteTime": {
     "end_time": "2021-02-27T18:39:01.478367Z",
     "start_time": "2021-02-27T18:39:01.465420Z"
    }
   },
   "outputs": [],
   "source": [
    "set_x = {1, 2, 3}\n",
    "lst_x = [1, 4, 9]"
   ]
  },
  {
   "cell_type": "code",
   "execution_count": 7,
   "metadata": {
    "Collapsed": "false",
    "ExecuteTime": {
     "end_time": "2021-02-27T18:39:02.551636Z",
     "start_time": "2021-02-27T18:39:02.530692Z"
    }
   },
   "outputs": [
    {
     "ename": "TypeError",
     "evalue": "unhashable type: 'set'",
     "output_type": "error",
     "traceback": [
      "\u001b[1;31m---------------------------------------------------------------------------\u001b[0m",
      "\u001b[1;31mTypeError\u001b[0m                                 Traceback (most recent call last)",
      "\u001b[1;32m<ipython-input-7-ca801ed4a130>\u001b[0m in \u001b[0;36m<module>\u001b[1;34m\u001b[0m\n\u001b[1;32m----> 1\u001b[1;33m \u001b[0mdict_x\u001b[0m \u001b[1;33m=\u001b[0m \u001b[1;33m{\u001b[0m\u001b[0mset_x\u001b[0m\u001b[1;33m:\u001b[0m \u001b[0mlst_x\u001b[0m\u001b[1;33m}\u001b[0m\u001b[1;33m\u001b[0m\u001b[1;33m\u001b[0m\u001b[0m\n\u001b[0m",
      "\u001b[1;31mTypeError\u001b[0m: unhashable type: 'set'"
     ]
    }
   ],
   "source": [
    "dict_x = {set_x: lst_x}"
   ]
  },
  {
   "cell_type": "code",
   "execution_count": 9,
   "metadata": {
    "Collapsed": "false",
    "ExecuteTime": {
     "end_time": "2021-02-27T18:39:29.358930Z",
     "start_time": "2021-02-27T18:39:29.351981Z"
    }
   },
   "outputs": [
    {
     "name": "stdout",
     "output_type": "stream",
     "text": [
      "{frozenset({1, 2, 3}): [1, 4, 9]}\n",
      "{(1, 4, 9): {1, 2, 3}}\n"
     ]
    }
   ],
   "source": [
    "dict_x = {frozenset(set_x): lst_x}\n",
    "dict_y = {tuple(lst_x): set_x}\n",
    "\n",
    "print(dict_x)\n",
    "print(dict_y)"
   ]
  },
  {
   "cell_type": "markdown",
   "metadata": {
    "Collapsed": "false"
   },
   "source": [
    "## 2. Алгоритмы обработки массивов. Часть 1."
   ]
  },
  {
   "cell_type": "markdown",
   "metadata": {},
   "source": [
    "#### Задача. Двоичный (бинарный) поиск"
   ]
  },
  {
   "cell_type": "code",
   "execution_count": 10,
   "metadata": {
    "Collapsed": "false",
    "ExecuteTime": {
     "end_time": "2021-02-27T18:53:03.478763Z",
     "start_time": "2021-02-27T18:53:03.464801Z"
    }
   },
   "outputs": [],
   "source": [
    "def bin_search(array: list, value: int) -> int:\n",
    "    \"\"\" Бинарный поиск \"\"\"\n",
    "    left, right = 0, len(array) - 1\n",
    "    pos = len(array) // 2\n",
    "\n",
    "    while array[pos] != value and left <= right:\n",
    "        if value > array[pos]:\n",
    "            left = pos + 1\n",
    "        else:\n",
    "            right = pos - 1\n",
    "        pos = (left + right) // 2\n",
    "\n",
    "    return -1 if left > right else pos"
   ]
  },
  {
   "cell_type": "code",
   "execution_count": 15,
   "metadata": {
    "Collapsed": "false",
    "ExecuteTime": {
     "end_time": "2021-02-27T19:00:51.494721Z",
     "start_time": "2021-02-27T19:00:43.907319Z"
    }
   },
   "outputs": [
    {
     "name": "stdout",
     "output_type": "stream",
     "text": [
      "[17, 23, 23, 24, 33, 42, 55, 72, 83, 108, 127, 129, 129, 130, 133, 139, 141, 142, 151, 155, 177, 184, 216, 219, 233, 239, 277, 284, 300, 310, 315, 323, 345, 350, 377, 380, 385, 389, 408, 439, 454, 461, 484, 500, 505, 514, 520, 522, 525, 532, 535, 556, 561, 563, 578, 583, 583, 605, 612, 638, 646, 657, 657, 674, 674, 676, 680, 680, 698, 701, 731, 737, 748, 750, 759, 770, 772, 784, 804, 809, 824, 825, 847, 850, 851, 857, 864, 878, 887, 888, 904, 912, 914, 922, 923, 923, 925, 927, 949, 956]\n",
      "\n",
      "Какой элемент найти: 698\n",
      "68\n"
     ]
    }
   ],
   "source": [
    "import random\n",
    "\n",
    "a = [random.randint(0, 1000) for _ in range(100)]\n",
    "a.sort()\n",
    "print(a)\n",
    "\n",
    "n = int(input('\\nКакой элемент найти: '))\n",
    "print(bin_search(a, n))"
   ]
  },
  {
   "cell_type": "markdown",
   "metadata": {
    "Collapsed": "false"
   },
   "source": [
    "##  3. Алгоритмы обработки массивов. Часть 2."
   ]
  },
  {
   "cell_type": "markdown",
   "metadata": {
    "Collapsed": "false"
   },
   "source": [
    "#### Задача 1. Разложить положительные и отрицательные числа по разным массивам"
   ]
  },
  {
   "cell_type": "code",
   "execution_count": 23,
   "metadata": {
    "Collapsed": "false",
    "ExecuteTime": {
     "end_time": "2021-02-27T19:17:37.368170Z",
     "start_time": "2021-02-27T19:17:37.363185Z"
    }
   },
   "outputs": [],
   "source": [
    "import random\n",
    "\n",
    "array = [random.randint(-100, 100) for _ in range(20)]\n",
    "# print(array)"
   ]
  },
  {
   "cell_type": "code",
   "execution_count": 24,
   "metadata": {
    "Collapsed": "false",
    "ExecuteTime": {
     "end_time": "2021-02-27T19:17:37.963212Z",
     "start_time": "2021-02-27T19:17:37.954265Z"
    }
   },
   "outputs": [
    {
     "name": "stdout",
     "output_type": "stream",
     "text": [
      "arr_bellow [-94, -87, -58, -80, -65, -83, -16, -79, -40, -59]\n",
      "arr_lager [64, 68, 61, 75, 61, 23, 91, 43, 69, 76]\n"
     ]
    }
   ],
   "source": [
    "arr_bellow, arr_lager = [], []\n",
    "\n",
    "for item in array:  \n",
    "    if item > 0:\n",
    "        arr_lager.append(item)\n",
    "    else:\n",
    "        arr_bellow.append(item)\n",
    "\n",
    "print(f'arr_bellow {arr_bellow}')\n",
    "print(f'arr_lager {arr_lager}')"
   ]
  },
  {
   "cell_type": "markdown",
   "metadata": {
    "Collapsed": "false"
   },
   "source": [
    "#### Задача 2. Вставка элемента в прозвольное место массива"
   ]
  },
  {
   "cell_type": "code",
   "execution_count": 26,
   "metadata": {
    "Collapsed": "false",
    "ExecuteTime": {
     "end_time": "2021-02-28T07:09:05.376427Z",
     "start_time": "2021-02-28T07:09:00.453696Z"
    },
    "code_folding": []
   },
   "outputs": [
    {
     "name": "stdout",
     "output_type": "stream",
     "text": [
      "Введите целое число для вставки: 45\n",
      "На какую позицию вставить число: 3\n",
      "[62, 79, -34, 45, -63, 3, -8, -29, 81, -53, -89, -22, -58, -30, 7, -95, 23, -1, -59, -6, -85]\n"
     ]
    }
   ],
   "source": [
    "import random\n",
    "\n",
    "\n",
    "array = [random.randint(-100, 100) for _ in range(20)]\n",
    "\n",
    "num = int(input('Введите целое число для вставки: '))\n",
    "pos = int(input('На какую позицию вставить число: '))\n",
    "\n",
    "array.append(None)  # добавить в конец массива пустое значение\n",
    "i = len(array) - 1\n",
    "\n",
    "while i > pos:\n",
    "    array[i], array[i - 1] = array[i - 1], array[i]\n",
    "    i -= 1\n",
    "array[pos] = num\n",
    "\n",
    "# array.insert(pos, num)\n",
    "\n",
    "print(array)"
   ]
  },
  {
   "cell_type": "code",
   "execution_count": 50,
   "metadata": {
    "Collapsed": "false"
   },
   "outputs": [],
   "source": [
    "array_new = array[:pos] + [num] + array[pos:]\n",
    "# но этот метод требует в 2 раза больше памяти"
   ]
  },
  {
   "cell_type": "markdown",
   "metadata": {
    "Collapsed": "false"
   },
   "source": [
    "# 4. Алгоритмы обработки массивов. Часть 3."
   ]
  },
  {
   "cell_type": "markdown",
   "metadata": {},
   "source": [
    "#### Что такое матрица?"
   ]
  },
  {
   "cell_type": "code",
   "execution_count": 32,
   "metadata": {
    "Collapsed": "false",
    "ExecuteTime": {
     "end_time": "2021-02-28T07:13:42.061355Z",
     "start_time": "2021-02-28T07:13:42.050382Z"
    }
   },
   "outputs": [
    {
     "data": {
      "text/plain": [
       "array([[ 7,  2,  5,  8,  1],\n",
       "       [ 7,  8,  2,  6,  5],\n",
       "       [ 8,  9,  4,  9, 10],\n",
       "       [ 5,  7,  9, 10,  7],\n",
       "       [ 5,  5,  7,  2,  5],\n",
       "       [ 1,  4,  7,  4, 10],\n",
       "       [10,  8, 10,  6,  5]])"
      ]
     },
     "execution_count": 32,
     "metadata": {},
     "output_type": "execute_result"
    }
   ],
   "source": [
    "import random\n",
    "import numpy as np\n",
    "\n",
    "matrix = [[random.randint(1, 10) for _ in range(5)] for _ in range(7)]\n",
    "np.array(matrix)"
   ]
  },
  {
   "cell_type": "markdown",
   "metadata": {
    "Collapsed": "false"
   },
   "source": [
    "#### Задача 1. Посчитать сумму строк и столбцов матрицы"
   ]
  },
  {
   "cell_type": "code",
   "execution_count": 46,
   "metadata": {
    "Collapsed": "false",
    "ExecuteTime": {
     "end_time": "2021-02-28T07:22:40.732562Z",
     "start_time": "2021-02-28T07:22:40.721591Z"
    }
   },
   "outputs": [
    {
     "name": "stdout",
     "output_type": "stream",
     "text": [
      "  7  2  5  8  1  | 23\n",
      "  7  8  2  6  5  | 28\n",
      "  8  9  4  9 10  | 40\n",
      "  5  7  9 10  7  | 38\n",
      "  5  5  7  2  5  | 24\n",
      "  1  4  7  4 10  | 26\n",
      " 10  8 10  6  5  | 39\n",
      "---------------------\n",
      " 43 43 44 45 43"
     ]
    }
   ],
   "source": [
    "sum_column = [0] * len(matrix[0])\n",
    "\n",
    "for line in matrix:\n",
    "    sum_line = 0\n",
    "    for i, item in enumerate(line):\n",
    "        sum_line += item\n",
    "        sum_column[i] += item\n",
    "        print(f'{item:>3}', end='')\n",
    "    print(f'  | {sum_line}')\n",
    "print('-' * (len(matrix) * 3))\n",
    "\n",
    "for s in sum_column:\n",
    "    print(f'{s:>3}', end='')"
   ]
  },
  {
   "cell_type": "code",
   "execution_count": 41,
   "metadata": {
    "ExecuteTime": {
     "end_time": "2021-02-28T07:20:45.982031Z",
     "start_time": "2021-02-28T07:20:45.976045Z"
    }
   },
   "outputs": [
    {
     "name": "stdout",
     "output_type": "stream",
     "text": [
      "суммы строк = [43 43 44 45 43]\n",
      "суммы столбцов = [23 28 40 38 24 26 39]\n"
     ]
    }
   ],
   "source": [
    "print(f'суммы строк = {np.array(matrix).sum(axis=0)}')\n",
    "print(f'суммы столбцов = {np.array(matrix).sum(axis=1)}')"
   ]
  },
  {
   "cell_type": "markdown",
   "metadata": {
    "Collapsed": "false"
   },
   "source": [
    "#### Задача 2. Обмен значений главной и побочной диагоналей квадратной матрицы"
   ]
  },
  {
   "cell_type": "code",
   "execution_count": 48,
   "metadata": {
    "Collapsed": "false",
    "ExecuteTime": {
     "end_time": "2021-02-28T07:26:14.044457Z",
     "start_time": "2021-02-28T07:26:14.027507Z"
    }
   },
   "outputs": [
    {
     "name": "stdout",
     "output_type": "stream",
     "text": [
      "[[ 6  3 10  1  9]\n",
      " [ 5  9  8  2  5]\n",
      " [ 5  2  9  1  7]\n",
      " [ 9  1  9 10  6]\n",
      " [ 5  7  1  4  2]]\n",
      "--------------------\n",
      "  9  3 10  1  6\n",
      "  5  2  8  9  5\n",
      "  5  2  9  1  7\n",
      "  9 10  9  1  6\n",
      "  2  7  1  4  5\n"
     ]
    }
   ],
   "source": [
    "import random\n",
    "\n",
    "size = 5\n",
    "matrix = [[random.randint(1, 10) for _ in range(size)] for _ in range(size)]\n",
    "print(np.array(matrix))\n",
    "\n",
    "for i in range(size):\n",
    "    for j in range(size):\n",
    "        if i == j:\n",
    "            spam = matrix[i][j]\n",
    "            matrix[i][j] = matrix[i][size - 1 - j]\n",
    "            matrix[i][size - 1 - j] = spam\n",
    "print('-' * 20)\n",
    "for line in matrix:\n",
    "    for item in line:\n",
    "        print(f'{item:>3}', end='')\n",
    "    print()"
   ]
  },
  {
   "cell_type": "markdown",
   "metadata": {
    "Collapsed": "false"
   },
   "source": [
    "## 5. Работа с ассоциативными массивами (`dict`)"
   ]
  },
  {
   "cell_type": "markdown",
   "metadata": {
    "Collapsed": "false"
   },
   "source": [
    "#### Задача. Пользователь вводит количество предприятий, названия, плановую и фактическую прибыль каждого предприятия. Вычислить процент выполнения плана и вывести данные с предарительной фальтацией"
   ]
  },
  {
   "cell_type": "code",
   "execution_count": 1,
   "metadata": {
    "Collapsed": "false"
   },
   "outputs": [
    {
     "name": "stdin",
     "output_type": "stream",
     "text": [
      "Введите количество предприятий:  4\n",
      "Введите название предприятия:  a\n",
      "План:  12\n",
      "Факт:  11\n",
      "Введите название предприятия:  b\n",
      "План:  16\n",
      "Факт:  9\n",
      "Введите название предприятия:  c\n",
      "План:  13\n",
      "Факт:  11\n",
      "Введите название предприятия:  d\n",
      "План:  11\n",
      "Факт:  13\n"
     ]
    },
    {
     "name": "stdout",
     "output_type": "stream",
     "text": [
      "Фактиеская прибыль больше 10, но план не выполнен\n",
      "Предприятие a заработало 11.0, что составило 91.666667%\n",
      "Предприятие c заработало 11.0, что составило 84.615385%\n"
     ]
    }
   ],
   "source": [
    "k = int(input('Введите количество предприятий: '))\n",
    "enterprises = {}\n",
    "\n",
    "for i in range(1, k + 1): \n",
    "    name = input('Введите название предприятия: ')\n",
    "    enterprises[name] = [float(input('План: ')), float(input('Факт: '))]\n",
    "    enterprises[name].append(enterprises[name][1] / enterprises[name][0])\n",
    "\n",
    "print(f'Фактиеская прибыль больше 10, но план не выполнен')\n",
    "for key, value in enterprises.items():\n",
    "    if value[1] > 10 and value[2] < 1:\n",
    "        print(\n",
    "            f'Предприятие {key} заработало {value[1]}, что составило {value[2]*100:.2f}%'\n",
    "        )"
   ]
  },
  {
   "cell_type": "code",
   "execution_count": null,
   "metadata": {
    "Collapsed": "false"
   },
   "outputs": [],
   "source": []
  }
 ],
 "metadata": {
  "kernelspec": {
   "display_name": "Python 3",
   "language": "python",
   "name": "python3"
  },
  "language_info": {
   "codemirror_mode": {
    "name": "ipython",
    "version": 3
   },
   "file_extension": ".py",
   "mimetype": "text/x-python",
   "name": "python",
   "nbconvert_exporter": "python",
   "pygments_lexer": "ipython3",
   "version": "3.8.5"
  },
  "varInspector": {
   "cols": {
    "lenName": 16,
    "lenType": 16,
    "lenVar": 40
   },
   "kernels_config": {
    "python": {
     "delete_cmd_postfix": "",
     "delete_cmd_prefix": "del ",
     "library": "var_list.py",
     "varRefreshCmd": "print(var_dic_list())"
    },
    "r": {
     "delete_cmd_postfix": ") ",
     "delete_cmd_prefix": "rm(",
     "library": "var_list.r",
     "varRefreshCmd": "cat(var_dic_list()) "
    }
   },
   "types_to_exclude": [
    "module",
    "function",
    "builtin_function_or_method",
    "instance",
    "_Feature"
   ],
   "window_display": false
  }
 },
 "nbformat": 4,
 "nbformat_minor": 4
}
