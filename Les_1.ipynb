{
 "cells": [
  {
   "cell_type": "markdown",
   "metadata": {
    "Collapsed": "true"
   },
   "source": [
    "# Способы представления алгоритма. Ч.1"
   ]
  },
  {
   "cell_type": "markdown",
   "metadata": {
    "Collapsed": "false"
   },
   "source": [
    "### Всевдокод "
   ]
  },
  {
   "cell_type": "markdown",
   "metadata": {
    "Collapsed": "false"
   },
   "source": [
    "- Начало\n",
    "- Вывод (\"Введите 2 числа\")\n",
    "- Ввод (Первое число)\n",
    "- Ввод (Второе число)\n",
    "- если (Второе число) != 0\n",
    "- то честное  = (Первое число) числитель / (Второе число) знаменатель\n",
    "    - Вывод(\"Результат равен\" частное)\n",
    "- иначе вывод (\"нет решения\")\n",
    "- конец алгоритма"
   ]
  },
  {
   "cell_type": "markdown",
   "metadata": {
    "Collapsed": "false"
   },
   "source": [
    "# Способы представления алгоритма. Ч.2\n"
   ]
  },
  {
   "cell_type": "markdown",
   "metadata": {
    "Collapsed": "false"
   },
   "source": [
    "Виды алгоритмов:\n",
    "- Линейный\n",
    "- Разветвляющийся\n",
    "- Циклический"
   ]
  },
  {
   "cell_type": "code",
   "execution_count": null,
   "metadata": {},
   "outputs": [],
   "source": []
  }
 ],
 "metadata": {
  "kernelspec": {
   "display_name": "Python 3",
   "language": "python",
   "name": "python3"
  },
  "language_info": {
   "codemirror_mode": {
    "name": "ipython",
    "version": 3
   },
   "file_extension": ".py",
   "mimetype": "text/x-python",
   "name": "python",
   "nbconvert_exporter": "python",
   "pygments_lexer": "ipython3",
   "version": "3.7.6"
  }
 },
 "nbformat": 4,
 "nbformat_minor": 4
}
