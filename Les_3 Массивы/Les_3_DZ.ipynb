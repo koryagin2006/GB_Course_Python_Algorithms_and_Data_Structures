{
 "cells": [
  {
   "cell_type": "markdown",
   "metadata": {
    "Collapsed": "false"
   },
   "source": [
    "# Урок 3. Массивы. ДЗ"
   ]
  },
  {
   "cell_type": "markdown",
   "metadata": {
    "Collapsed": "false"
   },
   "source": [
    "Для каждого упражнения написать программную реализацию.\n",
    "\n",
    "Код пишите в файлах с расширением .py в кодировке UTF-8 (в PyCharm работает по умолчанию). Каждую задачу необходимо сохранять в отдельный файл. Рекомендуем использовать английские имена, например, les_3_task_1, \n",
    "les_3_task_2 и т.д.\n",
    "\n",
    "Для оценки «Отлично» достаточно **выполнить 5 любых задания на ваш выбор** («Отлично» ставится за работы без ошибок). \n",
    "\n",
    "Например, если вы сдадите 8 заданий и 3 из них сделаны неверно, оценка не может быть отличной.\n",
    "\n",
    "**Примечание:** попытайтесь решить задания без использования функций `max`, `min`, `sum`, `sorted` и их аналогов, в том числе написанных самостоятельно.\n",
    "В задачах 3, 4, 5, 6, 9, если искомый элемент(ы) встречается в массиве несколько раз, используйте один любой по вашему выбору."
   ]
  },
  {
   "cell_type": "markdown",
   "metadata": {
    "Collapsed": "true"
   },
   "source": [
    "## **ok!** 1. В диапазоне натуральных чисел от 2 до 99 определить, сколько из них кратны каждому из чисел в диапазоне от 2 до 9. Примечание: 8 разных ответов."
   ]
  },
  {
   "cell_type": "code",
   "execution_count": 10,
   "metadata": {
    "Collapsed": "false"
   },
   "outputs": [
    {
     "name": "stdout",
     "output_type": "stream",
     "text": [
      "49 чисел кратно 2\n",
      "33 чисел кратно 3\n",
      "24 чисел кратно 4\n",
      "19 чисел кратно 5\n",
      "16 чисел кратно 6\n",
      "14 чисел кратно 7\n",
      "12 чисел кратно 8\n",
      "11 чисел кратно 9\n"
     ]
    }
   ],
   "source": [
    "for i in range(2, 10):\n",
    "    num = 0\n",
    "    for item_ in range(2, 100):\n",
    "        if item_ % i == 0:\n",
    "            num += 1\n",
    "    print(f'{num} чисел кратно {i}')"
   ]
  },
  {
   "cell_type": "markdown",
   "metadata": {
    "Collapsed": "true"
   },
   "source": [
    "## **ok!** 2. Во втором массиве сохранить индексы четных элементов первого массива. Например, если дан массив со значениями 8, 3, 15, 6, 4, 2, второй массив надо заполнить значениями 0, 3, 4, 5 (помните, что индексация начинается с нуля), т. к. именно в этих позициях первого массива стоят четные числа."
   ]
  },
  {
   "cell_type": "code",
   "execution_count": 12,
   "metadata": {
    "Collapsed": "false"
   },
   "outputs": [
    {
     "name": "stdout",
     "output_type": "stream",
     "text": [
      "list_1 [3, 1, 1, 10, 9, 7, 7, 3, 6, 4]\n",
      "list_2 [3, 8, 9]\n"
     ]
    }
   ],
   "source": [
    "from random import randint\n",
    "\n",
    "list_1 = [randint(1, 10) for _ in range(10)]\n",
    "print(f'list_1 {list_1}')\n",
    "# list_1 = [8, 3, 15, 6, 4, 2]\n",
    "\n",
    "list_2 = []\n",
    "for i in enumerate(list_1):\n",
    "    if i[1] % 2 == 0:\n",
    "        list_2.append(i[0])\n",
    "print(f'list_2 {list_2}')"
   ]
  },
  {
   "cell_type": "markdown",
   "metadata": {
    "Collapsed": "true"
   },
   "source": [
    "## **ok!** 3. В массиве случайных целых чисел поменять местами минимальный и максимальный элементы."
   ]
  },
  {
   "cell_type": "code",
   "execution_count": 57,
   "metadata": {
    "Collapsed": "false"
   },
   "outputs": [
    {
     "name": "stdout",
     "output_type": "stream",
     "text": [
      "list_1 [6, 10, 9, 10, 6, 2, 4, 2, 10, 3] min = 2, max = 10\n",
      "list_2 [6, 2, 9, 2, 6, 2, 4, 2, 2, 3]\n"
     ]
    }
   ],
   "source": [
    "from random import randint\n",
    "\n",
    "list_1 = [randint(1, 10) for _ in range(10)]\n",
    "\n",
    "# предположим, что максимальный элемент равен mas[0]\n",
    "len(list_1)\n",
    "maximum = list_1[0]\n",
    "mininum = list_1[0]\n",
    "for i in range(1, len(list_1)):\n",
    "    if list_1[i] > maximum:\n",
    "        maximum = list_1[i]\n",
    "\n",
    "for i in range(1, len(list_1)):\n",
    "    if list_1[i] < mininum:\n",
    "        mininum = list_1[i]\n",
    "\n",
    "print(f'list_1 {list_1} min = {mininum}, max = {maximum}')\n",
    "\n",
    "list_2 = list_1.copy()\n",
    "for i, item in enumerate(list_2):\n",
    "    if item == maximum:\n",
    "        list_2[i] = mininum\n",
    "\n",
    "print(f'list_2 {list_2}')"
   ]
  },
  {
   "cell_type": "markdown",
   "metadata": {
    "Collapsed": "false"
   },
   "source": [
    "## 4. Определить, какое число в массиве встречается чаще всего."
   ]
  },
  {
   "cell_type": "markdown",
   "metadata": {
    "Collapsed": "false"
   },
   "source": [
    "## **ok!** 5. В массиве найти максимальный отрицательный элемент. Вывести на экран его значение и позицию в массиве.\n",
    "Примечание к задаче: пожалуйста не путайте «минимальный» и «максимальный отрицательный». Это два абсолютно разных значения."
   ]
  },
  {
   "cell_type": "code",
   "execution_count": 131,
   "metadata": {
    "Collapsed": "false"
   },
   "outputs": [
    {
     "name": "stdout",
     "output_type": "stream",
     "text": [
      "list_1 [7, 4, 1, -1, 9, 8, 3, -2, 8, -3]\n",
      "list_2 [-1, -2, -3] отрицательные числа списка 1\n",
      "------------------------------\n",
      "max < 0 = -1\n",
      "позиция в массиве = 3, \n"
     ]
    }
   ],
   "source": [
    "from random import randint\n",
    "\n",
    "list_1 = [randint(-10, 10) for _ in range(10)]\n",
    "print(f'list_1 {list_1}')\n",
    "\n",
    "list_2 = []\n",
    "for i in list_1:\n",
    "    if i < 0:\n",
    "        list_2.append(i)\n",
    "print(f'list_2 {list_2} отрицательные числа списка 1')\n",
    "\n",
    "maximum = list_2[0]\n",
    "for i in range(1,len(list_2)):\n",
    "    if list_2[i] > maximum:\n",
    "        list_2[i] = maximum\n",
    "print('-'*30)\n",
    "print(f'max < 0 = {maximum}')\n",
    "pos = ''\n",
    "for i, item in enumerate(list_1):\n",
    "    if item == maximum:\n",
    "        pos += str(i)\n",
    "        pos += ', '\n",
    "print(f'позиция в массиве = {pos}')"
   ]
  },
  {
   "cell_type": "markdown",
   "metadata": {
    "Collapsed": "false"
   },
   "source": [
    "## **ok!** 6. В одномерном массиве найти сумму элементов, находящихся между минимальным и максимальным элементами. Сами минимальный и максимальный элементы в сумму не включать."
   ]
  },
  {
   "cell_type": "code",
   "execution_count": 137,
   "metadata": {
    "Collapsed": "false"
   },
   "outputs": [
    {
     "name": "stdout",
     "output_type": "stream",
     "text": [
      "list_1 [34, 23, 28, 82, 94, 36, 24, 88, 95, 79] \n",
      "min = 23, max = 95\n",
      "index_min = 1, index_max = 8\n",
      "list_2 [28, 82, 94, 36, 24, 88] (список между макс и мин)\n",
      "------------------------------\n",
      "Сумма элементов списка list_2 = 352\n"
     ]
    }
   ],
   "source": [
    "list_1 = [34, 23, 28, 82, 94, 36, 24, 88, 95, 79]\n",
    "len(list_1)\n",
    "maximum = list_1[0]\n",
    "mininum = list_1[0]\n",
    "\n",
    "for i in range(1, len(list_1)):\n",
    "    if list_1[i] > maximum:\n",
    "        maximum = list_1[i]\n",
    "\n",
    "for i in range(1, len(list_1)):\n",
    "    if list_1[i] < mininum:\n",
    "        mininum = list_1[i]\n",
    "print(f'list_1 {list_1} \\nmin = {mininum}, max = {maximum}')\n",
    "\n",
    "for i, item in enumerate(list_1):\n",
    "    if item == maximum:\n",
    "        index_max = i\n",
    "    elif item == mininum:\n",
    "        index_min = i\n",
    "print(f'index_min = {index_min}, index_max = {index_max}')\n",
    "\n",
    "list_2 = list_1[index_min+1:index_max]\n",
    "print(f'list_2 {list_2} (список между макс и мин)')\n",
    "\n",
    "list_2_sum = 0\n",
    "for i in list_2:\n",
    "    list_2_sum += i\n",
    "print('-'*30)\n",
    "print(f'Сумма элементов списка list_2 = {list_2_sum}')"
   ]
  },
  {
   "cell_type": "markdown",
   "metadata": {
    "Collapsed": "false"
   },
   "source": [
    "## 7. В одномерном массиве целых чисел определить два наименьших элемента. Они могут быть как равны между собой (оба минимальны), так и различаться."
   ]
  },
  {
   "cell_type": "markdown",
   "metadata": {
    "Collapsed": "false"
   },
   "source": [
    "## 8. Матрица 5x4 заполняется вводом с клавиатуры, кроме последних элементов строк. Программа должна вычислять сумму введенных элементов каждой строки и записывать ее в последнюю ячейку строки. В конце следует вывести полученную матрицу."
   ]
  },
  {
   "cell_type": "markdown",
   "metadata": {
    "Collapsed": "false"
   },
   "source": [
    "## 9. Найти максимальный элемент среди минимальных элементов столбцов матрицы."
   ]
  },
  {
   "cell_type": "code",
   "execution_count": null,
   "metadata": {
    "Collapsed": "false"
   },
   "outputs": [],
   "source": []
  }
 ],
 "metadata": {
  "kernelspec": {
   "display_name": "Python 3",
   "language": "python",
   "name": "python3"
  },
  "language_info": {
   "codemirror_mode": {
    "name": "ipython",
    "version": 3
   },
   "file_extension": ".py",
   "mimetype": "text/x-python",
   "name": "python",
   "nbconvert_exporter": "python",
   "pygments_lexer": "ipython3",
   "version": "3.7.6"
  }
 },
 "nbformat": 4,
 "nbformat_minor": 4
}
