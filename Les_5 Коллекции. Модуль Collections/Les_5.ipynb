{
 "cells": [
  {
   "cell_type": "markdown",
   "metadata": {
    "Collapsed": "true"
   },
   "source": [
    "# Counter"
   ]
  },
  {
   "cell_type": "markdown",
   "metadata": {
    "Collapsed": "false"
   },
   "source": [
    "**Counter** - подкласс словаря в python (`dict`). Неупорядоченная коллекция пар \"ключ-значение\", где значение - частота вхлждения ключа"
   ]
  },
  {
   "cell_type": "code",
   "execution_count": 3,
   "metadata": {
    "Collapsed": "false"
   },
   "outputs": [],
   "source": [
    "from pprint import pprint"
   ]
  },
  {
   "cell_type": "markdown",
   "metadata": {
    "Collapsed": "false"
   },
   "source": [
    "## task_1"
   ]
  },
  {
   "cell_type": "code",
   "execution_count": 8,
   "metadata": {
    "Collapsed": "false"
   },
   "outputs": [
    {
     "name": "stdout",
     "output_type": "stream",
     "text": [
      "Counter()\n",
      "Counter({'a': 5, 'b': 2, 'r': 2, 'k': 1, 'd': 1})\n",
      "Counter({'blue': 4, 'red': 2})\n",
      "Counter({'dogs': 5, 'cats': 4})\n"
     ]
    }
   ],
   "source": [
    "from collections import Counter\n",
    "\n",
    "a = Counter()\n",
    "b = Counter('abrakadabra')\n",
    "c = Counter({'red': 2, 'blue': 4})\n",
    "d = Counter(cats=4, dogs=5)\n",
    "\n",
    "print(a, b, c, d, sep='\\n')"
   ]
  },
  {
   "cell_type": "code",
   "execution_count": 10,
   "metadata": {
    "Collapsed": "false"
   },
   "outputs": [
    {
     "name": "stdout",
     "output_type": "stream",
     "text": [
      "0\n"
     ]
    }
   ],
   "source": [
    "print(b['z'])\n",
    "# Т.е. символ 'z' встречается в коллекции 0 раз"
   ]
  },
  {
   "cell_type": "code",
   "execution_count": 15,
   "metadata": {
    "Collapsed": "false"
   },
   "outputs": [
    {
     "name": "stdout",
     "output_type": "stream",
     "text": [
      "Counter({'a': 5, 'b': 2, 'r': 2, 'k': 1, 'd': 1, 'z': 0})\n"
     ]
    }
   ],
   "source": [
    "b['z'] = 0\n",
    "print(b)"
   ]
  },
  {
   "cell_type": "code",
   "execution_count": 13,
   "metadata": {
    "Collapsed": "false"
   },
   "outputs": [
    {
     "name": "stdout",
     "output_type": "stream",
     "text": [
      "['a', 'a', 'a', 'a', 'a', 'b', 'b', 'r', 'r', 'k', 'd']\n"
     ]
    }
   ],
   "source": [
    "# Метод 'elements'\n",
    "print(list(b.elements()))"
   ]
  },
  {
   "cell_type": "code",
   "execution_count": 17,
   "metadata": {
    "Collapsed": "false"
   },
   "outputs": [
    {
     "name": "stdout",
     "output_type": "stream",
     "text": [
      "[('a', 5), ('b', 2)]\n"
     ]
    }
   ],
   "source": [
    "print(b.most_common(2))"
   ]
  },
  {
   "cell_type": "code",
   "execution_count": 18,
   "metadata": {
    "Collapsed": "false"
   },
   "outputs": [
    {
     "name": "stdout",
     "output_type": "stream",
     "text": [
      "Counter({'b': 4, 'a': 3, 'd': 2, 'c': -5})\n"
     ]
    }
   ],
   "source": [
    "# Вычитание из коллекции 'g', коллекции 'f'\n",
    "g = Counter(a=4, b=6, c=-2, d=0)\n",
    "f = Counter(a=1, b=2, c=3, d=-2)\n",
    "g.subtract(f)\n",
    "print(g)"
   ]
  },
  {
   "cell_type": "code",
   "execution_count": 19,
   "metadata": {
    "Collapsed": "false"
   },
   "outputs": [
    {
     "name": "stdout",
     "output_type": "stream",
     "text": [
      "{'b', 'c', 'd', 'a'}\n"
     ]
    }
   ],
   "source": [
    "print(set(g))"
   ]
  },
  {
   "cell_type": "code",
   "execution_count": 20,
   "metadata": {
    "Collapsed": "false"
   },
   "outputs": [
    {
     "name": "stdout",
     "output_type": "stream",
     "text": [
      "{'a': 3, 'b': 4, 'c': -5, 'd': 2}\n"
     ]
    }
   ],
   "source": [
    "print(dict(g))"
   ]
  },
  {
   "cell_type": "code",
   "execution_count": 21,
   "metadata": {
    "Collapsed": "false"
   },
   "outputs": [
    {
     "name": "stdout",
     "output_type": "stream",
     "text": [
      "Counter()\n"
     ]
    }
   ],
   "source": [
    "g.clear()\n",
    "print(g)"
   ]
  },
  {
   "cell_type": "markdown",
   "metadata": {
    "Collapsed": "false"
   },
   "source": [
    "С коллекциями можно производить математические и логические операции"
   ]
  },
  {
   "cell_type": "code",
   "execution_count": 22,
   "metadata": {
    "Collapsed": "false"
   },
   "outputs": [],
   "source": [
    "x = Counter(a=3, b=1)\n",
    "y = Counter(a=1, b=2)"
   ]
  },
  {
   "cell_type": "code",
   "execution_count": 23,
   "metadata": {
    "Collapsed": "false"
   },
   "outputs": [
    {
     "name": "stdout",
     "output_type": "stream",
     "text": [
      "Counter({'a': 4, 'b': 3})\n"
     ]
    }
   ],
   "source": [
    "print(x + y)"
   ]
  },
  {
   "cell_type": "code",
   "execution_count": 24,
   "metadata": {
    "Collapsed": "false"
   },
   "outputs": [
    {
     "name": "stdout",
     "output_type": "stream",
     "text": [
      "Counter({'a': 2})\n"
     ]
    }
   ],
   "source": [
    "print(x - y)"
   ]
  },
  {
   "cell_type": "code",
   "execution_count": 25,
   "metadata": {
    "Collapsed": "false"
   },
   "outputs": [
    {
     "name": "stdout",
     "output_type": "stream",
     "text": [
      "Counter({'a': 1, 'b': 1})\n"
     ]
    }
   ],
   "source": [
    "print(x & y)\n",
    "# выдает значения, кторые есть и в первом и во втором коде"
   ]
  },
  {
   "cell_type": "code",
   "execution_count": 27,
   "metadata": {
    "Collapsed": "false"
   },
   "outputs": [
    {
     "name": "stdout",
     "output_type": "stream",
     "text": [
      "Counter({'a': 3, 'b': 2})\n"
     ]
    }
   ],
   "source": [
    "print(x | y)\n",
    "# выдает значения, кторые есть или в первом или во втором коде"
   ]
  },
  {
   "cell_type": "markdown",
   "metadata": {
    "Collapsed": "false"
   },
   "source": [
    "Унарное сложение (вычитание)"
   ]
  },
  {
   "cell_type": "code",
   "execution_count": 28,
   "metadata": {
    "Collapsed": "false"
   },
   "outputs": [],
   "source": [
    "z = Counter(a=2, b=-4)"
   ]
  },
  {
   "cell_type": "code",
   "execution_count": 29,
   "metadata": {
    "Collapsed": "false"
   },
   "outputs": [
    {
     "name": "stdout",
     "output_type": "stream",
     "text": [
      "Counter({'a': 2})\n"
     ]
    }
   ],
   "source": [
    "print(+z)\n",
    "# оставляет только положительные элементы"
   ]
  },
  {
   "cell_type": "code",
   "execution_count": 31,
   "metadata": {
    "Collapsed": "false"
   },
   "outputs": [
    {
     "name": "stdout",
     "output_type": "stream",
     "text": [
      "Counter({'b': 4})\n"
     ]
    }
   ],
   "source": [
    "print(-z)\n",
    "# оставляет только отрицателные элементы и меняет их знак"
   ]
  },
  {
   "cell_type": "markdown",
   "metadata": {
    "Collapsed": "false"
   },
   "source": [
    "# Deque"
   ]
  },
  {
   "cell_type": "markdown",
   "metadata": {
    "Collapsed": "false"
   },
   "source": [
    "`deque` - очередь. Очередь имеет свойство самоорганизации. 2 свойство - произвольное расположение, а порядок поддерживается за счет связей. Пример - очередь в поликлинике."
   ]
  },
  {
   "cell_type": "code",
   "execution_count": 32,
   "metadata": {
    "Collapsed": "false"
   },
   "outputs": [
    {
     "name": "stdout",
     "output_type": "stream",
     "text": [
      "deque([])\n",
      "deque(['a', 'b', 'c', 'd', 'e', 'f'])\n",
      "deque([1, 2, 3, 4, 5])\n"
     ]
    }
   ],
   "source": [
    "# task_2\n",
    "from collections import deque\n",
    "\n",
    "a = deque()\n",
    "b = deque('abcdef')\n",
    "c = deque([1, 2, 3, 4, 5])\n",
    "\n",
    "print(a,b,c, sep='\\n')"
   ]
  },
  {
   "cell_type": "markdown",
   "metadata": {
    "Collapsed": "false"
   },
   "source": [
    "### - Внутрь `deque` можно передать все, что можно обработать чиклом `for`"
   ]
  },
  {
   "cell_type": "code",
   "execution_count": 34,
   "metadata": {
    "Collapsed": "false"
   },
   "outputs": [
    {
     "name": "stdout",
     "output_type": "stream",
     "text": [
      "deque(['d', 'e', 'f'], maxlen=3)\n",
      "deque([2, 3, 4, 5], maxlen=4)\n"
     ]
    }
   ],
   "source": [
    "b = deque('abcdef', maxlen=3)\n",
    "c = deque([1, 2, 3, 4, 5], maxlen=4)\n",
    "\n",
    "print(b,c, sep='\\n')"
   ]
  },
  {
   "cell_type": "code",
   "execution_count": 35,
   "metadata": {
    "Collapsed": "false"
   },
   "outputs": [
    {
     "name": "stdout",
     "output_type": "stream",
     "text": [
      "deque(['d', 'e', 'f'], maxlen=3)\n",
      "deque([], maxlen=4)\n"
     ]
    }
   ],
   "source": [
    "c.clear()\n",
    "print(b,c, sep='\\n')"
   ]
  },
  {
   "cell_type": "markdown",
   "metadata": {
    "Collapsed": "false"
   },
   "source": [
    "### - Добавление элементов в начало или конец очереди"
   ]
  },
  {
   "cell_type": "code",
   "execution_count": 37,
   "metadata": {
    "Collapsed": "false"
   },
   "outputs": [
    {
     "name": "stdout",
     "output_type": "stream",
     "text": [
      "deque([6, 0, 1, 2, 3, 4, 5])\n"
     ]
    }
   ],
   "source": [
    "d = deque([i for i in range(5)])\n",
    "d.append(5)  # добавить элемент в конец очереди\n",
    "d.appendleft(6)  # добавить элемент в начало очереди\n",
    "print(d)"
   ]
  },
  {
   "cell_type": "markdown",
   "metadata": {
    "Collapsed": "false"
   },
   "source": [
    "### - Добавление сразу нескольких элементов"
   ]
  },
  {
   "cell_type": "code",
   "execution_count": 39,
   "metadata": {
    "Collapsed": "false"
   },
   "outputs": [
    {
     "name": "stdout",
     "output_type": "stream",
     "text": [
      "deque([12, 11, 10, 12, 11, 10, 6, 0, 1, 2, 3, 4, 5, 7, 8, 9, 7, 8, 9])\n"
     ]
    }
   ],
   "source": [
    "d.extend([7,8,9])\n",
    "d.extendleft([10,11,12])\n",
    "print(d)"
   ]
  },
  {
   "cell_type": "code",
   "execution_count": 40,
   "metadata": {
    "Collapsed": "false"
   },
   "outputs": [
    {
     "name": "stdout",
     "output_type": "stream",
     "text": [
      "deque([12, 11, 10, 1, 2, 3, 4], maxlen=7)\n"
     ]
    }
   ],
   "source": [
    "d = deque([i for i in range(5)], maxlen=7)\n",
    "d.extend([7,8,9])\n",
    "d.extendleft([10,11,12])\n",
    "print(d)"
   ]
  },
  {
   "cell_type": "markdown",
   "metadata": {
    "Collapsed": "false"
   },
   "source": [
    "### - Удаление элементов из очереди"
   ]
  },
  {
   "cell_type": "code",
   "execution_count": 42,
   "metadata": {
    "Collapsed": "false"
   },
   "outputs": [
    {
     "name": "stdout",
     "output_type": "stream",
     "text": [
      "deque([1, 2, 3], maxlen=7)\n",
      "4\n",
      "0\n"
     ]
    }
   ],
   "source": [
    "f = deque([i for i in range(5)], maxlen=7)\n",
    "x = f.pop()\n",
    "y = f.popleft()\n",
    "print(f, x, y, sep='\\n')"
   ]
  },
  {
   "cell_type": "markdown",
   "metadata": {
    "Collapsed": "false"
   },
   "source": [
    "### - Количество вхождений элемента в очередь"
   ]
  },
  {
   "cell_type": "code",
   "execution_count": 43,
   "metadata": {
    "Collapsed": "false"
   },
   "outputs": [
    {
     "name": "stdout",
     "output_type": "stream",
     "text": [
      "1\n"
     ]
    }
   ],
   "source": [
    "g = deque([i for i in range(5)], maxlen=7)\n",
    "print(g.count(2))"
   ]
  },
  {
   "cell_type": "markdown",
   "metadata": {
    "Collapsed": "false"
   },
   "source": [
    "### - Позиция элемента в очереди"
   ]
  },
  {
   "cell_type": "code",
   "execution_count": 44,
   "metadata": {
    "Collapsed": "false"
   },
   "outputs": [
    {
     "name": "stdout",
     "output_type": "stream",
     "text": [
      "3\n"
     ]
    }
   ],
   "source": [
    "print(g.index(3))"
   ]
  },
  {
   "cell_type": "markdown",
   "metadata": {
    "Collapsed": "false"
   },
   "source": [
    "### - Добавлвение элеметна в середину очереди"
   ]
  },
  {
   "cell_type": "code",
   "execution_count": 45,
   "metadata": {
    "Collapsed": "false"
   },
   "outputs": [
    {
     "name": "stdout",
     "output_type": "stream",
     "text": [
      "deque([0, 1, 6, 2, 3, 4], maxlen=7)\n"
     ]
    }
   ],
   "source": [
    "g.insert(2, 6)  # добавить на позицию 2 число 6\n",
    "print(g)"
   ]
  },
  {
   "cell_type": "markdown",
   "metadata": {
    "Collapsed": "false"
   },
   "source": [
    "### - Разворот очереди"
   ]
  },
  {
   "cell_type": "code",
   "execution_count": 47,
   "metadata": {
    "Collapsed": "false"
   },
   "outputs": [
    {
     "name": "stdout",
     "output_type": "stream",
     "text": [
      "deque([4, 3, 2, 6, 1, 0], maxlen=7)\n",
      "deque([0, 1, 6, 2, 3, 4], maxlen=7)\n"
     ]
    }
   ],
   "source": [
    "print(g)\n",
    "g.reverse()\n",
    "print(g)"
   ]
  },
  {
   "cell_type": "markdown",
   "metadata": {
    "Collapsed": "false"
   },
   "source": [
    "### - Ротация\n",
    "\\- перемещение n элементов из правой части очереди в левую, или из левой в правую, если n - отрицательное"
   ]
  },
  {
   "cell_type": "code",
   "execution_count": 48,
   "metadata": {
    "Collapsed": "false"
   },
   "outputs": [
    {
     "name": "stdout",
     "output_type": "stream",
     "text": [
      "deque([0, 1, 6, 2, 3, 4], maxlen=7)\n",
      "deque([2, 3, 4, 0, 1, 6], maxlen=7)\n"
     ]
    }
   ],
   "source": [
    "print(g)\n",
    "g.rotate(3)\n",
    "print(g)"
   ]
  },
  {
   "cell_type": "markdown",
   "metadata": {
    "Collapsed": "false"
   },
   "source": [
    "## Задача\n",
    "разложить список на - и + числа"
   ]
  },
  {
   "cell_type": "code",
   "execution_count": 50,
   "metadata": {
    "Collapsed": "false"
   },
   "outputs": [
    {
     "name": "stdout",
     "output_type": "stream",
     "text": [
      "[7, -99, 93, -45, -25, 66, 34, 10, 17, -2]\n",
      "--------------------------------------------------\n",
      "[-2, -25, -45, -99, 7, 93, 66, 34, 10, 17]\n"
     ]
    }
   ],
   "source": [
    "from collections import deque\n",
    "import random\n",
    "\n",
    "array = [random.randint(-100, 100) for _ in range(10)]\n",
    "print(array)\n",
    "\n",
    "deq = deque()\n",
    "\n",
    "for item in array:\n",
    "    if item > 0:\n",
    "        deq.append(item)\n",
    "    elif item < 0:\n",
    "        deq.appendleft(item)\n",
    "print('-'*50)        \n",
    "print(list(deq))"
   ]
  },
  {
   "cell_type": "code",
   "execution_count": null,
   "metadata": {},
   "outputs": [],
   "source": []
  }
 ],
 "metadata": {
  "kernelspec": {
   "display_name": "Python 3",
   "language": "python",
   "name": "python3"
  },
  "language_info": {
   "codemirror_mode": {
    "name": "ipython",
    "version": 3
   },
   "file_extension": ".py",
   "mimetype": "text/x-python",
   "name": "python",
   "nbconvert_exporter": "python",
   "pygments_lexer": "ipython3",
   "version": "3.7.6"
  },
  "toc-autonumbering": true,
  "toc-showcode": false,
  "toc-showmarkdowntxt": true
 },
 "nbformat": 4,
 "nbformat_minor": 4
}
