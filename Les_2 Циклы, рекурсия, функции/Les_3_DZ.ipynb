{
 "cells": [
  {
   "cell_type": "markdown",
   "metadata": {
    "Collapsed": "false"
   },
   "source": [
    "# Урок 2. ДЗ"
   ]
  },
  {
   "cell_type": "markdown",
   "metadata": {
    "Collapsed": "false"
   },
   "source": [
    "## Комментарии"
   ]
  },
  {
   "cell_type": "markdown",
   "metadata": {
    "Collapsed": "false"
   },
   "source": [
    "Для каждого упражнения составить графическое представление алгоритма в виде блок-схемы и написать программную реализацию.\n",
    "\n",
    "Блок-схему можно делать на сайте draw.io (рекомендуется) или в любом другом редакторе. При работе в draw.io у вас должен быть один файл. Блок-схемы для каждой задачи рисуются на новом листе. Убедитесь, что прилагаемая ссылка доступна для просмотра, или пришлите архив с блок-схемами в формате PDF или jpg.\n",
    "Код пишите в файлах с расширением .py в кодировке UTF-8 (в PyCharm работает по умолчанию). Каждую задачу необходимо сохранять в отдельный файл.\n",
    "\n",
    "В начале каждого файла вставьте текст задачи в виде комментария к коду. Имя файла с кодом должно совпадать с именем листа в draw.io с соответствующей блок-схемой. Рекомендуем использовать английские имена, например, les_2_task_1, les_2_task_2, и т.д.\n",
    "\n",
    "**Для оценки «Отлично» достаточно выполнить 4 любых задания на ваш выбор.\n",
    "Оценка ставится за работы без ошибок. Если вы сдадите 6 заданий и 2 из них сделаны неверно, оценка не может быть отличной.**"
   ]
  },
  {
   "cell_type": "markdown",
   "metadata": {
    "Collapsed": "false"
   },
   "source": [
    "**Примечания:**\n",
    "В заданиях 2, 3, 4, 7, 8, 9 пользователь вводит только натуральные числа.\n",
    "Попытайтесь решить задания **без использования массивов в любых вариациях** (массивы будут рассмотрены на следующем уроке). Для простоты понимания любые квадратные скобки [ и ] считаются массивами и их наличие в коде расценивается как неверное решение.\n",
    "\n",
    "Договариваемся об идеальном пользователе, который вводит только верные данные, которые требует программа. Проверка ввода не обязательна. Уделите это время в первую очередь построению графического алгоритма, а затем написанию кода по этому алгоритму. Не наоборот."
   ]
  },
  {
   "cell_type": "markdown",
   "metadata": {
    "Collapsed": "false"
   },
   "source": [
    "## Задания:"
   ]
  },
  {
   "cell_type": "markdown",
   "metadata": {
    "Collapsed": "false"
   },
   "source": [
    "### 1. Написать программу, которая будет складывать, вычитать, умножать или делить два числа. \n",
    "Числа и знак операции вводятся пользователем. После выполнения вычисления программа не завершается, а запрашивает новые данные для вычислений. Завершение программы должно выполняться при вводе символа '0' в качестве знака операции. Если пользователь вводит неверный знак (не '0', '+', '-', '', '/'), программа должна сообщать об ошибке и снова запрашивать знак операции. Также она должна сообщать пользователю о невозможности деления на ноль, если он ввел его в качестве делителя."
   ]
  },
  {
   "cell_type": "code",
   "execution_count": null,
   "metadata": {
    "Collapsed": "false"
   },
   "outputs": [],
   "source": []
  },
  {
   "cell_type": "markdown",
   "metadata": {
    "Collapsed": "false"
   },
   "source": [
    "### ~~2~~. Посчитать четные и нечетные цифры введенного натурального числа. Например, если введено число `34560`, в нем 3 четные цифры (`4`, `6` и `0`) и 2 нечетные (`3` и `5`)."
   ]
  },
  {
   "cell_type": "markdown",
   "metadata": {
    "Collapsed": "false"
   },
   "source": [
    "<img src=\"img/Les_2_DZ_2.jpg\" alt=\"Drawing\" style=\"width: 300px;\">"
   ]
  },
  {
   "cell_type": "code",
   "execution_count": 27,
   "metadata": {
    "Collapsed": "false"
   },
   "outputs": [
    {
     "name": "stdout",
     "output_type": "stream",
     "text": [
      "Число чётных чисел = 4\n",
      "Число нечётных чисел = 4\n"
     ]
    }
   ],
   "source": [
    "# number = int(input('ВВедите натуральное число: i \n",
    "number = 46576543\n",
    "\n",
    "parity = 0\n",
    "non_parity = 0\n",
    "for i in str(number):\n",
    "    i = int(i)\n",
    "    if i % 2 == 0:\n",
    "        parity += 1\n",
    "    else:\n",
    "        non_parity += 1\n",
    "print(f'Число чётных чисел = {parity}')\n",
    "print(f'Число нечётных чисел = {non_parity}')"
   ]
  },
  {
   "cell_type": "markdown",
   "metadata": {
    "Collapsed": "false"
   },
   "source": [
    "### ~~3~~. Сформировать из введенного числа обратное по порядку входящих в него цифр и вывести на экран. Например, если введено число `3486`, надо вывести `6843`."
   ]
  },
  {
   "cell_type": "markdown",
   "metadata": {
    "Collapsed": "false"
   },
   "source": [
    "<img src=\"img/Les_2_DZ-Страница 3.jpg\" alt=\"Drawing\" style=\"width: 150px;\">"
   ]
  },
  {
   "cell_type": "code",
   "execution_count": 40,
   "metadata": {
    "Collapsed": "false"
   },
   "outputs": [
    {
     "name": "stdin",
     "output_type": "stream",
     "text": [
      "Введите целое число:  12345\n"
     ]
    },
    {
     "name": "stdout",
     "output_type": "stream",
     "text": [
      "54321\n"
     ]
    }
   ],
   "source": [
    "number = int(input('Введите целое число: ')) \n",
    "# number = 3486\n",
    "\n",
    "revert = \"\"\n",
    "for i in str(number):\n",
    "    revert = i+revert\n",
    "\n",
    "print(revert)"
   ]
  },
  {
   "cell_type": "markdown",
   "metadata": {
    "Collapsed": "false"
   },
   "source": [
    "### 4. Найти сумму n элементов следующего ряда чисел: 1, -0.5, 0.25, -0.125,… Количество элементов (n) вводится с клавиатуры."
   ]
  },
  {
   "cell_type": "markdown",
   "metadata": {
    "Collapsed": "false"
   },
   "source": [
    "### 5. Вывести на экран коды и символы таблицы ASCII, начиная с символа под номером 32 и заканчивая 127-м включительно. Вывод выполнить в табличной форме: по десять пар «код-символ» в каждой строке."
   ]
  },
  {
   "cell_type": "markdown",
   "metadata": {
    "Collapsed": "false"
   },
   "source": [
    "### 6. В программе генерируется случайное целое число от 0 до 100. Пользователь должен его отгадать не более чем за 10 попыток. После каждой неудачной попытки должно сообщаться, больше или меньше введенное пользователем число, чем то, что загадано. Если за 10 попыток число не отгадано, вывести ответ."
   ]
  },
  {
   "cell_type": "markdown",
   "metadata": {
    "Collapsed": "false"
   },
   "source": [
    "### 7. Написать программу, доказывающую или проверяющую, что для множества натуральных чисел выполняется равенство: 1+2+...+n = n(n+1)/2, где n — любое натуральное число."
   ]
  },
  {
   "cell_type": "markdown",
   "metadata": {
    "Collapsed": "false"
   },
   "source": [
    "<img src=\"img/Les_2_DZ-Страница 7.jpg\" alt=\"Drawing\" style=\"width: 150px;\">"
   ]
  },
  {
   "cell_type": "code",
   "execution_count": 52,
   "metadata": {
    "Collapsed": "false"
   },
   "outputs": [
    {
     "name": "stdin",
     "output_type": "stream",
     "text": [
      "Введите целое число:  234\n"
     ]
    },
    {
     "name": "stdout",
     "output_type": "stream",
     "text": [
      "True\n"
     ]
    }
   ],
   "source": [
    "number = int(input('Введите целое число: ')) \n",
    "# n = 4\n",
    "\n",
    "left = 0\n",
    "right = 0\n",
    "for i in range(1,n+1):\n",
    "    left += i\n",
    "    \n",
    "right = n*(n+1)/2\n",
    "\n",
    "print(left == right)"
   ]
  },
  {
   "cell_type": "markdown",
   "metadata": {
    "Collapsed": "false"
   },
   "source": [
    "### 8. Посчитать, сколько раз встречается определенная цифра в введенной последовательности чисел. Количество вводимых чисел и цифра, которую необходимо посчитать, задаются вводом с клавиатуры."
   ]
  },
  {
   "cell_type": "code",
   "execution_count": 60,
   "metadata": {
    "Collapsed": "false"
   },
   "outputs": [
    {
     "name": "stdin",
     "output_type": "stream",
     "text": [
      "Введите количество чисел:  3\n",
      "Введите искомую цифру:  2\n",
      "Введите число:  234\n",
      "Введите число:  222\n",
      "Введите число:  4321\n"
     ]
    },
    {
     "name": "stdout",
     "output_type": "stream",
     "text": [
      "Цифра 2 встречается 5 раз(а)\n"
     ]
    }
   ],
   "source": [
    "n = int(input('Введите количество чисел: '))\n",
    "search_num = int(input('Введите искомую цифру: '))\n",
    "\n",
    "sequence = \"\"\n",
    "for i in range(n):\n",
    "    m = input('Введите число: ')\n",
    "    sequence = sequence + m\n",
    "\n",
    "number_of_times = 0\n",
    "for numeral in sequence:\n",
    "    if numeral == str(search_num):\n",
    "        number_of_times += 1\n",
    "\n",
    "print(f'Цифра {search_num} встречается {number_of_times} раз(а)')"
   ]
  },
  {
   "cell_type": "markdown",
   "metadata": {
    "Collapsed": "false"
   },
   "source": [
    "### 9. Среди натуральных чисел, которые были введены, найти наибольшее по сумме цифр. Вывести на экран это число и сумму его цифр."
   ]
  },
  {
   "cell_type": "code",
   "execution_count": null,
   "metadata": {
    "Collapsed": "false"
   },
   "outputs": [],
   "source": []
  }
 ],
 "metadata": {
  "kernelspec": {
   "display_name": "Python 3",
   "language": "python",
   "name": "python3"
  },
  "language_info": {
   "codemirror_mode": {
    "name": "ipython",
    "version": 3
   },
   "file_extension": ".py",
   "mimetype": "text/x-python",
   "name": "python",
   "nbconvert_exporter": "python",
   "pygments_lexer": "ipython3",
   "version": "3.7.6"
  }
 },
 "nbformat": 4,
 "nbformat_minor": 4
}
