{
 "cells": [
  {
   "cell_type": "markdown",
   "metadata": {
    "Collapsed": "true"
   },
   "source": [
    "# Counter"
   ]
  },
  {
   "cell_type": "markdown",
   "metadata": {
    "Collapsed": "false"
   },
   "source": [
    "**Counter** - подкласс словаря в python (`dict`). Неупорядоченная коллекция пар \"ключ-значение\", где значение - частота вхлждения ключа"
   ]
  },
  {
   "cell_type": "code",
   "execution_count": 3,
   "metadata": {
    "Collapsed": "false"
   },
   "outputs": [],
   "source": [
    "from pprint import pprint"
   ]
  },
  {
   "cell_type": "markdown",
   "metadata": {
    "Collapsed": "false"
   },
   "source": [
    "## task_1"
   ]
  },
  {
   "cell_type": "code",
   "execution_count": 8,
   "metadata": {
    "Collapsed": "false"
   },
   "outputs": [
    {
     "name": "stdout",
     "output_type": "stream",
     "text": [
      "Counter()\n",
      "Counter({'a': 5, 'b': 2, 'r': 2, 'k': 1, 'd': 1})\n",
      "Counter({'blue': 4, 'red': 2})\n",
      "Counter({'dogs': 5, 'cats': 4})\n"
     ]
    }
   ],
   "source": [
    "from collections import Counter\n",
    "\n",
    "a = Counter()\n",
    "b = Counter('abrakadabra')\n",
    "c = Counter({'red': 2, 'blue': 4})\n",
    "d = Counter(cats=4, dogs=5)\n",
    "\n",
    "print(a, b, c, d, sep='\\n')"
   ]
  },
  {
   "cell_type": "code",
   "execution_count": 10,
   "metadata": {
    "Collapsed": "false"
   },
   "outputs": [
    {
     "name": "stdout",
     "output_type": "stream",
     "text": [
      "0\n"
     ]
    }
   ],
   "source": [
    "print(b['z'])\n",
    "# Т.е. символ 'z' встречается в коллекции 0 раз"
   ]
  },
  {
   "cell_type": "code",
   "execution_count": 15,
   "metadata": {
    "Collapsed": "false"
   },
   "outputs": [
    {
     "name": "stdout",
     "output_type": "stream",
     "text": [
      "Counter({'a': 5, 'b': 2, 'r': 2, 'k': 1, 'd': 1, 'z': 0})\n"
     ]
    }
   ],
   "source": [
    "b['z'] = 0\n",
    "print(b)"
   ]
  },
  {
   "cell_type": "code",
   "execution_count": 13,
   "metadata": {
    "Collapsed": "false"
   },
   "outputs": [
    {
     "name": "stdout",
     "output_type": "stream",
     "text": [
      "['a', 'a', 'a', 'a', 'a', 'b', 'b', 'r', 'r', 'k', 'd']\n"
     ]
    }
   ],
   "source": [
    "# Метод 'elements'\n",
    "print(list(b.elements()))"
   ]
  },
  {
   "cell_type": "code",
   "execution_count": 17,
   "metadata": {
    "Collapsed": "false"
   },
   "outputs": [
    {
     "name": "stdout",
     "output_type": "stream",
     "text": [
      "[('a', 5), ('b', 2)]\n"
     ]
    }
   ],
   "source": [
    "print(b.most_common(2))"
   ]
  },
  {
   "cell_type": "code",
   "execution_count": 18,
   "metadata": {
    "Collapsed": "false"
   },
   "outputs": [
    {
     "name": "stdout",
     "output_type": "stream",
     "text": [
      "Counter({'b': 4, 'a': 3, 'd': 2, 'c': -5})\n"
     ]
    }
   ],
   "source": [
    "# Вычитание из коллекции 'g', коллекции 'f'\n",
    "g = Counter(a=4, b=6, c=-2, d=0)\n",
    "f = Counter(a=1, b=2, c=3, d=-2)\n",
    "g.subtract(f)\n",
    "print(g)"
   ]
  },
  {
   "cell_type": "code",
   "execution_count": 19,
   "metadata": {
    "Collapsed": "false"
   },
   "outputs": [
    {
     "name": "stdout",
     "output_type": "stream",
     "text": [
      "{'b', 'c', 'd', 'a'}\n"
     ]
    }
   ],
   "source": [
    "print(set(g))"
   ]
  },
  {
   "cell_type": "code",
   "execution_count": 20,
   "metadata": {
    "Collapsed": "false"
   },
   "outputs": [
    {
     "name": "stdout",
     "output_type": "stream",
     "text": [
      "{'a': 3, 'b': 4, 'c': -5, 'd': 2}\n"
     ]
    }
   ],
   "source": [
    "print(dict(g))"
   ]
  },
  {
   "cell_type": "code",
   "execution_count": 21,
   "metadata": {
    "Collapsed": "false"
   },
   "outputs": [
    {
     "name": "stdout",
     "output_type": "stream",
     "text": [
      "Counter()\n"
     ]
    }
   ],
   "source": [
    "g.clear()\n",
    "print(g)"
   ]
  },
  {
   "cell_type": "markdown",
   "metadata": {
    "Collapsed": "false"
   },
   "source": [
    "С коллекциями можно производить математические и логические операции"
   ]
  },
  {
   "cell_type": "code",
   "execution_count": 22,
   "metadata": {
    "Collapsed": "false"
   },
   "outputs": [],
   "source": [
    "x = Counter(a=3, b=1)\n",
    "y = Counter(a=1, b=2)"
   ]
  },
  {
   "cell_type": "code",
   "execution_count": 23,
   "metadata": {
    "Collapsed": "false"
   },
   "outputs": [
    {
     "name": "stdout",
     "output_type": "stream",
     "text": [
      "Counter({'a': 4, 'b': 3})\n"
     ]
    }
   ],
   "source": [
    "print(x + y)"
   ]
  },
  {
   "cell_type": "code",
   "execution_count": 24,
   "metadata": {
    "Collapsed": "false"
   },
   "outputs": [
    {
     "name": "stdout",
     "output_type": "stream",
     "text": [
      "Counter({'a': 2})\n"
     ]
    }
   ],
   "source": [
    "print(x - y)"
   ]
  },
  {
   "cell_type": "code",
   "execution_count": 25,
   "metadata": {
    "Collapsed": "false"
   },
   "outputs": [
    {
     "name": "stdout",
     "output_type": "stream",
     "text": [
      "Counter({'a': 1, 'b': 1})\n"
     ]
    }
   ],
   "source": [
    "print(x & y)\n",
    "# выдает значения, кторые есть и в первом и во втором коде"
   ]
  },
  {
   "cell_type": "code",
   "execution_count": 27,
   "metadata": {
    "Collapsed": "false"
   },
   "outputs": [
    {
     "name": "stdout",
     "output_type": "stream",
     "text": [
      "Counter({'a': 3, 'b': 2})\n"
     ]
    }
   ],
   "source": [
    "print(x | y)\n",
    "# выдает значения, кторые есть или в первом или во втором коде"
   ]
  },
  {
   "cell_type": "markdown",
   "metadata": {
    "Collapsed": "false"
   },
   "source": [
    "Унарное сложение (вычитание)"
   ]
  },
  {
   "cell_type": "code",
   "execution_count": 28,
   "metadata": {
    "Collapsed": "false"
   },
   "outputs": [],
   "source": [
    "z = Counter(a=2, b=-4)"
   ]
  },
  {
   "cell_type": "code",
   "execution_count": 29,
   "metadata": {
    "Collapsed": "false"
   },
   "outputs": [
    {
     "name": "stdout",
     "output_type": "stream",
     "text": [
      "Counter({'a': 2})\n"
     ]
    }
   ],
   "source": [
    "print(+z)\n",
    "# оставляет только положительные элементы"
   ]
  },
  {
   "cell_type": "code",
   "execution_count": 31,
   "metadata": {
    "Collapsed": "false"
   },
   "outputs": [
    {
     "name": "stdout",
     "output_type": "stream",
     "text": [
      "Counter({'b': 4})\n"
     ]
    }
   ],
   "source": [
    "print(-z)\n",
    "# оставляет только отрицателные элементы и меняет их знак"
   ]
  },
  {
   "cell_type": "markdown",
   "metadata": {
    "Collapsed": "false"
   },
   "source": [
    "# Deque"
   ]
  },
  {
   "cell_type": "markdown",
   "metadata": {
    "Collapsed": "false"
   },
   "source": [
    "`deque` - очередь. Очередь имеет свойство самоорганизации. 2 свойство - произвольное расположение, а порядок поддерживается за счет связей. Пример - очередь в поликлинике."
   ]
  },
  {
   "cell_type": "code",
   "execution_count": 70,
   "metadata": {
    "Collapsed": "false"
   },
   "outputs": [],
   "source": [
    "from collections import deque"
   ]
  },
  {
   "cell_type": "code",
   "execution_count": 32,
   "metadata": {
    "Collapsed": "false"
   },
   "outputs": [
    {
     "name": "stdout",
     "output_type": "stream",
     "text": [
      "deque([])\n",
      "deque(['a', 'b', 'c', 'd', 'e', 'f'])\n",
      "deque([1, 2, 3, 4, 5])\n"
     ]
    }
   ],
   "source": [
    "# task_2\n",
    "from collections import deque\n",
    "\n",
    "a = deque()\n",
    "b = deque('abcdef')\n",
    "c = deque([1, 2, 3, 4, 5])\n",
    "\n",
    "print(a,b,c, sep='\\n')"
   ]
  },
  {
   "cell_type": "markdown",
   "metadata": {
    "Collapsed": "false"
   },
   "source": [
    "### - Внутрь `deque` можно передать все, что можно обработать чиклом `for`"
   ]
  },
  {
   "cell_type": "code",
   "execution_count": 34,
   "metadata": {
    "Collapsed": "false"
   },
   "outputs": [
    {
     "name": "stdout",
     "output_type": "stream",
     "text": [
      "deque(['d', 'e', 'f'], maxlen=3)\n",
      "deque([2, 3, 4, 5], maxlen=4)\n"
     ]
    }
   ],
   "source": [
    "b = deque('abcdef', maxlen=3)\n",
    "c = deque([1, 2, 3, 4, 5], maxlen=4)\n",
    "\n",
    "print(b,c, sep='\\n')"
   ]
  },
  {
   "cell_type": "code",
   "execution_count": 35,
   "metadata": {
    "Collapsed": "false"
   },
   "outputs": [
    {
     "name": "stdout",
     "output_type": "stream",
     "text": [
      "deque(['d', 'e', 'f'], maxlen=3)\n",
      "deque([], maxlen=4)\n"
     ]
    }
   ],
   "source": [
    "c.clear()\n",
    "print(b,c, sep='\\n')"
   ]
  },
  {
   "cell_type": "markdown",
   "metadata": {
    "Collapsed": "false"
   },
   "source": [
    "### - Добавление элементов в начало или конец очереди"
   ]
  },
  {
   "cell_type": "code",
   "execution_count": 37,
   "metadata": {
    "Collapsed": "false"
   },
   "outputs": [
    {
     "name": "stdout",
     "output_type": "stream",
     "text": [
      "deque([6, 0, 1, 2, 3, 4, 5])\n"
     ]
    }
   ],
   "source": [
    "d = deque([i for i in range(5)])\n",
    "d.append(5)  # добавить элемент в конец очереди\n",
    "d.appendleft(6)  # добавить элемент в начало очереди\n",
    "print(d)"
   ]
  },
  {
   "cell_type": "markdown",
   "metadata": {
    "Collapsed": "false"
   },
   "source": [
    "### - Добавление сразу нескольких элементов"
   ]
  },
  {
   "cell_type": "code",
   "execution_count": 39,
   "metadata": {
    "Collapsed": "false"
   },
   "outputs": [
    {
     "name": "stdout",
     "output_type": "stream",
     "text": [
      "deque([12, 11, 10, 12, 11, 10, 6, 0, 1, 2, 3, 4, 5, 7, 8, 9, 7, 8, 9])\n"
     ]
    }
   ],
   "source": [
    "d.extend([7,8,9])\n",
    "d.extendleft([10,11,12])\n",
    "print(d)"
   ]
  },
  {
   "cell_type": "code",
   "execution_count": 40,
   "metadata": {
    "Collapsed": "false"
   },
   "outputs": [
    {
     "name": "stdout",
     "output_type": "stream",
     "text": [
      "deque([12, 11, 10, 1, 2, 3, 4], maxlen=7)\n"
     ]
    }
   ],
   "source": [
    "d = deque([i for i in range(5)], maxlen=7)\n",
    "d.extend([7,8,9])\n",
    "d.extendleft([10,11,12])\n",
    "print(d)"
   ]
  },
  {
   "cell_type": "markdown",
   "metadata": {
    "Collapsed": "false"
   },
   "source": [
    "### - Удаление элементов из очереди"
   ]
  },
  {
   "cell_type": "code",
   "execution_count": 42,
   "metadata": {
    "Collapsed": "false"
   },
   "outputs": [
    {
     "name": "stdout",
     "output_type": "stream",
     "text": [
      "deque([1, 2, 3], maxlen=7)\n",
      "4\n",
      "0\n"
     ]
    }
   ],
   "source": [
    "f = deque([i for i in range(5)], maxlen=7)\n",
    "x = f.pop()\n",
    "y = f.popleft()\n",
    "print(f, x, y, sep='\\n')"
   ]
  },
  {
   "cell_type": "markdown",
   "metadata": {
    "Collapsed": "false"
   },
   "source": [
    "### - Количество вхождений элемента в очередь"
   ]
  },
  {
   "cell_type": "code",
   "execution_count": 43,
   "metadata": {
    "Collapsed": "false"
   },
   "outputs": [
    {
     "name": "stdout",
     "output_type": "stream",
     "text": [
      "1\n"
     ]
    }
   ],
   "source": [
    "g = deque([i for i in range(5)], maxlen=7)\n",
    "print(g.count(2))"
   ]
  },
  {
   "cell_type": "markdown",
   "metadata": {
    "Collapsed": "false"
   },
   "source": [
    "### - Позиция элемента в очереди"
   ]
  },
  {
   "cell_type": "code",
   "execution_count": 44,
   "metadata": {
    "Collapsed": "false"
   },
   "outputs": [
    {
     "name": "stdout",
     "output_type": "stream",
     "text": [
      "3\n"
     ]
    }
   ],
   "source": [
    "print(g.index(3))"
   ]
  },
  {
   "cell_type": "markdown",
   "metadata": {
    "Collapsed": "false"
   },
   "source": [
    "### - Добавлвение элеметна в середину очереди"
   ]
  },
  {
   "cell_type": "code",
   "execution_count": 45,
   "metadata": {
    "Collapsed": "false"
   },
   "outputs": [
    {
     "name": "stdout",
     "output_type": "stream",
     "text": [
      "deque([0, 1, 6, 2, 3, 4], maxlen=7)\n"
     ]
    }
   ],
   "source": [
    "g.insert(2, 6)  # добавить на позицию 2 число 6\n",
    "print(g)"
   ]
  },
  {
   "cell_type": "markdown",
   "metadata": {
    "Collapsed": "false"
   },
   "source": [
    "### - Разворот очереди"
   ]
  },
  {
   "cell_type": "code",
   "execution_count": 47,
   "metadata": {
    "Collapsed": "false"
   },
   "outputs": [
    {
     "name": "stdout",
     "output_type": "stream",
     "text": [
      "deque([4, 3, 2, 6, 1, 0], maxlen=7)\n",
      "deque([0, 1, 6, 2, 3, 4], maxlen=7)\n"
     ]
    }
   ],
   "source": [
    "print(g)\n",
    "g.reverse()\n",
    "print(g)"
   ]
  },
  {
   "cell_type": "markdown",
   "metadata": {
    "Collapsed": "false"
   },
   "source": [
    "### - Ротация\n",
    "\\- перемещение n элементов из правой части очереди в левую, или из левой в правую, если n - отрицательное"
   ]
  },
  {
   "cell_type": "code",
   "execution_count": 48,
   "metadata": {
    "Collapsed": "false"
   },
   "outputs": [
    {
     "name": "stdout",
     "output_type": "stream",
     "text": [
      "deque([0, 1, 6, 2, 3, 4], maxlen=7)\n",
      "deque([2, 3, 4, 0, 1, 6], maxlen=7)\n"
     ]
    }
   ],
   "source": [
    "print(g)\n",
    "g.rotate(3)\n",
    "print(g)"
   ]
  },
  {
   "cell_type": "markdown",
   "metadata": {
    "Collapsed": "false"
   },
   "source": [
    "## Задача\n",
    "разложить список на - и + числа"
   ]
  },
  {
   "cell_type": "code",
   "execution_count": 50,
   "metadata": {
    "Collapsed": "false"
   },
   "outputs": [
    {
     "name": "stdout",
     "output_type": "stream",
     "text": [
      "[7, -99, 93, -45, -25, 66, 34, 10, 17, -2]\n",
      "--------------------------------------------------\n",
      "[-2, -25, -45, -99, 7, 93, 66, 34, 10, 17]\n"
     ]
    }
   ],
   "source": [
    "from collections import deque\n",
    "import random\n",
    "\n",
    "array = [random.randint(-100, 100) for _ in range(10)]\n",
    "print(array)\n",
    "\n",
    "deq = deque()\n",
    "\n",
    "for item in array:\n",
    "    if item > 0:\n",
    "        deq.append(item)\n",
    "    elif item < 0:\n",
    "        deq.appendleft(item)\n",
    "print('-'*50)        \n",
    "print(list(deq))"
   ]
  },
  {
   "cell_type": "markdown",
   "metadata": {
    "Collapsed": "false"
   },
   "source": [
    "---"
   ]
  },
  {
   "cell_type": "markdown",
   "metadata": {
    "Collapsed": "false"
   },
   "source": [
    "# Defaultdict"
   ]
  },
  {
   "cell_type": "markdown",
   "metadata": {
    "Collapsed": "false"
   },
   "source": [
    "Defaultdict - это подкласс словаря (`dict`). Отличие от обычного словаря одно - при создании объекта в него нужно передать какую-нибудь функцию - определить `default_factory`"
   ]
  },
  {
   "cell_type": "code",
   "execution_count": 55,
   "metadata": {
    "Collapsed": "false"
   },
   "outputs": [],
   "source": [
    "from collections import defaultdict"
   ]
  },
  {
   "cell_type": "code",
   "execution_count": 55,
   "metadata": {
    "Collapsed": "false"
   },
   "outputs": [
    {
     "name": "stdout",
     "output_type": "stream",
     "text": [
      "defaultdict(None, {})\n"
     ]
    }
   ],
   "source": [
    "from pprint import pprint\n",
    "\n",
    "a = defaultdict()\n",
    "print(a)"
   ]
  },
  {
   "cell_type": "code",
   "execution_count": 59,
   "metadata": {
    "Collapsed": "false"
   },
   "outputs": [
    {
     "name": "stdout",
     "output_type": "stream",
     "text": [
      "defaultdict(<class 'int'>, {'d': 2, 't': 1, 'h': 5, 'l': 1, 'r': 5, 'i': 1, 'z': 4, '.': 4, 'j': 3, 'n': 2, 'k': 1})\n"
     ]
    }
   ],
   "source": [
    "s = 'dthlrdihrz.jrhjnjrz.n.rkhz.hz'\n",
    "b = defaultdict(int)\n",
    "for i in s:\n",
    "    b[i] += 1\n",
    "print(b)"
   ]
  },
  {
   "cell_type": "code",
   "execution_count": 60,
   "metadata": {
    "Collapsed": "false"
   },
   "outputs": [
    {
     "name": "stdout",
     "output_type": "stream",
     "text": [
      "defaultdict(<class 'list'>, {'cat': [1, 2], 'dog': [5, 1], 'mouse': [1]})\n"
     ]
    }
   ],
   "source": [
    "list_1 = [('cat', 1), ('dog', 5), ('cat', 2), ('mouse', 1), ('dog', 1)]\n",
    "c = defaultdict(list)\n",
    "for k, v in list_1:\n",
    "    c[k].append(v)\n",
    "print(c)"
   ]
  },
  {
   "cell_type": "code",
   "execution_count": 62,
   "metadata": {
    "Collapsed": "false"
   },
   "outputs": [
    {
     "name": "stdout",
     "output_type": "stream",
     "text": [
      "defaultdict(<class 'set'>, {'cat': {1, 2}, 'dog': {1, 5}})\n"
     ]
    }
   ],
   "source": [
    "list_2 = [('cat', 1), ('dog', 5), ('cat', 2), ('cat', 1), ('dog', 1), ('dog', 5)]\n",
    "d = defaultdict(set)\n",
    "for k, v in list_2:\n",
    "    d[k].add(v)\n",
    "print(d)\n",
    "# Остались только уникальные значения"
   ]
  },
  {
   "cell_type": "code",
   "execution_count": 64,
   "metadata": {
    "Collapsed": "false"
   },
   "outputs": [
    {
     "name": "stdout",
     "output_type": "stream",
     "text": [
      "defaultdict(<function <lambda> at 0x000001B127C834C8>, {'rex': 'dog', 'tomas': 'cat'})\n"
     ]
    }
   ],
   "source": [
    "f = defaultdict(lambda: 'unknown')\n",
    "f.update(rex='dog', tomas='cat')\n",
    "print(f)"
   ]
  },
  {
   "cell_type": "code",
   "execution_count": 65,
   "metadata": {
    "Collapsed": "false"
   },
   "outputs": [
    {
     "name": "stdout",
     "output_type": "stream",
     "text": [
      "dog\n"
     ]
    }
   ],
   "source": [
    "print(f['rex'])"
   ]
  },
  {
   "cell_type": "code",
   "execution_count": 68,
   "metadata": {
    "Collapsed": "false"
   },
   "outputs": [
    {
     "name": "stdout",
     "output_type": "stream",
     "text": [
      "unknown\n"
     ]
    }
   ],
   "source": [
    "print(f['jerry'])"
   ]
  },
  {
   "cell_type": "markdown",
   "metadata": {
    "Collapsed": "false"
   },
   "source": [
    "---"
   ]
  },
  {
   "cell_type": "markdown",
   "metadata": {
    "Collapsed": "false"
   },
   "source": [
    "# OrderedDict"
   ]
  },
  {
   "cell_type": "markdown",
   "metadata": {
    "Collapsed": "false"
   },
   "source": [
    "`OrderedDict` - это подкласс словаря `dict`, в котором элементы (пары ключ-значение) упорядочены.\n",
    "\n",
    "OrderedDict запоминает порядок, в которм были добавлены \"ключи\""
   ]
  },
  {
   "cell_type": "code",
   "execution_count": 69,
   "metadata": {
    "Collapsed": "false"
   },
   "outputs": [],
   "source": [
    "from collections import OrderedDict"
   ]
  },
  {
   "cell_type": "markdown",
   "metadata": {
    "Collapsed": "false"
   },
   "source": [
    "### - Сортировка словаря"
   ]
  },
  {
   "cell_type": "code",
   "execution_count": 72,
   "metadata": {
    "Collapsed": "false"
   },
   "outputs": [
    {
     "name": "stdout",
     "output_type": "stream",
     "text": [
      "OrderedDict([('cat', 5), ('dog', 2), ('mouse', 4)])\n"
     ]
    }
   ],
   "source": [
    "a = {'cat': 5, 'dog': 2, 'mouse': 4}\n",
    "new_a = OrderedDict(sorted(a.items(), key=lambda x: x[0]))\n",
    "print(new_a)"
   ]
  },
  {
   "cell_type": "markdown",
   "metadata": {
    "Collapsed": "false"
   },
   "source": [
    "### - Сортировка словаря по-значению"
   ]
  },
  {
   "cell_type": "code",
   "execution_count": 75,
   "metadata": {
    "Collapsed": "false"
   },
   "outputs": [
    {
     "name": "stdout",
     "output_type": "stream",
     "text": [
      "OrderedDict([('dog', 2), ('mouse', 4), ('cat', 5)])\n"
     ]
    }
   ],
   "source": [
    "b = {'cat': 5, 'dog': 2, 'mouse': 4}\n",
    "new_b = OrderedDict(sorted(b.items(), key=lambda x: x[1]))\n",
    "print(new_b)"
   ]
  },
  {
   "cell_type": "code",
   "execution_count": 76,
   "metadata": {
    "Collapsed": "false"
   },
   "outputs": [
    {
     "data": {
      "text/plain": [
       "False"
      ]
     },
     "execution_count": 76,
     "metadata": {},
     "output_type": "execute_result"
    }
   ],
   "source": [
    "new_a == new_b\n",
    "# Порядок элементов важен"
   ]
  },
  {
   "cell_type": "markdown",
   "metadata": {
    "Collapsed": "false"
   },
   "source": [
    "### - Изменяем порядок"
   ]
  },
  {
   "cell_type": "code",
   "execution_count": 79,
   "metadata": {
    "Collapsed": "false"
   },
   "outputs": [
    {
     "data": {
      "text/plain": [
       "OrderedDict([('dog', 2), ('cat', 5), ('mouse', 4)])"
      ]
     },
     "execution_count": 79,
     "metadata": {},
     "output_type": "execute_result"
    }
   ],
   "source": [
    "new_b.move_to_end('mouse')\n",
    "new_b"
   ]
  },
  {
   "cell_type": "code",
   "execution_count": 80,
   "metadata": {
    "Collapsed": "false"
   },
   "outputs": [
    {
     "data": {
      "text/plain": [
       "OrderedDict([('mouse', 4), ('dog', 2), ('cat', 5)])"
      ]
     },
     "execution_count": 80,
     "metadata": {},
     "output_type": "execute_result"
    }
   ],
   "source": [
    "new_b.move_to_end('mouse', last=False)  # теперь 'mouse' перенесен не в конец, а в начало\n",
    "new_b"
   ]
  },
  {
   "cell_type": "markdown",
   "metadata": {
    "Collapsed": "false"
   },
   "source": [
    "### - Удаление элемента\n"
   ]
  },
  {
   "cell_type": "code",
   "execution_count": 81,
   "metadata": {
    "Collapsed": "false"
   },
   "outputs": [
    {
     "data": {
      "text/plain": [
       "OrderedDict([('mouse', 4), ('dog', 2)])"
      ]
     },
     "execution_count": 81,
     "metadata": {},
     "output_type": "execute_result"
    }
   ],
   "source": [
    "# удаление последнего элемента\n",
    "new_b.popitem()\n",
    "new_b"
   ]
  },
  {
   "cell_type": "code",
   "execution_count": 82,
   "metadata": {
    "Collapsed": "false"
   },
   "outputs": [
    {
     "data": {
      "text/plain": [
       "OrderedDict([('dog', 2)])"
      ]
     },
     "execution_count": 82,
     "metadata": {},
     "output_type": "execute_result"
    }
   ],
   "source": [
    "# удаление первого элемента\n",
    "new_b.popitem(last=False)\n",
    "new_b"
   ]
  },
  {
   "cell_type": "markdown",
   "metadata": {
    "Collapsed": "false"
   },
   "source": [
    "### - Добавление"
   ]
  },
  {
   "cell_type": "code",
   "execution_count": 83,
   "metadata": {
    "Collapsed": "false"
   },
   "outputs": [
    {
     "data": {
      "text/plain": [
       "OrderedDict([('dog', 2), ('cow', 1)])"
      ]
     },
     "execution_count": 83,
     "metadata": {},
     "output_type": "execute_result"
    }
   ],
   "source": [
    "new_b['cow'] = 1\n",
    "new_b"
   ]
  },
  {
   "cell_type": "markdown",
   "metadata": {
    "Collapsed": "false"
   },
   "source": [
    "### - Изменение"
   ]
  },
  {
   "cell_type": "code",
   "execution_count": 84,
   "metadata": {
    "Collapsed": "false"
   },
   "outputs": [
    {
     "data": {
      "text/plain": [
       "OrderedDict([('dog', 8), ('cow', 1)])"
      ]
     },
     "execution_count": 84,
     "metadata": {},
     "output_type": "execute_result"
    }
   ],
   "source": [
    "new_b['dog'] = 8\n",
    "new_b"
   ]
  },
  {
   "cell_type": "markdown",
   "metadata": {
    "Collapsed": "false"
   },
   "source": [
    "### Разное"
   ]
  },
  {
   "cell_type": "markdown",
   "metadata": {
    "Collapsed": "false"
   },
   "source": [
    "#### Сортировка"
   ]
  },
  {
   "cell_type": "code",
   "execution_count": 85,
   "metadata": {
    "Collapsed": "false"
   },
   "outputs": [
    {
     "data": {
      "text/plain": [
       "OrderedDict([('cat', 5), ('dog', 2), ('mouse', 4)])"
      ]
     },
     "execution_count": 85,
     "metadata": {},
     "output_type": "execute_result"
    }
   ],
   "source": [
    "new_c = OrderedDict(sorted(a.items(), key=lambda x: len(x[0])))\n",
    "new_c"
   ]
  },
  {
   "cell_type": "markdown",
   "metadata": {
    "Collapsed": "false"
   },
   "source": [
    "#### Выведение элементов в обратном порядке"
   ]
  },
  {
   "cell_type": "code",
   "execution_count": 86,
   "metadata": {
    "Collapsed": "false"
   },
   "outputs": [
    {
     "name": "stdout",
     "output_type": "stream",
     "text": [
      "mouse 4\n",
      "dog 2\n",
      "cat 5\n"
     ]
    }
   ],
   "source": [
    "for key in reversed(new_c):\n",
    "    print(key, new_c[key])"
   ]
  },
  {
   "cell_type": "code",
   "execution_count": 87,
   "metadata": {
    "Collapsed": "false"
   },
   "outputs": [
    {
     "data": {
      "text/plain": [
       "<odict_iterator at 0x1b12763ed08>"
      ]
     },
     "execution_count": 87,
     "metadata": {},
     "output_type": "execute_result"
    }
   ],
   "source": [
    "reversed(new_c)"
   ]
  },
  {
   "cell_type": "markdown",
   "metadata": {
    "Collapsed": "false"
   },
   "source": [
    "## Задача."
   ]
  },
  {
   "cell_type": "markdown",
   "metadata": {
    "Collapsed": "false"
   },
   "source": [
    "В лог-файл сервер добавляет ip-адреса, с которых пришел запрос.\n",
    "\n",
    "Проанализоровать последние N адресов и сохранить в новый файл пары значений \"ip-адрес - кол-во запросов\".\n",
    "- исключить локальные адреса (192.168.*.*)\n",
    "- сохранить исходный порядок адресов"
   ]
  },
  {
   "cell_type": "code",
   "execution_count": 91,
   "metadata": {
    "Collapsed": "false"
   },
   "outputs": [],
   "source": [
    "from collections import OrderedDict, defaultdict, deque\n",
    "\n",
    "# берем последние 3000 адресов\n",
    "\n",
    "N = 3000\n",
    "with open('big_log.txt', 'r', encoding='utf-8') as f:\n",
    "    log = deque(f, N)  # сохраняем в очередь последние N значений\n",
    "\n",
    "# print(log)\n",
    "\n",
    "# объявляем переменные\n",
    "data = OrderedDict()\n",
    "spam = defaultdict(int)\n",
    "\n",
    "# избавляемся от символа перенова строки\n",
    "for item in log:\n",
    "    ip = item[:-1]  # для каждой строки оставляем все, кроме последнего символа\n",
    "\n",
    "    if not ip.startswith('192.168'):\n",
    "        spam[ip] += 1\n",
    "        data[ip] = 1\n",
    "\n",
    "# print(spam)\n",
    "# print(data)\n",
    "\n",
    "data.update(spam)  # добавляет в `data` ключи из `spam`\n",
    "# print(data)\n",
    "\n",
    "with open ('data.txt', 'w', encoding='utf-8') as f:\n",
    "    for key, value in data.items():\n",
    "        f.write(f'{key} - {value}\\n')"
   ]
  },
  {
   "cell_type": "markdown",
   "metadata": {
    "Collapsed": "false"
   },
   "source": [
    "---"
   ]
  },
  {
   "cell_type": "markdown",
   "metadata": {
    "Collapsed": "false"
   },
   "source": [
    "# Namedtuple\n",
    "\\- это именованый кортеж, обеспечивающий доступ к содержимому по имени"
   ]
  },
  {
   "cell_type": "code",
   "execution_count": 1,
   "metadata": {
    "Collapsed": "false"
   },
   "outputs": [],
   "source": [
    "from collections import namedtuple"
   ]
  },
  {
   "cell_type": "markdown",
   "metadata": {
    "Collapsed": "false"
   },
   "source": [
    "## Задача 1"
   ]
  },
  {
   "cell_type": "code",
   "execution_count": 1,
   "metadata": {
    "Collapsed": "false"
   },
   "outputs": [
    {
     "name": "stdout",
     "output_type": "stream",
     "text": [
      "250\n"
     ]
    }
   ],
   "source": [
    "# начнем с обычного кортежа\n",
    "# создадим персонажа игры\n",
    "# имя, раса, здоровье, мана, сила\n",
    "hero_1 = ('Aaz', 'Izverg', 100, 0.0, 250)\n",
    "print(hero_1[4])"
   ]
  },
  {
   "cell_type": "code",
   "execution_count": 2,
   "metadata": {
    "Collapsed": "false"
   },
   "outputs": [],
   "source": [
    "# это неудобно, так как всегда нужно помнить названия параметров"
   ]
  },
  {
   "cell_type": "code",
   "execution_count": 4,
   "metadata": {
    "Collapsed": "false"
   },
   "outputs": [
    {
     "name": "stdout",
     "output_type": "stream",
     "text": [
      "100\n"
     ]
    }
   ],
   "source": [
    "# создадим класс персонаж\n",
    "class Person:\n",
    "    def __init__(self, name, race, heath, mana, streinght):\n",
    "        self.name = name\n",
    "        self.race = race\n",
    "        self.heath = heath\n",
    "        self.mana = mana\n",
    "        self.stereinght = streinght\n",
    "\n",
    "\n",
    "hero_2 = Person('Aaz', 'Izverg', 100, 0.0, 250)\n",
    "print(hero_2.heath)"
   ]
  },
  {
   "cell_type": "code",
   "execution_count": 5,
   "metadata": {
    "Collapsed": "false"
   },
   "outputs": [
    {
     "name": "stdout",
     "output_type": "stream",
     "text": [
      "Izverg\n"
     ]
    }
   ],
   "source": [
    "New_person = namedtuple('New_person', 'name, race, heath, mana, streinght')\n",
    "hero_3 = New_person('Aaz', 'Izverg', 100, 0.0, 250)\n",
    "print(hero_3.race)"
   ]
  },
  {
   "cell_type": "code",
   "execution_count": 6,
   "metadata": {
    "Collapsed": "false"
   },
   "outputs": [
    {
     "name": "stdout",
     "output_type": "stream",
     "text": [
      "Izverg\n"
     ]
    }
   ],
   "source": [
    "# или\n",
    "prop = ['name', 'race', 'heath', 'mana', 'streinght']\n",
    "New_person_1 = namedtuple('New_person_1', prop)\n",
    "hero_4 = New_person_1('Aaz', 'Izverg', 100, 0.0, 250)\n",
    "print(hero_4.race)"
   ]
  },
  {
   "cell_type": "code",
   "execution_count": 11,
   "metadata": {
    "Collapsed": "false"
   },
   "outputs": [
    {
     "name": "stdout",
     "output_type": "stream",
     "text": [
      "New_person_1(name='Aaz', _1='Izverg', heath=100, _3=0.0, streinght=250)\n"
     ]
    }
   ],
   "source": [
    "prop = ['name', '3race', 'heath', '_mana', 'streinght']\n",
    "New_person_1 = namedtuple('New_person_1', prop, rename=True)\n",
    "hero_4 = New_person_1('Aaz', 'Izverg', 100, 0.0, 250)\n",
    "print(hero_4)"
   ]
  },
  {
   "cell_type": "markdown",
   "metadata": {
    "Collapsed": "false"
   },
   "source": [
    "## Задача 2"
   ]
  },
  {
   "cell_type": "code",
   "execution_count": 12,
   "metadata": {
    "Collapsed": "false"
   },
   "outputs": [
    {
     "name": "stdout",
     "output_type": "stream",
     "text": [
      "Point(x=2, y=4, z=3)\n"
     ]
    }
   ],
   "source": [
    "Point = namedtuple('Point', 'x, y, z')\n",
    "\n",
    "p1 = Point(2, z=3, y=4)\n",
    "print(p1)"
   ]
  },
  {
   "cell_type": "markdown",
   "metadata": {
    "Collapsed": "false"
   },
   "source": [
    "## 5 интересных методов"
   ]
  },
  {
   "cell_type": "code",
   "execution_count": 14,
   "metadata": {
    "Collapsed": "false"
   },
   "outputs": [
    {
     "name": "stdout",
     "output_type": "stream",
     "text": [
      "Point(x=5, y=10, z=15)\n"
     ]
    }
   ],
   "source": [
    "# 1\n",
    "t = [5, 10, 15]\n",
    "p2 = Point._make(t)\n",
    "print(p2)"
   ]
  },
  {
   "cell_type": "code",
   "execution_count": 16,
   "metadata": {
    "Collapsed": "false"
   },
   "outputs": [
    {
     "name": "stdout",
     "output_type": "stream",
     "text": [
      "OrderedDict([('x', 5), ('y', 10), ('z', 15)])\n"
     ]
    }
   ],
   "source": [
    "# 2\n",
    "d2 = p2._asdict()\n",
    "print(d2)"
   ]
  },
  {
   "cell_type": "code",
   "execution_count": 17,
   "metadata": {
    "Collapsed": "false"
   },
   "outputs": [
    {
     "name": "stdout",
     "output_type": "stream",
     "text": [
      "Point(x=6, y=10, z=15)\n"
     ]
    }
   ],
   "source": [
    "# 3\n",
    "p3 = p2._replace(x=6)\n",
    "print(p3)"
   ]
  },
  {
   "cell_type": "code",
   "execution_count": 48,
   "metadata": {
    "Collapsed": "false"
   },
   "outputs": [
    {
     "name": "stdout",
     "output_type": "stream",
     "text": [
      "('x', 'y', 'z')\n"
     ]
    }
   ],
   "source": [
    "# 4\n",
    "print(p3._fields)"
   ]
  },
  {
   "cell_type": "code",
   "execution_count": 54,
   "metadata": {
    "Collapsed": "false"
   },
   "outputs": [
    {
     "name": "stdout",
     "output_type": "stream",
     "text": [
      "New_point(x=5, y=0, z=0)\n"
     ]
    }
   ],
   "source": [
    "# 5 значение по-умолчанию\n",
    "New_point = namedtuple('New_point', 'x, y, z', defaults=[0,0])\n",
    "p4 = New_point(5)\n",
    "print(p4)"
   ]
  },
  {
   "cell_type": "code",
   "execution_count": 55,
   "metadata": {
    "Collapsed": "false"
   },
   "outputs": [
    {
     "name": "stdout",
     "output_type": "stream",
     "text": [
      "{'y': 0, 'z': 0}\n"
     ]
    }
   ],
   "source": [
    "print(p4._field_defaults)"
   ]
  },
  {
   "cell_type": "code",
   "execution_count": 56,
   "metadata": {
    "Collapsed": "false"
   },
   "outputs": [
    {
     "name": "stdout",
     "output_type": "stream",
     "text": [
      "New_point(x=10, y=20, z=30)\n"
     ]
    }
   ],
   "source": [
    "dct = {'x': 10,'y': 20,'z': 30}\n",
    "p5 = New_point(**dct)\n",
    "print(p5)"
   ]
  },
  {
   "cell_type": "markdown",
   "metadata": {
    "Collapsed": "false"
   },
   "source": [
    "# ChainMap\n",
    "\\- (цепочка отображений) - позволяет организовать работу с несколькими словарями(`dict`)\n",
    "\n",
    "Поиск \"ключа\" осуществляется посредовательно в каждом из словарей цепочки, пока ключ не будет найден."
   ]
  },
  {
   "cell_type": "code",
   "execution_count": 57,
   "metadata": {
    "Collapsed": "false"
   },
   "outputs": [
    {
     "name": "stdout",
     "output_type": "stream",
     "text": [
      "ChainMap({'a': 2, 'b': 4, 'c': 5}, {'a': 10, 'b': 20, 'd': 40})\n"
     ]
    }
   ],
   "source": [
    "from collections import ChainMap\n",
    "\n",
    "# сначала построим несколько словарей\n",
    "# у нас будет возможность построить из них цепочку\n",
    "d1 = {'a': 2, 'b': 4, 'c': 5}\n",
    "d2 = {'a': 10, 'b': 20, 'd': 40}\n",
    "\n",
    "d_map = ChainMap(d1, d2)  # важен порядок элементов\n",
    "print(d_map)"
   ]
  },
  {
   "cell_type": "code",
   "execution_count": 58,
   "metadata": {
    "Collapsed": "false"
   },
   "outputs": [
    {
     "name": "stdout",
     "output_type": "stream",
     "text": [
      "ChainMap({'a': 2, 'b': 4, 'c': 5}, {'a': 100, 'b': 20, 'd': 40})\n"
     ]
    }
   ],
   "source": [
    "d2['a'] = 100\n",
    "print(d_map)"
   ]
  },
  {
   "cell_type": "code",
   "execution_count": 59,
   "metadata": {
    "Collapsed": "false"
   },
   "outputs": [
    {
     "name": "stdout",
     "output_type": "stream",
     "text": [
      "2\n",
      "40\n"
     ]
    }
   ],
   "source": [
    "print(d_map['a'])\n",
    "print(d_map['d'])"
   ]
  },
  {
   "cell_type": "code",
   "execution_count": 61,
   "metadata": {
    "Collapsed": "false"
   },
   "outputs": [
    {
     "name": "stdout",
     "output_type": "stream",
     "text": [
      "ChainMap({}, {'a': 2, 'b': 4, 'c': 5}, {'a': 100, 'b': 20, 'd': 40})\n"
     ]
    }
   ],
   "source": [
    "# дабавление\n",
    "x = d_map.new_child()\n",
    "print(x)"
   ]
  },
  {
   "cell_type": "code",
   "execution_count": 64,
   "metadata": {
    "Collapsed": "false"
   },
   "outputs": [
    {
     "name": "stdout",
     "output_type": "stream",
     "text": [
      "{}\n",
      "{'a': 100, 'b': 20, 'd': 40}\n"
     ]
    }
   ],
   "source": [
    "# ображение к словарям\n",
    "print(x.maps[0])\n",
    "print(x.maps[-1])"
   ]
  },
  {
   "cell_type": "code",
   "execution_count": 65,
   "metadata": {
    "Collapsed": "false"
   },
   "outputs": [
    {
     "name": "stdout",
     "output_type": "stream",
     "text": [
      "ChainMap({'a': 2, 'b': 4, 'c': 5}, {'a': 100, 'b': 20, 'd': 40})\n"
     ]
    }
   ],
   "source": [
    "print(x.parents)"
   ]
  },
  {
   "cell_type": "code",
   "execution_count": 68,
   "metadata": {
    "Collapsed": "false"
   },
   "outputs": [
    {
     "name": "stdout",
     "output_type": "stream",
     "text": [
      "ChainMap({'a': 111, 'b': 222, 'c': 333, 'd': 444}, {'a': 2, 'b': 4, 'c': 5}, {'a': 100, 'b': 20, 'd': 40})\n",
      "{'a': 111, 'b': 222, 'c': 333, 'd': 444}\n",
      "{'a': 100, 'b': 20, 'd': 40}\n",
      "ChainMap({'a': 2, 'b': 4, 'c': 5}, {'a': 100, 'b': 20, 'd': 40})\n"
     ]
    }
   ],
   "source": [
    "x = d_map.new_child({'a': 111, 'b': 222, 'c': 333, 'd': 444})\n",
    "print(x)\n",
    "# ображение к словарям\n",
    "print(x.maps[0])\n",
    "print(x.maps[-1])\n",
    "print(x.parents)"
   ]
  },
  {
   "cell_type": "code",
   "execution_count": 70,
   "metadata": {
    "Collapsed": "false"
   },
   "outputs": [
    {
     "name": "stdout",
     "output_type": "stream",
     "text": [
      "ChainMap({}, {'a': 2, 'b': 4, 'c': 5}, {'a': 100, 'b': 20, 'd': 40})\n"
     ]
    }
   ],
   "source": [
    "y = d_map.new_child()\n",
    "print(y)"
   ]
  },
  {
   "cell_type": "code",
   "execution_count": 71,
   "metadata": {
    "Collapsed": "false"
   },
   "outputs": [
    {
     "name": "stdout",
     "output_type": "stream",
     "text": [
      "2\n"
     ]
    }
   ],
   "source": [
    "print(y['a'])"
   ]
  },
  {
   "cell_type": "code",
   "execution_count": 72,
   "metadata": {
    "Collapsed": "false"
   },
   "outputs": [
    {
     "name": "stdout",
     "output_type": "stream",
     "text": [
      "ChainMap({'a': 1}, {'a': 2, 'b': 4, 'c': 5}, {'a': 100, 'b': 20, 'd': 40})\n"
     ]
    }
   ],
   "source": [
    "y['a'] = 1\n",
    "print(y)"
   ]
  },
  {
   "cell_type": "code",
   "execution_count": 74,
   "metadata": {
    "Collapsed": "false"
   },
   "outputs": [
    {
     "name": "stdout",
     "output_type": "stream",
     "text": [
      "['a', 'b', 'd', 'c']\n",
      "[1, 4, 40, 5]\n"
     ]
    }
   ],
   "source": [
    "print(list(y))\n",
    "print(list(y.values()))"
   ]
  },
  {
   "cell_type": "markdown",
   "metadata": {
    "Collapsed": "false"
   },
   "source": [
    "## Задача"
   ]
  },
  {
   "cell_type": "code",
   "execution_count": 76,
   "metadata": {
    "Collapsed": "false"
   },
   "outputs": [
    {
     "name": "stderr",
     "output_type": "stream",
     "text": [
      "usage: ipykernel_launcher.py [-h] [-i IP] [-p PORT]\n",
      "ipykernel_launcher.py: error: unrecognized arguments: -f C:\\Users\\carne\\AppData\\Roaming\\jupyter\\runtime\\kernel-9d1acfd6-2b3b-4123-b40d-03992edc474a.json\n"
     ]
    },
    {
     "ename": "SystemExit",
     "evalue": "2",
     "output_type": "error",
     "traceback": [
      "An exception has occurred, use %tb to see the full traceback.\n",
      "\u001b[1;31mSystemExit\u001b[0m\u001b[1;31m:\u001b[0m 2\n"
     ]
    }
   ],
   "source": [
    "import argparse\n",
    "from collections import ChainMap\n",
    "\n",
    "'''\n",
    "Напишем программу, которая будет хранить значения ip-адреса и порта по-умолчанию\n",
    "'''\n",
    "\n",
    "defaults = {'ip': 'localhost', 'port': 7777}\n",
    "parser = argparse.ArgumentParser()\n",
    "parser.add_argument('-i', '--ip',)\n",
    "parser.add_argument('-p', '--port')\n",
    "\n",
    "args = parser.parse_args()\n",
    "new_dict = {key: value for key, value in vars(args).items() if value}\n",
    "\n",
    "settings = ChainMap(new_dict, defaults)\n",
    "print(settings['ip'])\n",
    "print(settings['port'])\n",
    "exit"
   ]
  },
  {
   "cell_type": "code",
   "execution_count": null,
   "metadata": {
    "Collapsed": "false"
   },
   "outputs": [],
   "source": []
  }
 ],
 "metadata": {
  "kernelspec": {
   "display_name": "Python 3",
   "language": "python",
   "name": "python3"
  },
  "language_info": {
   "codemirror_mode": {
    "name": "ipython",
    "version": 3
   },
   "file_extension": ".py",
   "mimetype": "text/x-python",
   "name": "python",
   "nbconvert_exporter": "python",
   "pygments_lexer": "ipython3",
   "version": "3.7.6"
  },
  "toc-autonumbering": true,
  "toc-showcode": false,
  "toc-showmarkdowntxt": true
 },
 "nbformat": 4,
 "nbformat_minor": 4
}
