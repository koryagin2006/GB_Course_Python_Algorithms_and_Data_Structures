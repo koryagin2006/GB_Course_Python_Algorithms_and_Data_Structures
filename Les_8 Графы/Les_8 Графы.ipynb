{
 "cells": [
  {
   "cell_type": "code",
   "execution_count": null,
   "metadata": {
    "Collapsed": "false",
    "colab": {},
    "colab_type": "code",
    "id": "yZB3v_kLdtuN"
   },
   "outputs": [],
   "source": [
    "from pprint import  pprint"
   ]
  },
  {
   "cell_type": "markdown",
   "metadata": {
    "Collapsed": "false",
    "colab_type": "text",
    "id": "qmPZ-DBeUJI-"
   },
   "source": [
    "# Описание графов"
   ]
  },
  {
   "cell_type": "markdown",
   "metadata": {
    "Collapsed": "false",
    "colab_type": "text",
    "id": "p8f9m57uUOvE"
   },
   "source": [
    "# Предаствление графов"
   ]
  },
  {
   "cell_type": "markdown",
   "metadata": {
    "Collapsed": "false",
    "colab_type": "text",
    "id": "YheCGLkMam5Q"
   },
   "source": [
    "## Матрицы смежности"
   ]
  },
  {
   "cell_type": "code",
   "execution_count": null,
   "metadata": {
    "Collapsed": "false",
    "colab": {
     "base_uri": "https://localhost:8080/",
     "height": 85
    },
    "colab_type": "code",
    "id": "jaUe69GaURLO",
    "outputId": "99620850-00bb-422d-c60b-13f7122d3caf"
   },
   "outputs": [
    {
     "name": "stdout",
     "output_type": "stream",
     "text": [
      "[0, 1, 1, 0]\n",
      "[1, 0, 1, 1]\n",
      "[1, 1, 0, 0]\n",
      "[0, 1, 0, 0]\n"
     ]
    }
   ],
   "source": [
    "graph = [\n",
    "         [0, 1, 1, 0],\n",
    "         [1, 0, 1, 1],\n",
    "         [1, 1, 0, 0],\n",
    "         [0, 1, 0, 0]\n",
    "]\n",
    "\n",
    "print(*graph, sep='\\n')"
   ]
  },
  {
   "cell_type": "code",
   "execution_count": null,
   "metadata": {
    "Collapsed": "false",
    "colab": {
     "base_uri": "https://localhost:8080/",
     "height": 85
    },
    "colab_type": "code",
    "id": "IYdXZEmoVb2o",
    "outputId": "c9517d19-3c88-4413-986a-c9a844401d6a"
   },
   "outputs": [
    {
     "name": "stdout",
     "output_type": "stream",
     "text": [
      "[0, 1, 1, 0]\n",
      "[0, 0, 1, 1]\n",
      "[0, 1, 0, 0]\n",
      "[0, 0, 0, 0]\n"
     ]
    }
   ],
   "source": [
    "# Направленный граф\n",
    "graph = [\n",
    "         [0, 1, 1, 0],\n",
    "         [0, 0, 1, 1],\n",
    "         [0, 1, 0, 0],\n",
    "         [0, 0, 0, 0]\n",
    "]\n",
    "\n",
    "print(*graph, sep='\\n')"
   ]
  },
  {
   "cell_type": "code",
   "execution_count": null,
   "metadata": {
    "Collapsed": "false",
    "colab": {
     "base_uri": "https://localhost:8080/",
     "height": 85
    },
    "colab_type": "code",
    "id": "VzsrCNcBabT2",
    "outputId": "c332a6f1-cc7e-4d02-c622-21ae085b09e8"
   },
   "outputs": [
    {
     "name": "stdout",
     "output_type": "stream",
     "text": [
      "[0, 2, 3, 0]\n",
      "[0, 0, 2, 1]\n",
      "[0, 2, 0, 0]\n",
      "[0, 0, 0, 0]\n"
     ]
    }
   ],
   "source": [
    "# Взвешенный граф. Меняем 1 на вес ребра\n",
    "graph[0][1:3] = [2, 3]\n",
    "graph[1][2] = 2\n",
    "graph[2][1] = 2\n",
    "print(*graph, sep='\\n')"
   ]
  },
  {
   "cell_type": "markdown",
   "metadata": {
    "Collapsed": "false",
    "colab_type": "text",
    "id": "9oMqF_iNcYwp"
   },
   "source": [
    "## Списки смежности"
   ]
  },
  {
   "cell_type": "code",
   "execution_count": null,
   "metadata": {
    "Collapsed": "false",
    "colab": {
     "base_uri": "https://localhost:8080/",
     "height": 85
    },
    "colab_type": "code",
    "id": "OjlvF49bcSfV",
    "outputId": "66b32a35-b7f6-427c-9d81-8b61c3eea456"
   },
   "outputs": [
    {
     "name": "stdout",
     "output_type": "stream",
     "text": [
      "[1, 2]\n",
      "[0, 2, 3]\n",
      "[0, 1]\n",
      "[1]\n"
     ]
    }
   ],
   "source": [
    "graph = []\n",
    "\n",
    "graph.append([1, 2])\n",
    "graph.append([0, 2, 3])\n",
    "graph.append([0, 1])\n",
    "graph.append([1])\n",
    "\n",
    "print(*graph, sep='\\n')"
   ]
  },
  {
   "cell_type": "code",
   "execution_count": null,
   "metadata": {
    "Collapsed": "false",
    "colab": {
     "base_uri": "https://localhost:8080/",
     "height": 34
    },
    "colab_type": "code",
    "id": "76J4liXfdL5l",
    "outputId": "a88810d0-708f-40ce-fcfe-38bc243bf26a"
   },
   "outputs": [
    {
     "name": "stdout",
     "output_type": "stream",
     "text": [
      "{0: {1, 2}, 1: {0, 2, 3}, 2: {0, 1}, 3: {1}}\n"
     ]
    }
   ],
   "source": [
    "graph_2 = {\n",
    "    0: {1, 2},\n",
    "    1: {0, 2, 3},\n",
    "    2: {0, 1},\n",
    "    3: {1}\n",
    "}\n",
    "\n",
    "print(graph_2)"
   ]
  },
  {
   "cell_type": "code",
   "execution_count": null,
   "metadata": {
    "Collapsed": "false",
    "colab": {
     "base_uri": "https://localhost:8080/",
     "height": 34
    },
    "colab_type": "code",
    "id": "8F5hktSJdPcM",
    "outputId": "c5fa4d39-1810-4a7b-c2ce-0ab1c4ad8cc2"
   },
   "outputs": [
    {
     "name": "stdout",
     "output_type": "stream",
     "text": [
      "True\n"
     ]
    }
   ],
   "source": [
    "# Проверка, что из вершины 1 мы можем попасть в вершину 3\n",
    "if 3 in graph_2[1]:\n",
    "  print(True)"
   ]
  },
  {
   "cell_type": "code",
   "execution_count": null,
   "metadata": {
    "Collapsed": "false",
    "colab": {
     "base_uri": "https://localhost:8080/",
     "height": 102
    },
    "colab_type": "code",
    "id": "jpCQm9ICeFv3",
    "outputId": "0f6c5d6d-075b-4698-f708-24e6e55722df"
   },
   "outputs": [
    {
     "name": "stdout",
     "output_type": "stream",
     "text": [
      "[Vertex(vertex=1, edge=2), Vertex(vertex=2, edge=3)]\n",
      "[Vertex(vertex=0, edge=2), Vertex(vertex=2, edge=3), Vertex(vertex=3, edge=1)]\n",
      "[Vertex(vertex=0, edge=3), Vertex(vertex=1, edge=2)]\n",
      "[Vertex(vertex=1, edge=1)]\n",
      "True\n"
     ]
    }
   ],
   "source": [
    "from collections import namedtuple\n",
    "\n",
    "Vertex = namedtuple('Vertex', ['vertex', 'edge'])\n",
    "graph_3 = []\n",
    "\n",
    "graph_3.append([Vertex(1, 2), Vertex(2, 3)])\n",
    "graph_3.append([Vertex(0, 2), Vertex(2, 3), Vertex(3, 1)])\n",
    "graph_3.append([Vertex(0, 3), Vertex(1, 2)])\n",
    "graph_3.append([Vertex(1, 1)])\n",
    "\n",
    "print(*graph_3, sep='\\n')\n",
    "\n",
    "for v in graph_3[1]:\n",
    "  if v.vertex == 3:\n",
    "    print(True)"
   ]
  },
  {
   "cell_type": "code",
   "execution_count": null,
   "metadata": {
    "Collapsed": "false",
    "colab": {},
    "colab_type": "code",
    "id": "P5zhHLw0ehPU"
   },
   "outputs": [],
   "source": [
    "class Graph:\n",
    "  def __init(self, vertex, egde):\n",
    "    self.vertex = vertex\n",
    "    self.edge = edge\n",
    "   "
   ]
  },
  {
   "cell_type": "markdown",
   "metadata": {
    "Collapsed": "false",
    "colab_type": "text",
    "id": "ppXgxvRrjhYY"
   },
   "source": [
    "## Список ребер"
   ]
  },
  {
   "cell_type": "code",
   "execution_count": null,
   "metadata": {
    "Collapsed": "false",
    "colab": {
     "base_uri": "https://localhost:8080/",
     "height": 102
    },
    "colab_type": "code",
    "id": "yay_7U-HjjJG",
    "outputId": "39c3a472-a201-4ac9-e938-30f6c82c292e"
   },
   "outputs": [
    {
     "name": "stdout",
     "output_type": "stream",
     "text": [
      "(0, 1)\n",
      "(1, 2)\n",
      "(1, 2)\n",
      "(2, 1)\n",
      "(1, 3)\n"
     ]
    }
   ],
   "source": [
    "graph = [(0,1), (1,2), (1, 2), (2,1), (1,3)]\n",
    "print(*graph, sep='\\n')"
   ]
  },
  {
   "cell_type": "markdown",
   "metadata": {
    "Collapsed": "false",
    "colab_type": "text",
    "id": "OS-C8vsUly-o"
   },
   "source": [
    "# Поиск кратчайшего пути в ширину"
   ]
  },
  {
   "cell_type": "code",
   "execution_count": null,
   "metadata": {
    "Collapsed": "false",
    "colab": {},
    "colab_type": "code",
    "id": "xE0teuX4l2MO"
   },
   "outputs": [],
   "source": []
  },
  {
   "cell_type": "markdown",
   "metadata": {
    "Collapsed": "false"
   },
   "source": [
    "# Алгоритм Дейкстры"
   ]
  },
  {
   "cell_type": "code",
   "execution_count": 1,
   "metadata": {
    "Collapsed": "false",
    "ExecuteTime": {
     "end_time": "2020-06-09T16:27:04.809971Z",
     "start_time": "2020-06-09T16:27:02.373179Z"
    }
   },
   "outputs": [
    {
     "name": "stdout",
     "output_type": "stream",
     "text": [
      "От какой вершины идти: 0\n",
      "[0, 10, 1, 1, 4, 6, 5, inf]\n"
     ]
    }
   ],
   "source": [
    "g = [\n",
    "    [0, 0, 1, 1, 9, 0, 0, 0],\n",
    "    [0, 0, 9, 4, 0, 0, 5, 0],\n",
    "    [0, 9, 0, 0, 3, 0, 6, 0],\n",
    "    [0, 0, 0, 0, 0, 0, 0, 0],\n",
    "    [0, 0, 0, 0, 0, 0, 1, 0],\n",
    "    [0, 0, 0, 0, 0, 0, 5, 0],\n",
    "    [0, 0, 7, 0, 8, 1, 0, 0],\n",
    "    [0, 0, 0, 0, 0, 1, 2, 0]\n",
    "]\n",
    "\n",
    "\n",
    "def dijkstra(graph, start):\n",
    "    length = len(graph)  # днина графа\n",
    "    is_visited = [False] * length  # посещали ли мы вершину или нет\n",
    "    cost = [float('inf')] * length  # стоимость пути до конкрентой вершины\n",
    "    parent = [-1] * length\n",
    "\n",
    "    cost[start] = 0\n",
    "    min_cost = 0\n",
    "\n",
    "    while min_cost < float('inf'):\n",
    "\n",
    "        is_visited[start] = True\n",
    "\n",
    "        for i, vertex in enumerate(graph[start]):\n",
    "            if vertex != 0 and not is_visited[i]:\n",
    "\n",
    "                if cost[i] > vertex + cost[start]:\n",
    "                    cost[i] = vertex + cost[start]\n",
    "                    parent[i] = start\n",
    "\n",
    "        min_cost = float('inf')\n",
    "        for i in range(length):\n",
    "            if min_cost > cost[i] and not is_visited[i]:\n",
    "                min_cost = cost[i]\n",
    "                start = i\n",
    "\n",
    "    return cost\n",
    "\n",
    "\n",
    "s = int(input('От какой вершины идти: '))\n",
    "print(dijkstra(g, s))"
   ]
  },
  {
   "cell_type": "code",
   "execution_count": null,
   "metadata": {},
   "outputs": [],
   "source": []
  }
 ],
 "metadata": {
  "colab": {
   "collapsed_sections": [],
   "name": "Алгоритмы и структуры данных на Python. Графы.ipynb",
   "provenance": [],
   "toc_visible": true
  },
  "kernelspec": {
   "display_name": "Python 3",
   "language": "python",
   "name": "python3"
  },
  "language_info": {
   "codemirror_mode": {
    "name": "ipython",
    "version": 3
   },
   "file_extension": ".py",
   "mimetype": "text/x-python",
   "name": "python",
   "nbconvert_exporter": "python",
   "pygments_lexer": "ipython3",
   "version": "3.7.6"
  },
  "toc": {
   "base_numbering": 1,
   "nav_menu": {},
   "number_sections": true,
   "sideBar": true,
   "skip_h1_title": false,
   "title_cell": "Table of Contents",
   "title_sidebar": "Contents",
   "toc_cell": false,
   "toc_position": {},
   "toc_section_display": true,
   "toc_window_display": false
  }
 },
 "nbformat": 4,
 "nbformat_minor": 4
}
