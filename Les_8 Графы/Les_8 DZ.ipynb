{
 "cells": [
  {
   "cell_type": "markdown",
   "metadata": {
    "Collapsed": "false"
   },
   "source": [
    "# 1. На улице встретились N друзей. Каждый пожал руку всем остальным друзьям (по одному разу). Сколько рукопожатий было?\n",
    "\n",
    "Примечание. Решите задачу при помощи построения графа."
   ]
  },
  {
   "cell_type": "code",
   "execution_count": 2,
   "metadata": {
    "Collapsed": "false"
   },
   "outputs": [
    {
     "name": "stdin",
     "output_type": "stream",
     "text": [
      "Сколько друзей встретились:  3\n"
     ]
    },
    {
     "name": "stdout",
     "output_type": "stream",
     "text": [
      "(0, 1)\n",
      "(0, 2)\n",
      "(1, 0)\n",
      "(1, 2)\n",
      "(2, 0)\n",
      "(2, 1)\n",
      "Было 3 рукопожатий\n"
     ]
    }
   ],
   "source": [
    "def friends(num):\n",
    "    if num < 2:\n",
    "        print('Слишком мало друзей')\n",
    "    \n",
    "    graph = []\n",
    "    for i in range(num):\n",
    "        for j in range(num):\n",
    "            if i != j:\n",
    "                graph.append((i, j))\n",
    "    print(*graph, sep='\\n')\n",
    "    print(f'Было {len(graph) // 2} рукопожатий')\n",
    "\n",
    "friends(int(input('Сколько друзей встретились: ')))"
   ]
  },
  {
   "cell_type": "markdown",
   "metadata": {
    "Collapsed": "false"
   },
   "source": [
    "# 2. Доработать алгоритм Дейкстры (рассматривался на уроке), чтобы он дополнительно возвращал список вершин, которые необходимо обойти."
   ]
  },
  {
   "cell_type": "code",
   "execution_count": 2,
   "metadata": {
    "Collapsed": "false",
    "ExecuteTime": {
     "end_time": "2020-06-09T16:53:20.973861Z",
     "start_time": "2020-06-09T16:53:19.195698Z"
    }
   },
   "outputs": [
    {
     "name": "stdout",
     "output_type": "stream",
     "text": [
      "От какой вершины идти: 0\n",
      "[0, 10, 1, 1, 4, 6, 5, inf]\n",
      "[0]\n",
      "[0, 2, 1]\n",
      "[0, 2]\n",
      "[0, 3]\n",
      "[0, 2, 4]\n",
      "[0, 2, 4, 6, 5]\n",
      "[0, 2, 4, 6]\n",
      "[]\n"
     ]
    }
   ],
   "source": [
    "g = [\n",
    "    [0, 0, 1, 1, 9, 0, 0, 0],\n",
    "    [0, 0, 9, 4, 0, 0, 5, 0],\n",
    "    [0, 9, 0, 0, 3, 0, 6, 0],\n",
    "    [0, 0, 0, 0, 0, 0, 0, 0],\n",
    "    [0, 0, 0, 0, 0, 0, 1, 0],\n",
    "    [0, 0, 0, 0, 0, 0, 5, 0],\n",
    "    [0, 0, 7, 0, 8, 1, 0, 0],\n",
    "    [0, 0, 0, 0, 0, 1, 2, 0]\n",
    "]\n",
    "\n",
    "\n",
    "def dijkstra(graph, start):\n",
    "    length = len(graph)  # днина графа\n",
    "    is_visited = [False] * length  # посещали ли мы вершину или нет\n",
    "    cost = [float('inf')] * length  # стоимость пути до конкрентой вершины\n",
    "    parent = [-1] * length\n",
    "\n",
    "    cost[start] = 0\n",
    "    min_cost = 0\n",
    "\n",
    "    while min_cost < float('inf'):\n",
    "\n",
    "        is_visited[start] = True\n",
    "\n",
    "        for i, vertex in enumerate(graph[start]):\n",
    "            if vertex != 0 and not is_visited[i]:\n",
    "\n",
    "                if cost[i] > vertex + cost[start]:\n",
    "                    cost[i] = vertex + cost[start]\n",
    "                    parent[i] = start\n",
    "\n",
    "        min_cost = float('inf')\n",
    "        for i in range(length):\n",
    "            if min_cost > cost[i] and not is_visited[i]:\n",
    "                min_cost = cost[i]\n",
    "                start = i\n",
    "\n",
    "#     return cost\n",
    "    result = [[] for _ in range(length)]\n",
    "\n",
    "    for i in range(length):\n",
    "        if is_visited[i]:\n",
    "            result[i].append(i)\n",
    "            j = i\n",
    "            while parent[j] != -1:\n",
    "                result[i].append(parent[j])\n",
    "                j = parent[j]\n",
    "\n",
    "        result[i].reverse()\n",
    "\n",
    "    return cost, result\n",
    "\n",
    "\n",
    "s = int(input('От какой вершины идти: '))\n",
    "cost, path = dijkstra(g, s)\n",
    "print(cost)\n",
    "print(*path, sep='\\n')"
   ]
  },
  {
   "cell_type": "markdown",
   "metadata": {
    "Collapsed": "false"
   },
   "source": [
    "# 3. Написать программу, которая обходит не взвешенный ориентированный граф без петель, в котором все вершины связаны, по алгоритму поиска в глубину (Depth-First Search).\n",
    "\n",
    "Примечания:\n",
    "- a. граф должен храниться в виде списка смежности;\n",
    "- b. генерация графа выполняется в отдельной функции, которая принимает на вход число вершин."
   ]
  },
  {
   "cell_type": "code",
   "execution_count": null,
   "metadata": {
    "Collapsed": "false"
   },
   "outputs": [],
   "source": []
  }
 ],
 "metadata": {
  "kernelspec": {
   "display_name": "Python 3",
   "language": "python",
   "name": "python3"
  },
  "language_info": {
   "codemirror_mode": {
    "name": "ipython",
    "version": 3
   },
   "file_extension": ".py",
   "mimetype": "text/x-python",
   "name": "python",
   "nbconvert_exporter": "python",
   "pygments_lexer": "ipython3",
   "version": "3.7.6"
  },
  "toc": {
   "base_numbering": 1,
   "nav_menu": {},
   "number_sections": true,
   "sideBar": true,
   "skip_h1_title": false,
   "title_cell": "Table of Contents",
   "title_sidebar": "Contents",
   "toc_cell": false,
   "toc_position": {},
   "toc_section_display": true,
   "toc_window_display": false
  }
 },
 "nbformat": 4,
 "nbformat_minor": 4
}
