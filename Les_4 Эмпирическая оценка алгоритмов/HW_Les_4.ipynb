{
 "cells": [
  {
   "cell_type": "markdown",
   "metadata": {},
   "source": [
    "# Урок №4. Эмпирическая оценка алгоритмов\n",
    "Домашнее задание"
   ]
  },
  {
   "cell_type": "markdown",
   "metadata": {},
   "source": [
    "### 1. Проанализировать скорость и сложность одного любого алгоритма из разработанных в рамках домашнего задания первых трех уроков.\n",
    "NB! Идеальным решением будет:\n",
    "- a. выбрать хорошую задачу, которую имеет смысл оценивать,\n",
    "- b. написать 3 варианта кода (один у вас уже есть),\n",
    "- c. проанализировать 3 варианта и выбрать оптимальный,\n",
    "- d. результаты анализа вставить в виде комментариев в файл с кодом (не забудьте указать, для каких N вы проводили замеры),\n",
    "- e. написать общий вывод: какой из трёх вариантов лучше и почему."
   ]
  },
  {
   "cell_type": "code",
   "execution_count": 8,
   "metadata": {
    "Collapsed": "false"
   },
   "outputs": [
    {
     "name": "stdout",
     "output_type": "stream",
     "text": [
      "\n"
     ]
    }
   ],
   "source": [
    "from random import randint\n",
    "import cProfile\n",
    "\n",
    "'''\n",
    "les_3_task_2\n",
    "2. Во втором массиве сохранить индексы четных элементов первого массива. \n",
    "Например, если дан массив со значениями 8, 3, 15, 6, 4, 2, \n",
    "второй массив надо заполнить значениями 0, 3, 4, 5 (помните, что индексация начинается с нуля), \n",
    "т. к. именно в этих позициях первого массива стоят четные числа.\n",
    "'''\n",
    "\n",
    "\n",
    "def save_index(n):\n",
    "    list_1 = [randint(1, 100) for _ in range(n)]\n",
    "    # print(f'list_1 {list_1}')\n",
    "\n",
    "    list_2 = []\n",
    "    for i in enumerate(list_1):\n",
    "        if i[1] % 2 == 0:\n",
    "            list_2.append(i[0])\n",
    "    # print(f'list_2 {list_2}')\n",
    "\n",
    "\n",
    "# cProfile.run('save_index(100)')\n",
    "'''\n",
    "   ncalls  tottime  percall  cumtime  percall filename:lineno(function)\n",
    "        1    0.000    0.000    0.000    0.000 <string>:1(<module>)\n",
    "        1    0.000    0.000    0.000    0.000 les_3_task_2.py:13(save_index)\n",
    "        1    0.000    0.000    0.000    0.000 les_3_task_2.py:14(<listcomp>)\n",
    "      100    0.000    0.000    0.000    0.000 random.py:174(randrange)\n",
    "      100    0.000    0.000    0.000    0.000 random.py:218(randint)\n",
    "      100    0.000    0.000    0.000    0.000 random.py:224(_randbelow)\n",
    "        1    0.000    0.000    0.000    0.000 {built-in method builtins.exec}\n",
    "       60    0.000    0.000    0.000    0.000 {method 'append' of 'list' objects}\n",
    "      100    0.000    0.000    0.000    0.000 {method 'bit_length' of 'int' objects}\n",
    "        1    0.000    0.000    0.000    0.000 {method 'disable' of '_lsprof.Profiler' objects}\n",
    "      124    0.000    0.000    0.000    0.000 {method 'getrandbits' of '_random.Random' objects}\n",
    "\n",
    "\"les_3_task_2.save_index(10)\"\n",
    "1000 loops, best of 5: 18.3 usec per loop\n",
    "\n",
    "\"les_3_task_2.save_index(20)\"\n",
    "1000 loops, best of 5: 45.6 usec per loop\n",
    "\n",
    "\"les_3_task_2.save_index(100)\"\n",
    "1000 loops, best of 5: 186 usec per loop\n",
    "\n",
    "\"les_3_task_2.save_index(500)\"\n",
    "1000 loops, best of 5: 1.03 msec per loop\n",
    "'''"
   ]
  },
  {
   "cell_type": "markdown",
   "metadata": {},
   "source": [
    "### 2. Написать два алгоритма нахождения i-го по счёту простого числа. Функция нахождения простого числа должна принимать на вход натуральное и возвращать соответствующее простое число. Проанализировать скорость и сложность алгоритмов.\n",
    "Первый — с помощью алгоритма «Решето Эратосфена».\n",
    "Примечание. Алгоритм «Решето Эратосфена» разбирался на одном из прошлых уроков. Используйте этот код и попробуйте его улучшить/оптимизировать под задачу.\n",
    "Второй — без использования «Решета Эратосфена».\n",
    "Примечание. Вспомните классический способ проверки числа на простоту.\n",
    "Пример работы программ:\n",
    "```python\n",
    "sieve(2)\n",
    "3\n",
    "prime(4)\n",
    "7\n",
    "sieve(5)\n",
    "11\n",
    "prime(1)\n",
    "2\n",
    "```\n",
    "Примечание по профилированию кода: для получения достоверных результатов при замере времени необходимо исключить/заменить функции print() и input() в анализируемом коде. С ними вы будете замерять время вывода данных в терминал и время, потраченное пользователем, на ввод данных, а не быстродействие самого алгоритма."
   ]
  },
  {
   "cell_type": "code",
   "execution_count": 3,
   "metadata": {
    "Collapsed": "false",
    "ExecuteTime": {
     "end_time": "2021-03-05T14:05:33.608857Z",
     "start_time": "2021-03-05T14:05:33.598882Z"
    }
   },
   "outputs": [],
   "source": [
    "def eratosthenes(n: int) -> list:\n",
    "    sieve = [i for i in range(n)]\n",
    "    sieve[1] = 0\n",
    "    for i in range(2, n):\n",
    "        if sieve[i] != 0:\n",
    "            j = i * 2\n",
    "            while j < n:\n",
    "                sieve[j] = 0\n",
    "                j += i\n",
    "    result = [i for i in sieve if i != 0]\n",
    "    return result"
   ]
  },
  {
   "cell_type": "markdown",
   "metadata": {
    "Collapsed": "false"
   },
   "source": [
    "## без использования «Решета Эратосфена»"
   ]
  },
  {
   "cell_type": "code",
   "execution_count": 5,
   "metadata": {
    "Collapsed": "false",
    "ExecuteTime": {
     "end_time": "2021-03-05T14:06:03.585564Z",
     "start_time": "2021-03-05T14:06:03.579585Z"
    }
   },
   "outputs": [
    {
     "ename": "SyntaxError",
     "evalue": "unexpected EOF while parsing (<ipython-input-5-3a07e4a6158f>, line 5)",
     "output_type": "error",
     "traceback": [
      "\u001b[1;36m  File \u001b[1;32m\"<ipython-input-5-3a07e4a6158f>\"\u001b[1;36m, line \u001b[1;32m5\u001b[0m\n\u001b[1;33m    \u001b[0m\n\u001b[1;37m    ^\u001b[0m\n\u001b[1;31mSyntaxError\u001b[0m\u001b[1;31m:\u001b[0m unexpected EOF while parsing\n"
     ]
    }
   ],
   "source": [
    "# не смог\n",
    "\n",
    "def sieve_not_eratosthenes(n):\n",
    "    \n",
    "    \n",
    "    \n",
    "    "
   ]
  }
 ],
 "metadata": {
  "hide_input": false,
  "kernelspec": {
   "display_name": "Python 3",
   "language": "python",
   "name": "python3"
  },
  "language_info": {
   "codemirror_mode": {
    "name": "ipython",
    "version": 3
   },
   "file_extension": ".py",
   "mimetype": "text/x-python",
   "name": "python",
   "nbconvert_exporter": "python",
   "pygments_lexer": "ipython3",
   "version": "3.8.5"
  },
  "toc": {
   "base_numbering": 1,
   "nav_menu": {},
   "number_sections": false,
   "sideBar": true,
   "skip_h1_title": false,
   "title_cell": "Table of Contents",
   "title_sidebar": "Contents",
   "toc_cell": false,
   "toc_position": {},
   "toc_section_display": true,
   "toc_window_display": true
  },
  "toc-autonumbering": true,
  "varInspector": {
   "cols": {
    "lenName": 16,
    "lenType": 16,
    "lenVar": 40
   },
   "kernels_config": {
    "python": {
     "delete_cmd_postfix": "",
     "delete_cmd_prefix": "del ",
     "library": "var_list.py",
     "varRefreshCmd": "print(var_dic_list())"
    },
    "r": {
     "delete_cmd_postfix": ") ",
     "delete_cmd_prefix": "rm(",
     "library": "var_list.r",
     "varRefreshCmd": "cat(var_dic_list()) "
    }
   },
   "types_to_exclude": [
    "module",
    "function",
    "builtin_function_or_method",
    "instance",
    "_Feature"
   ],
   "window_display": false
  }
 },
 "nbformat": 4,
 "nbformat_minor": 4
}
