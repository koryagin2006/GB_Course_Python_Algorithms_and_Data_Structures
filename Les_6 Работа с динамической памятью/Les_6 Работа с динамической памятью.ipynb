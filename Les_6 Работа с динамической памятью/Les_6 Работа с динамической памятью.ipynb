{
 "cells": [
  {
   "cell_type": "markdown",
   "metadata": {},
   "source": [
    "# Этапы, методы работы с памятью, сборщик мусора"
   ]
  },
  {
   "cell_type": "markdown",
   "metadata": {},
   "source": [
    "## Основные фазы работы с памятью"
   ]
  },
  {
   "cell_type": "markdown",
   "metadata": {},
   "source": [
    "1. Выделить память под переменную\n",
    "2. Инициализировать память некоторым начальным значением\n",
    "3. Предоставить программисту возможность работы с памятью\n",
    "4. Как только память перестает использоваться необзодимо ее освободить (предварително очистив)\n",
    "5. Наконец необходимо обеспечить возможность повторного использования освобожденной памяти"
   ]
  },
  {
   "cell_type": "markdown",
   "metadata": {},
   "source": [
    "## Проблемы работы с памятью:\n",
    "- Память не бесконечна\n",
    "- Механизм управления памятью: автоматиеский или ручной\n",
    "- Работа с общей памятью"
   ]
  },
  {
   "cell_type": "markdown",
   "metadata": {},
   "source": [
    "## Спопобы выделения памяти:\n",
    "- Статическая информация\n",
    "- Динамическая инфромация"
   ]
  },
  {
   "cell_type": "markdown",
   "metadata": {
    "ExecuteTime": {
     "end_time": "2020-05-14T17:57:46.819636Z",
     "start_time": "2020-05-14T17:57:46.812654Z"
    }
   },
   "source": [
    "### Функция id показывает, по какому адресу в памяти хранится число\n",
    "Целые числа до 255 хранятся в памяти статически, а далее - динамически"
   ]
  },
  {
   "cell_type": "code",
   "execution_count": 7,
   "metadata": {
    "ExecuteTime": {
     "end_time": "2020-05-14T18:01:28.899263Z",
     "start_time": "2020-05-14T18:01:28.892282Z"
    }
   },
   "outputs": [
    {
     "name": "stdout",
     "output_type": "stream",
     "text": [
      "140712107748848\n",
      "140712107748848\n"
     ]
    }
   ],
   "source": [
    "print(id(100))\n",
    "\n",
    "a = 111-11\n",
    "print(id(a))"
   ]
  },
  {
   "cell_type": "code",
   "execution_count": 6,
   "metadata": {
    "ExecuteTime": {
     "end_time": "2020-05-14T18:00:28.329741Z",
     "start_time": "2020-05-14T18:00:28.322759Z"
    }
   },
   "outputs": [
    {
     "name": "stdout",
     "output_type": "stream",
     "text": [
      "2783116606032\n",
      "2783116606288\n"
     ]
    }
   ],
   "source": [
    "print(id(1000))\n",
    "\n",
    "b = 1020-20\n",
    "print(id(b)) "
   ]
  },
  {
   "cell_type": "markdown",
   "metadata": {},
   "source": [
    "## Фазы управления памятью"
   ]
  },
  {
   "cell_type": "markdown",
   "metadata": {
    "ExecuteTime": {
     "end_time": "2020-05-14T18:03:45.001079Z",
     "start_time": "2020-05-14T18:03:44.980134Z"
    }
   },
   "source": [
    "1. Начальное выделение памяти\n",
    "2. Утилизация памяти\n",
    "3. Уплотнение и повторное использование"
   ]
  },
  {
   "cell_type": "code",
   "execution_count": null,
   "metadata": {},
   "outputs": [],
   "source": []
  }
 ],
 "metadata": {
  "kernelspec": {
   "display_name": "Python 3",
   "language": "python",
   "name": "python3"
  },
  "language_info": {
   "codemirror_mode": {
    "name": "ipython",
    "version": 3
   },
   "file_extension": ".py",
   "mimetype": "text/x-python",
   "name": "python",
   "nbconvert_exporter": "python",
   "pygments_lexer": "ipython3",
   "version": "3.7.6"
  },
  "toc": {
   "base_numbering": 1,
   "nav_menu": {},
   "number_sections": true,
   "sideBar": true,
   "skip_h1_title": false,
   "title_cell": "Table of Contents",
   "title_sidebar": "Contents",
   "toc_cell": false,
   "toc_position": {},
   "toc_section_display": true,
   "toc_window_display": true
  }
 },
 "nbformat": 4,
 "nbformat_minor": 4
}
