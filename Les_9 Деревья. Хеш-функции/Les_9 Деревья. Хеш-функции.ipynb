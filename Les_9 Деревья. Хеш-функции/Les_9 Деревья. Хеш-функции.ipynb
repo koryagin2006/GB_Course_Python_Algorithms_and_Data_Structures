{
 "cells": [
  {
   "cell_type": "markdown",
   "metadata": {
    "toc": true
   },
   "source": [
    "<h1>Table of Contents<span class=\"tocSkip\"></span></h1>\n",
    "<div class=\"toc\"><ul class=\"toc-item\"><li><span><a href=\"#Создание-деревьев\" data-toc-modified-id=\"Создание-деревьев-1\"><span class=\"toc-item-num\">1&nbsp;&nbsp;</span>Создание деревьев</a></span><ul class=\"toc-item\"><li><span><a href=\"#Создание-как-класс\" data-toc-modified-id=\"Создание-как-класс-1.1\"><span class=\"toc-item-num\">1.1&nbsp;&nbsp;</span>Создание как класс</a></span></li><li><span><a href=\"#Создание-с-помощью-библиотеки-binarytree\" data-toc-modified-id=\"Создание-с-помощью-библиотеки-binarytree-1.2\"><span class=\"toc-item-num\">1.2&nbsp;&nbsp;</span>Создание с помощью библиотеки <code>binarytree</code></a></span><ul class=\"toc-item\"><li><span><a href=\"#Случайное-дерево-заданной-высоты\" data-toc-modified-id=\"Случайное-дерево-заданной-высоты-1.2.1\"><span class=\"toc-item-num\">1.2.1&nbsp;&nbsp;</span>Случайное дерево заданной высоты</a></span></li><li><span><a href=\"#Дерево-бинарного-поиска\" data-toc-modified-id=\"Дерево-бинарного-поиска-1.2.2\"><span class=\"toc-item-num\">1.2.2&nbsp;&nbsp;</span>Дерево бинарного поиска</a></span></li><li><span><a href=\"#Дерево-вручную\" data-toc-modified-id=\"Дерево-вручную-1.2.3\"><span class=\"toc-item-num\">1.2.3&nbsp;&nbsp;</span>Дерево вручную</a></span></li><li><span><a href=\"#Дерево-на-основании-списка\" data-toc-modified-id=\"Дерево-на-основании-списка-1.2.4\"><span class=\"toc-item-num\">1.2.4&nbsp;&nbsp;</span>Дерево на основании списка</a></span></li></ul></li></ul></li><li><span><a href=\"#Бинарный-поиск.-Алгоритм-Хаффмана\" data-toc-modified-id=\"Бинарный-поиск.-Алгоритм-Хаффмана-2\"><span class=\"toc-item-num\">2&nbsp;&nbsp;</span>Бинарный поиск. Алгоритм Хаффмана</a></span></li></ul></div>"
   ]
  },
  {
   "cell_type": "markdown",
   "metadata": {},
   "source": [
    "# Создание деревьев"
   ]
  },
  {
   "cell_type": "markdown",
   "metadata": {},
   "source": [
    "## Создание как класс"
   ]
  },
  {
   "cell_type": "code",
   "execution_count": 4,
   "metadata": {
    "ExecuteTime": {
     "end_time": "2020-06-09T19:30:58.940220Z",
     "start_time": "2020-06-09T19:30:58.933238Z"
    }
   },
   "outputs": [],
   "source": [
    "# task_1\n",
    "\n",
    "class MyNode:\n",
    "    def __init__(self, data, left=None, right=None):\n",
    "        self.data = data\n",
    "        self.left = left\n",
    "        self.right = right"
   ]
  },
  {
   "cell_type": "markdown",
   "metadata": {},
   "source": [
    "## Создание с помощью библиотеки `binarytree`"
   ]
  },
  {
   "cell_type": "code",
   "execution_count": 1,
   "metadata": {
    "ExecuteTime": {
     "end_time": "2020-06-09T19:30:37.169481Z",
     "start_time": "2020-06-09T19:30:37.157502Z"
    }
   },
   "outputs": [],
   "source": [
    "from binarytree import tree, bst, Node, build"
   ]
  },
  {
   "cell_type": "markdown",
   "metadata": {},
   "source": [
    "### Случайное дерево заданной высоты"
   ]
  },
  {
   "cell_type": "code",
   "execution_count": 2,
   "metadata": {
    "ExecuteTime": {
     "end_time": "2020-06-09T19:30:41.441104Z",
     "start_time": "2020-06-09T19:30:41.430134Z"
    }
   },
   "outputs": [
    {
     "name": "stdout",
     "output_type": "stream",
     "text": [
      "\n",
      "                 ______21_________________\n",
      "                /                         \\\n",
      "          _____14                 _________26\n",
      "         /       \\               /           \\\n",
      "     ___9         2            _12___         22\n",
      "    /    \\         \\          /      \\\n",
      "  _0      8         27      _15      _3\n",
      " /  \\      \\               /        /  \\\n",
      "10   11     13            18       30   16\n",
      "\n"
     ]
    }
   ],
   "source": [
    "a = tree(height=4, is_perfect=False)  # высота дерева = 4, is_perfect=False - дерево неполное\n",
    "print(a)"
   ]
  },
  {
   "cell_type": "markdown",
   "metadata": {},
   "source": [
    "### Дерево бинарного поиска"
   ]
  },
  {
   "cell_type": "code",
   "execution_count": 3,
   "metadata": {
    "ExecuteTime": {
     "end_time": "2020-06-09T19:30:41.825078Z",
     "start_time": "2020-06-09T19:30:41.818099Z"
    }
   },
   "outputs": [
    {
     "name": "stdout",
     "output_type": "stream",
     "text": [
      "\n",
      "        ______7_______\n",
      "       /              \\\n",
      "    __3__           ___11___\n",
      "   /     \\         /        \\\n",
      "  1       5       9         _13\n",
      " / \\     / \\     / \\       /   \\\n",
      "0   2   4   6   8   10    12    14\n",
      "\n"
     ]
    }
   ],
   "source": [
    "b = bst(height=3, is_perfect=True)\n",
    "print(b)"
   ]
  },
  {
   "cell_type": "markdown",
   "metadata": {},
   "source": [
    "### Дерево вручную"
   ]
  },
  {
   "cell_type": "code",
   "execution_count": 5,
   "metadata": {
    "ExecuteTime": {
     "end_time": "2020-06-09T19:34:20.918662Z",
     "start_time": "2020-06-09T19:34:20.866784Z"
    }
   },
   "outputs": [
    {
     "name": "stdout",
     "output_type": "stream",
     "text": [
      "\n",
      "    __7__\n",
      "   /     \\\n",
      "  3       11\n",
      " / \\     /  \\\n",
      "1   5   9    13\n",
      "\n"
     ]
    }
   ],
   "source": [
    "# То же самое вручную\n",
    "c = Node(7)  # будет корень\n",
    "c.left = Node(3)\n",
    "c.right = Node(11)\n",
    "c.left.left = Node(1)\n",
    "c.left.right = Node(5)\n",
    "c.right.left = Node(9)\n",
    "c.right.right = Node(13)\n",
    "print(c)"
   ]
  },
  {
   "cell_type": "markdown",
   "metadata": {},
   "source": [
    "### Дерево на основании списка"
   ]
  },
  {
   "cell_type": "code",
   "execution_count": 6,
   "metadata": {
    "ExecuteTime": {
     "end_time": "2020-06-09T19:38:43.005343Z",
     "start_time": "2020-06-09T19:38:42.986393Z"
    }
   },
   "outputs": [
    {
     "name": "stdout",
     "output_type": "stream",
     "text": [
      "\n",
      "    __7__\n",
      "   /     \\\n",
      "  3       11\n",
      " / \\     /  \\\n",
      "1   5   9    3\n",
      "\n"
     ]
    }
   ],
   "source": [
    "d = build([7, 3, 11, 1, 5, 9, 3])\n",
    "print(d)"
   ]
  },
  {
   "cell_type": "code",
   "execution_count": 7,
   "metadata": {
    "ExecuteTime": {
     "end_time": "2020-06-09T19:40:37.351362Z",
     "start_time": "2020-06-09T19:40:37.341393Z"
    }
   },
   "outputs": [
    {
     "name": "stdout",
     "output_type": "stream",
     "text": [
      "\n",
      "      ____7__\n",
      "     /       \\\n",
      "  __3         11\n",
      " /   \\       /  \\\n",
      "1     5     9    3\n",
      " \\     \\\n",
      "  2     6\n",
      "\n"
     ]
    }
   ],
   "source": [
    "d = build([7, 3, 11, 1, 5, 9, 3, None, 2, None, 6])\n",
    "print(d)"
   ]
  },
  {
   "cell_type": "markdown",
   "metadata": {},
   "source": [
    "# Бинарный поиск. Алгоритм Хаффмана"
   ]
  },
  {
   "cell_type": "code",
   "execution_count": 7,
   "metadata": {
    "ExecuteTime": {
     "end_time": "2020-06-09T19:59:11.541852Z",
     "start_time": "2020-06-09T19:59:11.530909Z"
    }
   },
   "outputs": [
    {
     "name": "stdout",
     "output_type": "stream",
     "text": [
      "\n",
      "                         ___________________________________________52\n",
      "                        /                                             \\\n",
      "              _________13_____________________                         53______\n",
      "             /                                \\                                \\\n",
      "      ______9______                  __________41_________                  ____56______\n",
      "     /             \\                /                     \\                /            \\\n",
      "    3__         ____12         ____27___               ____49___          54            _62\n",
      "   /   \\       /              /         \\             /         \\           \\          /\n",
      "  2     6     10            _21         _35         _46         _51          55      _61\n",
      " /     / \\      \\          /   \\       /   \\       /   \\       /                    /\n",
      "0     4   8      11       20    26    31    37    42    47    50                   58\n",
      "\n"
     ]
    }
   ],
   "source": [
    "# task_2\n",
    "from binarytree import bst\n",
    "\n",
    "\n",
    "def search(bin_search_tree, number, path=''):\n",
    "    \"\"\"\n",
    "    :param bin_search_tree: дерево\n",
    "    :param number: число\n",
    "    :param path: нужно для сохранения пути\n",
    "    \"\"\"\n",
    "    if bin_search_tree.value == number:\n",
    "        return f'Число {number} обнаружено по следующему пути: \\nКорень{path}'\n",
    "\n",
    "    if number < bin_search_tree.value and bin_search_tree.left is not None:\n",
    "        return search(bin_search_tree.left, number, path=f'{path}\\nШаг влево')\n",
    "\n",
    "    return f'Число {number} отсутствует в дереве'\n",
    "\n",
    "\n",
    "bt = bst(height=5, is_perfect=False)\n",
    "print(bt)"
   ]
  },
  {
   "cell_type": "code",
   "execution_count": 8,
   "metadata": {
    "ExecuteTime": {
     "end_time": "2020-06-09T19:59:16.771841Z",
     "start_time": "2020-06-09T19:59:14.626222Z"
    }
   },
   "outputs": [
    {
     "name": "stdout",
     "output_type": "stream",
     "text": [
      "Введите число для поиска: 52\n",
      "Число 52 обнаружено по следующему пути: \n",
      "Корень\n"
     ]
    }
   ],
   "source": [
    "print(search(bin_search_tree=bt,\n",
    "             number=int(input('Введите число для поиска: '))))"
   ]
  },
  {
   "cell_type": "code",
   "execution_count": 9,
   "metadata": {
    "ExecuteTime": {
     "end_time": "2020-06-09T19:59:22.959946Z",
     "start_time": "2020-06-09T19:59:21.145280Z"
    }
   },
   "outputs": [
    {
     "name": "stdout",
     "output_type": "stream",
     "text": [
      "Введите число для поиска: 9\n",
      "Число 9 обнаружено по следующему пути: \n",
      "Корень\n",
      "Шаг влево\n",
      "Шаг влево\n"
     ]
    }
   ],
   "source": [
    "print(search(bin_search_tree=bt,\n",
    "             number=int(input('Введите число для поиска: '))))"
   ]
  },
  {
   "cell_type": "code",
   "execution_count": 10,
   "metadata": {
    "ExecuteTime": {
     "end_time": "2020-06-09T19:59:42.903483Z",
     "start_time": "2020-06-09T19:59:41.377378Z"
    }
   },
   "outputs": [
    {
     "name": "stdout",
     "output_type": "stream",
     "text": [
      "Введите число для поиска: 100\n",
      "Число 100 отсутствует в дереве\n"
     ]
    }
   ],
   "source": [
    "print(search(bin_search_tree=bt,\n",
    "             number=int(input('Введите число для поиска: '))))"
   ]
  }
 ],
 "metadata": {
  "kernelspec": {
   "display_name": "Python 3",
   "language": "python",
   "name": "python3"
  },
  "language_info": {
   "codemirror_mode": {
    "name": "ipython",
    "version": 3
   },
   "file_extension": ".py",
   "mimetype": "text/x-python",
   "name": "python",
   "nbconvert_exporter": "python",
   "pygments_lexer": "ipython3",
   "version": "3.7.6"
  },
  "toc": {
   "base_numbering": 1,
   "nav_menu": {},
   "number_sections": true,
   "sideBar": true,
   "skip_h1_title": false,
   "title_cell": "Table of Contents",
   "title_sidebar": "Contents",
   "toc_cell": true,
   "toc_position": {},
   "toc_section_display": true,
   "toc_window_display": true
  }
 },
 "nbformat": 4,
 "nbformat_minor": 4
}
