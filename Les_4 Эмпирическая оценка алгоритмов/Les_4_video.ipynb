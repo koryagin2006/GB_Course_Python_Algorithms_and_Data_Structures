{
 "cells": [
  {
   "cell_type": "markdown",
   "metadata": {},
   "source": [
    "# Урок 4. Эмпирическая оценка алгоритмов на Python"
   ]
  },
  {
   "cell_type": "markdown",
   "metadata": {
    "Collapsed": "false"
   },
   "source": [
    "## Виды алгоритмов, оценка сложности, *timeit*, *profiler*"
   ]
  },
  {
   "cell_type": "markdown",
   "metadata": {},
   "source": [
    "### Что такое сложность алгоритма?\n",
    "**Временна'я сложность алгоритма** определяет время работы, используемое алгоритмом, как функции от длины строки, представляющей входные данные.\n",
    "$$t = f(n)$$"
   ]
  },
  {
   "cell_type": "markdown",
   "metadata": {
    "ExecuteTime": {
     "end_time": "2021-03-04T16:05:03.860976Z",
     "start_time": "2021-03-04T16:05:03.837038Z"
    }
   },
   "source": [
    "### Классификация алгоритмов по сложности\n",
    "| **Название**                          | **Обозначение** | **Пример** |\n",
    "|:--------------------------------- |:-----------:| ------:|\n",
    "| Постоянная сложность              | O(1)        | Определение четности числа |     \n",
    "| Логарифмическая сложность         | O(log n)    | Бинарный поиск |\n",
    "| Линейно-логарифмическая сложность | O(n log n)  | Быстрая сортировка Хоара (среднее время) |\n",
    "| Линейная сложность                | O(n)        | Поиск наименьшего элемента в неотсортированном массиве |\n",
    "| Квадратичная сложность | O(n<sup>2</sup>) | Сортировка пузырьком |\n",
    "| Экспотенциальная сложность | 2<sup>O(n)</sup> | Решение задачи о рюкзаке методом прямого перебора |"
   ]
  },
  {
   "cell_type": "markdown",
   "metadata": {},
   "source": [
    "### Измерения времени работы с использованием `timeit`"
   ]
  },
  {
   "cell_type": "code",
   "execution_count": 1,
   "metadata": {
    "Collapsed": "false",
    "ExecuteTime": {
     "end_time": "2021-03-04T17:01:33.590559Z",
     "start_time": "2021-03-04T17:01:33.526721Z"
    }
   },
   "outputs": [
    {
     "name": "stdout",
     "output_type": "stream",
     "text": [
      "0.058986199999999656\n"
     ]
    }
   ],
   "source": [
    "import timeit\n",
    "\n",
    "x = 2 + 2\n",
    "print(timeit.timeit('x = 2 + 2'))"
   ]
  },
  {
   "cell_type": "code",
   "execution_count": 2,
   "metadata": {
    "Collapsed": "false",
    "ExecuteTime": {
     "end_time": "2021-03-04T17:01:35.287711Z",
     "start_time": "2021-03-04T17:01:34.533730Z"
    }
   },
   "outputs": [
    {
     "name": "stdout",
     "output_type": "stream",
     "text": [
      "0.7475415999999999\n"
     ]
    }
   ],
   "source": [
    "print(timeit.timeit('x = sum(range(10))'))"
   ]
  },
  {
   "cell_type": "code",
   "execution_count": 3,
   "metadata": {
    "Collapsed": "false",
    "ExecuteTime": {
     "end_time": "2021-03-04T17:01:42.080990Z",
     "start_time": "2021-03-04T17:01:36.173788Z"
    }
   },
   "outputs": [
    {
     "name": "stdout",
     "output_type": "stream",
     "text": [
      "718 ns ± 43.3 ns per loop (mean ± std. dev. of 7 runs, 1000000 loops each)\n"
     ]
    }
   ],
   "source": [
    "%%timeit\n",
    "x = sum(range(10))"
   ]
  },
  {
   "cell_type": "markdown",
   "metadata": {},
   "source": [
    "### Измерения времени работы с использованием `cProfile`"
   ]
  },
  {
   "cell_type": "code",
   "execution_count": 4,
   "metadata": {
    "Collapsed": "false",
    "ExecuteTime": {
     "end_time": "2021-03-04T17:01:44.072323Z",
     "start_time": "2021-03-04T17:01:44.061353Z"
    }
   },
   "outputs": [],
   "source": [
    "def get_len(array) -> int:\n",
    "    \"\"\" Возвращает длину переданного массива \"\"\"\n",
    "    return len(array)\n",
    "\n",
    "\n",
    "def get_sum(array) -> int:\n",
    "    \"\"\" Возвращает сумму всех элементов переданного массива \"\"\"\n",
    "    s = 0\n",
    "    for i in array:\n",
    "        s += i\n",
    "    return s\n",
    "\n",
    "\n",
    "def main():\n",
    "    lst = [i for i in range(10 * 10**6)]\n",
    "    a = get_len(lst)\n",
    "    b = get_sum(lst)"
   ]
  },
  {
   "cell_type": "code",
   "execution_count": 5,
   "metadata": {
    "Collapsed": "false",
    "ExecuteTime": {
     "end_time": "2021-03-04T17:01:48.793816Z",
     "start_time": "2021-03-04T17:01:46.214715Z"
    }
   },
   "outputs": [
    {
     "name": "stdout",
     "output_type": "stream",
     "text": [
      "         8 function calls in 2.570 seconds\n",
      "\n",
      "   Ordered by: standard name\n",
      "\n",
      "   ncalls  tottime  percall  cumtime  percall filename:lineno(function)\n",
      "        1    0.000    0.000    0.000    0.000 <ipython-input-4-a2e30767634c>:1(get_len)\n",
      "        1    0.000    0.000    2.359    2.359 <ipython-input-4-a2e30767634c>:14(main)\n",
      "        1    1.418    1.418    1.418    1.418 <ipython-input-4-a2e30767634c>:15(<listcomp>)\n",
      "        1    0.940    0.940    0.940    0.940 <ipython-input-4-a2e30767634c>:6(get_sum)\n",
      "        1    0.212    0.212    2.570    2.570 <string>:1(<module>)\n",
      "        1    0.000    0.000    2.570    2.570 {built-in method builtins.exec}\n",
      "        1    0.000    0.000    0.000    0.000 {built-in method builtins.len}\n",
      "        1    0.000    0.000    0.000    0.000 {method 'disable' of '_lsprof.Profiler' objects}\n",
      "\n",
      "\n"
     ]
    }
   ],
   "source": [
    "import cProfile\n",
    "\n",
    "cProfile.run('main()')"
   ]
  },
  {
   "cell_type": "markdown",
   "metadata": {
    "Collapsed": "false"
   },
   "source": [
    "## Рекурсивный поиск чисел Фибоначчи"
   ]
  },
  {
   "cell_type": "code",
   "execution_count": 35,
   "metadata": {
    "ExecuteTime": {
     "end_time": "2021-03-04T17:15:17.522067Z",
     "start_time": "2021-03-04T17:15:17.501127Z"
    }
   },
   "outputs": [
    {
     "data": {
      "text/html": [
       "<div>\n",
       "<style scoped>\n",
       "    .dataframe tbody tr th:only-of-type {\n",
       "        vertical-align: middle;\n",
       "    }\n",
       "\n",
       "    .dataframe tbody tr th {\n",
       "        vertical-align: top;\n",
       "    }\n",
       "\n",
       "    .dataframe thead th {\n",
       "        text-align: right;\n",
       "    }\n",
       "</style>\n",
       "<table border=\"1\" class=\"dataframe\">\n",
       "  <thead>\n",
       "    <tr style=\"text-align: right;\">\n",
       "      <th>индекс</th>\n",
       "      <th>0</th>\n",
       "      <th>1</th>\n",
       "      <th>2</th>\n",
       "      <th>3</th>\n",
       "      <th>4</th>\n",
       "      <th>5</th>\n",
       "      <th>6</th>\n",
       "      <th>7</th>\n",
       "      <th>8</th>\n",
       "      <th>9</th>\n",
       "    </tr>\n",
       "  </thead>\n",
       "  <tbody>\n",
       "    <tr>\n",
       "      <th>значение</th>\n",
       "      <td>0</td>\n",
       "      <td>1</td>\n",
       "      <td>1</td>\n",
       "      <td>2</td>\n",
       "      <td>3</td>\n",
       "      <td>5</td>\n",
       "      <td>8</td>\n",
       "      <td>13</td>\n",
       "      <td>21</td>\n",
       "      <td>34</td>\n",
       "    </tr>\n",
       "  </tbody>\n",
       "</table>\n",
       "</div>"
      ],
      "text/plain": [
       "индекс    0  1  2  3  4  5  6   7   8   9\n",
       "значение  0  1  1  2  3  5  8  13  21  34"
      ]
     },
     "execution_count": 35,
     "metadata": {},
     "output_type": "execute_result"
    }
   ],
   "source": [
    "import pandas as pd\n",
    "\n",
    "pd.DataFrame([[0, 1, 1, 2, 3, 5, 8, 13, 21, 34]],\n",
    "             columns=[i for i in range(10)],\n",
    "             index=['значение']).rename_axis('индекс', axis=\"columns\")"
   ]
  },
  {
   "cell_type": "markdown",
   "metadata": {},
   "source": [
    "### Оптимизация алгоритма на примере чисел Фибоначчи"
   ]
  },
  {
   "cell_type": "code",
   "execution_count": 37,
   "metadata": {
    "ExecuteTime": {
     "end_time": "2021-03-04T17:26:28.525632Z",
     "start_time": "2021-03-04T17:26:28.517655Z"
    }
   },
   "outputs": [],
   "source": [
    "def test_fib(func):\n",
    "    lst = [0, 1, 1, 2, 3, 5, 8, 13, 21, 34]\n",
    "    for i, item in enumerate(lst):\n",
    "        assert item == func(i)\n",
    "        print(f'Test {i} OK')\n",
    "\n",
    "\n",
    "def fib(n):\n",
    "    if n < 2:\n",
    "        return n\n",
    "    return fib(n - 1) + fib(n - 2)"
   ]
  },
  {
   "cell_type": "markdown",
   "metadata": {},
   "source": [
    "### Практическое использование `timeit` и `cProfile`"
   ]
  },
  {
   "cell_type": "code",
   "execution_count": 54,
   "metadata": {
    "ExecuteTime": {
     "end_time": "2021-03-04T17:48:12.210466Z",
     "start_time": "2021-03-04T17:47:54.988891Z"
    }
   },
   "outputs": [
    {
     "name": "stdout",
     "output_type": "stream",
     "text": [
      "--------------------------------------------------\n",
      "i=10\n",
      "42.3 µs ± 4.2 µs per loop (mean ± std. dev. of 7 runs, 10000 loops each)\n",
      "--------------------------------------------------\n",
      "i=15\n",
      "565 µs ± 122 µs per loop (mean ± std. dev. of 7 runs, 1000 loops each)\n",
      "--------------------------------------------------\n",
      "i=20\n",
      "5.56 ms ± 763 µs per loop (mean ± std. dev. of 7 runs, 100 loops each)\n",
      "--------------------------------------------------\n",
      "i=25\n",
      "56.8 ms ± 2.92 ms per loop (mean ± std. dev. of 7 runs, 10 loops each)\n"
     ]
    }
   ],
   "source": [
    "for i in [10, 15, 20, 25]:\n",
    "    print(f'{\"-\"*50}\\ni={i}')\n",
    "    %timeit fib(i)"
   ]
  },
  {
   "cell_type": "markdown",
   "metadata": {},
   "source": [
    "---"
   ]
  },
  {
   "cell_type": "code",
   "execution_count": 17,
   "metadata": {
    "Collapsed": "false"
   },
   "outputs": [
    {
     "name": "stdout",
     "output_type": "stream",
     "text": [
      "         180 function calls (4 primitive calls) in 0.000 seconds\n",
      "\n",
      "   Ordered by: standard name\n",
      "\n",
      "   ncalls  tottime  percall  cumtime  percall filename:lineno(function)\n",
      "    177/1    0.000    0.000    0.000    0.000 <ipython-input-6-cffbe3c6a2ba>:8(fib)\n",
      "        1    0.000    0.000    0.000    0.000 <string>:1(<module>)\n",
      "        1    0.000    0.000    0.000    0.000 {built-in method builtins.exec}\n",
      "        1    0.000    0.000    0.000    0.000 {method 'disable' of '_lsprof.Profiler' objects}\n",
      "\n",
      "\n"
     ]
    }
   ],
   "source": [
    "import cProfile\n",
    "\n",
    "cProfile.run('fib(10)')"
   ]
  },
  {
   "cell_type": "code",
   "execution_count": 18,
   "metadata": {
    "Collapsed": "false"
   },
   "outputs": [
    {
     "name": "stdout",
     "output_type": "stream",
     "text": [
      "         1976 function calls (4 primitive calls) in 0.001 seconds\n",
      "\n",
      "   Ordered by: standard name\n",
      "\n",
      "   ncalls  tottime  percall  cumtime  percall filename:lineno(function)\n",
      "   1973/1    0.001    0.000    0.001    0.001 <ipython-input-6-cffbe3c6a2ba>:8(fib)\n",
      "        1    0.000    0.000    0.001    0.001 <string>:1(<module>)\n",
      "        1    0.000    0.000    0.001    0.001 {built-in method builtins.exec}\n",
      "        1    0.000    0.000    0.000    0.000 {method 'disable' of '_lsprof.Profiler' objects}\n",
      "\n",
      "\n"
     ]
    }
   ],
   "source": [
    "cProfile.run('fib(15)')"
   ]
  },
  {
   "cell_type": "code",
   "execution_count": 47,
   "metadata": {
    "Collapsed": "false",
    "ExecuteTime": {
     "end_time": "2021-03-04T17:34:41.514340Z",
     "start_time": "2021-03-04T17:34:41.487413Z"
    }
   },
   "outputs": [
    {
     "name": "stdout",
     "output_type": "stream",
     "text": [
      "         21894 function calls (4 primitive calls) in 0.018 seconds\n",
      "\n",
      "   Ordered by: standard name\n",
      "\n",
      "   ncalls  tottime  percall  cumtime  percall filename:lineno(function)\n",
      "  21891/1    0.017    0.000    0.017    0.017 <ipython-input-37-beb93b87c3b2>:8(fib)\n",
      "        1    0.000    0.000    0.017    0.017 <string>:1(<module>)\n",
      "        1    0.000    0.000    0.018    0.018 {built-in method builtins.exec}\n",
      "        1    0.000    0.000    0.000    0.000 {method 'disable' of '_lsprof.Profiler' objects}\n",
      "\n",
      "\n"
     ]
    }
   ],
   "source": [
    "cProfile.run('fib(20)')"
   ]
  },
  {
   "cell_type": "markdown",
   "metadata": {
    "Collapsed": "false"
   },
   "source": [
    "## Поиск чисел Фибоначчи с сохранением в `list` и `dict`\n",
    "**Мемоизация** - сохранение результатов выполнения функции для предотвращения повторных вычислений"
   ]
  },
  {
   "cell_type": "markdown",
   "metadata": {},
   "source": [
    "### Продолжение. Оптимизация алгоритма на примере чисел Фибоначчи"
   ]
  },
  {
   "cell_type": "markdown",
   "metadata": {},
   "source": [
    "### Использование технологии мемоизации (memoization)"
   ]
  },
  {
   "cell_type": "code",
   "execution_count": 48,
   "metadata": {
    "Collapsed": "false",
    "ExecuteTime": {
     "end_time": "2021-03-04T17:41:10.055664Z",
     "start_time": "2021-03-04T17:41:10.036714Z"
    }
   },
   "outputs": [],
   "source": [
    "def fib_dict(n):\n",
    "    fib_d = {0: 0, 1: 1}\n",
    "\n",
    "    def _fib_dict(n):\n",
    "        if n in fib_d:  # проверка, вычисляли ли мы уже число или нет\n",
    "            return fib_d[n]\n",
    "        else:\n",
    "            fib_d[n] = _fib_dict(n - 1) + _fib_dict(n - 2)\n",
    "        return fib_d[n]\n",
    "\n",
    "    return _fib_dict(n)"
   ]
  },
  {
   "cell_type": "code",
   "execution_count": 56,
   "metadata": {
    "Collapsed": "false",
    "ExecuteTime": {
     "end_time": "2021-03-04T17:49:43.263861Z",
     "start_time": "2021-03-04T17:49:43.249899Z"
    }
   },
   "outputs": [],
   "source": [
    "def fib_list(n):\n",
    "    fib_l = [None] * 1000\n",
    "    fib_l[:2] = [0, 1]\n",
    "\n",
    "    def _fib_list(n):\n",
    "        if fib_l[n] is None:  # проверка, вычисляли ли мы уже число или нет\n",
    "            fib_l[n] = _fib_list(n - 1) + _fib_list(n - 2)\n",
    "        return fib_l[n]\n",
    "\n",
    "    return _fib_list(n)"
   ]
  },
  {
   "cell_type": "markdown",
   "metadata": {},
   "source": [
    "### Практическое использование `timeit` и `cProfile`"
   ]
  },
  {
   "cell_type": "code",
   "execution_count": 53,
   "metadata": {
    "ExecuteTime": {
     "end_time": "2021-03-04T17:47:54.934033Z",
     "start_time": "2021-03-04T17:47:11.549067Z"
    }
   },
   "outputs": [
    {
     "name": "stdout",
     "output_type": "stream",
     "text": [
      "--------------------------------------------------\n",
      "i=10\n",
      "7.98 µs ± 460 ns per loop (mean ± std. dev. of 7 runs, 100000 loops each)\n",
      "--------------------------------------------------\n",
      "i=15\n",
      "13.1 µs ± 923 ns per loop (mean ± std. dev. of 7 runs, 100000 loops each)\n",
      "--------------------------------------------------\n",
      "i=100\n",
      "79 µs ± 4.35 µs per loop (mean ± std. dev. of 7 runs, 10000 loops each)\n",
      "--------------------------------------------------\n",
      "i=200\n",
      "153 µs ± 2.25 µs per loop (mean ± std. dev. of 7 runs, 10000 loops each)\n",
      "--------------------------------------------------\n",
      "i=500\n",
      "426 µs ± 8.08 µs per loop (mean ± std. dev. of 7 runs, 1000 loops each)\n"
     ]
    }
   ],
   "source": [
    "for i in [10, 15, 100, 200, 500]:\n",
    "    print(f'{\"-\"*50}\\ni={i}')\n",
    "    %timeit fib_dict(i)"
   ]
  },
  {
   "cell_type": "markdown",
   "metadata": {},
   "source": [
    "---"
   ]
  },
  {
   "cell_type": "code",
   "execution_count": 57,
   "metadata": {
    "Collapsed": "false",
    "ExecuteTime": {
     "end_time": "2021-03-04T17:51:17.065032Z",
     "start_time": "2021-03-04T17:51:17.042094Z"
    }
   },
   "outputs": [
    {
     "name": "stdout",
     "output_type": "stream",
     "text": [
      "--------------------------------------------------\n",
      "i=10\n",
      "         23 function calls (5 primitive calls) in 0.000 seconds\n",
      "\n",
      "   Ordered by: standard name\n",
      "\n",
      "   ncalls  tottime  percall  cumtime  percall filename:lineno(function)\n",
      "        1    0.000    0.000    0.000    0.000 <ipython-input-48-9776d1c8832d>:1(fib_dict)\n",
      "     19/1    0.000    0.000    0.000    0.000 <ipython-input-48-9776d1c8832d>:4(_fib_dict)\n",
      "        1    0.000    0.000    0.000    0.000 <string>:1(<module>)\n",
      "        1    0.000    0.000    0.000    0.000 {built-in method builtins.exec}\n",
      "        1    0.000    0.000    0.000    0.000 {method 'disable' of '_lsprof.Profiler' objects}\n",
      "\n",
      "\n",
      "--------------------------------------------------\n",
      "i=200\n",
      "         403 function calls (5 primitive calls) in 0.001 seconds\n",
      "\n",
      "   Ordered by: standard name\n",
      "\n",
      "   ncalls  tottime  percall  cumtime  percall filename:lineno(function)\n",
      "        1    0.000    0.000    0.001    0.001 <ipython-input-48-9776d1c8832d>:1(fib_dict)\n",
      "    399/1    0.001    0.000    0.001    0.001 <ipython-input-48-9776d1c8832d>:4(_fib_dict)\n",
      "        1    0.000    0.000    0.001    0.001 <string>:1(<module>)\n",
      "        1    0.000    0.000    0.001    0.001 {built-in method builtins.exec}\n",
      "        1    0.000    0.000    0.000    0.000 {method 'disable' of '_lsprof.Profiler' objects}\n",
      "\n",
      "\n",
      "--------------------------------------------------\n",
      "i=100\n",
      "         203 function calls (5 primitive calls) in 0.000 seconds\n",
      "\n",
      "   Ordered by: standard name\n",
      "\n",
      "   ncalls  tottime  percall  cumtime  percall filename:lineno(function)\n",
      "        1    0.000    0.000    0.000    0.000 <ipython-input-48-9776d1c8832d>:1(fib_dict)\n",
      "    199/1    0.000    0.000    0.000    0.000 <ipython-input-48-9776d1c8832d>:4(_fib_dict)\n",
      "        1    0.000    0.000    0.000    0.000 <string>:1(<module>)\n",
      "        1    0.000    0.000    0.000    0.000 {built-in method builtins.exec}\n",
      "        1    0.000    0.000    0.000    0.000 {method 'disable' of '_lsprof.Profiler' objects}\n",
      "\n",
      "\n",
      "--------------------------------------------------\n",
      "i=500\n",
      "         1003 function calls (5 primitive calls) in 0.001 seconds\n",
      "\n",
      "   Ordered by: standard name\n",
      "\n",
      "   ncalls  tottime  percall  cumtime  percall filename:lineno(function)\n",
      "        1    0.000    0.000    0.001    0.001 <ipython-input-48-9776d1c8832d>:1(fib_dict)\n",
      "    999/1    0.001    0.000    0.001    0.001 <ipython-input-48-9776d1c8832d>:4(_fib_dict)\n",
      "        1    0.000    0.000    0.001    0.001 <string>:1(<module>)\n",
      "        1    0.000    0.000    0.001    0.001 {built-in method builtins.exec}\n",
      "        1    0.000    0.000    0.000    0.000 {method 'disable' of '_lsprof.Profiler' objects}\n",
      "\n",
      "\n"
     ]
    }
   ],
   "source": [
    "for i in [10, 200, 100, 500]:\n",
    "    print(f'{\"-\"*50}\\ni={i}')\n",
    "    cProfile.run(f'fib_dict({i})')"
   ]
  },
  {
   "cell_type": "code",
   "execution_count": 58,
   "metadata": {
    "ExecuteTime": {
     "end_time": "2021-03-04T17:52:34.714828Z",
     "start_time": "2021-03-04T17:52:04.435749Z"
    }
   },
   "outputs": [
    {
     "name": "stdout",
     "output_type": "stream",
     "text": [
      "--------------------------------------------------\n",
      "i=10\n",
      "17.9 µs ± 2.32 µs per loop (mean ± std. dev. of 7 runs, 10000 loops each)\n",
      "--------------------------------------------------\n",
      "i=15\n",
      "19.2 µs ± 1.27 µs per loop (mean ± std. dev. of 7 runs, 10000 loops each)\n",
      "--------------------------------------------------\n",
      "i=100\n",
      "78.2 µs ± 3.07 µs per loop (mean ± std. dev. of 7 runs, 10000 loops each)\n",
      "--------------------------------------------------\n",
      "i=200\n",
      "153 µs ± 10.5 µs per loop (mean ± std. dev. of 7 runs, 10000 loops each)\n",
      "--------------------------------------------------\n",
      "i=500\n",
      "418 µs ± 18.7 µs per loop (mean ± std. dev. of 7 runs, 1000 loops each)\n"
     ]
    }
   ],
   "source": [
    "for i in [10, 15, 100, 200, 500]:\n",
    "    print(f'{\"-\"*50}\\ni={i}')\n",
    "    %timeit fib_list(i)"
   ]
  },
  {
   "cell_type": "code",
   "execution_count": 59,
   "metadata": {
    "Collapsed": "false",
    "ExecuteTime": {
     "end_time": "2021-03-04T17:52:44.501060Z",
     "start_time": "2021-03-04T17:52:44.482114Z"
    }
   },
   "outputs": [
    {
     "name": "stdout",
     "output_type": "stream",
     "text": [
      "fib_list(10)--------------------------------------------------\n",
      "         23 function calls (5 primitive calls) in 0.000 seconds\n",
      "\n",
      "   Ordered by: standard name\n",
      "\n",
      "   ncalls  tottime  percall  cumtime  percall filename:lineno(function)\n",
      "        1    0.000    0.000    0.000    0.000 <ipython-input-56-622a85d2621b>:1(fib_list)\n",
      "     19/1    0.000    0.000    0.000    0.000 <ipython-input-56-622a85d2621b>:5(_fib_list)\n",
      "        1    0.000    0.000    0.000    0.000 <string>:1(<module>)\n",
      "        1    0.000    0.000    0.000    0.000 {built-in method builtins.exec}\n",
      "        1    0.000    0.000    0.000    0.000 {method 'disable' of '_lsprof.Profiler' objects}\n",
      "\n",
      "\n",
      "fib_list(20)--------------------------------------------------\n",
      "         43 function calls (5 primitive calls) in 0.000 seconds\n",
      "\n",
      "   Ordered by: standard name\n",
      "\n",
      "   ncalls  tottime  percall  cumtime  percall filename:lineno(function)\n",
      "        1    0.000    0.000    0.000    0.000 <ipython-input-56-622a85d2621b>:1(fib_list)\n",
      "     39/1    0.000    0.000    0.000    0.000 <ipython-input-56-622a85d2621b>:5(_fib_list)\n",
      "        1    0.000    0.000    0.000    0.000 <string>:1(<module>)\n",
      "        1    0.000    0.000    0.000    0.000 {built-in method builtins.exec}\n",
      "        1    0.000    0.000    0.000    0.000 {method 'disable' of '_lsprof.Profiler' objects}\n",
      "\n",
      "\n",
      "fib_list(100)--------------------------------------------------\n",
      "         203 function calls (5 primitive calls) in 0.000 seconds\n",
      "\n",
      "   Ordered by: standard name\n",
      "\n",
      "   ncalls  tottime  percall  cumtime  percall filename:lineno(function)\n",
      "        1    0.000    0.000    0.000    0.000 <ipython-input-56-622a85d2621b>:1(fib_list)\n",
      "    199/1    0.000    0.000    0.000    0.000 <ipython-input-56-622a85d2621b>:5(_fib_list)\n",
      "        1    0.000    0.000    0.000    0.000 <string>:1(<module>)\n",
      "        1    0.000    0.000    0.000    0.000 {built-in method builtins.exec}\n",
      "        1    0.000    0.000    0.000    0.000 {method 'disable' of '_lsprof.Profiler' objects}\n",
      "\n",
      "\n",
      "fib_list(500)--------------------------------------------------\n",
      "         1003 function calls (5 primitive calls) in 0.001 seconds\n",
      "\n",
      "   Ordered by: standard name\n",
      "\n",
      "   ncalls  tottime  percall  cumtime  percall filename:lineno(function)\n",
      "        1    0.000    0.000    0.001    0.001 <ipython-input-56-622a85d2621b>:1(fib_list)\n",
      "    999/1    0.001    0.000    0.001    0.001 <ipython-input-56-622a85d2621b>:5(_fib_list)\n",
      "        1    0.000    0.000    0.001    0.001 <string>:1(<module>)\n",
      "        1    0.000    0.000    0.001    0.001 {built-in method builtins.exec}\n",
      "        1    0.000    0.000    0.000    0.000 {method 'disable' of '_lsprof.Profiler' objects}\n",
      "\n",
      "\n"
     ]
    }
   ],
   "source": [
    "for i in [10, 20, 100, 500]:\n",
    "    print(f'fib_list({i}){\"-\"*50}')\n",
    "    cProfile.run(f'fib_list({i})')"
   ]
  },
  {
   "cell_type": "markdown",
   "metadata": {
    "Collapsed": "false"
   },
   "source": [
    "## Нерекурсивный поиск чисел Фибоначчи. `lru.cashe()`"
   ]
  },
  {
   "cell_type": "code",
   "execution_count": 60,
   "metadata": {
    "Collapsed": "false",
    "ExecuteTime": {
     "end_time": "2021-03-04T17:53:59.324539Z",
     "start_time": "2021-03-04T17:53:59.317564Z"
    }
   },
   "outputs": [],
   "source": [
    "def fib_loop(n):\n",
    "    if n < 2:\n",
    "        return n\n",
    "    \n",
    "    first, second = 0, 1\n",
    "    \n",
    "    for i in range(2, n + 1):\n",
    "        first, second = second, first + second\n",
    "    return second"
   ]
  },
  {
   "cell_type": "code",
   "execution_count": 63,
   "metadata": {
    "ExecuteTime": {
     "end_time": "2021-03-04T17:58:13.345920Z",
     "start_time": "2021-03-04T17:57:50.187043Z"
    }
   },
   "outputs": [
    {
     "name": "stdout",
     "output_type": "stream",
     "text": [
      "--------------------------------------------------\n",
      "i=10\n",
      "1.63 µs ± 212 ns per loop (mean ± std. dev. of 7 runs, 100000 loops each)\n",
      "--------------------------------------------------\n",
      "i=100\n",
      "12.7 µs ± 1.51 µs per loop (mean ± std. dev. of 7 runs, 100000 loops each)\n",
      "--------------------------------------------------\n",
      "i=500\n",
      "71.5 µs ± 3.44 µs per loop (mean ± std. dev. of 7 runs, 10000 loops each)\n",
      "--------------------------------------------------\n",
      "i=200\n",
      "24.3 µs ± 3.27 µs per loop (mean ± std. dev. of 7 runs, 10000 loops each)\n",
      "--------------------------------------------------\n",
      "i=50000\n",
      "44.8 ms ± 2.37 ms per loop (mean ± std. dev. of 7 runs, 10 loops each)\n"
     ]
    }
   ],
   "source": [
    "for i in [10, 100, 500, 200, 50000]:\n",
    "    print(f'{\"-\"*50}\\ni={i}')\n",
    "    %timeit fib_loop(i)"
   ]
  },
  {
   "cell_type": "code",
   "execution_count": 64,
   "metadata": {
    "ExecuteTime": {
     "end_time": "2021-03-04T17:58:23.752645Z",
     "start_time": "2021-03-04T17:58:23.741678Z"
    }
   },
   "outputs": [
    {
     "name": "stdout",
     "output_type": "stream",
     "text": [
      "fib_list(10)--------------------------------------------------\n",
      "         4 function calls in 0.000 seconds\n",
      "\n",
      "   Ordered by: standard name\n",
      "\n",
      "   ncalls  tottime  percall  cumtime  percall filename:lineno(function)\n",
      "        1    0.000    0.000    0.000    0.000 <ipython-input-60-f3f808464db0>:1(fib_loop)\n",
      "        1    0.000    0.000    0.000    0.000 <string>:1(<module>)\n",
      "        1    0.000    0.000    0.000    0.000 {built-in method builtins.exec}\n",
      "        1    0.000    0.000    0.000    0.000 {method 'disable' of '_lsprof.Profiler' objects}\n",
      "\n",
      "\n",
      "fib_list(1000)--------------------------------------------------\n",
      "         4 function calls in 0.000 seconds\n",
      "\n",
      "   Ordered by: standard name\n",
      "\n",
      "   ncalls  tottime  percall  cumtime  percall filename:lineno(function)\n",
      "        1    0.000    0.000    0.000    0.000 <ipython-input-60-f3f808464db0>:1(fib_loop)\n",
      "        1    0.000    0.000    0.000    0.000 <string>:1(<module>)\n",
      "        1    0.000    0.000    0.000    0.000 {built-in method builtins.exec}\n",
      "        1    0.000    0.000    0.000    0.000 {method 'disable' of '_lsprof.Profiler' objects}\n",
      "\n",
      "\n"
     ]
    }
   ],
   "source": [
    "for i in [10, 1000]:\n",
    "    print(f'fib_list({i}){\"-\"*50}')\n",
    "    cProfile.run(f'fib_loop({i})')"
   ]
  },
  {
   "cell_type": "code",
   "execution_count": 70,
   "metadata": {
    "Collapsed": "false"
   },
   "outputs": [],
   "source": [
    "# task_3\n",
    "import cProfile\n",
    "import functools\n",
    "\n",
    "\n",
    "def test_fib(func):\n",
    "    lst = [0, 1, 1, 2, 3, 5, 8, 13, 21, 34]\n",
    "    for i, item in enumerate(lst):\n",
    "        assert item == func(i)\n",
    "        print(f'Test {i} OK')\n",
    "\n",
    "@functools.lru_cache( )\n",
    "def fib(n):\n",
    "    if n < 2:\n",
    "        return n\n",
    "    return fib(n - 1) + fib(n - 2)"
   ]
  },
  {
   "cell_type": "code",
   "execution_count": 68,
   "metadata": {
    "Collapsed": "false"
   },
   "outputs": [],
   "source": [
    "# \"task_3.fib(10)\"\n",
    "# 1000 loops, best of 5: 134 nsec per loop\n",
    "\n",
    "# \"task_3.fib(100)\"\n",
    "# 1000 loops, best of 5: 225 nsec per loop"
   ]
  },
  {
   "cell_type": "code",
   "execution_count": 71,
   "metadata": {
    "Collapsed": "false"
   },
   "outputs": [
    {
     "name": "stdout",
     "output_type": "stream",
     "text": [
      "         14 function calls (4 primitive calls) in 0.001 seconds\n",
      "\n",
      "   Ordered by: standard name\n",
      "\n",
      "   ncalls  tottime  percall  cumtime  percall filename:lineno(function)\n",
      "     11/1    0.001    0.000    0.001    0.001 <ipython-input-70-47b31d69d2ae>:12(fib)\n",
      "        1    0.000    0.000    0.001    0.001 <string>:1(<module>)\n",
      "        1    0.000    0.000    0.001    0.001 {built-in method builtins.exec}\n",
      "        1    0.000    0.000    0.000    0.000 {method 'disable' of '_lsprof.Profiler' objects}\n",
      "\n",
      "\n"
     ]
    }
   ],
   "source": [
    "cProfile.run('fib(10)')"
   ]
  },
  {
   "cell_type": "code",
   "execution_count": 72,
   "metadata": {
    "Collapsed": "false"
   },
   "outputs": [
    {
     "name": "stdout",
     "output_type": "stream",
     "text": [
      "         93 function calls (4 primitive calls) in 0.006 seconds\n",
      "\n",
      "   Ordered by: standard name\n",
      "\n",
      "   ncalls  tottime  percall  cumtime  percall filename:lineno(function)\n",
      "     90/1    0.006    0.000    0.006    0.006 <ipython-input-70-47b31d69d2ae>:12(fib)\n",
      "        1    0.000    0.000    0.006    0.006 <string>:1(<module>)\n",
      "        1    0.000    0.000    0.006    0.006 {built-in method builtins.exec}\n",
      "        1    0.000    0.000    0.000    0.000 {method 'disable' of '_lsprof.Profiler' objects}\n",
      "\n",
      "\n"
     ]
    }
   ],
   "source": [
    "cProfile.run('fib(100)')"
   ]
  },
  {
   "cell_type": "code",
   "execution_count": 73,
   "metadata": {
    "Collapsed": "false"
   },
   "outputs": [
    {
     "name": "stdout",
     "output_type": "stream",
     "text": [
      "         103 function calls (4 primitive calls) in 0.004 seconds\n",
      "\n",
      "   Ordered by: standard name\n",
      "\n",
      "   ncalls  tottime  percall  cumtime  percall filename:lineno(function)\n",
      "    100/1    0.004    0.000    0.004    0.004 <ipython-input-70-47b31d69d2ae>:12(fib)\n",
      "        1    0.000    0.000    0.004    0.004 <string>:1(<module>)\n",
      "        1    0.000    0.000    0.004    0.004 {built-in method builtins.exec}\n",
      "        1    0.000    0.000    0.000    0.000 {method 'disable' of '_lsprof.Profiler' objects}\n",
      "\n",
      "\n"
     ]
    }
   ],
   "source": [
    "cProfile.run('fib(200)')"
   ]
  },
  {
   "cell_type": "code",
   "execution_count": null,
   "metadata": {
    "Collapsed": "false"
   },
   "outputs": [],
   "source": []
  }
 ],
 "metadata": {
  "hide_input": false,
  "kernelspec": {
   "display_name": "Python 3",
   "language": "python",
   "name": "python3"
  },
  "language_info": {
   "codemirror_mode": {
    "name": "ipython",
    "version": 3
   },
   "file_extension": ".py",
   "mimetype": "text/x-python",
   "name": "python",
   "nbconvert_exporter": "python",
   "pygments_lexer": "ipython3",
   "version": "3.8.5"
  },
  "toc": {
   "base_numbering": 1,
   "nav_menu": {},
   "number_sections": true,
   "sideBar": true,
   "skip_h1_title": false,
   "title_cell": "Table of Contents",
   "title_sidebar": "Contents",
   "toc_cell": false,
   "toc_position": {
    "height": "calc(100% - 180px)",
    "left": "10px",
    "top": "150px",
    "width": "256px"
   },
   "toc_section_display": true,
   "toc_window_display": true
  },
  "toc-autonumbering": true,
  "toc-showmarkdowntxt": false,
  "varInspector": {
   "cols": {
    "lenName": 16,
    "lenType": 16,
    "lenVar": 40
   },
   "kernels_config": {
    "python": {
     "delete_cmd_postfix": "",
     "delete_cmd_prefix": "del ",
     "library": "var_list.py",
     "varRefreshCmd": "print(var_dic_list())"
    },
    "r": {
     "delete_cmd_postfix": ") ",
     "delete_cmd_prefix": "rm(",
     "library": "var_list.r",
     "varRefreshCmd": "cat(var_dic_list()) "
    }
   },
   "types_to_exclude": [
    "module",
    "function",
    "builtin_function_or_method",
    "instance",
    "_Feature"
   ],
   "window_display": false
  }
 },
 "nbformat": 4,
 "nbformat_minor": 4
}
