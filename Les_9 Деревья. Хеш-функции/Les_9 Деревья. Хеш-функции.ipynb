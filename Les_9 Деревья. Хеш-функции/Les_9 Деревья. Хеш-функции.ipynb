{
 "cells": [
  {
   "cell_type": "markdown",
   "metadata": {
    "toc": true
   },
   "source": [
    "<h1>Table of Contents<span class=\"tocSkip\"></span></h1>\n",
    "<div class=\"toc\"><ul class=\"toc-item\"><li><span><a href=\"#Создание-деревьев\" data-toc-modified-id=\"Создание-деревьев-1\"><span class=\"toc-item-num\">1&nbsp;&nbsp;</span>Создание деревьев</a></span><ul class=\"toc-item\"><li><span><a href=\"#Создание-как-класс\" data-toc-modified-id=\"Создание-как-класс-1.1\"><span class=\"toc-item-num\">1.1&nbsp;&nbsp;</span>Создание как класс</a></span></li><li><span><a href=\"#Создание-с-помощью-библиотеки-binarytree\" data-toc-modified-id=\"Создание-с-помощью-библиотеки-binarytree-1.2\"><span class=\"toc-item-num\">1.2&nbsp;&nbsp;</span>Создание с помощью библиотеки <code>binarytree</code></a></span><ul class=\"toc-item\"><li><span><a href=\"#Случайное-дерево-заданной-высоты\" data-toc-modified-id=\"Случайное-дерево-заданной-высоты-1.2.1\"><span class=\"toc-item-num\">1.2.1&nbsp;&nbsp;</span>Случайное дерево заданной высоты</a></span></li><li><span><a href=\"#Дерево-бинарного-поиска\" data-toc-modified-id=\"Дерево-бинарного-поиска-1.2.2\"><span class=\"toc-item-num\">1.2.2&nbsp;&nbsp;</span>Дерево бинарного поиска</a></span></li><li><span><a href=\"#Дерево-вручную\" data-toc-modified-id=\"Дерево-вручную-1.2.3\"><span class=\"toc-item-num\">1.2.3&nbsp;&nbsp;</span>Дерево вручную</a></span></li><li><span><a href=\"#Дерево-на-основании-списка\" data-toc-modified-id=\"Дерево-на-основании-списка-1.2.4\"><span class=\"toc-item-num\">1.2.4&nbsp;&nbsp;</span>Дерево на основании списка</a></span></li></ul></li></ul></li><li><span><a href=\"#Бинарный-поиск.-Алгоритм-Хаффмана\" data-toc-modified-id=\"Бинарный-поиск.-Алгоритм-Хаффмана-2\"><span class=\"toc-item-num\">2&nbsp;&nbsp;</span>Бинарный поиск. Алгоритм Хаффмана</a></span></li><li><span><a href=\"#Что-такое-хеш-функция?-Хеш-подпись-сообщения\" data-toc-modified-id=\"Что-такое-хеш-функция?-Хеш-подпись-сообщения-3\"><span class=\"toc-item-num\">3&nbsp;&nbsp;</span>Что такое хеш-функция? Хеш-подпись сообщения</a></span></li><li><span><a href=\"#Алгоритм-SHA-1\" data-toc-modified-id=\"Алгоритм-SHA-1-4\"><span class=\"toc-item-num\">4&nbsp;&nbsp;</span>Алгоритм SHA-1</a></span></li><li><span><a href=\"#Практическое-применение-хеш-функций\" data-toc-modified-id=\"Практическое-применение-хеш-функций-5\"><span class=\"toc-item-num\">5&nbsp;&nbsp;</span>Практическое применение хеш-функций</a></span><ul class=\"toc-item\"><li><span><a href=\"#Задача.-Сравнение-строк-с-помощью-хеширования\" data-toc-modified-id=\"Задача.-Сравнение-строк-с-помощью-хеширования-5.1\"><span class=\"toc-item-num\">5.1&nbsp;&nbsp;</span>Задача. Сравнение строк с помощью хеширования</a></span></li><li><span><a href=\"#Поиск-подстроки-в-строке\" data-toc-modified-id=\"Поиск-подстроки-в-строке-5.2\"><span class=\"toc-item-num\">5.2&nbsp;&nbsp;</span>Поиск подстроки в строке</a></span></li></ul></li></ul></div>"
   ]
  },
  {
   "cell_type": "markdown",
   "metadata": {},
   "source": [
    "# Создание деревьев"
   ]
  },
  {
   "cell_type": "markdown",
   "metadata": {},
   "source": [
    "## Создание как класс"
   ]
  },
  {
   "cell_type": "code",
   "execution_count": 4,
   "metadata": {
    "ExecuteTime": {
     "end_time": "2020-06-09T19:30:58.940220Z",
     "start_time": "2020-06-09T19:30:58.933238Z"
    }
   },
   "outputs": [],
   "source": [
    "# task_1\n",
    "\n",
    "class MyNode:\n",
    "    def __init__(self, data, left=None, right=None):\n",
    "        self.data = data\n",
    "        self.left = left\n",
    "        self.right = right"
   ]
  },
  {
   "cell_type": "markdown",
   "metadata": {},
   "source": [
    "## Создание с помощью библиотеки `binarytree`"
   ]
  },
  {
   "cell_type": "code",
   "execution_count": 1,
   "metadata": {
    "ExecuteTime": {
     "end_time": "2020-06-09T19:30:37.169481Z",
     "start_time": "2020-06-09T19:30:37.157502Z"
    }
   },
   "outputs": [],
   "source": [
    "from binarytree import tree, bst, Node, build"
   ]
  },
  {
   "cell_type": "markdown",
   "metadata": {},
   "source": [
    "### Случайное дерево заданной высоты"
   ]
  },
  {
   "cell_type": "code",
   "execution_count": 2,
   "metadata": {
    "ExecuteTime": {
     "end_time": "2020-06-09T19:30:41.441104Z",
     "start_time": "2020-06-09T19:30:41.430134Z"
    }
   },
   "outputs": [
    {
     "name": "stdout",
     "output_type": "stream",
     "text": [
      "\n",
      "                 ______21_________________\n",
      "                /                         \\\n",
      "          _____14                 _________26\n",
      "         /       \\               /           \\\n",
      "     ___9         2            _12___         22\n",
      "    /    \\         \\          /      \\\n",
      "  _0      8         27      _15      _3\n",
      " /  \\      \\               /        /  \\\n",
      "10   11     13            18       30   16\n",
      "\n"
     ]
    }
   ],
   "source": [
    "a = tree(height=4, is_perfect=False)  # высота дерева = 4, is_perfect=False - дерево неполное\n",
    "print(a)"
   ]
  },
  {
   "cell_type": "markdown",
   "metadata": {},
   "source": [
    "### Дерево бинарного поиска"
   ]
  },
  {
   "cell_type": "code",
   "execution_count": 3,
   "metadata": {
    "ExecuteTime": {
     "end_time": "2020-06-09T19:30:41.825078Z",
     "start_time": "2020-06-09T19:30:41.818099Z"
    }
   },
   "outputs": [
    {
     "name": "stdout",
     "output_type": "stream",
     "text": [
      "\n",
      "        ______7_______\n",
      "       /              \\\n",
      "    __3__           ___11___\n",
      "   /     \\         /        \\\n",
      "  1       5       9         _13\n",
      " / \\     / \\     / \\       /   \\\n",
      "0   2   4   6   8   10    12    14\n",
      "\n"
     ]
    }
   ],
   "source": [
    "b = bst(height=3, is_perfect=True)\n",
    "print(b)"
   ]
  },
  {
   "cell_type": "markdown",
   "metadata": {},
   "source": [
    "### Дерево вручную"
   ]
  },
  {
   "cell_type": "code",
   "execution_count": 5,
   "metadata": {
    "ExecuteTime": {
     "end_time": "2020-06-09T19:34:20.918662Z",
     "start_time": "2020-06-09T19:34:20.866784Z"
    }
   },
   "outputs": [
    {
     "name": "stdout",
     "output_type": "stream",
     "text": [
      "\n",
      "    __7__\n",
      "   /     \\\n",
      "  3       11\n",
      " / \\     /  \\\n",
      "1   5   9    13\n",
      "\n"
     ]
    }
   ],
   "source": [
    "# То же самое вручную\n",
    "c = Node(7)  # будет корень\n",
    "c.left = Node(3)\n",
    "c.right = Node(11)\n",
    "c.left.left = Node(1)\n",
    "c.left.right = Node(5)\n",
    "c.right.left = Node(9)\n",
    "c.right.right = Node(13)\n",
    "print(c)"
   ]
  },
  {
   "cell_type": "markdown",
   "metadata": {},
   "source": [
    "### Дерево на основании списка"
   ]
  },
  {
   "cell_type": "code",
   "execution_count": 6,
   "metadata": {
    "ExecuteTime": {
     "end_time": "2020-06-09T19:38:43.005343Z",
     "start_time": "2020-06-09T19:38:42.986393Z"
    }
   },
   "outputs": [
    {
     "name": "stdout",
     "output_type": "stream",
     "text": [
      "\n",
      "    __7__\n",
      "   /     \\\n",
      "  3       11\n",
      " / \\     /  \\\n",
      "1   5   9    3\n",
      "\n"
     ]
    }
   ],
   "source": [
    "d = build([7, 3, 11, 1, 5, 9, 3])\n",
    "print(d)"
   ]
  },
  {
   "cell_type": "code",
   "execution_count": 7,
   "metadata": {
    "ExecuteTime": {
     "end_time": "2020-06-09T19:40:37.351362Z",
     "start_time": "2020-06-09T19:40:37.341393Z"
    }
   },
   "outputs": [
    {
     "name": "stdout",
     "output_type": "stream",
     "text": [
      "\n",
      "      ____7__\n",
      "     /       \\\n",
      "  __3         11\n",
      " /   \\       /  \\\n",
      "1     5     9    3\n",
      " \\     \\\n",
      "  2     6\n",
      "\n"
     ]
    }
   ],
   "source": [
    "d = build([7, 3, 11, 1, 5, 9, 3, None, 2, None, 6])\n",
    "print(d)"
   ]
  },
  {
   "cell_type": "markdown",
   "metadata": {},
   "source": [
    "# Бинарный поиск. Алгоритм Хаффмана"
   ]
  },
  {
   "cell_type": "code",
   "execution_count": 7,
   "metadata": {
    "ExecuteTime": {
     "end_time": "2020-06-09T19:59:11.541852Z",
     "start_time": "2020-06-09T19:59:11.530909Z"
    }
   },
   "outputs": [
    {
     "name": "stdout",
     "output_type": "stream",
     "text": [
      "\n",
      "                         ___________________________________________52\n",
      "                        /                                             \\\n",
      "              _________13_____________________                         53______\n",
      "             /                                \\                                \\\n",
      "      ______9______                  __________41_________                  ____56______\n",
      "     /             \\                /                     \\                /            \\\n",
      "    3__         ____12         ____27___               ____49___          54            _62\n",
      "   /   \\       /              /         \\             /         \\           \\          /\n",
      "  2     6     10            _21         _35         _46         _51          55      _61\n",
      " /     / \\      \\          /   \\       /   \\       /   \\       /                    /\n",
      "0     4   8      11       20    26    31    37    42    47    50                   58\n",
      "\n"
     ]
    }
   ],
   "source": [
    "# task_2\n",
    "from binarytree import bst\n",
    "\n",
    "\n",
    "def search(bin_search_tree, number, path=''):\n",
    "    \"\"\"\n",
    "    :param bin_search_tree: дерево\n",
    "    :param number: число\n",
    "    :param path: нужно для сохранения пути\n",
    "    \"\"\"\n",
    "    if bin_search_tree.value == number:\n",
    "        return f'Число {number} обнаружено по следующему пути: \\nКорень{path}'\n",
    "\n",
    "    if number < bin_search_tree.value and bin_search_tree.left is not None:\n",
    "        return search(bin_search_tree.left, number, path=f'{path}\\nШаг влево')\n",
    "\n",
    "    return f'Число {number} отсутствует в дереве'\n",
    "\n",
    "\n",
    "bt = bst(height=5, is_perfect=False)\n",
    "print(bt)"
   ]
  },
  {
   "cell_type": "code",
   "execution_count": 8,
   "metadata": {
    "ExecuteTime": {
     "end_time": "2020-06-09T19:59:16.771841Z",
     "start_time": "2020-06-09T19:59:14.626222Z"
    }
   },
   "outputs": [
    {
     "name": "stdout",
     "output_type": "stream",
     "text": [
      "Введите число для поиска: 52\n",
      "Число 52 обнаружено по следующему пути: \n",
      "Корень\n"
     ]
    }
   ],
   "source": [
    "print(search(bin_search_tree=bt,\n",
    "             number=int(input('Введите число для поиска: '))))"
   ]
  },
  {
   "cell_type": "code",
   "execution_count": 9,
   "metadata": {
    "ExecuteTime": {
     "end_time": "2020-06-09T19:59:22.959946Z",
     "start_time": "2020-06-09T19:59:21.145280Z"
    }
   },
   "outputs": [
    {
     "name": "stdout",
     "output_type": "stream",
     "text": [
      "Введите число для поиска: 9\n",
      "Число 9 обнаружено по следующему пути: \n",
      "Корень\n",
      "Шаг влево\n",
      "Шаг влево\n"
     ]
    }
   ],
   "source": [
    "print(search(bin_search_tree=bt,\n",
    "             number=int(input('Введите число для поиска: '))))"
   ]
  },
  {
   "cell_type": "code",
   "execution_count": 11,
   "metadata": {
    "ExecuteTime": {
     "end_time": "2020-06-10T16:04:37.830157Z",
     "start_time": "2020-06-10T16:04:33.979420Z"
    }
   },
   "outputs": [
    {
     "name": "stdout",
     "output_type": "stream",
     "text": [
      "Введите число для поиска: 100\n",
      "Число 100 отсутствует в дереве\n"
     ]
    }
   ],
   "source": [
    "print(search(bin_search_tree=bt,\n",
    "             number=int(input('Введите число для поиска: '))))"
   ]
  },
  {
   "cell_type": "markdown",
   "metadata": {},
   "source": [
    "# Что такое хеш-функция? Хеш-подпись сообщения"
   ]
  },
  {
   "cell_type": "code",
   "execution_count": 17,
   "metadata": {
    "ExecuteTime": {
     "end_time": "2020-06-10T16:24:22.411792Z",
     "start_time": "2020-06-10T16:24:22.371945Z"
    }
   },
   "outputs": [
    {
     "name": "stdout",
     "output_type": "stream",
     "text": [
      "['apricot', None, None, None, None, None, None, None, None, None, None, None, None, None, None, None, None, None, None, None, None, None, None, None, None, None]\n",
      "['apricot', 'banana', None, None, None, None, None, None, None, None, None, None, None, None, None, None, None, None, None, None, None, None, None, None, None, None]\n",
      "['apple', 'banana', None, None, None, None, None, None, None, None, None, None, None, None, None, None, None, None, None, None, None, None, None, None, None, None]\n"
     ]
    }
   ],
   "source": [
    "# task_3\n",
    "\n",
    "h_list = [None] * 26\n",
    "\n",
    "\n",
    "def my_append(value):\n",
    "    index = ord(value[0]) - ord('a')  # смотрит, в какую ячейку надо положить букву\n",
    "    h_list[index] = value  # добавить слово в список по индексу\n",
    "    print(h_list)\n",
    "    \n",
    "a = 'apricot'\n",
    "my_append(a)\n",
    "\n",
    "b = 'banana'\n",
    "my_append(b)\n",
    "\n",
    "c = 'apple'\n",
    "my_append(c)"
   ]
  },
  {
   "cell_type": "code",
   "execution_count": 15,
   "metadata": {
    "ExecuteTime": {
     "end_time": "2020-06-10T16:17:43.544754Z",
     "start_time": "2020-06-10T16:17:43.457903Z"
    }
   },
   "outputs": [
    {
     "name": "stdout",
     "output_type": "stream",
     "text": [
      "True\n"
     ]
    }
   ],
   "source": [
    "print(4625 == 4 * 10 ** 3 + 6 * 10 ** 2 + 2 * 10 ** 1 + 5 * 10 ** 0)"
   ]
  },
  {
   "cell_type": "code",
   "execution_count": 18,
   "metadata": {
    "ExecuteTime": {
     "end_time": "2020-06-10T16:25:50.627324Z",
     "start_time": "2020-06-10T16:25:50.590897Z"
    }
   },
   "outputs": [
    {
     "name": "stdout",
     "output_type": "stream",
     "text": [
      "7857\n",
      "6108\n",
      "7025\n"
     ]
    }
   ],
   "source": [
    "def my_index(value):\n",
    "    \"\"\"\n",
    "    :param value: слово английского алфавита\n",
    "    :return:\n",
    "    \"\"\"\n",
    "    letter = 26  # в алфавите 26 букв\n",
    "    index = 0\n",
    "    size = 10000\n",
    "\n",
    "    for i, char in enumerate(value):\n",
    "        index += (ord(char) - ord('a') + 1) * letter ** i\n",
    "\n",
    "    return index % size\n",
    "\n",
    "print(my_index(a))\n",
    "print(my_index(b))\n",
    "print(my_index(c))"
   ]
  },
  {
   "cell_type": "code",
   "execution_count": 20,
   "metadata": {
    "ExecuteTime": {
     "end_time": "2020-06-10T16:33:37.318865Z",
     "start_time": "2020-06-10T16:33:37.282958Z"
    }
   },
   "outputs": [
    {
     "name": "stdout",
     "output_type": "stream",
     "text": [
      "2ef7bde608ce5404e97d5f042f95f89f1c232871\n",
      "b701146cf2c1262a6385c8b1fb1db98f05820499\n",
      "c7092d2a1925113674a5fe2e6e99517d27fa7865\n"
     ]
    }
   ],
   "source": [
    "# task_4\n",
    "import hashlib\n",
    "\n",
    "print(hashlib.sha1(b'Hello World!').hexdigest())\n",
    "print(hashlib.sha1(b'Hello World.').hexdigest())\n",
    "print(hashlib.sha1(b'vrjlglrgrl' + b'Hello World.').hexdigest())"
   ]
  },
  {
   "cell_type": "markdown",
   "metadata": {},
   "source": [
    "# Алгоритм SHA-1\n",
    "Secure Hash Algoritm 1"
   ]
  },
  {
   "cell_type": "code",
   "execution_count": 21,
   "metadata": {
    "ExecuteTime": {
     "end_time": "2020-06-10T17:48:58.477479Z",
     "start_time": "2020-06-10T17:48:57.868774Z"
    }
   },
   "outputs": [],
   "source": [
    "# task_5\n",
    "\n",
    "def sha1(data):\n",
    "    h0 = 0x67452301\n",
    "    h1 = 0xefcdab89\n",
    "    h2 = 0x98badcfe\n",
    "    h3 = 0x10325476\n",
    "    h4 = 0xc3d2e1f0\n",
    "\n",
    "    length = len(data)\n",
    "    data = data << 1 + 1\n",
    "\n",
    "    if len(data) % 512 > 448:\n",
    "        data = data << 64\n",
    "\n",
    "    data = data << (448 - len(data) % 512)\n",
    "    data = data << 64 + length\n",
    "\n",
    "    for part_512 in data:\n",
    "        w = []\n",
    "\n",
    "        for i in range(16):\n",
    "            w[i] = part_512[:32]\n",
    "            part_512 = part_512[32:]\n",
    "\n",
    "        for i in range(16, 80):\n",
    "            w[i] = (w[i - 3] ^ w[i - 8] ^ w[i - 14] ^ w[i - 16]) << 1\n",
    "        a = h0\n",
    "        b = h1\n",
    "        c = h2\n",
    "        d = h3\n",
    "        e = h4\n",
    "\n",
    "        for i in range(80):\n",
    "            if 0 <= i <= 19:\n",
    "                f = (b & c) | ((~b) & d)\n",
    "                k = 0x5a827999\n",
    "            elif 20 <= i <= 39:\n",
    "                f = b ^ c ^ d\n",
    "                k = 0x6ed9eba1\n",
    "            elif 40 <= i <= 59:\n",
    "                f = (b & c) | (b & d) | (c & d)\n",
    "                k = 0x8f1bbcdc\n",
    "            elif 40 <= i <= 59:\n",
    "                f = b ^ c ^ d\n",
    "                k = 0xca62c1d6\n",
    "\n",
    "            temp = (a << 5) + f + e + k + w[i]\n",
    "            e = d\n",
    "            d = c\n",
    "            c = b << 30\n",
    "            b = a\n",
    "            a = temp\n",
    "\n",
    "        h0 = h0 + a\n",
    "        h1 = h1 + b\n",
    "        h2 = h2 + c\n",
    "        h3 = h3 + d\n",
    "        h4 = h4 + e\n",
    "\n",
    "    hash = h0 + h1 + h2 + h3 + h4\n",
    "    return hash"
   ]
  },
  {
   "cell_type": "markdown",
   "metadata": {},
   "source": [
    "# Практическое применение хеш-функций"
   ]
  },
  {
   "cell_type": "markdown",
   "metadata": {},
   "source": [
    "## Задача. Сравнение строк с помощью хеширования"
   ]
  },
  {
   "cell_type": "code",
   "execution_count": 24,
   "metadata": {
    "ExecuteTime": {
     "end_time": "2020-06-10T18:02:34.426954Z",
     "start_time": "2020-06-10T18:02:34.165660Z"
    }
   },
   "outputs": [],
   "source": [
    "import hashlib\n",
    "\n",
    "\n",
    "def is_eq_string(a: str, b: str, verbose=False) -> bool:\n",
    "    \"\"\"\n",
    "    :param a: строка 1\n",
    "    :param b: строка 2\n",
    "    :param verbose: вывести ли хеш\n",
    "    :return:\n",
    "    \"\"\"\n",
    "    assert len(a) > 0 and len(b) > 0, 'Строки не могут быть пустые'\n",
    "\n",
    "    h_a = hashlib.sha1(a.encode('utf-8')).hexdigest()\n",
    "    h_b = hashlib.sha1(b.encode('utf-8')).hexdigest()\n",
    "\n",
    "    if verbose:\n",
    "        print(f'hash 1 = {h_a}\\nhash 2 = {h_b}')\n",
    "\n",
    "    return h_a == h_b"
   ]
  },
  {
   "cell_type": "code",
   "execution_count": 25,
   "metadata": {
    "ExecuteTime": {
     "end_time": "2020-06-10T18:02:46.923171Z",
     "start_time": "2020-06-10T18:02:40.741479Z"
    }
   },
   "outputs": [
    {
     "name": "stdout",
     "output_type": "stream",
     "text": [
      "Введите строку 1: hello\n",
      "Введите строку 2: hi\n",
      "hash 1 = aaf4c61ddcc5e8a2dabede0f3b482cd9aea9434d\n",
      "hash 2 = c22b5f9178342609428d6f51b2c5af4c0bde6a42\n",
      "Строки разные\n"
     ]
    }
   ],
   "source": [
    "s_1 = input('Введите строку 1: ')\n",
    "s_2 = input('Введите строку 2: ')\n",
    "print('Строки одинаковые' if is_eq_string(s_1, s_2, True) else 'Строки разные')"
   ]
  },
  {
   "cell_type": "markdown",
   "metadata": {},
   "source": [
    "## Поиск подстроки в строке"
   ]
  },
  {
   "cell_type": "code",
   "execution_count": 26,
   "metadata": {
    "ExecuteTime": {
     "end_time": "2020-06-10T18:49:14.556333Z",
     "start_time": "2020-06-10T18:49:14.322636Z"
    }
   },
   "outputs": [],
   "source": [
    "import hashlib\n",
    "\n",
    "\n",
    "def Rabin_Karp(s: str, subs: str) -> int:\n",
    "    \"\"\"\n",
    "\n",
    "    :param s: строка\n",
    "    :param subs: подстрока\n",
    "    :return:\n",
    "    \"\"\"\n",
    "    assert len(s) > 0 and len(subs) > 0, 'Строки не могут быть пустыми'\n",
    "    assert len(s) >= len(subs), 'Подстрока длиннее строки'\n",
    "\n",
    "    len_subs = len(subs)\n",
    "    h_subs = hashlib.sha1(subs.encode('utf-8')).hexdigest()\n",
    "\n",
    "    for i in range(len(s) - len_subs + 1):\n",
    "        if h_subs == hashlib.sha1(s[i:i + len_subs].encode('utf-8')).hexdigest():\n",
    "            if s[i: i + len_subs] == subs:\n",
    "                return i\n",
    "    return -1"
   ]
  },
  {
   "cell_type": "code",
   "execution_count": 27,
   "metadata": {
    "ExecuteTime": {
     "end_time": "2020-06-10T18:49:34.112065Z",
     "start_time": "2020-06-10T18:49:15.406027Z"
    }
   },
   "outputs": [
    {
     "name": "stdout",
     "output_type": "stream",
     "text": [
      "Введите строку: Hello World!\n",
      "Введите подстроку для поиска: World\n",
      "Подстрока найдена в позиции 6\n"
     ]
    }
   ],
   "source": [
    "s_1 = input('Введите строку: ')\n",
    "s_2 = input('Введите подстроку для поиска: ')\n",
    "\n",
    "pos = Rabin_Karp(s_1, s_2)\n",
    "print(f'Подстрока найдена в позиции {pos}' if pos != -1 else 'Подстрока не найдена')"
   ]
  },
  {
   "cell_type": "code",
   "execution_count": null,
   "metadata": {},
   "outputs": [],
   "source": []
  }
 ],
 "metadata": {
  "kernelspec": {
   "display_name": "Python 3",
   "language": "python",
   "name": "python3"
  },
  "language_info": {
   "codemirror_mode": {
    "name": "ipython",
    "version": 3
   },
   "file_extension": ".py",
   "mimetype": "text/x-python",
   "name": "python",
   "nbconvert_exporter": "python",
   "pygments_lexer": "ipython3",
   "version": "3.7.6"
  },
  "toc": {
   "base_numbering": 1,
   "nav_menu": {},
   "number_sections": true,
   "sideBar": true,
   "skip_h1_title": false,
   "title_cell": "Table of Contents",
   "title_sidebar": "Contents",
   "toc_cell": true,
   "toc_position": {},
   "toc_section_display": true,
   "toc_window_display": true
  }
 },
 "nbformat": 4,
 "nbformat_minor": 4
}
