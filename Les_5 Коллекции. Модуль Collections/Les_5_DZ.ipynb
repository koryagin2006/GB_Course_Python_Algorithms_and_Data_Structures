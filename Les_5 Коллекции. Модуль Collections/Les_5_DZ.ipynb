{
 "cells": [
  {
   "cell_type": "markdown",
   "metadata": {
    "Collapsed": "false"
   },
   "source": [
    "# Урок 5. ДЗ."
   ]
  },
  {
   "cell_type": "markdown",
   "metadata": {
    "Collapsed": "false"
   },
   "source": [
    "## Для каждого упражнения написать программную реализацию.\n",
    "Код пишите в файлах с расширением .py в кодировке UTF-8 (в PyCharm работает по умолчанию). Каждую задачу необходимо сохранять в отдельный файл. Рекомендуем использовать английские имена, например, les_5_task_1, les_5_task_2, и т.д."
   ]
  },
  {
   "cell_type": "markdown",
   "metadata": {
    "Collapsed": "false"
   },
   "source": [
    "Для оценки «Отлично» необходимо выполнить оба задания."
   ]
  },
  {
   "cell_type": "markdown",
   "metadata": {
    "Collapsed": "false"
   },
   "source": [
    "Примечание: Если воспользоваться функциями hex() и/или int() для преобразования систем счисления, задача решается в несколько строк. Для прокачки алгоритмического мышления такой вариант не подходит. Поэтому использование встроенных функций для перевода из одной системы счисления в другую в данной задаче под запретом.\n",
    "Вспомните начальную школу и попробуйте написать сложение и умножение в столбик."
   ]
  },
  {
   "cell_type": "markdown",
   "metadata": {
    "Collapsed": "false"
   },
   "source": [
    "## Задача считается решённой, если в ней использована как минимум одна коллекция из модуля collections."
   ]
  },
  {
   "cell_type": "markdown",
   "metadata": {
    "Collapsed": "false"
   },
   "source": [
    "### 1. Пользователь вводит данные о количестве предприятий, их наименования и прибыль за четыре квартала для каждого предприятия. Программа должна определить среднюю прибыль (за год для всех предприятий) и отдельно вывести наименования предприятий, чья прибыль выше среднего и ниже среднего."
   ]
  },
  {
   "cell_type": "code",
   "execution_count": 1,
   "metadata": {
    "Collapsed": "false",
    "ExecuteTime": {
     "end_time": "2020-05-25T18:57:40.842388Z",
     "start_time": "2020-05-25T18:57:40.829424Z"
    }
   },
   "outputs": [],
   "source": [
    "from collections import namedtuple\n",
    "\n",
    "\n",
    "def profit():\n",
    "    QUARTERS = 4\n",
    "    Company = namedtuple('Company', ['name', 'quartes', 'profit'])\n",
    "    all_companies = set()\n",
    "\n",
    "    num = int('Введите число предприятий: ')\n",
    "    total_profit = 0\n",
    "    for i in range(1, num + 1):\n",
    "        profit = 0\n",
    "        quarters = []\n",
    "        name = input(f'Введите название предприятия {i}: ')\n",
    "\n",
    "        for j in range(QUARTERS):\n",
    "            quarters.append(int(input(f'Прибыль за {j+1}-й квартал: ')))\n",
    "            profit += quarters[j]\n",
    "\n",
    "        comp = Company(name=name,\n",
    "                       quartes=tuple(quarters),\n",
    "                       profit=profit)\n",
    "        all_companies.add(comp)\n",
    "        total_profit += profit\n",
    "\n",
    "    average = total_profit / num\n",
    "\n",
    "    print(f'\\nСредняя прибыль = {average}')\n",
    "    print(f'\\nПредприятия с прибылью выше среднего :')\n",
    "    for comp in all_companies:\n",
    "        if comp.profit < average:\n",
    "            print(f'Компания {comp.name} заработала {comp.profit}')"
   ]
  },
  {
   "cell_type": "markdown",
   "metadata": {
    "Collapsed": "false"
   },
   "source": [
    "### 2. Написать программу сложения и умножения двух шестнадцатеричных чисел. При этом каждое число представляется как массив, элементы которого — цифры числа. Например, пользователь ввёл A2 и C4F. Нужно сохранить их как [‘A’, ‘2’] и [‘C’, ‘4’, ‘F’] соответственно. Сумма чисел из примера: [‘C’, ‘F’, ‘1’], произведение - [‘7’, ‘C’, ‘9’, ‘F’, ‘E’]."
   ]
  },
  {
   "cell_type": "code",
   "execution_count": null,
   "metadata": {
    "Collapsed": "false"
   },
   "outputs": [],
   "source": [
    "from collections import deque\n",
    "\n",
    "hex_numbers = ['0', '1', '2', '3', '4', '5', '6',\n",
    "               '7', '8', '9', 'A', 'B', 'C', 'D', 'E', 'F']\n",
    "\n",
    "bin_numbers = {'0': 0, '1': 1, '2': 2, '3': 3, '4': 4, '5': 5, '6': 6, '7': 7,\n",
    "               '8': 8, '9': 9, 'A': 10, 'B': 11, 'C': 12, 'D': 13, 'E': 14, 'F': 15}\n",
    "\n",
    "\n",
    "def convert(hex_num):\n",
    "    deq_hex_num = deque(hex_numbers.upper())\n",
    "    return deq_hex_num\n",
    "\n",
    "\n",
    "def sum_hex(first, second):\n",
    "    first = first.copy()\n",
    "    second = second.copy()\n",
    "\n",
    "    if len(second) > len(first):\n",
    "        first, second = second, first\n",
    "\n",
    "    second.exdentleft('0' * (len(first) - len(second)))\n",
    "\n",
    "    result = deque()\n",
    "    owerflow = 0\n",
    "\n",
    "    for i in range(len(first)-1, -1, -1):\n",
    "        second_num = bin_numbers[second[i]]\n",
    "\n",
    "        spam = deque('0')\n",
    "        for _ in range(second_num):\n",
    "            spam = sum_hex(spam, first)\n",
    "        spam.extend('0' * len(first) - i-1)\n",
    "\n",
    "        result = sum_hex(result, spam)\n",
    "    return result\n",
    "\n",
    "\n",
    "a = input('Введите первое число в hex формате:')\n",
    "b = input('Введите второе число в hex формате:')\n",
    "\n",
    "a = convert(a)\n",
    "b = convert(b)\n",
    "\n",
    "print(\"A + B\", sum_hex(a, b))\n",
    "print(\"A * B\", mult_hex(a, b))"
   ]
  }
 ],
 "metadata": {
  "kernelspec": {
   "display_name": "Python 3",
   "language": "python",
   "name": "python3"
  },
  "language_info": {
   "codemirror_mode": {
    "name": "ipython",
    "version": 3
   },
   "file_extension": ".py",
   "mimetype": "text/x-python",
   "name": "python",
   "nbconvert_exporter": "python",
   "pygments_lexer": "ipython3",
   "version": "3.7.6"
  },
  "toc": {
   "base_numbering": 1,
   "nav_menu": {},
   "number_sections": true,
   "sideBar": true,
   "skip_h1_title": false,
   "title_cell": "Table of Contents",
   "title_sidebar": "Contents",
   "toc_cell": false,
   "toc_position": {},
   "toc_section_display": true,
   "toc_window_display": false
  }
 },
 "nbformat": 4,
 "nbformat_minor": 4
}
