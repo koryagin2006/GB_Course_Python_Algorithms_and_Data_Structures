{
 "cells": [
  {
   "cell_type": "markdown",
   "metadata": {
    "Collapsed": "false"
   },
   "source": [
    "# Виды алгоритмов"
   ]
  },
  {
   "cell_type": "markdown",
   "metadata": {
    "Collapsed": "false"
   },
   "source": [
    "**Временная сложность алгоритма** определяет время работы, используемое алгоритмом, как функции от длины строки, представляющей входные данные\n",
    "```\n",
    "t = f(n) \n",
    "```"
   ]
  },
  {
   "cell_type": "markdown",
   "metadata": {
    "Collapsed": "false"
   },
   "source": [
    "## task_1"
   ]
  },
  {
   "cell_type": "code",
   "execution_count": 1,
   "metadata": {
    "Collapsed": "false"
   },
   "outputs": [
    {
     "name": "stdout",
     "output_type": "stream",
     "text": [
      "0.07961889999978666\n"
     ]
    }
   ],
   "source": [
    "import timeit\n",
    "\n",
    "x = 2+2\n",
    "print(timeit.timeit('x = 2+2'))"
   ]
  },
  {
   "cell_type": "code",
   "execution_count": 2,
   "metadata": {
    "Collapsed": "false"
   },
   "outputs": [
    {
     "name": "stdout",
     "output_type": "stream",
     "text": [
      "0.8956949000000805\n"
     ]
    }
   ],
   "source": [
    "print(timeit.timeit('x = sum(range(10))'))"
   ]
  },
  {
   "cell_type": "code",
   "execution_count": 3,
   "metadata": {
    "Collapsed": "false"
   },
   "outputs": [
    {
     "name": "stdout",
     "output_type": "stream",
     "text": [
      "897 ns ± 21.5 ns per loop (mean ± std. dev. of 7 runs, 1000000 loops each)\n"
     ]
    }
   ],
   "source": [
    "%%timeit\n",
    "x = sum(range(10))"
   ]
  },
  {
   "cell_type": "markdown",
   "metadata": {
    "Collapsed": "false"
   },
   "source": [
    "## task_2"
   ]
  },
  {
   "cell_type": "code",
   "execution_count": 2,
   "metadata": {
    "Collapsed": "false"
   },
   "outputs": [
    {
     "name": "stdout",
     "output_type": "stream",
     "text": [
      "         8 function calls in 2.694 seconds\n",
      "\n",
      "   Ordered by: standard name\n",
      "\n",
      "   ncalls  tottime  percall  cumtime  percall filename:lineno(function)\n",
      "        1    0.000    0.000    2.417    2.417 <ipython-input-2-6fae849b58de>:12(main)\n",
      "        1    1.404    1.404    1.404    1.404 <ipython-input-2-6fae849b58de>:13(<listcomp>)\n",
      "        1    0.000    0.000    0.000    0.000 <ipython-input-2-6fae849b58de>:3(get_len)\n",
      "        1    1.014    1.014    1.014    1.014 <ipython-input-2-6fae849b58de>:6(get_sum)\n",
      "        1    0.276    0.276    2.694    2.694 <string>:1(<module>)\n",
      "        1    0.000    0.000    2.694    2.694 {built-in method builtins.exec}\n",
      "        1    0.000    0.000    0.000    0.000 {built-in method builtins.len}\n",
      "        1    0.000    0.000    0.000    0.000 {method 'disable' of '_lsprof.Profiler' objects}\n",
      "\n",
      "\n"
     ]
    }
   ],
   "source": [
    "import cProfile\n",
    "\n",
    "def get_len(array):\n",
    "    return len(array)\n",
    "\n",
    "def get_sum(array):\n",
    "    s = 0\n",
    "    for i in array:\n",
    "        s += i\n",
    "    return s\n",
    "\n",
    "def main():\n",
    "    lst = [i for i in range(10 * 10**6)]\n",
    "    a = get_len(lst)\n",
    "    b = get_sum(lst)\n",
    "    \n",
    "cProfile.run('main()')"
   ]
  }
 ],
 "metadata": {
  "kernelspec": {
   "display_name": "Python 3",
   "language": "python",
   "name": "python3"
  },
  "language_info": {
   "codemirror_mode": {
    "name": "ipython",
    "version": 3
   },
   "file_extension": ".py",
   "mimetype": "text/x-python",
   "name": "python",
   "nbconvert_exporter": "python",
   "pygments_lexer": "ipython3",
   "version": "3.7.6"
  }
 },
 "nbformat": 4,
 "nbformat_minor": 4
}
