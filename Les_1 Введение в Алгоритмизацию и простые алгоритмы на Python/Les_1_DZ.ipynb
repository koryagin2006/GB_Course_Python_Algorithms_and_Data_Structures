{
 "cells": [
  {
   "cell_type": "markdown",
   "metadata": {
    "Collapsed": "false"
   },
   "source": [
    "# Урок 1. ДЗ"
   ]
  },
  {
   "cell_type": "markdown",
   "metadata": {
    "Collapsed": "false"
   },
   "source": [
    "#### _"
   ]
  },
  {
   "cell_type": "markdown",
   "metadata": {
    "Collapsed": "false"
   },
   "source": [
    "Для каждого упражнения составить графическое представление алгоритма в виде блок-схемы и написать программную реализацию.\n",
    "\n",
    "Блок-схему можно делать на сайте draw.io (рекомендуется) или в любом другом редакторе. При работе в draw.io у вас должен быть один файл. Блок-схемы для каждой задачи рисуются на новом листе. Убедитесь, что прилагаемая ссылка доступна для просмотра, или пришлите архив с блок-схемами в формате PDF или jpg.\n",
    "Код пишите в файлах с расширением .py в кодировке UTF-8 (в PyCharm работает по умолчанию). Каждую задачу необходимо сохранять в отдельный файл.\n",
    "\n",
    "В начале каждого файла вставьте текст задачи в виде комментария к коду. Имя файла с кодом должно совпадать с именем листа в draw.io с соответствующей блок-схемой. Рекомендуем использовать английские имена, например, les_1_task_1, les_1_task_2, и т.д.\n",
    "\n",
    "Для оценки «Отлично» достаточно выполнить 4 любых задания на ваш выбор.\n",
    "\n",
    "Оценка ставится за работы без ошибок. Если вы сдадите 6 заданий и 2 из них сделаны неверно, оценка не может быть отличной."
   ]
  },
  {
   "cell_type": "markdown",
   "metadata": {
    "Collapsed": "false"
   },
   "source": [
    "**Примечания**\n",
    "\n",
    "Во всех заданиях, где речь идёт о буквах алфавита, решения необходимы только для строчных букв латинского алфавита от a до z.\n",
    "Попытайтесь решить задания без использования циклов и собственных функций (они будут рассматриваться на уроке 2), а также без массивов (они будут рассматриваться на уроке 3).\n",
    "Для простоты понимания зарезервированные слова forи while считаются циклом, def - функцией, любые квадратные скобки [ и ] - массивами. Их наличие в коде расценивается как неверное решение.\n",
    "Договариваемся об идеальном пользователе, который вводит только верные данные, которые требует программа. Проверка ввода не обязательна. Уделите это время в первую очередь построению графического алгоритма, а затем написанию кода по этому алгоритму. Не наоборот."
   ]
  },
  {
   "cell_type": "markdown",
   "metadata": {
    "Collapsed": "false"
   },
   "source": [
    "## Задания"
   ]
  },
  {
   "cell_type": "markdown",
   "metadata": {
    "Collapsed": "false"
   },
   "source": [
    "### 1. Выполнить логические побитовые операции «И», «ИЛИ» и др. над числами 5 и 6. Выполнить над числом 5 побитовый сдвиг вправо и влево на два знака."
   ]
  },
  {
   "cell_type": "code",
   "execution_count": null,
   "metadata": {
    "Collapsed": "false"
   },
   "outputs": [],
   "source": [
    "# нет"
   ]
  },
  {
   "cell_type": "markdown",
   "metadata": {
    "Collapsed": "true"
   },
   "source": [
    "### 2. По введенным пользователем координатам двух точек вывести уравнение прямой вида y = kx + b, проходящей через эти точки."
   ]
  },
  {
   "cell_type": "markdown",
   "metadata": {
    "Collapsed": "false"
   },
   "source": [
    "<img src=\"img/Les_1_DZ-Страница 2.png\" alt=\"Drawing\" style=\"width: 140px;\">"
   ]
  },
  {
   "cell_type": "code",
   "execution_count": 5,
   "metadata": {
    "Collapsed": "false"
   },
   "outputs": [],
   "source": [
    "def les_1_task_2():\n",
    "    x1 = int(input('Введите x1: '))\n",
    "    y1 = int(input('Введите y1: '))\n",
    "    x2 = int(input('Введите x2: '))\n",
    "    y2 = int(input('Введите y2: '))\n",
    "    \n",
    "    k = (y2-y1)/(x2-x1)\n",
    "    b = (x2*y1-x1*y2)/(x2-x1)\n",
    "    znak = '+'\n",
    "    if b < 0:\n",
    "        znak = '-'\n",
    "    elif b == 0:\n",
    "        znak = ''\n",
    "        b = ''\n",
    "    print(f'Уравнение функции f(x) равно y = {round(k, 3)}x {znak} {round(b, 3)}')"
   ]
  },
  {
   "cell_type": "code",
   "execution_count": 6,
   "metadata": {
    "Collapsed": "false"
   },
   "outputs": [
    {
     "name": "stdin",
     "output_type": "stream",
     "text": [
      "Введите x1:  4\n",
      "Введите y1:  5\n",
      "Введите x2:  2\n",
      "Введите y2:  7\n"
     ]
    },
    {
     "name": "stdout",
     "output_type": "stream",
     "text": [
      "Уравнение функции f(x) равно y = -1.0x + 9.0\n"
     ]
    }
   ],
   "source": [
    "les_1_task_2()"
   ]
  },
  {
   "cell_type": "markdown",
   "metadata": {
    "Collapsed": "false"
   },
   "source": [
    "### 3. Написать программу, которая генерирует в указанных пользователем границах:\n",
    "- `a`. случайное целое число,\n",
    "- `b`. случайное вещественное число,\n",
    "- `c`. случайный символ.\n",
    "\n",
    "Для каждого из трех случаев пользователь задает свои границы диапазона. Например, если надо получить случайный символ от `a` до `f`, то вводятся эти символы. Программа должна вывести на экран любой символ алфавита от `a` до `f` включительно."
   ]
  },
  {
   "cell_type": "markdown",
   "metadata": {
    "Collapsed": "false"
   },
   "source": [
    "### 4. Пользователь вводит две буквы. Определить, на каких местах алфавита они стоят, и сколько между ними находится букв."
   ]
  },
  {
   "cell_type": "markdown",
   "metadata": {
    "Collapsed": "false"
   },
   "source": [
    "### 5. Пользователь вводит номер буквы в алфавите. Определить, какая это буква."
   ]
  },
  {
   "cell_type": "markdown",
   "metadata": {
    "Collapsed": "false"
   },
   "source": [
    "### 6. По длинам трех отрезков, введенных пользователем, определить возможность существования треугольника, составленного из этих отрезков. Если такой треугольник существует, то определить, является ли он разносторонним, равнобедренным или равносторонним."
   ]
  },
  {
   "cell_type": "markdown",
   "metadata": {
    "Collapsed": "false"
   },
   "source": [
    "<img src=\"img/Les_1_DZ-Страница 6.png\" alt=\"Drawing\" style=\"width: 350px;\">"
   ]
  },
  {
   "cell_type": "code",
   "execution_count": null,
   "metadata": {
    "Collapsed": "false"
   },
   "outputs": [],
   "source": [
    "a=b=c=0\n",
    "for i in [a,b,c]:\n",
    "    i = int(input('Введите длину сторны треуголинка(целое число): '))\n",
    "    print(i)\n",
    "    \n",
    "if a<(b+c):\n",
    "    print('Треугольник существует')\n",
    "    if (a==b) and (a==c) and (b==c):\n",
    "        print('Треугольник равносторонний')\n",
    "    \n",
    "else:\n",
    "    print('Треугольника не существует')"
   ]
  },
  {
   "cell_type": "markdown",
   "metadata": {
    "Collapsed": "false"
   },
   "source": [
    "### 7. Определить, является ли год, который ввел пользователь, високосным или не високосным."
   ]
  },
  {
   "cell_type": "markdown",
   "metadata": {
    "Collapsed": "false"
   },
   "source": [
    "В обычном году 365 дней, а в високосном - 366. Каждый четвертый год является високосным, кроме столетий, которые не делятся нацело на 400. Например, 2000 год високосный, а 1900 - нет, т.к. не делится нацело на 400."
   ]
  },
  {
   "cell_type": "markdown",
   "metadata": {
    "Collapsed": "false"
   },
   "source": [
    "<img src=\"img/Les_1_DZ-Страница 7.png\" alt=\"Drawing\" style=\"width: 300px;\">"
   ]
  },
  {
   "cell_type": "code",
   "execution_count": 68,
   "metadata": {
    "Collapsed": "false"
   },
   "outputs": [],
   "source": [
    "import datetime\n",
    "\n",
    "def les_1_task_7():\n",
    "    year = int(input('Введите год в формате yyyy: '))\n",
    "    if year % 400 == 0:\n",
    "        days = (datetime.strptime(f'{year}-12-31', '%Y-%m-%d') - datetime.strptime(f'{year}-01-01', '%Y-%m-%d')).days\n",
    "        if days + 1 == 366:\n",
    "            result = 'високосный'\n",
    "        else:\n",
    "            result = 'не високосный'\n",
    "    else:\n",
    "        result = 'не високосный'\n",
    "    print(result)"
   ]
  },
  {
   "cell_type": "code",
   "execution_count": 69,
   "metadata": {
    "Collapsed": "false"
   },
   "outputs": [
    {
     "name": "stdin",
     "output_type": "stream",
     "text": [
      "Введите год в формате yyyy:  2017\n"
     ]
    },
    {
     "name": "stdout",
     "output_type": "stream",
     "text": [
      "не високосный\n"
     ]
    }
   ],
   "source": [
    "les_1_task_7()"
   ]
  },
  {
   "cell_type": "code",
   "execution_count": 70,
   "metadata": {
    "Collapsed": "false"
   },
   "outputs": [
    {
     "name": "stdin",
     "output_type": "stream",
     "text": [
      "Введите год в формате yyyy:  2020\n"
     ]
    },
    {
     "name": "stdout",
     "output_type": "stream",
     "text": [
      "високосный\n"
     ]
    }
   ],
   "source": [
    "les1_task_7()"
   ]
  },
  {
   "cell_type": "markdown",
   "metadata": {
    "Collapsed": "false"
   },
   "source": [
    "### 8. Вводятся три разных числа. Найти, какое из них является средним (больше одного, но меньше другого)."
   ]
  },
  {
   "cell_type": "code",
   "execution_count": null,
   "metadata": {
    "Collapsed": "false"
   },
   "outputs": [],
   "source": []
  }
 ],
 "metadata": {
  "kernelspec": {
   "display_name": "Python 3",
   "language": "python",
   "name": "python3"
  },
  "language_info": {
   "codemirror_mode": {
    "name": "ipython",
    "version": 3
   },
   "file_extension": ".py",
   "mimetype": "text/x-python",
   "name": "python",
   "nbconvert_exporter": "python",
   "pygments_lexer": "ipython3",
   "version": "3.7.6"
  },
  "toc-autonumbering": false,
  "toc-showmarkdowntxt": false
 },
 "nbformat": 4,
 "nbformat_minor": 4
}
