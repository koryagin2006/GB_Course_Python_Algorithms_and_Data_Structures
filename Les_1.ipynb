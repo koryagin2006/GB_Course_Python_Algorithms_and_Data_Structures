{
 "cells": [
  {
   "cell_type": "markdown",
   "metadata": {
    "Collapsed": "true"
   },
   "source": [
    "# Способы представления алгоритма. Ч.1"
   ]
  },
  {
   "cell_type": "markdown",
   "metadata": {
    "Collapsed": "false"
   },
   "source": [
    "### Всевдокод "
   ]
  },
  {
   "cell_type": "markdown",
   "metadata": {
    "Collapsed": "false"
   },
   "source": [
    "- Начало\n",
    "- Вывод (\"Введите 2 числа\")\n",
    "- Ввод (Первое число)\n",
    "- Ввод (Второе число)\n",
    "- если (Второе число) != 0\n",
    "- то честное  = (Первое число) числитель / (Второе число) знаменатель\n",
    "    - Вывод(\"Результат равен\" частное)\n",
    "- иначе вывод (\"нет решения\")\n",
    "- конец алгоритма"
   ]
  },
  {
   "cell_type": "markdown",
   "metadata": {
    "Collapsed": "false"
   },
   "source": [
    "# Способы представления алгоритма. Ч.2\n"
   ]
  },
  {
   "cell_type": "markdown",
   "metadata": {
    "Collapsed": "false"
   },
   "source": [
    "Виды алгоритмов:\n",
    "- Линейный\n",
    "- Разветвляющийся\n",
    "- Циклический"
   ]
  },
  {
   "cell_type": "markdown",
   "metadata": {
    "Collapsed": "false"
   },
   "source": [
    "<img src=\"Les_1_1.png\" alt=\"Drawing\" style=\"width: 300px;\">"
   ]
  },
  {
   "cell_type": "markdown",
   "metadata": {
    "Collapsed": "false"
   },
   "source": [
    "### Код по блок-схеме"
   ]
  },
  {
   "cell_type": "code",
   "execution_count": 3,
   "metadata": {
    "Collapsed": "false"
   },
   "outputs": [
    {
     "name": "stdout",
     "output_type": "stream",
     "text": [
      "Введите 2 числа\n"
     ]
    },
    {
     "name": "stdin",
     "output_type": "stream",
     "text": [
      "Введите первое число:  5\n",
      "Введите второе число:  2\n"
     ]
    },
    {
     "name": "stdout",
     "output_type": "stream",
     "text": [
      "Частное равно:  2.5\n"
     ]
    }
   ],
   "source": [
    "def foo():\n",
    "    print(\"Введите 2 числа\")\n",
    "    a = int(input('Введите первое число: '))\n",
    "    b = int(input('Введите второе число: '))\n",
    "    if b != 0:\n",
    "        c = a/b\n",
    "        print('Частное равно: ', c)\n",
    "    else:\n",
    "        print('Решений нет')\n",
    "foo()"
   ]
  },
  {
   "cell_type": "code",
   "execution_count": 4,
   "metadata": {
    "Collapsed": "false"
   },
   "outputs": [
    {
     "name": "stdout",
     "output_type": "stream",
     "text": [
      "Введите 2 числа\n"
     ]
    },
    {
     "name": "stdin",
     "output_type": "stream",
     "text": [
      "Введите первое число:  5\n",
      "Введите второе число:  0\n"
     ]
    },
    {
     "name": "stdout",
     "output_type": "stream",
     "text": [
      "Решений нет\n"
     ]
    }
   ],
   "source": [
    "foo()"
   ]
  },
  {
   "cell_type": "markdown",
   "metadata": {
    "Collapsed": "false"
   },
   "source": [
    "# Линейные алгоритмы"
   ]
  },
  {
   "cell_type": "markdown",
   "metadata": {
    "Collapsed": "false"
   },
   "source": [
    "### Задача 1. \n",
    "Найти сумму и произведение цифр трехзначного числа, которое вводит пользователь. \n"
   ]
  },
  {
   "cell_type": "markdown",
   "metadata": {
    "Collapsed": "false"
   },
   "source": [
    "<img src=\"Les_1-Страница 2.png\" alt=\"Drawing\" style=\"width: 100px;\">"
   ]
  },
  {
   "cell_type": "code",
   "execution_count": 7,
   "metadata": {
    "Collapsed": "false"
   },
   "outputs": [
    {
     "name": "stdin",
     "output_type": "stream",
     "text": [
      "Введите трехзначное число:  123\n"
     ]
    },
    {
     "name": "stdout",
     "output_type": "stream",
     "text": [
      "Сумма = 6\n",
      "Произведение = 6\n"
     ]
    }
   ],
   "source": [
    "def task_2():\n",
    "    num = int(input(\"Введите трехзначное число: \"))\n",
    "    a = num // 100\n",
    "    b = num % 100 //10\n",
    "    c = num % 10\n",
    "    summa = a+b+c\n",
    "    mult = a*b*c\n",
    "    print(f'Сумма = {summa}')\n",
    "    print(f'Произведение = {mult}')\n",
    "\n",
    "task_2()"
   ]
  },
  {
   "cell_type": "markdown",
   "metadata": {
    "Collapsed": "false"
   },
   "source": [
    "# Алгоритмы с условием. Ч.1"
   ]
  },
  {
   "cell_type": "code",
   "execution_count": null,
   "metadata": {
    "Collapsed": "false"
   },
   "outputs": [],
   "source": []
  }
 ],
 "metadata": {
  "kernelspec": {
   "display_name": "Python 3",
   "language": "python",
   "name": "python3"
  },
  "language_info": {
   "codemirror_mode": {
    "name": "ipython",
    "version": 3
   },
   "file_extension": ".py",
   "mimetype": "text/x-python",
   "name": "python",
   "nbconvert_exporter": "python",
   "pygments_lexer": "ipython3",
   "version": "3.7.6"
  },
  "toc-autonumbering": true,
  "toc-showcode": false,
  "toc-showmarkdowntxt": false
 },
 "nbformat": 4,
 "nbformat_minor": 4
}
