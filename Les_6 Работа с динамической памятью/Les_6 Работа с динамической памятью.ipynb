{
 "cells": [
  {
   "cell_type": "markdown",
   "metadata": {},
   "source": [
    "# Этапы, методы работы с памятью, сборщик мусора"
   ]
  },
  {
   "cell_type": "markdown",
   "metadata": {},
   "source": [
    "## Основные фазы работы с памятью"
   ]
  },
  {
   "cell_type": "markdown",
   "metadata": {},
   "source": [
    "1. Выделить память под переменную\n",
    "2. Инициализировать память некоторым начальным значением\n",
    "3. Предоставить программисту возможность работы с памятью\n",
    "4. Как только память перестает использоваться необзодимо ее освободить (предварително очистив)\n",
    "5. Наконец необходимо обеспечить возможность повторного использования освобожденной памяти"
   ]
  },
  {
   "cell_type": "markdown",
   "metadata": {},
   "source": [
    "## Проблемы работы с памятью:\n",
    "- Память не бесконечна\n",
    "- Механизм управления памятью: автоматиеский или ручной\n",
    "- Работа с общей памятью"
   ]
  },
  {
   "cell_type": "markdown",
   "metadata": {},
   "source": [
    "## Спопобы выделения памяти:\n",
    "- Статическая информация\n",
    "- Динамическая инфромация"
   ]
  },
  {
   "cell_type": "markdown",
   "metadata": {
    "ExecuteTime": {
     "end_time": "2020-05-14T17:57:46.819636Z",
     "start_time": "2020-05-14T17:57:46.812654Z"
    }
   },
   "source": [
    "### Функция id показывает, по какому адресу в памяти хранится число\n",
    "Целые числа до 255 хранятся в памяти статически, а далее - динамически"
   ]
  },
  {
   "cell_type": "code",
   "execution_count": 7,
   "metadata": {
    "ExecuteTime": {
     "end_time": "2020-05-14T18:01:28.899263Z",
     "start_time": "2020-05-14T18:01:28.892282Z"
    }
   },
   "outputs": [
    {
     "name": "stdout",
     "output_type": "stream",
     "text": [
      "140712107748848\n",
      "140712107748848\n"
     ]
    }
   ],
   "source": [
    "print(id(100))\n",
    "\n",
    "a = 111-11\n",
    "print(id(a))"
   ]
  },
  {
   "cell_type": "code",
   "execution_count": 6,
   "metadata": {
    "ExecuteTime": {
     "end_time": "2020-05-14T18:00:28.329741Z",
     "start_time": "2020-05-14T18:00:28.322759Z"
    }
   },
   "outputs": [
    {
     "name": "stdout",
     "output_type": "stream",
     "text": [
      "2783116606032\n",
      "2783116606288\n"
     ]
    }
   ],
   "source": [
    "print(id(1000))\n",
    "\n",
    "b = 1020-20\n",
    "print(id(b)) "
   ]
  },
  {
   "cell_type": "markdown",
   "metadata": {},
   "source": [
    "## Фазы управления памятью"
   ]
  },
  {
   "cell_type": "markdown",
   "metadata": {
    "ExecuteTime": {
     "end_time": "2020-05-14T18:03:45.001079Z",
     "start_time": "2020-05-14T18:03:44.980134Z"
    }
   },
   "source": [
    "1. Начальное выделение памяти\n",
    "2. Утилизация памяти\n",
    "3. Уплотнение и повторное использование"
   ]
  },
  {
   "cell_type": "markdown",
   "metadata": {},
   "source": [
    "## Основные методы управления памятью"
   ]
  },
  {
   "cell_type": "markdown",
   "metadata": {
    "ExecuteTime": {
     "end_time": "2020-05-14T18:05:15.012019Z",
     "start_time": "2020-05-14T18:05:15.005036Z"
    }
   },
   "source": [
    "- Статическое распределение памяти\n",
    "- Стековое паспределение памяти\n",
    "- Представление памяти в виде кучи (heap)"
   ]
  },
  {
   "cell_type": "markdown",
   "metadata": {},
   "source": [
    "### - Стековое паспределение памяти"
   ]
  },
  {
   "cell_type": "code",
   "execution_count": 11,
   "metadata": {
    "ExecuteTime": {
     "end_time": "2020-05-14T18:08:41.835323Z",
     "start_time": "2020-05-14T18:08:41.822358Z"
    }
   },
   "outputs": [
    {
     "data": {
      "text/plain": [
       "[1, 2]"
      ]
     },
     "execution_count": 11,
     "metadata": {},
     "output_type": "execute_result"
    }
   ],
   "source": [
    "stack = []\n",
    "stack.append(1)\n",
    "stack.append(2)\n",
    "stack"
   ]
  },
  {
   "cell_type": "code",
   "execution_count": 12,
   "metadata": {
    "ExecuteTime": {
     "end_time": "2020-05-14T18:09:13.484955Z",
     "start_time": "2020-05-14T18:09:13.477974Z"
    }
   },
   "outputs": [
    {
     "data": {
      "text/plain": [
       "2"
      ]
     },
     "execution_count": 12,
     "metadata": {},
     "output_type": "execute_result"
    }
   ],
   "source": [
    "stack.pop()"
   ]
  },
  {
   "cell_type": "code",
   "execution_count": 13,
   "metadata": {
    "ExecuteTime": {
     "end_time": "2020-05-14T18:09:38.174385Z",
     "start_time": "2020-05-14T18:09:38.169375Z"
    }
   },
   "outputs": [],
   "source": [
    "spam = stack.pop()"
   ]
  },
  {
   "cell_type": "code",
   "execution_count": 14,
   "metadata": {
    "ExecuteTime": {
     "end_time": "2020-05-14T18:09:47.168546Z",
     "start_time": "2020-05-14T18:09:47.161593Z"
    }
   },
   "outputs": [
    {
     "data": {
      "text/plain": [
       "[]"
      ]
     },
     "execution_count": 14,
     "metadata": {},
     "output_type": "execute_result"
    }
   ],
   "source": [
    "stack"
   ]
  },
  {
   "cell_type": "markdown",
   "metadata": {},
   "source": [
    "# Двоичный код. Представление простых типов данных в памяти"
   ]
  },
  {
   "cell_type": "code",
   "execution_count": 18,
   "metadata": {
    "ExecuteTime": {
     "end_time": "2020-05-14T18:17:50.285643Z",
     "start_time": "2020-05-14T18:17:50.276669Z"
    }
   },
   "outputs": [
    {
     "name": "stdout",
     "output_type": "stream",
     "text": [
      "Двоичная система: 0b101010\n",
      "Восьмеричная система: 0o52\n",
      "Шестнадцатиричная система: 0x2a\n"
     ]
    }
   ],
   "source": [
    "a = 42\n",
    "print(f'Двоичная система: {bin(a)}')\n",
    "print(f'Восьмеричная система: {oct(a)}')\n",
    "print(f'Шестнадцатиричная система: {hex(a)}')"
   ]
  },
  {
   "cell_type": "code",
   "execution_count": 19,
   "metadata": {
    "ExecuteTime": {
     "end_time": "2020-05-14T18:18:47.491588Z",
     "start_time": "2020-05-14T18:18:47.485603Z"
    }
   },
   "outputs": [
    {
     "name": "stdout",
     "output_type": "stream",
     "text": [
      "38\n"
     ]
    }
   ],
   "source": [
    "b = 0b100110\n",
    "print(b)"
   ]
  },
  {
   "cell_type": "code",
   "execution_count": 20,
   "metadata": {
    "ExecuteTime": {
     "end_time": "2020-05-14T18:20:16.578259Z",
     "start_time": "2020-05-14T18:20:16.570281Z"
    }
   },
   "outputs": [
    {
     "name": "stdout",
     "output_type": "stream",
     "text": [
      "837048\n"
     ]
    }
   ],
   "source": [
    "# В python можно использовать системы счисления от 2 до 36\n",
    "c = int('2cd50', base=24)\n",
    "print(c)"
   ]
  },
  {
   "cell_type": "code",
   "execution_count": 21,
   "metadata": {
    "ExecuteTime": {
     "end_time": "2020-05-14T18:21:12.562412Z",
     "start_time": "2020-05-14T18:21:12.552434Z"
    }
   },
   "outputs": [
    {
     "name": "stdout",
     "output_type": "stream",
     "text": [
      "35\n"
     ]
    }
   ],
   "source": [
    "z = int('z', base=36)\n",
    "print(z)"
   ]
  },
  {
   "cell_type": "code",
   "execution_count": 2,
   "metadata": {
    "ExecuteTime": {
     "end_time": "2020-05-15T17:44:29.466820Z",
     "start_time": "2020-05-15T17:44:29.457816Z"
    }
   },
   "outputs": [
    {
     "name": "stdout",
     "output_type": "stream",
     "text": [
      "100\n"
     ]
    }
   ],
   "source": [
    "# Получим код символа\n",
    "print(ord('d'))"
   ]
  },
  {
   "cell_type": "code",
   "execution_count": 3,
   "metadata": {
    "ExecuteTime": {
     "end_time": "2020-05-15T17:46:12.986944Z",
     "start_time": "2020-05-15T17:46:12.979911Z"
    }
   },
   "outputs": [
    {
     "name": "stdout",
     "output_type": "stream",
     "text": [
      "1083\n"
     ]
    }
   ],
   "source": [
    "# Получим код русской буквы\n",
    "print(ord('л'))"
   ]
  },
  {
   "cell_type": "markdown",
   "metadata": {},
   "source": [
    "# Как работает `list`"
   ]
  },
  {
   "cell_type": "markdown",
   "metadata": {},
   "source": [
    "## Список `list` - как он работает в недрах Python?"
   ]
  },
  {
   "cell_type": "code",
   "execution_count": 12,
   "metadata": {
    "ExecuteTime": {
     "end_time": "2020-05-15T17:59:57.682487Z",
     "start_time": "2020-05-15T17:59:57.673508Z"
    }
   },
   "outputs": [
    {
     "name": "stdout",
     "output_type": "stream",
     "text": [
      "[1, 2, 3, 4]\n"
     ]
    }
   ],
   "source": [
    "# task_2\n",
    "\n",
    "lst = []\n",
    "lst.append(1)\n",
    "lst.extend([2, 3, 4])\n",
    "\n",
    "print(lst)"
   ]
  },
  {
   "cell_type": "code",
   "execution_count": 13,
   "metadata": {
    "ExecuteTime": {
     "end_time": "2020-05-15T17:59:58.151618Z",
     "start_time": "2020-05-15T17:59:58.139661Z"
    }
   },
   "outputs": [
    {
     "name": "stdout",
     "output_type": "stream",
     "text": [
      "[1, 5, 2, 3, 4]\n"
     ]
    }
   ],
   "source": [
    "lst.insert(1, 5)   # метод добавляет 5 в 1 ячейку\n",
    "print(lst)"
   ]
  },
  {
   "cell_type": "code",
   "execution_count": 14,
   "metadata": {
    "ExecuteTime": {
     "end_time": "2020-05-15T17:59:58.489956Z",
     "start_time": "2020-05-15T17:59:58.474646Z"
    }
   },
   "outputs": [
    {
     "name": "stdout",
     "output_type": "stream",
     "text": [
      "0 0\n",
      "1 4\n",
      "2 4\n",
      "3 4\n",
      "4 4\n",
      "5 8\n",
      "6 8\n",
      "7 8\n",
      "8 8\n",
      "9 16\n",
      "10 16\n",
      "11 16\n",
      "12 16\n",
      "13 16\n",
      "14 16\n",
      "15 16\n",
      "16 16\n",
      "17 25\n",
      "18 25\n",
      "19 25\n"
     ]
    }
   ],
   "source": [
    "# task_3\n",
    "\n",
    "allocated = 0  # кол-ко зарезерв памяти\n",
    "\n",
    "for newsize in range(20):\n",
    "    if allocated < newsize:\n",
    "        new_allocated = (newsize >> 3) + (3 if newsize < 9 else 6)\n",
    "        allocated = newsize + new_allocated\n",
    "    print(newsize, allocated)"
   ]
  },
  {
   "cell_type": "code",
   "execution_count": 15,
   "metadata": {
    "ExecuteTime": {
     "end_time": "2020-05-15T17:59:58.917836Z",
     "start_time": "2020-05-15T17:59:58.910131Z"
    }
   },
   "outputs": [
    {
     "name": "stdout",
     "output_type": "stream",
     "text": [
      "[1, 5, 2, 3] 4\n"
     ]
    }
   ],
   "source": [
    "last = lst.pop()\n",
    "print(lst, last)"
   ]
  },
  {
   "cell_type": "code",
   "execution_count": 16,
   "metadata": {
    "ExecuteTime": {
     "end_time": "2020-05-15T18:00:55.975687Z",
     "start_time": "2020-05-15T18:00:55.968645Z"
    }
   },
   "outputs": [
    {
     "name": "stdout",
     "output_type": "stream",
     "text": [
      "[1, 5, 2] 3\n"
     ]
    }
   ],
   "source": [
    "last = lst.pop()\n",
    "print(lst, last)"
   ]
  },
  {
   "cell_type": "code",
   "execution_count": 17,
   "metadata": {
    "ExecuteTime": {
     "end_time": "2020-05-15T18:01:46.321865Z",
     "start_time": "2020-05-15T18:01:46.314872Z"
    }
   },
   "outputs": [
    {
     "name": "stdout",
     "output_type": "stream",
     "text": [
      "[1, 2]\n"
     ]
    }
   ],
   "source": [
    "lst.remove(5)\n",
    "print(lst)"
   ]
  },
  {
   "cell_type": "markdown",
   "metadata": {},
   "source": [
    "# Сколько места занимает объект в памяти"
   ]
  },
  {
   "cell_type": "code",
   "execution_count": 20,
   "metadata": {
    "ExecuteTime": {
     "end_time": "2020-05-15T18:07:17.306102Z",
     "start_time": "2020-05-15T18:07:17.300116Z"
    }
   },
   "outputs": [
    {
     "name": "stdout",
     "output_type": "stream",
     "text": [
      "Версия python: 3.7.6 (default, Jan  8 2020, 20:23:39) [MSC v.1916 64 bit (AMD64)]\n",
      "Версия OS: win32\n"
     ]
    }
   ],
   "source": [
    "import sys\n",
    "\n",
    "print(f'Версия python: {sys.version}')\n",
    "print(f'Версия OS: {sys.platform}')"
   ]
  },
  {
   "cell_type": "code",
   "execution_count": 22,
   "metadata": {
    "ExecuteTime": {
     "end_time": "2020-05-15T18:11:06.572512Z",
     "start_time": "2020-05-15T18:11:06.559441Z"
    }
   },
   "outputs": [
    {
     "name": "stdout",
     "output_type": "stream",
     "text": [
      "28\n",
      "24\n",
      "61\n"
     ]
    }
   ],
   "source": [
    "# Создадим несколько простейших объектов\n",
    "\n",
    "a = 5\n",
    "b = 125.64\n",
    "c = 'Hello World!'\n",
    "\n",
    "# Следующая функция показывает, сколько памяти занимает объект\n",
    "for i in [a, b, c]:\n",
    "    print(sys.getsizeof(i))"
   ]
  },
  {
   "cell_type": "code",
   "execution_count": 23,
   "metadata": {
    "ExecuteTime": {
     "end_time": "2020-05-15T18:12:59.870844Z",
     "start_time": "2020-05-15T18:12:59.862866Z"
    }
   },
   "outputs": [
    {
     "name": "stdout",
     "output_type": "stream",
     "text": [
      "192\n"
     ]
    }
   ],
   "source": [
    "lst = [i for i in range(10)]\n",
    "print(sys.getsizeof(lst))"
   ]
  },
  {
   "cell_type": "code",
   "execution_count": 26,
   "metadata": {
    "ExecuteTime": {
     "end_time": "2020-05-15T18:19:45.853099Z",
     "start_time": "2020-05-15T18:19:45.844122Z"
    }
   },
   "outputs": [],
   "source": [
    "def show_size(x, level=0):\n",
    "    print('\\t' * level,\n",
    "          f'type = {x.__class__}, size = {sys.getsizeof(x)}, object = {x}')\n",
    "    if hasattr(x, '__iter__'):\n",
    "        if hasattr(x, 'items'):\n",
    "            for xx in x.items():\n",
    "                show_size(xx, level+1)\n",
    "        elif not isinstance(x, str):\n",
    "            for xx in x:\n",
    "                show_size(xx, level+1)"
   ]
  },
  {
   "cell_type": "code",
   "execution_count": 27,
   "metadata": {
    "ExecuteTime": {
     "end_time": "2020-05-15T18:19:46.995730Z",
     "start_time": "2020-05-15T18:19:46.990746Z"
    }
   },
   "outputs": [
    {
     "name": "stdout",
     "output_type": "stream",
     "text": [
      " type = <class 'int'>, size = 28, object = 5\n"
     ]
    }
   ],
   "source": [
    "show_size(a)"
   ]
  },
  {
   "cell_type": "code",
   "execution_count": 28,
   "metadata": {
    "ExecuteTime": {
     "end_time": "2020-05-15T19:15:59.248410Z",
     "start_time": "2020-05-15T19:15:59.202561Z"
    }
   },
   "outputs": [
    {
     "name": "stdout",
     "output_type": "stream",
     "text": [
      " type = <class 'float'>, size = 24, object = 125.64\n"
     ]
    }
   ],
   "source": [
    "show_size(b)"
   ]
  },
  {
   "cell_type": "code",
   "execution_count": 29,
   "metadata": {
    "ExecuteTime": {
     "end_time": "2020-05-15T19:16:02.227588Z",
     "start_time": "2020-05-15T19:16:02.221602Z"
    }
   },
   "outputs": [
    {
     "name": "stdout",
     "output_type": "stream",
     "text": [
      " type = <class 'str'>, size = 61, object = Hello World!\n"
     ]
    }
   ],
   "source": [
    "show_size(c)"
   ]
  },
  {
   "cell_type": "code",
   "execution_count": 30,
   "metadata": {
    "ExecuteTime": {
     "end_time": "2020-05-15T19:16:13.766993Z",
     "start_time": "2020-05-15T19:16:13.758016Z"
    }
   },
   "outputs": [
    {
     "name": "stdout",
     "output_type": "stream",
     "text": [
      " type = <class 'list'>, size = 192, object = [0, 1, 2, 3, 4, 5, 6, 7, 8, 9]\n",
      "\t type = <class 'int'>, size = 24, object = 0\n",
      "\t type = <class 'int'>, size = 28, object = 1\n",
      "\t type = <class 'int'>, size = 28, object = 2\n",
      "\t type = <class 'int'>, size = 28, object = 3\n",
      "\t type = <class 'int'>, size = 28, object = 4\n",
      "\t type = <class 'int'>, size = 28, object = 5\n",
      "\t type = <class 'int'>, size = 28, object = 6\n",
      "\t type = <class 'int'>, size = 28, object = 7\n",
      "\t type = <class 'int'>, size = 28, object = 8\n",
      "\t type = <class 'int'>, size = 28, object = 9\n"
     ]
    }
   ],
   "source": [
    "show_size(lst)"
   ]
  },
  {
   "cell_type": "code",
   "execution_count": 32,
   "metadata": {
    "ExecuteTime": {
     "end_time": "2020-05-15T19:17:15.912275Z",
     "start_time": "2020-05-15T19:17:15.905295Z"
    }
   },
   "outputs": [
    {
     "name": "stdout",
     "output_type": "stream",
     "text": [
      " type = <class 'tuple'>, size = 128, object = (0, 1, 2, 3, 4, 5, 6, 7, 8, 9)\n",
      "\t type = <class 'int'>, size = 24, object = 0\n",
      "\t type = <class 'int'>, size = 28, object = 1\n",
      "\t type = <class 'int'>, size = 28, object = 2\n",
      "\t type = <class 'int'>, size = 28, object = 3\n",
      "\t type = <class 'int'>, size = 28, object = 4\n",
      "\t type = <class 'int'>, size = 28, object = 5\n",
      "\t type = <class 'int'>, size = 28, object = 6\n",
      "\t type = <class 'int'>, size = 28, object = 7\n",
      "\t type = <class 'int'>, size = 28, object = 8\n",
      "\t type = <class 'int'>, size = 28, object = 9\n"
     ]
    }
   ],
   "source": [
    "t = tuple(lst)\n",
    "show_size(t)"
   ]
  },
  {
   "cell_type": "code",
   "execution_count": null,
   "metadata": {},
   "outputs": [],
   "source": []
  }
 ],
 "metadata": {
  "kernelspec": {
   "display_name": "Python 3",
   "language": "python",
   "name": "python3"
  },
  "language_info": {
   "codemirror_mode": {
    "name": "ipython",
    "version": 3
   },
   "file_extension": ".py",
   "mimetype": "text/x-python",
   "name": "python",
   "nbconvert_exporter": "python",
   "pygments_lexer": "ipython3",
   "version": "3.7.6"
  },
  "toc": {
   "base_numbering": 1,
   "nav_menu": {},
   "number_sections": true,
   "sideBar": true,
   "skip_h1_title": false,
   "title_cell": "Table of Contents",
   "title_sidebar": "Contents",
   "toc_cell": false,
   "toc_position": {},
   "toc_section_display": true,
   "toc_window_display": true
  }
 },
 "nbformat": 4,
 "nbformat_minor": 4
}
