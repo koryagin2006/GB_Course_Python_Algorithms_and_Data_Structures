{
 "cells": [
  {
   "cell_type": "markdown",
   "metadata": {},
   "source": [
    "**Алгоритмы сортировки**\n",
    "\n",
    "Практически каждрый алгоритм сортировки можно разделить на 3 части:\n",
    "- Сравнение, определяющее упрядоченность пары элементов\n",
    "- Перестановка, меняющая местами пару элементов\n",
    "- Сортирующий алгоритм, который сравнивает, и переставляет элементы до тех пор, пока все они не будут упорядочены"
   ]
  },
  {
   "cell_type": "markdown",
   "metadata": {},
   "source": [
    "# Сортировка пузырьком"
   ]
  },
  {
   "cell_type": "markdown",
   "metadata": {},
   "source": [
    "Критерии | Значение\n",
    "--- | --- \n",
    "Сложность | O(n<sup>2</sup>)\n",
    "Устойчивость (стабильность) | Устойчивая\n",
    "Тип (категория) | Обменная\n",
    "Потребление памяти | Не требует доп памяти"
   ]
  },
  {
   "cell_type": "code",
   "execution_count": 4,
   "metadata": {
    "ExecuteTime": {
     "end_time": "2020-05-27T12:31:18.927968Z",
     "start_time": "2020-05-27T12:31:18.906180Z"
    }
   },
   "outputs": [
    {
     "name": "stdout",
     "output_type": "stream",
     "text": [
      "[4, 9, 1, 6, 8, 2, 3, 0, 7, 5]\n",
      "[0, 1, 2, 3, 4, 5, 6, 7, 8, 9]\n"
     ]
    }
   ],
   "source": [
    "# task_1\n",
    "import random\n",
    "\n",
    "size = 10  # размер сортируемого списка\n",
    "array = [i for i in range(size)]\n",
    "random.shuffle(array)  # перемешивает список\n",
    "print(array)\n",
    "\n",
    "n = 1\n",
    "while n < len(array):\n",
    "    for i in range(len(array) - n):\n",
    "        if array[i] > array[i+1]:\n",
    "            array[i], array[i+1] = array[i+1], array[i]\n",
    "    n += 1\n",
    "#     print(array)\n",
    "\n",
    "print(array)"
   ]
  },
  {
   "cell_type": "markdown",
   "metadata": {},
   "source": [
    "# Сортировка выбором"
   ]
  },
  {
   "cell_type": "markdown",
   "metadata": {},
   "source": [
    "Критерии | Значение\n",
    "--- | --- \n",
    "Сложность | O(n<sup>2</sup>)\n",
    "Устойчивость (стабильность) | Устойчивая / неустойчивая\n",
    "Тип (категория) | Выбором\n",
    "Потребление памяти | Не требует доп памяти"
   ]
  },
  {
   "cell_type": "markdown",
   "metadata": {},
   "source": [
    "Алгоритм сортировки выброром:\n",
    "- Найти наименьший элемент в неотсортированной части массива\n",
    "- Поменять его местами с первым элементом в неотсортированной части массива\n",
    "- Продолжать действия, пока весь массив не будет отсортирован"
   ]
  },
  {
   "cell_type": "code",
   "execution_count": 6,
   "metadata": {
    "ExecuteTime": {
     "end_time": "2020-05-27T12:48:44.944373Z",
     "start_time": "2020-05-27T12:48:44.932294Z"
    }
   },
   "outputs": [
    {
     "name": "stdout",
     "output_type": "stream",
     "text": [
      "[6, 4, 5, 7, 8, 0, 1, 2, 3, 9]\n",
      "[0, 1, 2, 3, 4, 5, 6, 7, 8, 9]\n"
     ]
    }
   ],
   "source": [
    "# task_2\n",
    "import random\n",
    "\n",
    "size = 10  # размер сортируемого списка\n",
    "array = [i for i in range(size)]\n",
    "random.shuffle(array)  # перемешивает список\n",
    "print(array)\n",
    "\n",
    "\n",
    "def selection_sort(array):\n",
    "    for i in range(len(array)):\n",
    "        idx_min = i\n",
    "\n",
    "        for j in range(i+1, len(array)):\n",
    "            if array[j] < array[idx_min]:\n",
    "                idx_min = j\n",
    "        array[idx_min], array[i] = array[i], array[idx_min]\n",
    "\n",
    "selection_sort(array)\n",
    "print(array)"
   ]
  },
  {
   "cell_type": "markdown",
   "metadata": {},
   "source": [
    "# Сортировка вставками"
   ]
  },
  {
   "cell_type": "markdown",
   "metadata": {},
   "source": [
    "Критерии | Значение\n",
    "--- | --- \n",
    "Сложность | O(n<sup>2</sup>) / лучшее время O(n)\n",
    "Устойчивость (стабильность) | Устойчивая\n",
    "Тип (категория) | Вставками\n",
    "Потребление памяти | Не требует доп памяти"
   ]
  },
  {
   "cell_type": "markdown",
   "metadata": {},
   "source": [
    "Алгоритм сортировки вставками:\n",
    "- Из массива последовательно берется каждый элемент, кроме первого (`index == 0`)\n",
    "- И вставляется в отсортированную часть массива"
   ]
  },
  {
   "cell_type": "code",
   "execution_count": null,
   "metadata": {},
   "outputs": [],
   "source": []
  }
 ],
 "metadata": {
  "kernelspec": {
   "display_name": "Python 3",
   "language": "python",
   "name": "python3"
  },
  "language_info": {
   "codemirror_mode": {
    "name": "ipython",
    "version": 3
   },
   "file_extension": ".py",
   "mimetype": "text/x-python",
   "name": "python",
   "nbconvert_exporter": "python",
   "pygments_lexer": "ipython3",
   "version": "3.7.6"
  },
  "toc": {
   "base_numbering": 1,
   "nav_menu": {},
   "number_sections": true,
   "sideBar": true,
   "skip_h1_title": false,
   "title_cell": "Table of Contents",
   "title_sidebar": "Contents",
   "toc_cell": false,
   "toc_position": {},
   "toc_section_display": true,
   "toc_window_display": false
  }
 },
 "nbformat": 4,
 "nbformat_minor": 4
}
